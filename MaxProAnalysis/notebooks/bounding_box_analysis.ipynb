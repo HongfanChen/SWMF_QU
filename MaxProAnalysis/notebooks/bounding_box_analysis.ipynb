{
 "cells": [
  {
   "cell_type": "markdown",
   "metadata": {},
   "source": [
    "## Constraining range of parameters\n",
    "\n",
    "We construct a **bounding box** to gradually shrink the ranges of the parameters and observe the resulting success rate of the samples within the box. Shifting the box can help us explore ranges that are not centered around a nominal value of parameter and capture meaningful interactions. "
   ]
  },
  {
   "cell_type": "code",
   "execution_count": 1,
   "metadata": {},
   "outputs": [
    {
     "name": "stderr",
     "output_type": "stream",
     "text": [
      "\u001b[32m\u001b[1m Activating\u001b[22m\u001b[39m environment at `~/Desktop/Research/SWQUProject/MaxProAnalysis/Project.toml`\n"
     ]
    }
   ],
   "source": [
    "using Pkg\n",
    "Pkg.activate(\"../Project.toml\")"
   ]
  },
  {
   "cell_type": "code",
   "execution_count": 2,
   "metadata": {},
   "outputs": [],
   "source": [
    "using Random"
   ]
  },
  {
   "cell_type": "code",
   "execution_count": 3,
   "metadata": {},
   "outputs": [],
   "source": [
    "rng = MersenneTwister(12345);"
   ]
  },
  {
   "cell_type": "code",
   "execution_count": 4,
   "metadata": {},
   "outputs": [
    {
     "data": {
      "text/plain": [
       "Plots.GRBackend()"
      ]
     },
     "execution_count": 4,
     "metadata": {},
     "output_type": "execute_result"
    }
   ],
   "source": [
    "using CSV\n",
    "using DataFrames\n",
    "using Printf\n",
    "using IterTools\n",
    "using Plots\n",
    "gr()"
   ]
  },
  {
   "cell_type": "markdown",
   "metadata": {},
   "source": [
    "## Rough Implementation for Bounding Box"
   ]
  },
  {
   "cell_type": "code",
   "execution_count": 5,
   "metadata": {},
   "outputs": [
    {
     "data": {
      "text/plain": [
       "5×3 Array{Float64,2}:\n",
       " -1.1831    -0.0672299   0.0852185\n",
       "  1.1424    -0.752924    0.290024\n",
       "  0.589941  -0.958738    0.805\n",
       " -0.478759   1.21635    -0.537672\n",
       "  0.800709   0.289094   -0.911636"
      ]
     },
     "execution_count": 5,
     "metadata": {},
     "output_type": "execute_result"
    }
   ],
   "source": [
    "B = randn(5, 3)"
   ]
  },
  {
   "cell_type": "code",
   "execution_count": 6,
   "metadata": {},
   "outputs": [
    {
     "data": {
      "text/plain": [
       "3-element Array{Float64,1}:\n",
       " 1.2\n",
       " 1.5\n",
       " 2.2"
      ]
     },
     "execution_count": 6,
     "metadata": {},
     "output_type": "execute_result"
    }
   ],
   "source": [
    "lbb = [0.3, -0.5, -0.4]\n",
    "ubb = [1.2, 1.5, 2.2]"
   ]
  },
  {
   "cell_type": "code",
   "execution_count": 7,
   "metadata": {},
   "outputs": [
    {
     "ename": "LoadError",
     "evalue": "\u001b[91mUndefVarError: A not defined\u001b[39m",
     "output_type": "error",
     "traceback": [
      "\u001b[91mUndefVarError: A not defined\u001b[39m",
      "",
      "Stacktrace:",
      " [1] top-level scope at ./In[7]:2",
      " [2] include_string(::Function, ::Module, ::String, ::String) at ./loading.jl:1091"
     ]
    }
   ],
   "source": [
    "x = []\n",
    "for j in 1:size(A, 2)\n",
    "    push!(x, findall(lbb[j] .< B[:, j] .< ubb[j]))\n",
    "end"
   ]
  },
  {
   "cell_type": "code",
   "execution_count": 8,
   "metadata": {},
   "outputs": [
    {
     "data": {
      "text/plain": [
       "Any[]"
      ]
     },
     "execution_count": 8,
     "metadata": {},
     "output_type": "execute_result"
    }
   ],
   "source": [
    "x"
   ]
  },
  {
   "cell_type": "code",
   "execution_count": 42,
   "metadata": {},
   "outputs": [],
   "source": [
    "# commonElements = intersect(x...)"
   ]
  },
  {
   "cell_type": "markdown",
   "metadata": {},
   "source": [
    "## Load data and find success rate for each bounding box"
   ]
  },
  {
   "cell_type": "code",
   "execution_count": 10,
   "metadata": {},
   "outputs": [
    {
     "data": {
      "text/plain": [
       "DataFrame"
      ]
     },
     "execution_count": 10,
     "metadata": {},
     "output_type": "execute_result"
    }
   ],
   "source": [
    "Xdata = CSV.read(\"../Outputs/MaxPro_inputs_outputs.txt\", DataFrame);\n",
    "typeof(Xdata)"
   ]
  },
  {
   "cell_type": "code",
   "execution_count": 11,
   "metadata": {},
   "outputs": [
    {
     "data": {
      "text/html": [
       "<table class=\"data-frame\"><thead><tr><th></th><th>BrFactor_ADAPT</th><th>nChromoSi_AWSoM</th><th>PoyntingFluxPerBSi</th><th>LperpTimesSqrtBSi</th><th>StochasticExponent</th></tr><tr><th></th><th>Float64</th><th>Float64</th><th>Float64</th><th>Float64</th><th>Float64</th></tr></thead><tbody><p>5 rows × 11 columns (omitted printing of 6 columns)</p><tr><th>1</th><td>0.545294</td><td>1.12941e18</td><td>6.39216e5</td><td>2.13309e5</td><td>0.29</td></tr><tr><th>2</th><td>0.555882</td><td>4.98824e18</td><td>7.76471e5</td><td>2.45074e5</td><td>0.220588</td></tr><tr><th>3</th><td>0.566471</td><td>2.02353e18</td><td>8.66667e5</td><td>1.86838e5</td><td>0.31</td></tr><tr><th>4</th><td>0.577059</td><td>4.0e18</td><td>3.84314e5</td><td>108750.0</td><td>0.295882</td></tr><tr><th>5</th><td>0.587647</td><td>2.54118e18</td><td>4.5098e5</td><td>1.48456e5</td><td>0.205294</td></tr></tbody></table>"
      ],
      "text/latex": [
       "\\begin{tabular}{r|cccccc}\n",
       "\t& BrFactor\\_ADAPT & nChromoSi\\_AWSoM & PoyntingFluxPerBSi & LperpTimesSqrtBSi & StochasticExponent & \\\\\n",
       "\t\\hline\n",
       "\t& Float64 & Float64 & Float64 & Float64 & Float64 & \\\\\n",
       "\t\\hline\n",
       "\t1 & 0.545294 & 1.12941e18 & 6.39216e5 & 2.13309e5 & 0.29 & $\\dots$ \\\\\n",
       "\t2 & 0.555882 & 4.98824e18 & 7.76471e5 & 2.45074e5 & 0.220588 & $\\dots$ \\\\\n",
       "\t3 & 0.566471 & 2.02353e18 & 8.66667e5 & 1.86838e5 & 0.31 & $\\dots$ \\\\\n",
       "\t4 & 0.577059 & 4.0e18 & 3.84314e5 & 108750.0 & 0.295882 & $\\dots$ \\\\\n",
       "\t5 & 0.587647 & 2.54118e18 & 4.5098e5 & 1.48456e5 & 0.205294 & $\\dots$ \\\\\n",
       "\\end{tabular}\n"
      ],
      "text/plain": [
       "\u001b[1m5×11 DataFrame\u001b[0m\n",
       "\u001b[1m Row \u001b[0m│\u001b[1m BrFactor_ADAPT \u001b[0m\u001b[1m nChromoSi_AWSoM \u001b[0m\u001b[1m PoyntingFluxPerBSi \u001b[0m\u001b[1m LperpTimesSqrtBSi \u001b[0m\u001b[1m\u001b[0m ⋯\n",
       "\u001b[1m     \u001b[0m│\u001b[90m Float64        \u001b[0m\u001b[90m Float64         \u001b[0m\u001b[90m Float64            \u001b[0m\u001b[90m Float64           \u001b[0m\u001b[90m\u001b[0m ⋯\n",
       "─────┼──────────────────────────────────────────────────────────────────────────\n",
       "   1 │       0.545294       1.12941e18           6.39216e5          2.13309e5  ⋯\n",
       "   2 │       0.555882       4.98824e18           7.76471e5          2.45074e5\n",
       "   3 │       0.566471       2.02353e18           8.66667e5          1.86838e5\n",
       "   4 │       0.577059       4.0e18               3.84314e5     108750.0\n",
       "   5 │       0.587647       2.54118e18           4.5098e5           1.48456e5  ⋯\n",
       "\u001b[36m                                                               7 columns omitted\u001b[0m"
      ]
     },
     "execution_count": 11,
     "metadata": {},
     "output_type": "execute_result"
    }
   ],
   "source": [
    "first(Xdata, 5)"
   ]
  },
  {
   "cell_type": "code",
   "execution_count": 43,
   "metadata": {},
   "outputs": [
    {
     "data": {
      "text/plain": [
       "7-element Array{String,1}:\n",
       " \"BrFactor_ADAPT\"\n",
       " \"nChromoSi_AWSoM\"\n",
       " \"PoyntingFluxPerBSi\"\n",
       " \"LperpTimesSqrtBSi\"\n",
       " \"StochasticExponent\"\n",
       " \"BrMin\"\n",
       " \"rMinWaveReflection\""
      ]
     },
     "execution_count": 43,
     "metadata": {},
     "output_type": "execute_result"
    }
   ],
   "source": [
    "names(Xdata)[1:7]"
   ]
  },
  {
   "cell_type": "code",
   "execution_count": 12,
   "metadata": {},
   "outputs": [
    {
     "data": {
      "text/plain": [
       "7×200 LinearAlgebra.Adjoint{Float64,Array{Float64,2}}:\n",
       " 0.545294    0.555882    0.566471    …  2.64176         2.65235\n",
       " 1.12941e18  4.98824e18  2.02353e18     9.17647e17      3.22353e18\n",
       " 6.39216e5   7.76471e5   8.66667e5      1.08235e6       3.56863e5\n",
       " 2.13309e5   2.45074e5   1.86838e5      2.25221e5   41250.0\n",
       " 0.29        0.220588    0.31           0.248824        0.127647\n",
       " 5.47794     7.1201      8.00245     …  9.47304         7.6348\n",
       " 1.10147     1.09461     1.075          1.16127         1.01912"
      ]
     },
     "execution_count": 12,
     "metadata": {},
     "output_type": "execute_result"
    }
   ],
   "source": [
    "A = Matrix(Xdata[:, 1:7])'"
   ]
  },
  {
   "cell_type": "code",
   "execution_count": 13,
   "metadata": {},
   "outputs": [
    {
     "name": "stdout",
     "output_type": "stream",
     "text": [
      "Number of failed runs = 125\n",
      "Number of successful runs = 75\n"
     ]
    }
   ],
   "source": [
    "failed = Xdata[!, end] .== 0\n",
    "successful = Xdata[!, end] .== 1\n",
    "println(\"Number of failed runs = $(sum(failed))\")\n",
    "println(\"Number of successful runs = $(sum(successful))\")"
   ]
  },
  {
   "cell_type": "code",
   "execution_count": 14,
   "metadata": {},
   "outputs": [
    {
     "data": {
      "text/plain": [
       "7-element Array{Float64,1}:\n",
       "      2.16\n",
       "      4.8e18\n",
       " 800000.0\n",
       " 270000.0\n",
       "      0.24000000000000002\n",
       "      5.0\n",
       "      0.19999999999999996"
      ]
     },
     "execution_count": 14,
     "metadata": {},
     "output_type": "execute_result"
    }
   ],
   "source": [
    "# give upper and lower bounds of params in order of columns\n",
    "lowerBounds = [0.54, 2e17, 0.3e6, 0.3e5, 0.1, 5, 1]\n",
    "upperBounds = [2.7, 5e18, 1.1e6, 3e5, 0.34, 10, 1.2]\n",
    "diffBounds = upperBounds - lowerBounds"
   ]
  },
  {
   "cell_type": "code",
   "execution_count": 15,
   "metadata": {},
   "outputs": [],
   "source": [
    "box_scale = 0.9\n",
    "lowerBoundsScaled = lowerBounds + 0.5 * (1 - box_scale) * diffBounds \n",
    "upperBoundsScaled = upperBounds - 0.5 * (1 - box_scale) * diffBounds;"
   ]
  },
  {
   "cell_type": "code",
   "execution_count": 16,
   "metadata": {},
   "outputs": [
    {
     "data": {
      "text/plain": [
       "findBoundedSamples (generic function with 1 method)"
      ]
     },
     "execution_count": 16,
     "metadata": {},
     "output_type": "execute_result"
    }
   ],
   "source": [
    "function findBoundedSamples(A, box_scale)\n",
    "    lowerBoundsScaled = lowerBounds + 0.5 * (1 - box_scale) * diffBounds \n",
    "    upperBoundsScaled = upperBounds - 0.5 * (1 - box_scale) * diffBounds;\n",
    "    boundedSamplesByRow = []\n",
    "    for i in 1:size(A, 1)\n",
    "        push!(boundedSamplesByRow, findall(lowerBoundsScaled[i] .< A[i, :] .< upperBoundsScaled[i]))\n",
    "    end\n",
    "    return intersect(boundedSamplesByRow...)\n",
    "#     return union(boundedSamplesByRow...)\n",
    "end"
   ]
  },
  {
   "cell_type": "code",
   "execution_count": 80,
   "metadata": {},
   "outputs": [
    {
     "data": {
      "text/plain": [
       "7×4 Array{Float64,2}:\n",
       "      0.54         1.0          2.7          2.16\n",
       "      2.0e17       2.0e17       5.0e18       4.8e18\n",
       " 300000.0          1.0e6        1.1e6   800000.0\n",
       "  30000.0     150000.0     300000.0     270000.0\n",
       "      0.1          0.21         0.34         0.24\n",
       "      5.0          7.5         10.0          5.0\n",
       "      1.0          1.0          1.2          0.2"
      ]
     },
     "execution_count": 80,
     "metadata": {},
     "output_type": "execute_result"
    }
   ],
   "source": [
    "## encode for non-centred nominal values\n",
    "nominal_values = [1.0, 2e17, 1e6, 1.5e5, 0.21, 7.5, 1.0]\n",
    "# 7.5 is arbitrarily set, rest are taken from AWSoM inputs Google Doc\n",
    "\n",
    "[lowerBounds nominal_values upperBounds diffBounds]"
   ]
  },
  {
   "cell_type": "code",
   "execution_count": 88,
   "metadata": {},
   "outputs": [
    {
     "data": {
      "text/plain": [
       "findBoundedSamplesNC (generic function with 1 method)"
      ]
     },
     "execution_count": 88,
     "metadata": {},
     "output_type": "execute_result"
    }
   ],
   "source": [
    "function findBoundedSamplesNC(A, box_scale)\n",
    "    lbCentered = lowerBounds + 0.5 * (1 - box_scale) * diffBounds \n",
    "    ubCentered = upperBounds - 0.5 * (1 - box_scale) * diffBounds;\n",
    "    shift = nominal_values - (0.5 * diffBounds + lowerBounds)\n",
    "    lbShifted = lbCentered + shift\n",
    "    ubShifted = ubCentered + shift\n",
    "#     return lbShifted, ubShifted\n",
    "    boundedSamplesByRow = []\n",
    "    for i in 1:size(A, 1)\n",
    "        push!(boundedSamplesByRow, findall(lbShifted[i] .< A[i, :] .< ubShifted[i]))\n",
    "    end\n",
    "    return intersect(boundedSamplesByRow...)\n",
    "end"
   ]
  },
  {
   "cell_type": "code",
   "execution_count": 89,
   "metadata": {},
   "outputs": [],
   "source": [
    "# lbShifted, ubShifted = findBoundedSamplesNC(A, 0.9)\n",
    "# [lbShifted ubShifted (ubShifted - lbShifted) ./ (upperBounds - lowerBounds)]"
   ]
  },
  {
   "cell_type": "markdown",
   "metadata": {},
   "source": [
    "Conceptually, the above means drawing a box around the nominal point, covering say, 90% of the total volume of an n-dimensional hypercube. We draw the **90%** and **80%** bounding boxes below for **just 2 parameters** to illustrate the exercise.\n",
    "\n",
    "Once the box is constructed, we:\n",
    "1. Identify samples that lie within box\n",
    "2. Calculate success rate within those samples\n",
    "3. (To be implemented) Shift the box around (find non centered box) with highest success rate. The outcome represents how we should constrain the parameter ranges. "
   ]
  },
  {
   "cell_type": "code",
   "execution_count": 17,
   "metadata": {},
   "outputs": [
    {
     "data": {
      "text/plain": [
       "draw2DBoundingBox (generic function with 1 method)"
      ]
     },
     "execution_count": 17,
     "metadata": {},
     "output_type": "execute_result"
    }
   ],
   "source": [
    "# Define a function to calculate the bounding box. \n",
    "function draw2DBoundingBox(box_scale, ub, lb)\n",
    "    \n",
    "    diffb = ub - lb\n",
    "    lbScaled = lb + 0.5 * (1 - box_scale) * diffb \n",
    "    ubScaled = ub - 0.5 * (1 - box_scale) * diffb;\n",
    "    \n",
    "    w = ubScaled[1] - lbScaled[1]\n",
    "    h = ubScaled[2] - lbScaled[2]\n",
    "    \n",
    "    return Shape(lbScaled[1] .+ [0,w,w,0], lbScaled[2] .+ [0,0,h,h]) \n",
    "end"
   ]
  },
  {
   "cell_type": "code",
   "execution_count": 74,
   "metadata": {},
   "outputs": [],
   "source": [
    "cur_colors = palette(:default);"
   ]
  },
  {
   "cell_type": "code",
   "execution_count": 77,
   "metadata": {},
   "outputs": [
    {
     "data": {
      "image/svg+xml": [
       "<?xml version=\"1.0\" encoding=\"utf-8\"?>\n",
       "<svg xmlns=\"http://www.w3.org/2000/svg\" xmlns:xlink=\"http://www.w3.org/1999/xlink\" width=\"600\" height=\"400\" viewBox=\"0 0 2400 1600\">\n",
       "<defs>\n",
       "  <clipPath id=\"clip130\">\n",
       "    <rect x=\"0\" y=\"0\" width=\"2400\" height=\"1600\"/>\n",
       "  </clipPath>\n",
       "</defs>\n",
       "<path clip-path=\"url(#clip130)\" d=\"\n",
       "M0 1600 L2400 1600 L2400 0 L0 0  Z\n",
       "  \" fill=\"#ffffff\" fill-rule=\"evenodd\" fill-opacity=\"1\"/>\n",
       "<defs>\n",
       "  <clipPath id=\"clip131\">\n",
       "    <rect x=\"480\" y=\"0\" width=\"1681\" height=\"1600\"/>\n",
       "  </clipPath>\n",
       "</defs>\n",
       "<path clip-path=\"url(#clip130)\" d=\"\n",
       "M362.384 1423.18 L2352.76 1423.18 L2352.76 47.2441 L362.384 47.2441  Z\n",
       "  \" fill=\"#ffffff\" fill-rule=\"evenodd\" fill-opacity=\"1\"/>\n",
       "<defs>\n",
       "  <clipPath id=\"clip132\">\n",
       "    <rect x=\"362\" y=\"47\" width=\"1991\" height=\"1377\"/>\n",
       "  </clipPath>\n",
       "</defs>\n",
       "<polyline clip-path=\"url(#clip132)\" style=\"stroke:#000000; stroke-width:2; stroke-opacity:0.1; fill:none\" points=\"\n",
       "  378.553,1423.18 378.553,47.2441 \n",
       "  \"/>\n",
       "<polyline clip-path=\"url(#clip132)\" style=\"stroke:#000000; stroke-width:2; stroke-opacity:0.1; fill:none\" points=\"\n",
       "  821.901,1423.18 821.901,47.2441 \n",
       "  \"/>\n",
       "<polyline clip-path=\"url(#clip132)\" style=\"stroke:#000000; stroke-width:2; stroke-opacity:0.1; fill:none\" points=\"\n",
       "  1265.25,1423.18 1265.25,47.2441 \n",
       "  \"/>\n",
       "<polyline clip-path=\"url(#clip132)\" style=\"stroke:#000000; stroke-width:2; stroke-opacity:0.1; fill:none\" points=\"\n",
       "  1708.6,1423.18 1708.6,47.2441 \n",
       "  \"/>\n",
       "<polyline clip-path=\"url(#clip132)\" style=\"stroke:#000000; stroke-width:2; stroke-opacity:0.1; fill:none\" points=\"\n",
       "  2151.95,1423.18 2151.95,47.2441 \n",
       "  \"/>\n",
       "<polyline clip-path=\"url(#clip130)\" style=\"stroke:#000000; stroke-width:4; stroke-opacity:1; fill:none\" points=\"\n",
       "  362.384,1423.18 2352.76,1423.18 \n",
       "  \"/>\n",
       "<polyline clip-path=\"url(#clip130)\" style=\"stroke:#000000; stroke-width:4; stroke-opacity:1; fill:none\" points=\"\n",
       "  378.553,1423.18 378.553,1406.67 \n",
       "  \"/>\n",
       "<polyline clip-path=\"url(#clip130)\" style=\"stroke:#000000; stroke-width:4; stroke-opacity:1; fill:none\" points=\"\n",
       "  821.901,1423.18 821.901,1406.67 \n",
       "  \"/>\n",
       "<polyline clip-path=\"url(#clip130)\" style=\"stroke:#000000; stroke-width:4; stroke-opacity:1; fill:none\" points=\"\n",
       "  1265.25,1423.18 1265.25,1406.67 \n",
       "  \"/>\n",
       "<polyline clip-path=\"url(#clip130)\" style=\"stroke:#000000; stroke-width:4; stroke-opacity:1; fill:none\" points=\"\n",
       "  1708.6,1423.18 1708.6,1406.67 \n",
       "  \"/>\n",
       "<polyline clip-path=\"url(#clip130)\" style=\"stroke:#000000; stroke-width:4; stroke-opacity:1; fill:none\" points=\"\n",
       "  2151.95,1423.18 2151.95,1406.67 \n",
       "  \"/>\n",
       "<path clip-path=\"url(#clip130)\" d=\"M 0 0 M356.436 1452.37 Q352.824 1452.37 350.996 1455.94 Q349.19 1459.48 349.19 1466.61 Q349.19 1473.71 350.996 1477.28 Q352.824 1480.82 356.436 1480.82 Q360.07 1480.82 361.875 1477.28 Q363.704 1473.71 363.704 1466.61 Q363.704 1459.48 361.875 1455.94 Q360.07 1452.37 356.436 1452.37 M356.436 1448.67 Q362.246 1448.67 365.301 1453.27 Q368.38 1457.86 368.38 1466.61 Q368.38 1475.33 365.301 1479.94 Q362.246 1484.52 356.436 1484.52 Q350.625 1484.52 347.547 1479.94 Q344.491 1475.33 344.491 1466.61 Q344.491 1457.86 347.547 1453.27 Q350.625 1448.67 356.436 1448.67 Z\" fill=\"#000000\" fill-rule=\"evenodd\" fill-opacity=\"1\" /><path clip-path=\"url(#clip130)\" d=\"M 0 0 M376.597 1477.97 L381.482 1477.97 L381.482 1483.85 L376.597 1483.85 L376.597 1477.97 Z\" fill=\"#000000\" fill-rule=\"evenodd\" fill-opacity=\"1\" /><path clip-path=\"url(#clip130)\" d=\"M 0 0 M391.713 1449.29 L410.07 1449.29 L410.07 1453.23 L395.996 1453.23 L395.996 1461.7 Q397.014 1461.35 398.033 1461.19 Q399.051 1461 400.07 1461 Q405.857 1461 409.236 1464.18 Q412.616 1467.35 412.616 1472.76 Q412.616 1478.34 409.144 1481.44 Q405.671 1484.52 399.352 1484.52 Q397.176 1484.52 394.908 1484.15 Q392.662 1483.78 390.255 1483.04 L390.255 1478.34 Q392.338 1479.48 394.56 1480.03 Q396.783 1480.59 399.259 1480.59 Q403.264 1480.59 405.602 1478.48 Q407.94 1476.38 407.94 1472.76 Q407.94 1469.15 405.602 1467.05 Q403.264 1464.94 399.259 1464.94 Q397.384 1464.94 395.509 1465.36 Q393.658 1465.77 391.713 1466.65 L391.713 1449.29 Z\" fill=\"#000000\" fill-rule=\"evenodd\" fill-opacity=\"1\" /><path clip-path=\"url(#clip130)\" d=\"M 0 0 M789.054 1479.92 L796.693 1479.92 L796.693 1453.55 L788.383 1455.22 L788.383 1450.96 L796.647 1449.29 L801.323 1449.29 L801.323 1479.92 L808.962 1479.92 L808.962 1483.85 L789.054 1483.85 L789.054 1479.92 Z\" fill=\"#000000\" fill-rule=\"evenodd\" fill-opacity=\"1\" /><path clip-path=\"url(#clip130)\" d=\"M 0 0 M818.406 1477.97 L823.29 1477.97 L823.29 1483.85 L818.406 1483.85 L818.406 1477.97 Z\" fill=\"#000000\" fill-rule=\"evenodd\" fill-opacity=\"1\" /><path clip-path=\"url(#clip130)\" d=\"M 0 0 M843.475 1452.37 Q839.864 1452.37 838.036 1455.94 Q836.23 1459.48 836.23 1466.61 Q836.23 1473.71 838.036 1477.28 Q839.864 1480.82 843.475 1480.82 Q847.11 1480.82 848.915 1477.28 Q850.744 1473.71 850.744 1466.61 Q850.744 1459.48 848.915 1455.94 Q847.11 1452.37 843.475 1452.37 M843.475 1448.67 Q849.286 1448.67 852.341 1453.27 Q855.42 1457.86 855.42 1466.61 Q855.42 1475.33 852.341 1479.94 Q849.286 1484.52 843.475 1484.52 Q837.665 1484.52 834.587 1479.94 Q831.531 1475.33 831.531 1466.61 Q831.531 1457.86 834.587 1453.27 Q837.665 1448.67 843.475 1448.67 Z\" fill=\"#000000\" fill-rule=\"evenodd\" fill-opacity=\"1\" /><path clip-path=\"url(#clip130)\" d=\"M 0 0 M1232.9 1479.92 L1240.54 1479.92 L1240.54 1453.55 L1232.23 1455.22 L1232.23 1450.96 L1240.49 1449.29 L1245.17 1449.29 L1245.17 1479.92 L1252.81 1479.92 L1252.81 1483.85 L1232.9 1483.85 L1232.9 1479.92 Z\" fill=\"#000000\" fill-rule=\"evenodd\" fill-opacity=\"1\" /><path clip-path=\"url(#clip130)\" d=\"M 0 0 M1262.25 1477.97 L1267.14 1477.97 L1267.14 1483.85 L1262.25 1483.85 L1262.25 1477.97 Z\" fill=\"#000000\" fill-rule=\"evenodd\" fill-opacity=\"1\" /><path clip-path=\"url(#clip130)\" d=\"M 0 0 M1277.37 1449.29 L1295.72 1449.29 L1295.72 1453.23 L1281.65 1453.23 L1281.65 1461.7 Q1282.67 1461.35 1283.69 1461.19 Q1284.71 1461 1285.72 1461 Q1291.51 1461 1294.89 1464.18 Q1298.27 1467.35 1298.27 1472.76 Q1298.27 1478.34 1294.8 1481.44 Q1291.33 1484.52 1285.01 1484.52 Q1282.83 1484.52 1280.56 1484.15 Q1278.32 1483.78 1275.91 1483.04 L1275.91 1478.34 Q1277.99 1479.48 1280.21 1480.03 Q1282.44 1480.59 1284.91 1480.59 Q1288.92 1480.59 1291.26 1478.48 Q1293.59 1476.38 1293.59 1472.76 Q1293.59 1469.15 1291.26 1467.05 Q1288.92 1464.94 1284.91 1464.94 Q1283.04 1464.94 1281.16 1465.36 Q1279.31 1465.77 1277.37 1466.65 L1277.37 1449.29 Z\" fill=\"#000000\" fill-rule=\"evenodd\" fill-opacity=\"1\" /><path clip-path=\"url(#clip130)\" d=\"M 0 0 M1679.84 1479.92 L1696.16 1479.92 L1696.16 1483.85 L1674.21 1483.85 L1674.21 1479.92 Q1676.87 1477.16 1681.46 1472.53 Q1686.06 1467.88 1687.24 1466.54 Q1689.49 1464.01 1690.37 1462.28 Q1691.27 1460.52 1691.27 1458.83 Q1691.27 1456.07 1689.33 1454.34 Q1687.41 1452.6 1684.3 1452.6 Q1682.1 1452.6 1679.65 1453.37 Q1677.22 1454.13 1674.44 1455.68 L1674.44 1450.96 Q1677.27 1449.82 1679.72 1449.25 Q1682.17 1448.67 1684.21 1448.67 Q1689.58 1448.67 1692.78 1451.35 Q1695.97 1454.04 1695.97 1458.53 Q1695.97 1460.66 1695.16 1462.58 Q1694.37 1464.48 1692.27 1467.07 Q1691.69 1467.74 1688.59 1470.96 Q1685.48 1474.15 1679.84 1479.92 Z\" fill=\"#000000\" fill-rule=\"evenodd\" fill-opacity=\"1\" /><path clip-path=\"url(#clip130)\" d=\"M 0 0 M1705.97 1477.97 L1710.85 1477.97 L1710.85 1483.85 L1705.97 1483.85 L1705.97 1477.97 Z\" fill=\"#000000\" fill-rule=\"evenodd\" fill-opacity=\"1\" /><path clip-path=\"url(#clip130)\" d=\"M 0 0 M1731.04 1452.37 Q1727.43 1452.37 1725.6 1455.94 Q1723.79 1459.48 1723.79 1466.61 Q1723.79 1473.71 1725.6 1477.28 Q1727.43 1480.82 1731.04 1480.82 Q1734.67 1480.82 1736.48 1477.28 Q1738.31 1473.71 1738.31 1466.61 Q1738.31 1459.48 1736.48 1455.94 Q1734.67 1452.37 1731.04 1452.37 M1731.04 1448.67 Q1736.85 1448.67 1739.91 1453.27 Q1742.98 1457.86 1742.98 1466.61 Q1742.98 1475.33 1739.91 1479.94 Q1736.85 1484.52 1731.04 1484.52 Q1725.23 1484.52 1722.15 1479.94 Q1719.1 1475.33 1719.1 1466.61 Q1719.1 1457.86 1722.15 1453.27 Q1725.23 1448.67 1731.04 1448.67 Z\" fill=\"#000000\" fill-rule=\"evenodd\" fill-opacity=\"1\" /><path clip-path=\"url(#clip130)\" d=\"M 0 0 M2123.68 1479.92 L2140 1479.92 L2140 1483.85 L2118.06 1483.85 L2118.06 1479.92 Q2120.72 1477.16 2125.3 1472.53 Q2129.91 1467.88 2131.09 1466.54 Q2133.33 1464.01 2134.21 1462.28 Q2135.12 1460.52 2135.12 1458.83 Q2135.12 1456.07 2133.17 1454.34 Q2131.25 1452.6 2128.15 1452.6 Q2125.95 1452.6 2123.5 1453.37 Q2121.07 1454.13 2118.29 1455.68 L2118.29 1450.96 Q2121.11 1449.82 2123.57 1449.25 Q2126.02 1448.67 2128.06 1448.67 Q2133.43 1448.67 2136.62 1451.35 Q2139.82 1454.04 2139.82 1458.53 Q2139.82 1460.66 2139.01 1462.58 Q2138.22 1464.48 2136.11 1467.07 Q2135.53 1467.74 2132.43 1470.96 Q2129.33 1474.15 2123.68 1479.92 Z\" fill=\"#000000\" fill-rule=\"evenodd\" fill-opacity=\"1\" /><path clip-path=\"url(#clip130)\" d=\"M 0 0 M2149.82 1477.97 L2154.7 1477.97 L2154.7 1483.85 L2149.82 1483.85 L2149.82 1477.97 Z\" fill=\"#000000\" fill-rule=\"evenodd\" fill-opacity=\"1\" /><path clip-path=\"url(#clip130)\" d=\"M 0 0 M2164.93 1449.29 L2183.29 1449.29 L2183.29 1453.23 L2169.21 1453.23 L2169.21 1461.7 Q2170.23 1461.35 2171.25 1461.19 Q2172.27 1461 2173.29 1461 Q2179.07 1461 2182.45 1464.18 Q2185.83 1467.35 2185.83 1472.76 Q2185.83 1478.34 2182.36 1481.44 Q2178.89 1484.52 2172.57 1484.52 Q2170.39 1484.52 2168.13 1484.15 Q2165.88 1483.78 2163.47 1483.04 L2163.47 1478.34 Q2165.56 1479.48 2167.78 1480.03 Q2170 1480.59 2172.48 1480.59 Q2176.48 1480.59 2178.82 1478.48 Q2181.16 1476.38 2181.16 1472.76 Q2181.16 1469.15 2178.82 1467.05 Q2176.48 1464.94 2172.48 1464.94 Q2170.6 1464.94 2168.73 1465.36 Q2166.88 1465.77 2164.93 1466.65 L2164.93 1449.29 Z\" fill=\"#000000\" fill-rule=\"evenodd\" fill-opacity=\"1\" /><path clip-path=\"url(#clip130)\" d=\"M 0 0 M1231.67 1545.35 L1231.67 1562.76 L1241.98 1562.76 Q1247.17 1562.76 1249.66 1560.63 Q1252.17 1558.46 1252.17 1554.04 Q1252.17 1549.58 1249.66 1547.48 Q1247.17 1545.35 1241.98 1545.35 L1231.67 1545.35 M1231.67 1525.81 L1231.67 1540.13 L1241.19 1540.13 Q1245.9 1540.13 1248.19 1538.38 Q1250.51 1536.6 1250.51 1532.97 Q1250.51 1529.37 1248.19 1527.59 Q1245.9 1525.81 1241.19 1525.81 L1231.67 1525.81 M1225.24 1520.52 L1241.67 1520.52 Q1249.02 1520.52 1253 1523.58 Q1256.98 1526.63 1256.98 1532.27 Q1256.98 1536.63 1254.94 1539.21 Q1252.9 1541.79 1248.96 1542.42 Q1253.7 1543.44 1256.31 1546.69 Q1258.95 1549.9 1258.95 1554.74 Q1258.95 1561.11 1254.62 1564.57 Q1250.29 1568.04 1242.3 1568.04 L1225.24 1568.04 L1225.24 1520.52 Z\" fill=\"#000000\" fill-rule=\"evenodd\" fill-opacity=\"1\" /><path clip-path=\"url(#clip130)\" d=\"M 0 0 M1290.36 1537.87 Q1289.38 1537.3 1288.2 1537.04 Q1287.05 1536.76 1285.65 1536.76 Q1280.69 1536.76 1278.01 1540 Q1275.37 1543.22 1275.37 1549.27 L1275.37 1568.04 L1269.48 1568.04 L1269.48 1532.4 L1275.37 1532.4 L1275.37 1537.93 Q1277.22 1534.69 1280.18 1533.13 Q1283.14 1531.54 1287.37 1531.54 Q1287.98 1531.54 1288.71 1531.63 Q1289.44 1531.7 1290.33 1531.85 L1290.36 1537.87 Z\" fill=\"#000000\" fill-rule=\"evenodd\" fill-opacity=\"1\" /><path clip-path=\"url(#clip130)\" d=\"M 0 0 M1296.76 1520.52 L1324.07 1520.52 L1324.07 1525.93 L1303.19 1525.93 L1303.19 1539.94 L1322.03 1539.94 L1322.03 1545.35 L1303.19 1545.35 L1303.19 1568.04 L1296.76 1568.04 L1296.76 1520.52 Z\" fill=\"#000000\" fill-rule=\"evenodd\" fill-opacity=\"1\" /><path clip-path=\"url(#clip130)\" d=\"M 0 0 M1344.22 1550.12 Q1337.12 1550.12 1334.38 1551.75 Q1331.65 1553.37 1331.65 1557.29 Q1331.65 1560.4 1333.68 1562.25 Q1335.75 1564.07 1339.28 1564.07 Q1344.15 1564.07 1347.08 1560.63 Q1350.04 1557.16 1350.04 1551.43 L1350.04 1550.12 L1344.22 1550.12 M1355.9 1547.71 L1355.9 1568.04 L1350.04 1568.04 L1350.04 1562.63 Q1348.04 1565.88 1345.05 1567.44 Q1342.05 1568.97 1337.73 1568.97 Q1332.25 1568.97 1329 1565.91 Q1325.79 1562.82 1325.79 1557.67 Q1325.79 1551.65 1329.8 1548.6 Q1333.84 1545.54 1341.83 1545.54 L1350.04 1545.54 L1350.04 1544.97 Q1350.04 1540.93 1347.37 1538.73 Q1344.73 1536.5 1339.92 1536.5 Q1336.87 1536.5 1333.97 1537.23 Q1331.07 1537.97 1328.4 1539.43 L1328.4 1534.02 Q1331.61 1532.78 1334.64 1532.17 Q1337.66 1531.54 1340.53 1531.54 Q1348.26 1531.54 1352.08 1535.55 Q1355.9 1539.56 1355.9 1547.71 Z\" fill=\"#000000\" fill-rule=\"evenodd\" fill-opacity=\"1\" /><path clip-path=\"url(#clip130)\" d=\"M 0 0 M1393.62 1533.76 L1393.62 1539.24 Q1391.13 1537.87 1388.62 1537.2 Q1386.14 1536.5 1383.59 1536.5 Q1377.89 1536.5 1374.74 1540.13 Q1371.59 1543.73 1371.59 1550.25 Q1371.59 1556.78 1374.74 1560.4 Q1377.89 1564 1383.59 1564 Q1386.14 1564 1388.62 1563.33 Q1391.13 1562.63 1393.62 1561.26 L1393.62 1566.68 Q1391.17 1567.82 1388.52 1568.39 Q1385.91 1568.97 1382.95 1568.97 Q1374.9 1568.97 1370.16 1563.91 Q1365.42 1558.85 1365.42 1550.25 Q1365.42 1541.53 1370.19 1536.53 Q1375 1531.54 1383.34 1531.54 Q1386.04 1531.54 1388.62 1532.11 Q1391.2 1532.65 1393.62 1533.76 Z\" fill=\"#000000\" fill-rule=\"evenodd\" fill-opacity=\"1\" /><path clip-path=\"url(#clip130)\" d=\"M 0 0 M1409.59 1522.27 L1409.59 1532.4 L1421.66 1532.4 L1421.66 1536.95 L1409.59 1536.95 L1409.59 1556.3 Q1409.59 1560.66 1410.77 1561.9 Q1411.98 1563.14 1415.64 1563.14 L1421.66 1563.14 L1421.66 1568.04 L1415.64 1568.04 Q1408.86 1568.04 1406.28 1565.53 Q1403.71 1562.98 1403.71 1556.3 L1403.71 1536.95 L1399.41 1536.95 L1399.41 1532.4 L1403.71 1532.4 L1403.71 1522.27 L1409.59 1522.27 Z\" fill=\"#000000\" fill-rule=\"evenodd\" fill-opacity=\"1\" /><path clip-path=\"url(#clip130)\" d=\"M 0 0 M1443.17 1536.5 Q1438.46 1536.5 1435.73 1540.19 Q1432.99 1543.85 1432.99 1550.25 Q1432.99 1556.65 1435.69 1560.34 Q1438.43 1564 1443.17 1564 Q1447.85 1564 1450.59 1560.31 Q1453.33 1556.62 1453.33 1550.25 Q1453.33 1543.92 1450.59 1540.23 Q1447.85 1536.5 1443.17 1536.5 M1443.17 1531.54 Q1450.81 1531.54 1455.17 1536.5 Q1459.53 1541.47 1459.53 1550.25 Q1459.53 1559 1455.17 1564 Q1450.81 1568.97 1443.17 1568.97 Q1435.5 1568.97 1431.14 1564 Q1426.81 1559 1426.81 1550.25 Q1426.81 1541.47 1431.14 1536.5 Q1435.5 1531.54 1443.17 1531.54 Z\" fill=\"#000000\" fill-rule=\"evenodd\" fill-opacity=\"1\" /><path clip-path=\"url(#clip130)\" d=\"M 0 0 M1489.9 1537.87 Q1488.91 1537.3 1487.73 1537.04 Q1486.59 1536.76 1485.19 1536.76 Q1480.22 1536.76 1477.55 1540 Q1474.91 1543.22 1474.91 1549.27 L1474.91 1568.04 L1469.02 1568.04 L1469.02 1532.4 L1474.91 1532.4 L1474.91 1537.93 Q1476.75 1534.69 1479.71 1533.13 Q1482.67 1531.54 1486.91 1531.54 Q1487.51 1531.54 1488.24 1531.63 Q1488.97 1531.7 1489.87 1531.85 L1489.9 1537.87 Z\" fill=\"#000000\" fill-rule=\"evenodd\" fill-opacity=\"1\" /><polyline clip-path=\"url(#clip132)\" style=\"stroke:#000000; stroke-width:2; stroke-opacity:0.1; fill:none\" points=\"\n",
       "  362.384,1170.03 2352.76,1170.03 \n",
       "  \"/>\n",
       "<polyline clip-path=\"url(#clip132)\" style=\"stroke:#000000; stroke-width:2; stroke-opacity:0.1; fill:none\" points=\"\n",
       "  362.384,898.268 2352.76,898.268 \n",
       "  \"/>\n",
       "<polyline clip-path=\"url(#clip132)\" style=\"stroke:#000000; stroke-width:2; stroke-opacity:0.1; fill:none\" points=\"\n",
       "  362.384,626.509 2352.76,626.509 \n",
       "  \"/>\n",
       "<polyline clip-path=\"url(#clip132)\" style=\"stroke:#000000; stroke-width:2; stroke-opacity:0.1; fill:none\" points=\"\n",
       "  362.384,354.749 2352.76,354.749 \n",
       "  \"/>\n",
       "<polyline clip-path=\"url(#clip132)\" style=\"stroke:#000000; stroke-width:2; stroke-opacity:0.1; fill:none\" points=\"\n",
       "  362.384,82.9898 2352.76,82.9898 \n",
       "  \"/>\n",
       "<polyline clip-path=\"url(#clip130)\" style=\"stroke:#000000; stroke-width:4; stroke-opacity:1; fill:none\" points=\"\n",
       "  362.384,1423.18 362.384,47.2441 \n",
       "  \"/>\n",
       "<polyline clip-path=\"url(#clip130)\" style=\"stroke:#000000; stroke-width:4; stroke-opacity:1; fill:none\" points=\"\n",
       "  362.384,1170.03 386.269,1170.03 \n",
       "  \"/>\n",
       "<polyline clip-path=\"url(#clip130)\" style=\"stroke:#000000; stroke-width:4; stroke-opacity:1; fill:none\" points=\"\n",
       "  362.384,898.268 386.269,898.268 \n",
       "  \"/>\n",
       "<polyline clip-path=\"url(#clip130)\" style=\"stroke:#000000; stroke-width:4; stroke-opacity:1; fill:none\" points=\"\n",
       "  362.384,626.509 386.269,626.509 \n",
       "  \"/>\n",
       "<polyline clip-path=\"url(#clip130)\" style=\"stroke:#000000; stroke-width:4; stroke-opacity:1; fill:none\" points=\"\n",
       "  362.384,354.749 386.269,354.749 \n",
       "  \"/>\n",
       "<polyline clip-path=\"url(#clip130)\" style=\"stroke:#000000; stroke-width:4; stroke-opacity:1; fill:none\" points=\"\n",
       "  362.384,82.9898 386.269,82.9898 \n",
       "  \"/>\n",
       "<path clip-path=\"url(#clip130)\" d=\"M 0 0 M117.825 1189.82 L125.464 1189.82 L125.464 1163.45 L117.154 1165.12 L117.154 1160.86 L125.418 1159.2 L130.093 1159.2 L130.093 1189.82 L137.732 1189.82 L137.732 1193.76 L117.825 1193.76 L117.825 1189.82 Z\" fill=\"#000000\" fill-rule=\"evenodd\" fill-opacity=\"1\" /><path clip-path=\"url(#clip130)\" d=\"M 0 0 M147.177 1187.88 L152.061 1187.88 L152.061 1193.76 L147.177 1193.76 L147.177 1187.88 Z\" fill=\"#000000\" fill-rule=\"evenodd\" fill-opacity=\"1\" /><path clip-path=\"url(#clip130)\" d=\"M 0 0 M172.246 1162.27 Q168.635 1162.27 166.806 1165.84 Q165.001 1169.38 165.001 1176.51 Q165.001 1183.62 166.806 1187.18 Q168.635 1190.72 172.246 1190.72 Q175.88 1190.72 177.686 1187.18 Q179.514 1183.62 179.514 1176.51 Q179.514 1169.38 177.686 1165.84 Q175.88 1162.27 172.246 1162.27 M172.246 1158.57 Q178.056 1158.57 181.112 1163.18 Q184.19 1167.76 184.19 1176.51 Q184.19 1185.24 181.112 1189.84 Q178.056 1194.43 172.246 1194.43 Q166.436 1194.43 163.357 1189.84 Q160.302 1185.24 160.302 1176.51 Q160.302 1167.76 163.357 1163.18 Q166.436 1158.57 172.246 1158.57 Z\" fill=\"#000000\" fill-rule=\"evenodd\" fill-opacity=\"1\" /><path clip-path=\"url(#clip130)\" d=\"M 0 0 M220.579 1168.29 L210 1178.92 L220.579 1189.5 L217.824 1192.3 L207.199 1181.67 L196.575 1192.3 L193.843 1189.5 L204.399 1178.92 L193.843 1168.29 L196.575 1165.49 L207.199 1176.12 L217.824 1165.49 L220.579 1168.29 Z\" fill=\"#000000\" fill-rule=\"evenodd\" fill-opacity=\"1\" /><path clip-path=\"url(#clip130)\" d=\"M 0 0 M232.94 1189.82 L240.579 1189.82 L240.579 1163.45 L232.269 1165.12 L232.269 1160.86 L240.533 1159.2 L245.209 1159.2 L245.209 1189.82 L252.847 1189.82 L252.847 1193.76 L232.94 1193.76 L232.94 1189.82 Z\" fill=\"#000000\" fill-rule=\"evenodd\" fill-opacity=\"1\" /><path clip-path=\"url(#clip130)\" d=\"M 0 0 M272.292 1162.27 Q268.681 1162.27 266.852 1165.84 Q265.046 1169.38 265.046 1176.51 Q265.046 1183.62 266.852 1187.18 Q268.681 1190.72 272.292 1190.72 Q275.926 1190.72 277.732 1187.18 Q279.56 1183.62 279.56 1176.51 Q279.56 1169.38 277.732 1165.84 Q275.926 1162.27 272.292 1162.27 M272.292 1158.57 Q278.102 1158.57 281.157 1163.18 Q284.236 1167.76 284.236 1176.51 Q284.236 1185.24 281.157 1189.84 Q278.102 1194.43 272.292 1194.43 Q266.482 1194.43 263.403 1189.84 Q260.347 1185.24 260.347 1176.51 Q260.347 1167.76 263.403 1163.18 Q266.482 1158.57 272.292 1158.57 Z\" fill=\"#000000\" fill-rule=\"evenodd\" fill-opacity=\"1\" /><path clip-path=\"url(#clip130)\" d=\"M 0 0 M284.782 1163.15 L290.988 1163.15 L290.988 1141.73 L284.236 1143.08 L284.236 1139.62 L290.95 1138.27 L294.75 1138.27 L294.75 1163.15 L300.956 1163.15 L300.956 1166.35 L284.782 1166.35 L284.782 1163.15 Z\" fill=\"#000000\" fill-rule=\"evenodd\" fill-opacity=\"1\" /><path clip-path=\"url(#clip130)\" d=\"M 0 0 M316.755 1153.01 Q314.046 1153.01 312.485 1154.46 Q310.943 1155.91 310.943 1158.45 Q310.943 1160.98 312.485 1162.43 Q314.046 1163.88 316.755 1163.88 Q319.463 1163.88 321.024 1162.43 Q322.585 1160.97 322.585 1158.45 Q322.585 1155.91 321.024 1154.46 Q319.482 1153.01 316.755 1153.01 M312.956 1151.39 Q310.511 1150.79 309.138 1149.12 Q307.783 1147.44 307.783 1145.04 Q307.783 1141.67 310.172 1139.71 Q312.579 1137.76 316.755 1137.76 Q320.949 1137.76 323.337 1139.71 Q325.726 1141.67 325.726 1145.04 Q325.726 1147.44 324.353 1149.12 Q322.999 1150.79 320.573 1151.39 Q323.319 1152.03 324.842 1153.89 Q326.384 1155.76 326.384 1158.45 Q326.384 1162.53 323.883 1164.71 Q321.4 1166.89 316.755 1166.89 Q312.109 1166.89 309.608 1164.71 Q307.125 1162.53 307.125 1158.45 Q307.125 1155.76 308.667 1153.89 Q310.21 1152.03 312.956 1151.39 M311.564 1145.39 Q311.564 1147.57 312.918 1148.8 Q314.291 1150.02 316.755 1150.02 Q319.2 1150.02 320.573 1148.8 Q321.964 1147.57 321.964 1145.39 Q321.964 1143.21 320.573 1141.99 Q319.2 1140.77 316.755 1140.77 Q314.291 1140.77 312.918 1141.99 Q311.564 1143.21 311.564 1145.39 Z\" fill=\"#000000\" fill-rule=\"evenodd\" fill-opacity=\"1\" /><path clip-path=\"url(#clip130)\" d=\"M 0 0 M121.043 918.061 L137.362 918.061 L137.362 921.996 L115.418 921.996 L115.418 918.061 Q118.08 915.306 122.663 910.677 Q127.269 906.024 128.45 904.681 Q130.695 902.158 131.575 900.422 Q132.478 898.663 132.478 896.973 Q132.478 894.218 130.533 892.482 Q128.612 890.746 125.51 890.746 Q123.311 890.746 120.857 891.51 Q118.427 892.274 115.649 893.825 L115.649 889.103 Q118.473 887.968 120.927 887.39 Q123.38 886.811 125.418 886.811 Q130.788 886.811 133.982 889.496 Q137.177 892.181 137.177 896.672 Q137.177 898.802 136.367 900.723 Q135.579 902.621 133.473 905.214 Q132.894 905.885 129.792 909.103 Q126.691 912.297 121.043 918.061 Z\" fill=\"#000000\" fill-rule=\"evenodd\" fill-opacity=\"1\" /><path clip-path=\"url(#clip130)\" d=\"M 0 0 M147.177 916.116 L152.061 916.116 L152.061 921.996 L147.177 921.996 L147.177 916.116 Z\" fill=\"#000000\" fill-rule=\"evenodd\" fill-opacity=\"1\" /><path clip-path=\"url(#clip130)\" d=\"M 0 0 M172.246 890.515 Q168.635 890.515 166.806 894.079 Q165.001 897.621 165.001 904.751 Q165.001 911.857 166.806 915.422 Q168.635 918.964 172.246 918.964 Q175.88 918.964 177.686 915.422 Q179.514 911.857 179.514 904.751 Q179.514 897.621 177.686 894.079 Q175.88 890.515 172.246 890.515 M172.246 886.811 Q178.056 886.811 181.112 891.417 Q184.19 896.001 184.19 904.751 Q184.19 913.477 181.112 918.084 Q178.056 922.667 172.246 922.667 Q166.436 922.667 163.357 918.084 Q160.302 913.477 160.302 904.751 Q160.302 896.001 163.357 891.417 Q166.436 886.811 172.246 886.811 Z\" fill=\"#000000\" fill-rule=\"evenodd\" fill-opacity=\"1\" /><path clip-path=\"url(#clip130)\" d=\"M 0 0 M220.579 896.533 L210 907.158 L220.579 917.737 L217.824 920.538 L207.199 909.913 L196.575 920.538 L193.843 917.737 L204.399 907.158 L193.843 896.533 L196.575 893.732 L207.199 904.357 L217.824 893.732 L220.579 896.533 Z\" fill=\"#000000\" fill-rule=\"evenodd\" fill-opacity=\"1\" /><path clip-path=\"url(#clip130)\" d=\"M 0 0 M232.94 918.061 L240.579 918.061 L240.579 891.695 L232.269 893.362 L232.269 889.103 L240.533 887.436 L245.209 887.436 L245.209 918.061 L252.847 918.061 L252.847 921.996 L232.94 921.996 L232.94 918.061 Z\" fill=\"#000000\" fill-rule=\"evenodd\" fill-opacity=\"1\" /><path clip-path=\"url(#clip130)\" d=\"M 0 0 M272.292 890.515 Q268.681 890.515 266.852 894.079 Q265.046 897.621 265.046 904.751 Q265.046 911.857 266.852 915.422 Q268.681 918.964 272.292 918.964 Q275.926 918.964 277.732 915.422 Q279.56 911.857 279.56 904.751 Q279.56 897.621 277.732 894.079 Q275.926 890.515 272.292 890.515 M272.292 886.811 Q278.102 886.811 281.157 891.417 Q284.236 896.001 284.236 904.751 Q284.236 913.477 281.157 918.084 Q278.102 922.667 272.292 922.667 Q266.482 922.667 263.403 918.084 Q260.347 913.477 260.347 904.751 Q260.347 896.001 263.403 891.417 Q266.482 886.811 272.292 886.811 Z\" fill=\"#000000\" fill-rule=\"evenodd\" fill-opacity=\"1\" /><path clip-path=\"url(#clip130)\" d=\"M 0 0 M284.782 891.388 L290.988 891.388 L290.988 869.966 L284.236 871.32 L284.236 867.86 L290.95 866.506 L294.75 866.506 L294.75 891.388 L300.956 891.388 L300.956 894.586 L284.782 894.586 L284.782 891.388 Z\" fill=\"#000000\" fill-rule=\"evenodd\" fill-opacity=\"1\" /><path clip-path=\"url(#clip130)\" d=\"M 0 0 M316.755 881.251 Q314.046 881.251 312.485 882.699 Q310.943 884.147 310.943 886.686 Q310.943 889.225 312.485 890.674 Q314.046 892.122 316.755 892.122 Q319.463 892.122 321.024 890.674 Q322.585 889.207 322.585 886.686 Q322.585 884.147 321.024 882.699 Q319.482 881.251 316.755 881.251 M312.956 879.633 Q310.511 879.032 309.138 877.358 Q307.783 875.684 307.783 873.276 Q307.783 869.91 310.172 867.954 Q312.579 865.998 316.755 865.998 Q320.949 865.998 323.337 867.954 Q325.726 869.91 325.726 873.276 Q325.726 875.684 324.353 877.358 Q322.999 879.032 320.573 879.633 Q323.319 880.273 324.842 882.135 Q326.384 883.997 326.384 886.686 Q326.384 890.768 323.883 892.949 Q321.4 895.131 316.755 895.131 Q312.109 895.131 309.608 892.949 Q307.125 890.768 307.125 886.686 Q307.125 883.997 308.667 882.135 Q310.21 880.273 312.956 879.633 M311.564 873.634 Q311.564 875.815 312.918 877.038 Q314.291 878.26 316.755 878.26 Q319.2 878.26 320.573 877.038 Q321.964 875.815 321.964 873.634 Q321.964 871.452 320.573 870.23 Q319.2 869.007 316.755 869.007 Q314.291 869.007 312.918 870.23 Q311.564 871.452 311.564 873.634 Z\" fill=\"#000000\" fill-rule=\"evenodd\" fill-opacity=\"1\" /><path clip-path=\"url(#clip130)\" d=\"M 0 0 M131.181 631.602 Q134.538 632.32 136.413 634.588 Q138.311 636.857 138.311 640.19 Q138.311 645.306 134.792 648.107 Q131.274 650.908 124.793 650.908 Q122.617 650.908 120.302 650.468 Q118.01 650.051 115.556 649.195 L115.556 644.681 Q117.501 645.815 119.816 646.394 Q122.13 646.973 124.654 646.973 Q129.052 646.973 131.343 645.236 Q133.658 643.5 133.658 640.19 Q133.658 637.135 131.505 635.422 Q129.376 633.686 125.556 633.686 L121.529 633.686 L121.529 629.843 L125.742 629.843 Q129.191 629.843 131.019 628.477 Q132.848 627.088 132.848 624.496 Q132.848 621.834 130.95 620.422 Q129.075 618.987 125.556 618.987 Q123.635 618.987 121.436 619.403 Q119.237 619.82 116.598 620.7 L116.598 616.533 Q119.26 615.792 121.575 615.422 Q123.913 615.051 125.973 615.051 Q131.297 615.051 134.399 617.482 Q137.501 619.889 137.501 624.01 Q137.501 626.88 135.857 628.871 Q134.214 630.838 131.181 631.602 Z\" fill=\"#000000\" fill-rule=\"evenodd\" fill-opacity=\"1\" /><path clip-path=\"url(#clip130)\" d=\"M 0 0 M147.177 644.357 L152.061 644.357 L152.061 650.236 L147.177 650.236 L147.177 644.357 Z\" fill=\"#000000\" fill-rule=\"evenodd\" fill-opacity=\"1\" /><path clip-path=\"url(#clip130)\" d=\"M 0 0 M172.246 618.755 Q168.635 618.755 166.806 622.32 Q165.001 625.862 165.001 632.991 Q165.001 640.098 166.806 643.662 Q168.635 647.204 172.246 647.204 Q175.88 647.204 177.686 643.662 Q179.514 640.098 179.514 632.991 Q179.514 625.862 177.686 622.32 Q175.88 618.755 172.246 618.755 M172.246 615.051 Q178.056 615.051 181.112 619.658 Q184.19 624.241 184.19 632.991 Q184.19 641.718 181.112 646.324 Q178.056 650.908 172.246 650.908 Q166.436 650.908 163.357 646.324 Q160.302 641.718 160.302 632.991 Q160.302 624.241 163.357 619.658 Q166.436 615.051 172.246 615.051 Z\" fill=\"#000000\" fill-rule=\"evenodd\" fill-opacity=\"1\" /><path clip-path=\"url(#clip130)\" d=\"M 0 0 M220.579 624.774 L210 635.399 L220.579 645.977 L217.824 648.778 L207.199 638.153 L196.575 648.778 L193.843 645.977 L204.399 635.399 L193.843 624.774 L196.575 621.973 L207.199 632.598 L217.824 621.973 L220.579 624.774 Z\" fill=\"#000000\" fill-rule=\"evenodd\" fill-opacity=\"1\" /><path clip-path=\"url(#clip130)\" d=\"M 0 0 M232.94 646.301 L240.579 646.301 L240.579 619.936 L232.269 621.602 L232.269 617.343 L240.533 615.676 L245.209 615.676 L245.209 646.301 L252.847 646.301 L252.847 650.236 L232.94 650.236 L232.94 646.301 Z\" fill=\"#000000\" fill-rule=\"evenodd\" fill-opacity=\"1\" /><path clip-path=\"url(#clip130)\" d=\"M 0 0 M272.292 618.755 Q268.681 618.755 266.852 622.32 Q265.046 625.862 265.046 632.991 Q265.046 640.098 266.852 643.662 Q268.681 647.204 272.292 647.204 Q275.926 647.204 277.732 643.662 Q279.56 640.098 279.56 632.991 Q279.56 625.862 277.732 622.32 Q275.926 618.755 272.292 618.755 M272.292 615.051 Q278.102 615.051 281.157 619.658 Q284.236 624.241 284.236 632.991 Q284.236 641.718 281.157 646.324 Q278.102 650.908 272.292 650.908 Q266.482 650.908 263.403 646.324 Q260.347 641.718 260.347 632.991 Q260.347 624.241 263.403 619.658 Q266.482 615.051 272.292 615.051 Z\" fill=\"#000000\" fill-rule=\"evenodd\" fill-opacity=\"1\" /><path clip-path=\"url(#clip130)\" d=\"M 0 0 M284.782 619.629 L290.988 619.629 L290.988 598.207 L284.236 599.561 L284.236 596.1 L290.95 594.746 L294.75 594.746 L294.75 619.629 L300.956 619.629 L300.956 622.826 L284.782 622.826 L284.782 619.629 Z\" fill=\"#000000\" fill-rule=\"evenodd\" fill-opacity=\"1\" /><path clip-path=\"url(#clip130)\" d=\"M 0 0 M316.755 609.491 Q314.046 609.491 312.485 610.94 Q310.943 612.388 310.943 614.927 Q310.943 617.466 312.485 618.914 Q314.046 620.362 316.755 620.362 Q319.463 620.362 321.024 618.914 Q322.585 617.447 322.585 614.927 Q322.585 612.388 321.024 610.94 Q319.482 609.491 316.755 609.491 M312.956 607.874 Q310.511 607.272 309.138 605.598 Q307.783 603.924 307.783 601.517 Q307.783 598.15 310.172 596.194 Q312.579 594.238 316.755 594.238 Q320.949 594.238 323.337 596.194 Q325.726 598.15 325.726 601.517 Q325.726 603.924 324.353 605.598 Q322.999 607.272 320.573 607.874 Q323.319 608.513 324.842 610.375 Q326.384 612.237 326.384 614.927 Q326.384 619.008 323.883 621.19 Q321.4 623.371 316.755 623.371 Q312.109 623.371 309.608 621.19 Q307.125 619.008 307.125 614.927 Q307.125 612.237 308.667 610.375 Q310.21 608.513 312.956 607.874 M311.564 601.874 Q311.564 604.056 312.918 605.278 Q314.291 606.501 316.755 606.501 Q319.2 606.501 320.573 605.278 Q321.964 604.056 321.964 601.874 Q321.964 599.692 320.573 598.47 Q319.2 597.247 316.755 597.247 Q314.291 597.247 312.918 598.47 Q311.564 599.692 311.564 601.874 Z\" fill=\"#000000\" fill-rule=\"evenodd\" fill-opacity=\"1\" /><path clip-path=\"url(#clip130)\" d=\"M 0 0 M129.862 347.991 L118.056 366.44 L129.862 366.44 L129.862 347.991 M128.635 343.917 L134.515 343.917 L134.515 366.44 L139.445 366.44 L139.445 370.329 L134.515 370.329 L134.515 378.477 L129.862 378.477 L129.862 370.329 L114.26 370.329 L114.26 365.815 L128.635 343.917 Z\" fill=\"#000000\" fill-rule=\"evenodd\" fill-opacity=\"1\" /><path clip-path=\"url(#clip130)\" d=\"M 0 0 M147.177 372.597 L152.061 372.597 L152.061 378.477 L147.177 378.477 L147.177 372.597 Z\" fill=\"#000000\" fill-rule=\"evenodd\" fill-opacity=\"1\" /><path clip-path=\"url(#clip130)\" d=\"M 0 0 M172.246 346.996 Q168.635 346.996 166.806 350.56 Q165.001 354.102 165.001 361.232 Q165.001 368.338 166.806 371.903 Q168.635 375.445 172.246 375.445 Q175.88 375.445 177.686 371.903 Q179.514 368.338 179.514 361.232 Q179.514 354.102 177.686 350.56 Q175.88 346.996 172.246 346.996 M172.246 343.292 Q178.056 343.292 181.112 347.898 Q184.19 352.482 184.19 361.232 Q184.19 369.958 181.112 374.565 Q178.056 379.148 172.246 379.148 Q166.436 379.148 163.357 374.565 Q160.302 369.958 160.302 361.232 Q160.302 352.482 163.357 347.898 Q166.436 343.292 172.246 343.292 Z\" fill=\"#000000\" fill-rule=\"evenodd\" fill-opacity=\"1\" /><path clip-path=\"url(#clip130)\" d=\"M 0 0 M220.579 353.014 L210 363.639 L220.579 374.218 L217.824 377.019 L207.199 366.394 L196.575 377.019 L193.843 374.218 L204.399 363.639 L193.843 353.014 L196.575 350.213 L207.199 360.838 L217.824 350.213 L220.579 353.014 Z\" fill=\"#000000\" fill-rule=\"evenodd\" fill-opacity=\"1\" /><path clip-path=\"url(#clip130)\" d=\"M 0 0 M232.94 374.542 L240.579 374.542 L240.579 348.176 L232.269 349.843 L232.269 345.584 L240.533 343.917 L245.209 343.917 L245.209 374.542 L252.847 374.542 L252.847 378.477 L232.94 378.477 L232.94 374.542 Z\" fill=\"#000000\" fill-rule=\"evenodd\" fill-opacity=\"1\" /><path clip-path=\"url(#clip130)\" d=\"M 0 0 M272.292 346.996 Q268.681 346.996 266.852 350.56 Q265.046 354.102 265.046 361.232 Q265.046 368.338 266.852 371.903 Q268.681 375.445 272.292 375.445 Q275.926 375.445 277.732 371.903 Q279.56 368.338 279.56 361.232 Q279.56 354.102 277.732 350.56 Q275.926 346.996 272.292 346.996 M272.292 343.292 Q278.102 343.292 281.157 347.898 Q284.236 352.482 284.236 361.232 Q284.236 369.958 281.157 374.565 Q278.102 379.148 272.292 379.148 Q266.482 379.148 263.403 374.565 Q260.347 369.958 260.347 361.232 Q260.347 352.482 263.403 347.898 Q266.482 343.292 272.292 343.292 Z\" fill=\"#000000\" fill-rule=\"evenodd\" fill-opacity=\"1\" /><path clip-path=\"url(#clip130)\" d=\"M 0 0 M284.782 347.869 L290.988 347.869 L290.988 326.447 L284.236 327.801 L284.236 324.341 L290.95 322.987 L294.75 322.987 L294.75 347.869 L300.956 347.869 L300.956 351.067 L284.782 351.067 L284.782 347.869 Z\" fill=\"#000000\" fill-rule=\"evenodd\" fill-opacity=\"1\" /><path clip-path=\"url(#clip130)\" d=\"M 0 0 M316.755 337.732 Q314.046 337.732 312.485 339.18 Q310.943 340.628 310.943 343.167 Q310.943 345.706 312.485 347.154 Q314.046 348.603 316.755 348.603 Q319.463 348.603 321.024 347.154 Q322.585 345.687 322.585 343.167 Q322.585 340.628 321.024 339.18 Q319.482 337.732 316.755 337.732 M312.956 336.114 Q310.511 335.512 309.138 333.839 Q307.783 332.165 307.783 329.757 Q307.783 326.391 310.172 324.435 Q312.579 322.479 316.755 322.479 Q320.949 322.479 323.337 324.435 Q325.726 326.391 325.726 329.757 Q325.726 332.165 324.353 333.839 Q322.999 335.512 320.573 336.114 Q323.319 336.754 324.842 338.616 Q326.384 340.478 326.384 343.167 Q326.384 347.249 323.883 349.43 Q321.4 351.612 316.755 351.612 Q312.109 351.612 309.608 349.43 Q307.125 347.249 307.125 343.167 Q307.125 340.478 308.667 338.616 Q310.21 336.754 312.956 336.114 M311.564 330.115 Q311.564 332.296 312.918 333.519 Q314.291 334.741 316.755 334.741 Q319.2 334.741 320.573 333.519 Q321.964 332.296 321.964 330.115 Q321.964 327.933 320.573 326.71 Q319.2 325.488 316.755 325.488 Q314.291 325.488 312.918 326.71 Q311.564 327.933 311.564 330.115 Z\" fill=\"#000000\" fill-rule=\"evenodd\" fill-opacity=\"1\" /><path clip-path=\"url(#clip130)\" d=\"M 0 0 M117.061 72.1574 L135.417 72.1574 L135.417 76.0925 L121.343 76.0925 L121.343 84.5647 Q122.362 84.2175 123.38 84.0555 Q124.399 83.8703 125.418 83.8703 Q131.205 83.8703 134.584 87.0416 Q137.964 90.2128 137.964 95.6295 Q137.964 101.208 134.492 104.31 Q131.019 107.389 124.7 107.389 Q122.524 107.389 120.255 107.018 Q118.01 106.648 115.603 105.907 L115.603 101.208 Q117.686 102.342 119.908 102.898 Q122.13 103.454 124.607 103.454 Q128.612 103.454 130.95 101.347 Q133.288 99.2406 133.288 95.6295 Q133.288 92.0184 130.95 89.9119 Q128.612 87.8054 124.607 87.8054 Q122.732 87.8054 120.857 88.2221 Q119.006 88.6388 117.061 89.5184 L117.061 72.1574 Z\" fill=\"#000000\" fill-rule=\"evenodd\" fill-opacity=\"1\" /><path clip-path=\"url(#clip130)\" d=\"M 0 0 M147.177 100.838 L152.061 100.838 L152.061 106.717 L147.177 106.717 L147.177 100.838 Z\" fill=\"#000000\" fill-rule=\"evenodd\" fill-opacity=\"1\" /><path clip-path=\"url(#clip130)\" d=\"M 0 0 M172.246 75.2361 Q168.635 75.2361 166.806 78.8009 Q165.001 82.3425 165.001 89.4721 Q165.001 96.5785 166.806 100.143 Q168.635 103.685 172.246 103.685 Q175.88 103.685 177.686 100.143 Q179.514 96.5785 179.514 89.4721 Q179.514 82.3425 177.686 78.8009 Q175.88 75.2361 172.246 75.2361 M172.246 71.5324 Q178.056 71.5324 181.112 76.1388 Q184.19 80.7221 184.19 89.4721 Q184.19 98.1989 181.112 102.805 Q178.056 107.389 172.246 107.389 Q166.436 107.389 163.357 102.805 Q160.302 98.1989 160.302 89.4721 Q160.302 80.7221 163.357 76.1388 Q166.436 71.5324 172.246 71.5324 Z\" fill=\"#000000\" fill-rule=\"evenodd\" fill-opacity=\"1\" /><path clip-path=\"url(#clip130)\" d=\"M 0 0 M220.579 81.2546 L210 91.8795 L220.579 102.458 L217.824 105.259 L207.199 94.6341 L196.575 105.259 L193.843 102.458 L204.399 91.8795 L193.843 81.2546 L196.575 78.4536 L207.199 89.0786 L217.824 78.4536 L220.579 81.2546 Z\" fill=\"#000000\" fill-rule=\"evenodd\" fill-opacity=\"1\" /><path clip-path=\"url(#clip130)\" d=\"M 0 0 M232.94 102.782 L240.579 102.782 L240.579 76.4166 L232.269 78.0833 L232.269 73.824 L240.533 72.1574 L245.209 72.1574 L245.209 102.782 L252.847 102.782 L252.847 106.717 L232.94 106.717 L232.94 102.782 Z\" fill=\"#000000\" fill-rule=\"evenodd\" fill-opacity=\"1\" /><path clip-path=\"url(#clip130)\" d=\"M 0 0 M272.292 75.2361 Q268.681 75.2361 266.852 78.8009 Q265.046 82.3425 265.046 89.4721 Q265.046 96.5785 266.852 100.143 Q268.681 103.685 272.292 103.685 Q275.926 103.685 277.732 100.143 Q279.56 96.5785 279.56 89.4721 Q279.56 82.3425 277.732 78.8009 Q275.926 75.2361 272.292 75.2361 M272.292 71.5324 Q278.102 71.5324 281.157 76.1388 Q284.236 80.7221 284.236 89.4721 Q284.236 98.1989 281.157 102.805 Q278.102 107.389 272.292 107.389 Q266.482 107.389 263.403 102.805 Q260.347 98.1989 260.347 89.4721 Q260.347 80.7221 263.403 76.1388 Q266.482 71.5324 272.292 71.5324 Z\" fill=\"#000000\" fill-rule=\"evenodd\" fill-opacity=\"1\" /><path clip-path=\"url(#clip130)\" d=\"M 0 0 M284.782 76.1097 L290.988 76.1097 L290.988 54.6876 L284.236 56.0418 L284.236 52.5811 L290.95 51.227 L294.75 51.227 L294.75 76.1097 L300.956 76.1097 L300.956 79.307 L284.782 79.307 L284.782 76.1097 Z\" fill=\"#000000\" fill-rule=\"evenodd\" fill-opacity=\"1\" /><path clip-path=\"url(#clip130)\" d=\"M 0 0 M316.755 65.9723 Q314.046 65.9723 312.485 67.4205 Q310.943 68.8687 310.943 71.4077 Q310.943 73.9468 312.485 75.395 Q314.046 76.8432 316.755 76.8432 Q319.463 76.8432 321.024 75.395 Q322.585 73.928 322.585 71.4077 Q322.585 68.8687 321.024 67.4205 Q319.482 65.9723 316.755 65.9723 M312.956 64.3548 Q310.511 63.753 309.138 62.0791 Q307.783 60.4052 307.783 57.9978 Q307.783 54.6312 310.172 52.6752 Q312.579 50.7192 316.755 50.7192 Q320.949 50.7192 323.337 52.6752 Q325.726 54.6312 325.726 57.9978 Q325.726 60.4052 324.353 62.0791 Q322.999 63.753 320.573 64.3548 Q323.319 64.9943 324.842 66.8562 Q326.384 68.7182 326.384 71.4077 Q326.384 75.489 323.883 77.6707 Q321.4 79.8524 316.755 79.8524 Q312.109 79.8524 309.608 77.6707 Q307.125 75.489 307.125 71.4077 Q307.125 68.7182 308.667 66.8562 Q310.21 64.9943 312.956 64.3548 M311.564 58.3551 Q311.564 60.5368 312.918 61.7593 Q314.291 62.9818 316.755 62.9818 Q319.2 62.9818 320.573 61.7593 Q321.964 60.5368 321.964 58.3551 Q321.964 56.1734 320.573 54.9509 Q319.2 53.7284 316.755 53.7284 Q314.291 53.7284 312.918 54.9509 Q311.564 56.1734 311.564 58.3551 Z\" fill=\"#000000\" fill-rule=\"evenodd\" fill-opacity=\"1\" /><path clip-path=\"url(#clip130)\" d=\"M 0 0 M42.4881 1015.13 L64.0042 1015.13 L64.0042 1020.98 L42.679 1020.98 Q37.6183 1020.98 35.1038 1022.96 Q32.5894 1024.93 32.5894 1028.88 Q32.5894 1033.62 35.6131 1036.36 Q38.6368 1039.09 43.8567 1039.09 L64.0042 1039.09 L64.0042 1044.98 L28.3562 1044.98 L28.3562 1039.09 L33.8944 1039.09 Q30.6797 1036.99 29.0883 1034.16 Q27.4968 1031.3 27.4968 1027.57 Q27.4968 1021.43 31.3163 1018.28 Q35.1038 1015.13 42.4881 1015.13 Z\" fill=\"#000000\" fill-rule=\"evenodd\" fill-opacity=\"1\" /><path clip-path=\"url(#clip130)\" d=\"M 0 0 M20.1444 967.608 L26.9239 967.608 Q23.9002 970.855 22.4043 974.547 Q20.9083 978.207 20.9083 982.345 Q20.9083 990.493 25.9054 994.821 Q30.8707 999.15 40.2919 999.15 Q49.6813 999.15 54.6784 994.821 Q59.6436 990.493 59.6436 982.345 Q59.6436 978.207 58.1477 974.547 Q56.6518 970.855 53.6281 967.608 L60.3439 967.608 Q62.6355 970.982 63.7814 974.769 Q64.9272 978.525 64.9272 982.727 Q64.9272 993.516 58.3387 999.723 Q51.7183 1005.93 40.2919 1005.93 Q28.8336 1005.93 22.2451 999.723 Q15.6248 993.516 15.6248 982.727 Q15.6248 978.462 16.7706 974.706 Q17.8846 970.918 20.1444 967.608 Z\" fill=\"#000000\" fill-rule=\"evenodd\" fill-opacity=\"1\" /><path clip-path=\"url(#clip130)\" d=\"M 0 0 M42.4881 928.3 L64.0042 928.3 L64.0042 934.156 L42.679 934.156 Q37.6183 934.156 35.1038 936.13 Q32.5894 938.103 32.5894 942.05 Q32.5894 946.792 35.6131 949.529 Q38.6368 952.267 43.8567 952.267 L64.0042 952.267 L64.0042 958.155 L14.479 958.155 L14.479 952.267 L33.8944 952.267 Q30.6797 950.166 29.0883 947.333 Q27.4968 944.469 27.4968 940.745 Q27.4968 934.602 31.3163 931.451 Q35.1038 928.3 42.4881 928.3 Z\" fill=\"#000000\" fill-rule=\"evenodd\" fill-opacity=\"1\" /><path clip-path=\"url(#clip130)\" d=\"M 0 0 M33.8307 895.962 Q33.2578 896.949 33.0032 898.126 Q32.7167 899.272 32.7167 900.673 Q32.7167 905.638 35.9632 908.311 Q39.1779 910.953 45.2253 910.953 L64.0042 910.953 L64.0042 916.841 L28.3562 916.841 L28.3562 910.953 L33.8944 910.953 Q30.6479 909.107 29.0883 906.147 Q27.4968 903.187 27.4968 898.954 Q27.4968 898.349 27.5923 897.617 Q27.656 896.885 27.8151 895.994 L33.8307 895.962 Z\" fill=\"#000000\" fill-rule=\"evenodd\" fill-opacity=\"1\" /><path clip-path=\"url(#clip130)\" d=\"M 0 0 M32.4621 877.438 Q32.4621 882.148 36.1542 884.886 Q39.8145 887.623 46.212 887.623 Q52.6095 887.623 56.3017 884.917 Q59.9619 882.18 59.9619 877.438 Q59.9619 872.759 56.2698 870.022 Q52.5777 867.284 46.212 867.284 Q39.8781 867.284 36.186 870.022 Q32.4621 872.759 32.4621 877.438 M27.4968 877.438 Q27.4968 869.799 32.4621 865.438 Q37.4273 861.078 46.212 861.078 Q54.9649 861.078 59.9619 865.438 Q64.9272 869.799 64.9272 877.438 Q64.9272 885.108 59.9619 889.469 Q54.9649 893.798 46.212 893.798 Q37.4273 893.798 32.4621 889.469 Q27.4968 885.108 27.4968 877.438 Z\" fill=\"#000000\" fill-rule=\"evenodd\" fill-opacity=\"1\" /><path clip-path=\"url(#clip130)\" d=\"M 0 0 M35.1993 823.616 Q31.2526 821.42 29.3747 818.364 Q27.4968 815.308 27.4968 811.171 Q27.4968 805.601 31.4117 802.577 Q35.2948 799.553 42.4881 799.553 L64.0042 799.553 L64.0042 805.442 L42.679 805.442 Q37.5546 805.442 35.072 807.256 Q32.5894 809.07 32.5894 812.794 Q32.5894 817.345 35.6131 819.987 Q38.6368 822.629 43.8567 822.629 L64.0042 822.629 L64.0042 828.517 L42.679 828.517 Q37.5228 828.517 35.072 830.332 Q32.5894 832.146 32.5894 835.933 Q32.5894 840.421 35.6449 843.063 Q38.6686 845.705 43.8567 845.705 L64.0042 845.705 L64.0042 851.593 L28.3562 851.593 L28.3562 845.705 L33.8944 845.705 Q30.616 843.7 29.0564 840.899 Q27.4968 838.098 27.4968 834.246 Q27.4968 830.363 29.4702 827.658 Q31.4436 824.921 35.1993 823.616 Z\" fill=\"#000000\" fill-rule=\"evenodd\" fill-opacity=\"1\" /><path clip-path=\"url(#clip130)\" d=\"M 0 0 M32.4621 774.059 Q32.4621 778.769 36.1542 781.507 Q39.8145 784.244 46.212 784.244 Q52.6095 784.244 56.3017 781.538 Q59.9619 778.801 59.9619 774.059 Q59.9619 769.38 56.2698 766.643 Q52.5777 763.905 46.212 763.905 Q39.8781 763.905 36.186 766.643 Q32.4621 769.38 32.4621 774.059 M27.4968 774.059 Q27.4968 766.42 32.4621 762.059 Q37.4273 757.699 46.212 757.699 Q54.9649 757.699 59.9619 762.059 Q64.9272 766.42 64.9272 774.059 Q64.9272 781.729 59.9619 786.09 Q54.9649 790.419 46.212 790.419 Q37.4273 790.419 32.4621 786.09 Q27.4968 781.729 27.4968 774.059 Z\" fill=\"#000000\" fill-rule=\"evenodd\" fill-opacity=\"1\" /><path clip-path=\"url(#clip130)\" d=\"M 0 0 M18.0438 719.25 L24.314 719.25 Q22.5634 722.91 21.704 726.157 Q20.8447 729.403 20.8447 732.427 Q20.8447 737.679 22.8817 740.543 Q24.9187 743.376 28.6745 743.376 Q31.8255 743.376 33.4488 741.498 Q35.0402 739.588 36.0269 734.305 L36.8226 730.422 Q38.1912 723.229 41.6605 719.823 Q45.098 716.385 50.8908 716.385 Q57.7976 716.385 61.3624 721.032 Q64.9272 725.647 64.9272 734.591 Q64.9272 737.965 64.1633 741.785 Q63.3994 745.572 61.9035 749.646 L55.2831 749.646 Q57.4793 745.731 58.5933 741.976 Q59.7073 738.22 59.7073 734.591 Q59.7073 729.085 57.543 726.093 Q55.3786 723.101 51.3682 723.101 Q47.8671 723.101 45.8937 725.266 Q43.9204 727.398 42.9337 732.3 L42.1698 736.215 Q40.7375 743.408 37.682 746.622 Q34.6264 749.837 29.1837 749.837 Q22.8817 749.837 19.2532 745.413 Q15.6248 740.957 15.6248 733.159 Q15.6248 729.817 16.2295 726.348 Q16.8343 722.878 18.0438 719.25 Z\" fill=\"#000000\" fill-rule=\"evenodd\" fill-opacity=\"1\" /><path clip-path=\"url(#clip130)\" d=\"M 0 0 M28.3562 706.614 L28.3562 700.758 L64.0042 700.758 L64.0042 706.614 L28.3562 706.614 M14.479 706.614 L14.479 700.758 L21.895 700.758 L21.895 706.614 L14.479 706.614 Z\" fill=\"#000000\" fill-rule=\"evenodd\" fill-opacity=\"1\" /><path clip-path=\"url(#clip130)\" d=\"M 0 0 M74.8259 661.418 L79.3773 661.418 L79.3773 695.283 L74.8259 695.283 L74.8259 661.418 Z\" fill=\"#000000\" fill-rule=\"evenodd\" fill-opacity=\"1\" /><path clip-path=\"url(#clip130)\" d=\"M 0 0 M22.818 639.774 L46.4666 648.495 L46.4666 631.021 L22.818 639.774 M16.4842 643.403 L16.4842 636.114 L64.0042 618.003 L64.0042 624.687 L51.8138 629.016 L51.8138 650.437 L64.0042 654.765 L64.0042 661.545 L16.4842 643.403 Z\" fill=\"#000000\" fill-rule=\"evenodd\" fill-opacity=\"1\" /><path clip-path=\"url(#clip130)\" d=\"M 0 0 M16.4842 618.863 L16.4842 612.37 L56.6518 602.376 L16.4842 592.413 L16.4842 585.188 L56.6518 575.194 L16.4842 565.232 L16.4842 558.707 L64.0042 570.643 L64.0042 578.727 L22.7544 588.753 L64.0042 598.874 L64.0042 606.959 L16.4842 618.863 Z\" fill=\"#000000\" fill-rule=\"evenodd\" fill-opacity=\"1\" /><path clip-path=\"url(#clip130)\" d=\"M 0 0 M18.0438 521.69 L24.314 521.69 Q22.5634 525.351 21.704 528.597 Q20.8447 531.844 20.8447 534.867 Q20.8447 540.119 22.8817 542.984 Q24.9187 545.816 28.6745 545.816 Q31.8255 545.816 33.4488 543.938 Q35.0402 542.029 36.0269 536.745 L36.8226 532.862 Q38.1912 525.669 41.6605 522.263 Q45.098 518.826 50.8908 518.826 Q57.7976 518.826 61.3624 523.473 Q64.9272 528.088 64.9272 537.032 Q64.9272 540.405 64.1633 544.225 Q63.3994 548.012 61.9035 552.087 L55.2831 552.087 Q57.4793 548.172 58.5933 544.416 Q59.7073 540.66 59.7073 537.032 Q59.7073 531.525 57.543 528.533 Q55.3786 525.542 51.3682 525.542 Q47.8671 525.542 45.8937 527.706 Q43.9204 529.838 42.9337 534.74 L42.1698 538.655 Q40.7375 545.848 37.682 549.063 Q34.6264 552.277 29.1837 552.277 Q22.8817 552.277 19.2532 547.853 Q15.6248 543.397 15.6248 535.599 Q15.6248 532.257 16.2295 528.788 Q16.8343 525.319 18.0438 521.69 Z\" fill=\"#000000\" fill-rule=\"evenodd\" fill-opacity=\"1\" /><path clip-path=\"url(#clip130)\" d=\"M 0 0 M32.4621 495.241 Q32.4621 499.951 36.1542 502.689 Q39.8145 505.426 46.212 505.426 Q52.6095 505.426 56.3017 502.72 Q59.9619 499.983 59.9619 495.241 Q59.9619 490.562 56.2698 487.825 Q52.5777 485.087 46.212 485.087 Q39.8781 485.087 36.186 487.825 Q32.4621 490.562 32.4621 495.241 M27.4968 495.241 Q27.4968 487.602 32.4621 483.241 Q37.4273 478.881 46.212 478.881 Q54.9649 478.881 59.9619 483.241 Q64.9272 487.602 64.9272 495.241 Q64.9272 502.911 59.9619 507.272 Q54.9649 511.601 46.212 511.601 Q37.4273 511.601 32.4621 507.272 Q27.4968 502.911 27.4968 495.241 Z\" fill=\"#000000\" fill-rule=\"evenodd\" fill-opacity=\"1\" /><path clip-path=\"url(#clip130)\" d=\"M 0 0 M16.4842 468.919 L16.4842 459.338 L48.8219 447.211 L16.4842 435.021 L16.4842 425.441 L64.0042 425.441 L64.0042 431.711 L22.277 431.711 L54.8694 443.965 L54.8694 450.426 L22.277 462.68 L64.0042 462.68 L64.0042 468.919 L16.4842 468.919 Z\" fill=\"#000000\" fill-rule=\"evenodd\" fill-opacity=\"1\" /><circle clip-path=\"url(#clip132)\" cx=\"428.104\" cy=\"86.1857\" r=\"14\" fill=\"#009af9\" fill-rule=\"evenodd\" fill-opacity=\"1\" stroke=\"#000000\" stroke-opacity=\"1\" stroke-width=\"3.2\"/>\n",
       "<circle clip-path=\"url(#clip132)\" cx=\"437.493\" cy=\"891.874\" r=\"14\" fill=\"#009af9\" fill-rule=\"evenodd\" fill-opacity=\"1\" stroke=\"#000000\" stroke-opacity=\"1\" stroke-width=\"3.2\"/>\n",
       "<circle clip-path=\"url(#clip132)\" cx=\"446.881\" cy=\"354.749\" r=\"14\" fill=\"#009af9\" fill-rule=\"evenodd\" fill-opacity=\"1\" stroke=\"#000000\" stroke-opacity=\"1\" stroke-width=\"3.2\"/>\n",
       "<circle clip-path=\"url(#clip132)\" cx=\"456.27\" cy=\"751.198\" r=\"14\" fill=\"#009af9\" fill-rule=\"evenodd\" fill-opacity=\"1\" stroke=\"#000000\" stroke-opacity=\"1\" stroke-width=\"3.2\"/>\n",
       "<circle clip-path=\"url(#clip132)\" cx=\"475.047\" cy=\"527.395\" r=\"14\" fill=\"#009af9\" fill-rule=\"evenodd\" fill-opacity=\"1\" stroke=\"#000000\" stroke-opacity=\"1\" stroke-width=\"3.2\"/>\n",
       "<circle clip-path=\"url(#clip132)\" cx=\"493.824\" cy=\"981.394\" r=\"14\" fill=\"#009af9\" fill-rule=\"evenodd\" fill-opacity=\"1\" stroke=\"#000000\" stroke-opacity=\"1\" stroke-width=\"3.2\"/>\n",
       "<circle clip-path=\"url(#clip132)\" cx=\"2230.7\" cy=\"335.566\" r=\"14\" fill=\"#009af9\" fill-rule=\"evenodd\" fill-opacity=\"1\" stroke=\"#000000\" stroke-opacity=\"1\" stroke-width=\"3.2\"/>\n",
       "<circle clip-path=\"url(#clip132)\" cx=\"1648.62\" cy=\"610.524\" r=\"14\" fill=\"#009af9\" fill-rule=\"evenodd\" fill-opacity=\"1\" stroke=\"#000000\" stroke-opacity=\"1\" stroke-width=\"3.2\"/>\n",
       "<circle clip-path=\"url(#clip132)\" cx=\"578.321\" cy=\"1109.28\" r=\"14\" fill=\"#009af9\" fill-rule=\"evenodd\" fill-opacity=\"1\" stroke=\"#000000\" stroke-opacity=\"1\" stroke-width=\"3.2\"/>\n",
       "<circle clip-path=\"url(#clip132)\" cx=\"550.155\" cy=\"450.664\" r=\"14\" fill=\"#009af9\" fill-rule=\"evenodd\" fill-opacity=\"1\" stroke=\"#000000\" stroke-opacity=\"1\" stroke-width=\"3.2\"/>\n",
       "<circle clip-path=\"url(#clip132)\" cx=\"559.544\" cy=\"789.565\" r=\"14\" fill=\"#009af9\" fill-rule=\"evenodd\" fill-opacity=\"1\" stroke=\"#000000\" stroke-opacity=\"1\" stroke-width=\"3.2\"/>\n",
       "<circle clip-path=\"url(#clip132)\" cx=\"568.932\" cy=\"265.229\" r=\"14\" fill=\"#009af9\" fill-rule=\"evenodd\" fill-opacity=\"1\" stroke=\"#000000\" stroke-opacity=\"1\" stroke-width=\"3.2\"/>\n",
       "<circle clip-path=\"url(#clip132)\" cx=\"512.601\" cy=\"642.494\" r=\"14\" fill=\"#009af9\" fill-rule=\"evenodd\" fill-opacity=\"1\" stroke=\"#000000\" stroke-opacity=\"1\" stroke-width=\"3.2\"/>\n",
       "<circle clip-path=\"url(#clip132)\" cx=\"587.709\" cy=\"150.131\" r=\"14\" fill=\"#009af9\" fill-rule=\"evenodd\" fill-opacity=\"1\" stroke=\"#000000\" stroke-opacity=\"1\" stroke-width=\"3.2\"/>\n",
       "<circle clip-path=\"url(#clip132)\" cx=\"597.098\" cy=\"194.889\" r=\"14\" fill=\"#009af9\" fill-rule=\"evenodd\" fill-opacity=\"1\" stroke=\"#000000\" stroke-opacity=\"1\" stroke-width=\"3.2\"/>\n",
       "<circle clip-path=\"url(#clip132)\" cx=\"644.041\" cy=\"521.001\" r=\"14\" fill=\"#009af9\" fill-rule=\"evenodd\" fill-opacity=\"1\" stroke=\"#000000\" stroke-opacity=\"1\" stroke-width=\"3.2\"/>\n",
       "<circle clip-path=\"url(#clip132)\" cx=\"1385.74\" cy=\"162.92\" r=\"14\" fill=\"#009af9\" fill-rule=\"evenodd\" fill-opacity=\"1\" stroke=\"#000000\" stroke-opacity=\"1\" stroke-width=\"3.2\"/>\n",
       "<circle clip-path=\"url(#clip132)\" cx=\"634.652\" cy=\"1083.7\" r=\"14\" fill=\"#009af9\" fill-rule=\"evenodd\" fill-opacity=\"1\" stroke=\"#000000\" stroke-opacity=\"1\" stroke-width=\"3.2\"/>\n",
       "<circle clip-path=\"url(#clip132)\" cx=\"1395.12\" cy=\"572.157\" r=\"14\" fill=\"#009af9\" fill-rule=\"evenodd\" fill-opacity=\"1\" stroke=\"#000000\" stroke-opacity=\"1\" stroke-width=\"3.2\"/>\n",
       "<circle clip-path=\"url(#clip132)\" cx=\"672.206\" cy=\"680.861\" r=\"14\" fill=\"#009af9\" fill-rule=\"evenodd\" fill-opacity=\"1\" stroke=\"#000000\" stroke-opacity=\"1\" stroke-width=\"3.2\"/>\n",
       "<circle clip-path=\"url(#clip132)\" cx=\"709.76\" cy=\"1032.55\" r=\"14\" fill=\"#009af9\" fill-rule=\"evenodd\" fill-opacity=\"1\" stroke=\"#000000\" stroke-opacity=\"1\" stroke-width=\"3.2\"/>\n",
       "<circle clip-path=\"url(#clip132)\" cx=\"681.595\" cy=\"284.413\" r=\"14\" fill=\"#009af9\" fill-rule=\"evenodd\" fill-opacity=\"1\" stroke=\"#000000\" stroke-opacity=\"1\" stroke-width=\"3.2\"/>\n",
       "<circle clip-path=\"url(#clip132)\" cx=\"719.149\" cy=\"501.82\" r=\"14\" fill=\"#009af9\" fill-rule=\"evenodd\" fill-opacity=\"1\" stroke=\"#000000\" stroke-opacity=\"1\" stroke-width=\"3.2\"/>\n",
       "<circle clip-path=\"url(#clip132)\" cx=\"953.863\" cy=\"405.905\" r=\"14\" fill=\"#009af9\" fill-rule=\"evenodd\" fill-opacity=\"1\" stroke=\"#000000\" stroke-opacity=\"1\" stroke-width=\"3.2\"/>\n",
       "<circle clip-path=\"url(#clip132)\" cx=\"737.926\" cy=\"936.635\" r=\"14\" fill=\"#009af9\" fill-rule=\"evenodd\" fill-opacity=\"1\" stroke=\"#000000\" stroke-opacity=\"1\" stroke-width=\"3.2\"/>\n",
       "<circle clip-path=\"url(#clip132)\" cx=\"747.315\" cy=\"425.086\" r=\"14\" fill=\"#009af9\" fill-rule=\"evenodd\" fill-opacity=\"1\" stroke=\"#000000\" stroke-opacity=\"1\" stroke-width=\"3.2\"/>\n",
       "<circle clip-path=\"url(#clip132)\" cx=\"756.703\" cy=\"316.382\" r=\"14\" fill=\"#009af9\" fill-rule=\"evenodd\" fill-opacity=\"1\" stroke=\"#000000\" stroke-opacity=\"1\" stroke-width=\"3.2\"/>\n",
       "<circle clip-path=\"url(#clip132)\" cx=\"784.869\" cy=\"668.072\" r=\"14\" fill=\"#009af9\" fill-rule=\"evenodd\" fill-opacity=\"1\" stroke=\"#000000\" stroke-opacity=\"1\" stroke-width=\"3.2\"/>\n",
       "<circle clip-path=\"url(#clip132)\" cx=\"1949.05\" cy=\"859.901\" r=\"14\" fill=\"#009af9\" fill-rule=\"evenodd\" fill-opacity=\"1\" stroke=\"#000000\" stroke-opacity=\"1\" stroke-width=\"3.2\"/>\n",
       "<circle clip-path=\"url(#clip132)\" cx=\"803.646\" cy=\"783.17\" r=\"14\" fill=\"#009af9\" fill-rule=\"evenodd\" fill-opacity=\"1\" stroke=\"#000000\" stroke-opacity=\"1\" stroke-width=\"3.2\"/>\n",
       "<circle clip-path=\"url(#clip132)\" cx=\"822.423\" cy=\"169.314\" r=\"14\" fill=\"#009af9\" fill-rule=\"evenodd\" fill-opacity=\"1\" stroke=\"#000000\" stroke-opacity=\"1\" stroke-width=\"3.2\"/>\n",
       "<circle clip-path=\"url(#clip132)\" cx=\"813.034\" cy=\"463.453\" r=\"14\" fill=\"#009af9\" fill-rule=\"evenodd\" fill-opacity=\"1\" stroke=\"#000000\" stroke-opacity=\"1\" stroke-width=\"3.2\"/>\n",
       "<circle clip-path=\"url(#clip132)\" cx=\"841.2\" cy=\"661.677\" r=\"14\" fill=\"#009af9\" fill-rule=\"evenodd\" fill-opacity=\"1\" stroke=\"#000000\" stroke-opacity=\"1\" stroke-width=\"3.2\"/>\n",
       "<circle clip-path=\"url(#clip132)\" cx=\"859.977\" cy=\"188.498\" r=\"14\" fill=\"#009af9\" fill-rule=\"evenodd\" fill-opacity=\"1\" stroke=\"#000000\" stroke-opacity=\"1\" stroke-width=\"3.2\"/>\n",
       "<circle clip-path=\"url(#clip132)\" cx=\"878.754\" cy=\"763.987\" r=\"14\" fill=\"#009af9\" fill-rule=\"evenodd\" fill-opacity=\"1\" stroke=\"#000000\" stroke-opacity=\"1\" stroke-width=\"3.2\"/>\n",
       "<circle clip-path=\"url(#clip132)\" cx=\"1780.05\" cy=\"309.988\" r=\"14\" fill=\"#009af9\" fill-rule=\"evenodd\" fill-opacity=\"1\" stroke=\"#000000\" stroke-opacity=\"1\" stroke-width=\"3.2\"/>\n",
       "<circle clip-path=\"url(#clip132)\" cx=\"916.308\" cy=\"578.551\" r=\"14\" fill=\"#009af9\" fill-rule=\"evenodd\" fill-opacity=\"1\" stroke=\"#000000\" stroke-opacity=\"1\" stroke-width=\"3.2\"/>\n",
       "<circle clip-path=\"url(#clip132)\" cx=\"925.697\" cy=\"201.284\" r=\"14\" fill=\"#009af9\" fill-rule=\"evenodd\" fill-opacity=\"1\" stroke=\"#000000\" stroke-opacity=\"1\" stroke-width=\"3.2\"/>\n",
       "<circle clip-path=\"url(#clip132)\" cx=\"935.086\" cy=\"373.933\" r=\"14\" fill=\"#009af9\" fill-rule=\"evenodd\" fill-opacity=\"1\" stroke=\"#000000\" stroke-opacity=\"1\" stroke-width=\"3.2\"/>\n",
       "<circle clip-path=\"url(#clip132)\" cx=\"944.474\" cy=\"1006.97\" r=\"14\" fill=\"#009af9\" fill-rule=\"evenodd\" fill-opacity=\"1\" stroke=\"#000000\" stroke-opacity=\"1\" stroke-width=\"3.2\"/>\n",
       "<circle clip-path=\"url(#clip132)\" cx=\"728.538\" cy=\"904.663\" r=\"14\" fill=\"#009af9\" fill-rule=\"evenodd\" fill-opacity=\"1\" stroke=\"#000000\" stroke-opacity=\"1\" stroke-width=\"3.2\"/>\n",
       "<circle clip-path=\"url(#clip132)\" cx=\"963.251\" cy=\"770.381\" r=\"14\" fill=\"#009af9\" fill-rule=\"evenodd\" fill-opacity=\"1\" stroke=\"#000000\" stroke-opacity=\"1\" stroke-width=\"3.2\"/>\n",
       "<circle clip-path=\"url(#clip132)\" cx=\"982.028\" cy=\"943.03\" r=\"14\" fill=\"#009af9\" fill-rule=\"evenodd\" fill-opacity=\"1\" stroke=\"#000000\" stroke-opacity=\"1\" stroke-width=\"3.2\"/>\n",
       "<circle clip-path=\"url(#clip132)\" cx=\"991.417\" cy=\"130.947\" r=\"14\" fill=\"#009af9\" fill-rule=\"evenodd\" fill-opacity=\"1\" stroke=\"#000000\" stroke-opacity=\"1\" stroke-width=\"3.2\"/>\n",
       "<circle clip-path=\"url(#clip132)\" cx=\"1010.19\" cy=\"508.215\" r=\"14\" fill=\"#009af9\" fill-rule=\"evenodd\" fill-opacity=\"1\" stroke=\"#000000\" stroke-opacity=\"1\" stroke-width=\"3.2\"/>\n",
       "<circle clip-path=\"url(#clip132)\" cx=\"1019.58\" cy=\"968.605\" r=\"14\" fill=\"#009af9\" fill-rule=\"evenodd\" fill-opacity=\"1\" stroke=\"#000000\" stroke-opacity=\"1\" stroke-width=\"3.2\"/>\n",
       "<circle clip-path=\"url(#clip132)\" cx=\"1028.97\" cy=\"700.044\" r=\"14\" fill=\"#009af9\" fill-rule=\"evenodd\" fill-opacity=\"1\" stroke=\"#000000\" stroke-opacity=\"1\" stroke-width=\"3.2\"/>\n",
       "<circle clip-path=\"url(#clip132)\" cx=\"1038.36\" cy=\"853.507\" r=\"14\" fill=\"#009af9\" fill-rule=\"evenodd\" fill-opacity=\"1\" stroke=\"#000000\" stroke-opacity=\"1\" stroke-width=\"3.2\"/>\n",
       "<circle clip-path=\"url(#clip132)\" cx=\"888.143\" cy=\"1058.13\" r=\"14\" fill=\"#009af9\" fill-rule=\"evenodd\" fill-opacity=\"1\" stroke=\"#000000\" stroke-opacity=\"1\" stroke-width=\"3.2\"/>\n",
       "<circle clip-path=\"url(#clip132)\" cx=\"1057.14\" cy=\"616.918\" r=\"14\" fill=\"#009af9\" fill-rule=\"evenodd\" fill-opacity=\"1\" stroke=\"#000000\" stroke-opacity=\"1\" stroke-width=\"3.2\"/>\n",
       "<circle clip-path=\"url(#clip132)\" cx=\"1066.53\" cy=\"744.803\" r=\"14\" fill=\"#009af9\" fill-rule=\"evenodd\" fill-opacity=\"1\" stroke=\"#000000\" stroke-opacity=\"1\" stroke-width=\"3.2\"/>\n",
       "<circle clip-path=\"url(#clip132)\" cx=\"1085.3\" cy=\"348.355\" r=\"14\" fill=\"#009af9\" fill-rule=\"evenodd\" fill-opacity=\"1\" stroke=\"#000000\" stroke-opacity=\"1\" stroke-width=\"3.2\"/>\n",
       "<circle clip-path=\"url(#clip132)\" cx=\"1864.55\" cy=\"124.553\" r=\"14\" fill=\"#009af9\" fill-rule=\"evenodd\" fill-opacity=\"1\" stroke=\"#000000\" stroke-opacity=\"1\" stroke-width=\"3.2\"/>\n",
       "<circle clip-path=\"url(#clip132)\" cx=\"1113.47\" cy=\"552.973\" r=\"14\" fill=\"#009af9\" fill-rule=\"evenodd\" fill-opacity=\"1\" stroke=\"#000000\" stroke-opacity=\"1\" stroke-width=\"3.2\"/>\n",
       "<circle clip-path=\"url(#clip132)\" cx=\"1141.63\" cy=\"674.466\" r=\"14\" fill=\"#009af9\" fill-rule=\"evenodd\" fill-opacity=\"1\" stroke=\"#000000\" stroke-opacity=\"1\" stroke-width=\"3.2\"/>\n",
       "<circle clip-path=\"url(#clip132)\" cx=\"1798.83\" cy=\"712.833\" r=\"14\" fill=\"#009af9\" fill-rule=\"evenodd\" fill-opacity=\"1\" stroke=\"#000000\" stroke-opacity=\"1\" stroke-width=\"3.2\"/>\n",
       "<circle clip-path=\"url(#clip132)\" cx=\"1573.51\" cy=\"361.144\" r=\"14\" fill=\"#009af9\" fill-rule=\"evenodd\" fill-opacity=\"1\" stroke=\"#000000\" stroke-opacity=\"1\" stroke-width=\"3.2\"/>\n",
       "<circle clip-path=\"url(#clip132)\" cx=\"1789.44\" cy=\"1166.83\" r=\"14\" fill=\"#009af9\" fill-rule=\"evenodd\" fill-opacity=\"1\" stroke=\"#000000\" stroke-opacity=\"1\" stroke-width=\"3.2\"/>\n",
       "<circle clip-path=\"url(#clip132)\" cx=\"1188.58\" cy=\"329.171\" r=\"14\" fill=\"#009af9\" fill-rule=\"evenodd\" fill-opacity=\"1\" stroke=\"#000000\" stroke-opacity=\"1\" stroke-width=\"3.2\"/>\n",
       "<circle clip-path=\"url(#clip132)\" cx=\"1197.96\" cy=\"495.426\" r=\"14\" fill=\"#009af9\" fill-rule=\"evenodd\" fill-opacity=\"1\" stroke=\"#000000\" stroke-opacity=\"1\" stroke-width=\"3.2\"/>\n",
       "<circle clip-path=\"url(#clip132)\" cx=\"1207.35\" cy=\"827.932\" r=\"14\" fill=\"#009af9\" fill-rule=\"evenodd\" fill-opacity=\"1\" stroke=\"#000000\" stroke-opacity=\"1\" stroke-width=\"3.2\"/>\n",
       "<circle clip-path=\"url(#clip132)\" cx=\"1216.74\" cy=\"987.789\" r=\"14\" fill=\"#009af9\" fill-rule=\"evenodd\" fill-opacity=\"1\" stroke=\"#000000\" stroke-opacity=\"1\" stroke-width=\"3.2\"/>\n",
       "<circle clip-path=\"url(#clip132)\" cx=\"1226.13\" cy=\"278.018\" r=\"14\" fill=\"#009af9\" fill-rule=\"evenodd\" fill-opacity=\"1\" stroke=\"#000000\" stroke-opacity=\"1\" stroke-width=\"3.2\"/>\n",
       "<circle clip-path=\"url(#clip132)\" cx=\"1338.79\" cy=\"399.511\" r=\"14\" fill=\"#009af9\" fill-rule=\"evenodd\" fill-opacity=\"1\" stroke=\"#000000\" stroke-opacity=\"1\" stroke-width=\"3.2\"/>\n",
       "<circle clip-path=\"url(#clip132)\" cx=\"1244.91\" cy=\"457.059\" r=\"14\" fill=\"#009af9\" fill-rule=\"evenodd\" fill-opacity=\"1\" stroke=\"#000000\" stroke-opacity=\"1\" stroke-width=\"3.2\"/>\n",
       "<circle clip-path=\"url(#clip132)\" cx=\"1254.3\" cy=\"220.467\" r=\"14\" fill=\"#009af9\" fill-rule=\"evenodd\" fill-opacity=\"1\" stroke=\"#000000\" stroke-opacity=\"1\" stroke-width=\"3.2\"/>\n",
       "<circle clip-path=\"url(#clip132)\" cx=\"1273.07\" cy=\"559.368\" r=\"14\" fill=\"#009af9\" fill-rule=\"evenodd\" fill-opacity=\"1\" stroke=\"#000000\" stroke-opacity=\"1\" stroke-width=\"3.2\"/>\n",
       "<circle clip-path=\"url(#clip132)\" cx=\"1301.24\" cy=\"469.848\" r=\"14\" fill=\"#009af9\" fill-rule=\"evenodd\" fill-opacity=\"1\" stroke=\"#000000\" stroke-opacity=\"1\" stroke-width=\"3.2\"/>\n",
       "<circle clip-path=\"url(#clip132)\" cx=\"1282.46\" cy=\"297.202\" r=\"14\" fill=\"#009af9\" fill-rule=\"evenodd\" fill-opacity=\"1\" stroke=\"#000000\" stroke-opacity=\"1\" stroke-width=\"3.2\"/>\n",
       "<circle clip-path=\"url(#clip132)\" cx=\"1291.85\" cy=\"732.017\" r=\"14\" fill=\"#009af9\" fill-rule=\"evenodd\" fill-opacity=\"1\" stroke=\"#000000\" stroke-opacity=\"1\" stroke-width=\"3.2\"/>\n",
       "<circle clip-path=\"url(#clip132)\" cx=\"1329.4\" cy=\"1115.68\" r=\"14\" fill=\"#009af9\" fill-rule=\"evenodd\" fill-opacity=\"1\" stroke=\"#000000\" stroke-opacity=\"1\" stroke-width=\"3.2\"/>\n",
       "<circle clip-path=\"url(#clip132)\" cx=\"1348.18\" cy=\"246.045\" r=\"14\" fill=\"#009af9\" fill-rule=\"evenodd\" fill-opacity=\"1\" stroke=\"#000000\" stroke-opacity=\"1\" stroke-width=\"3.2\"/>\n",
       "<circle clip-path=\"url(#clip132)\" cx=\"1366.96\" cy=\"597.735\" r=\"14\" fill=\"#009af9\" fill-rule=\"evenodd\" fill-opacity=\"1\" stroke=\"#000000\" stroke-opacity=\"1\" stroke-width=\"3.2\"/>\n",
       "<circle clip-path=\"url(#clip132)\" cx=\"625.264\" cy=\"105.369\" r=\"14\" fill=\"#009af9\" fill-rule=\"evenodd\" fill-opacity=\"1\" stroke=\"#000000\" stroke-opacity=\"1\" stroke-width=\"3.2\"/>\n",
       "<circle clip-path=\"url(#clip132)\" cx=\"662.818\" cy=\"431.481\" r=\"14\" fill=\"#009af9\" fill-rule=\"evenodd\" fill-opacity=\"1\" stroke=\"#000000\" stroke-opacity=\"1\" stroke-width=\"3.2\"/>\n",
       "<circle clip-path=\"url(#clip132)\" cx=\"1357.57\" cy=\"629.705\" r=\"14\" fill=\"#009af9\" fill-rule=\"evenodd\" fill-opacity=\"1\" stroke=\"#000000\" stroke-opacity=\"1\" stroke-width=\"3.2\"/>\n",
       "<circle clip-path=\"url(#clip132)\" cx=\"1320.02\" cy=\"866.296\" r=\"14\" fill=\"#009af9\" fill-rule=\"evenodd\" fill-opacity=\"1\" stroke=\"#000000\" stroke-opacity=\"1\" stroke-width=\"3.2\"/>\n",
       "<circle clip-path=\"url(#clip132)\" cx=\"1423.29\" cy=\"175.709\" r=\"14\" fill=\"#009af9\" fill-rule=\"evenodd\" fill-opacity=\"1\" stroke=\"#000000\" stroke-opacity=\"1\" stroke-width=\"3.2\"/>\n",
       "<circle clip-path=\"url(#clip132)\" cx=\"1413.9\" cy=\"1070.91\" r=\"14\" fill=\"#009af9\" fill-rule=\"evenodd\" fill-opacity=\"1\" stroke=\"#000000\" stroke-opacity=\"1\" stroke-width=\"3.2\"/>\n",
       "<circle clip-path=\"url(#clip132)\" cx=\"1470.23\" cy=\"636.099\" r=\"14\" fill=\"#009af9\" fill-rule=\"evenodd\" fill-opacity=\"1\" stroke=\"#000000\" stroke-opacity=\"1\" stroke-width=\"3.2\"/>\n",
       "<circle clip-path=\"url(#clip132)\" cx=\"1479.62\" cy=\"738.409\" r=\"14\" fill=\"#009af9\" fill-rule=\"evenodd\" fill-opacity=\"1\" stroke=\"#000000\" stroke-opacity=\"1\" stroke-width=\"3.2\"/>\n",
       "<circle clip-path=\"url(#clip132)\" cx=\"775.48\" cy=\"840.721\" r=\"14\" fill=\"#009af9\" fill-rule=\"evenodd\" fill-opacity=\"1\" stroke=\"#000000\" stroke-opacity=\"1\" stroke-width=\"3.2\"/>\n",
       "<circle clip-path=\"url(#clip132)\" cx=\"1535.95\" cy=\"482.637\" r=\"14\" fill=\"#009af9\" fill-rule=\"evenodd\" fill-opacity=\"1\" stroke=\"#000000\" stroke-opacity=\"1\" stroke-width=\"3.2\"/>\n",
       "<circle clip-path=\"url(#clip132)\" cx=\"1554.73\" cy=\"137.342\" r=\"14\" fill=\"#009af9\" fill-rule=\"evenodd\" fill-opacity=\"1\" stroke=\"#000000\" stroke-opacity=\"1\" stroke-width=\"3.2\"/>\n",
       "<circle clip-path=\"url(#clip132)\" cx=\"1517.18\" cy=\"533.79\" r=\"14\" fill=\"#009af9\" fill-rule=\"evenodd\" fill-opacity=\"1\" stroke=\"#000000\" stroke-opacity=\"1\" stroke-width=\"3.2\"/>\n",
       "<circle clip-path=\"url(#clip132)\" cx=\"1582.9\" cy=\"118.158\" r=\"14\" fill=\"#009af9\" fill-rule=\"evenodd\" fill-opacity=\"1\" stroke=\"#000000\" stroke-opacity=\"1\" stroke-width=\"3.2\"/>\n",
       "<circle clip-path=\"url(#clip132)\" cx=\"1075.91\" cy=\"92.5802\" r=\"14\" fill=\"#009af9\" fill-rule=\"evenodd\" fill-opacity=\"1\" stroke=\"#000000\" stroke-opacity=\"1\" stroke-width=\"3.2\"/>\n",
       "<circle clip-path=\"url(#clip132)\" cx=\"1620.45\" cy=\"923.846\" r=\"14\" fill=\"#009af9\" fill-rule=\"evenodd\" fill-opacity=\"1\" stroke=\"#000000\" stroke-opacity=\"1\" stroke-width=\"3.2\"/>\n",
       "<circle clip-path=\"url(#clip132)\" cx=\"1000.81\" cy=\"1147.65\" r=\"14\" fill=\"#009af9\" fill-rule=\"evenodd\" fill-opacity=\"1\" stroke=\"#000000\" stroke-opacity=\"1\" stroke-width=\"3.2\"/>\n",
       "<circle clip-path=\"url(#clip132)\" cx=\"606.486\" cy=\"930.241\" r=\"14\" fill=\"#009af9\" fill-rule=\"evenodd\" fill-opacity=\"1\" stroke=\"#000000\" stroke-opacity=\"1\" stroke-width=\"3.2\"/>\n",
       "<circle clip-path=\"url(#clip132)\" cx=\"521.99\" cy=\"226.862\" r=\"14\" fill=\"#009af9\" fill-rule=\"evenodd\" fill-opacity=\"1\" stroke=\"#000000\" stroke-opacity=\"1\" stroke-width=\"3.2\"/>\n",
       "<circle clip-path=\"url(#clip132)\" cx=\"1629.84\" cy=\"444.27\" r=\"14\" fill=\"#009af9\" fill-rule=\"evenodd\" fill-opacity=\"1\" stroke=\"#000000\" stroke-opacity=\"1\" stroke-width=\"3.2\"/>\n",
       "<circle clip-path=\"url(#clip132)\" cx=\"1160.41\" cy=\"847.112\" r=\"14\" fill=\"#009af9\" fill-rule=\"evenodd\" fill-opacity=\"1\" stroke=\"#000000\" stroke-opacity=\"1\" stroke-width=\"3.2\"/>\n",
       "<circle clip-path=\"url(#clip132)\" cx=\"1658\" cy=\"303.593\" r=\"14\" fill=\"#009af9\" fill-rule=\"evenodd\" fill-opacity=\"1\" stroke=\"#000000\" stroke-opacity=\"1\" stroke-width=\"3.2\"/>\n",
       "<circle clip-path=\"url(#clip132)\" cx=\"1704.95\" cy=\"489.031\" r=\"14\" fill=\"#009af9\" fill-rule=\"evenodd\" fill-opacity=\"1\" stroke=\"#000000\" stroke-opacity=\"1\" stroke-width=\"3.2\"/>\n",
       "<circle clip-path=\"url(#clip132)\" cx=\"1714.33\" cy=\"872.69\" r=\"14\" fill=\"#009af9\" fill-rule=\"evenodd\" fill-opacity=\"1\" stroke=\"#000000\" stroke-opacity=\"1\" stroke-width=\"3.2\"/>\n",
       "<circle clip-path=\"url(#clip132)\" cx=\"1723.72\" cy=\"386.722\" r=\"14\" fill=\"#009af9\" fill-rule=\"evenodd\" fill-opacity=\"1\" stroke=\"#000000\" stroke-opacity=\"1\" stroke-width=\"3.2\"/>\n",
       "<circle clip-path=\"url(#clip132)\" cx=\"1733.11\" cy=\"214.073\" r=\"14\" fill=\"#009af9\" fill-rule=\"evenodd\" fill-opacity=\"1\" stroke=\"#000000\" stroke-opacity=\"1\" stroke-width=\"3.2\"/>\n",
       "<circle clip-path=\"url(#clip132)\" cx=\"700.372\" cy=\"546.579\" r=\"14\" fill=\"#009af9\" fill-rule=\"evenodd\" fill-opacity=\"1\" stroke=\"#000000\" stroke-opacity=\"1\" stroke-width=\"3.2\"/>\n",
       "<circle clip-path=\"url(#clip132)\" cx=\"1169.8\" cy=\"271.624\" r=\"14\" fill=\"#009af9\" fill-rule=\"evenodd\" fill-opacity=\"1\" stroke=\"#000000\" stroke-opacity=\"1\" stroke-width=\"3.2\"/>\n",
       "<circle clip-path=\"url(#clip132)\" cx=\"1770.67\" cy=\"143.736\" r=\"14\" fill=\"#009af9\" fill-rule=\"evenodd\" fill-opacity=\"1\" stroke=\"#000000\" stroke-opacity=\"1\" stroke-width=\"3.2\"/>\n",
       "<circle clip-path=\"url(#clip132)\" cx=\"897.531\" cy=\"725.622\" r=\"14\" fill=\"#009af9\" fill-rule=\"evenodd\" fill-opacity=\"1\" stroke=\"#000000\" stroke-opacity=\"1\" stroke-width=\"3.2\"/>\n",
       "<circle clip-path=\"url(#clip132)\" cx=\"1761.28\" cy=\"808.748\" r=\"14\" fill=\"#009af9\" fill-rule=\"evenodd\" fill-opacity=\"1\" stroke=\"#000000\" stroke-opacity=\"1\" stroke-width=\"3.2\"/>\n",
       "<circle clip-path=\"url(#clip132)\" cx=\"1686.17\" cy=\"412.297\" r=\"14\" fill=\"#009af9\" fill-rule=\"evenodd\" fill-opacity=\"1\" stroke=\"#000000\" stroke-opacity=\"1\" stroke-width=\"3.2\"/>\n",
       "<circle clip-path=\"url(#clip132)\" cx=\"1817.61\" cy=\"98.9747\" r=\"14\" fill=\"#009af9\" fill-rule=\"evenodd\" fill-opacity=\"1\" stroke=\"#000000\" stroke-opacity=\"1\" stroke-width=\"3.2\"/>\n",
       "<circle clip-path=\"url(#clip132)\" cx=\"1845.77\" cy=\"584.946\" r=\"14\" fill=\"#009af9\" fill-rule=\"evenodd\" fill-opacity=\"1\" stroke=\"#000000\" stroke-opacity=\"1\" stroke-width=\"3.2\"/>\n",
       "<circle clip-path=\"url(#clip132)\" cx=\"1836.39\" cy=\"233.256\" r=\"14\" fill=\"#009af9\" fill-rule=\"evenodd\" fill-opacity=\"1\" stroke=\"#000000\" stroke-opacity=\"1\" stroke-width=\"3.2\"/>\n",
       "<circle clip-path=\"url(#clip132)\" cx=\"1104.08\" cy=\"393.116\" r=\"14\" fill=\"#009af9\" fill-rule=\"evenodd\" fill-opacity=\"1\" stroke=\"#000000\" stroke-opacity=\"1\" stroke-width=\"3.2\"/>\n",
       "<circle clip-path=\"url(#clip132)\" cx=\"1883.33\" cy=\"418.692\" r=\"14\" fill=\"#009af9\" fill-rule=\"evenodd\" fill-opacity=\"1\" stroke=\"#000000\" stroke-opacity=\"1\" stroke-width=\"3.2\"/>\n",
       "<circle clip-path=\"url(#clip132)\" cx=\"1939.66\" cy=\"367.538\" r=\"14\" fill=\"#009af9\" fill-rule=\"evenodd\" fill-opacity=\"1\" stroke=\"#000000\" stroke-opacity=\"1\" stroke-width=\"3.2\"/>\n",
       "<circle clip-path=\"url(#clip132)\" cx=\"1930.27\" cy=\"207.678\" r=\"14\" fill=\"#009af9\" fill-rule=\"evenodd\" fill-opacity=\"1\" stroke=\"#000000\" stroke-opacity=\"1\" stroke-width=\"3.2\"/>\n",
       "<circle clip-path=\"url(#clip132)\" cx=\"690.983\" cy=\"885.479\" r=\"14\" fill=\"#009af9\" fill-rule=\"evenodd\" fill-opacity=\"1\" stroke=\"#000000\" stroke-opacity=\"1\" stroke-width=\"3.2\"/>\n",
       "<circle clip-path=\"url(#clip132)\" cx=\"1958.44\" cy=\"258.835\" r=\"14\" fill=\"#009af9\" fill-rule=\"evenodd\" fill-opacity=\"1\" stroke=\"#000000\" stroke-opacity=\"1\" stroke-width=\"3.2\"/>\n",
       "<circle clip-path=\"url(#clip132)\" cx=\"1967.83\" cy=\"437.875\" r=\"14\" fill=\"#009af9\" fill-rule=\"evenodd\" fill-opacity=\"1\" stroke=\"#000000\" stroke-opacity=\"1\" stroke-width=\"3.2\"/>\n",
       "<circle clip-path=\"url(#clip132)\" cx=\"2005.38\" cy=\"341.96\" r=\"14\" fill=\"#009af9\" fill-rule=\"evenodd\" fill-opacity=\"1\" stroke=\"#000000\" stroke-opacity=\"1\" stroke-width=\"3.2\"/>\n",
       "<circle clip-path=\"url(#clip132)\" cx=\"2033.55\" cy=\"604.129\" r=\"14\" fill=\"#009af9\" fill-rule=\"evenodd\" fill-opacity=\"1\" stroke=\"#000000\" stroke-opacity=\"1\" stroke-width=\"3.2\"/>\n",
       "<circle clip-path=\"url(#clip132)\" cx=\"2024.16\" cy=\"252.44\" r=\"14\" fill=\"#009af9\" fill-rule=\"evenodd\" fill-opacity=\"1\" stroke=\"#000000\" stroke-opacity=\"1\" stroke-width=\"3.2\"/>\n",
       "<circle clip-path=\"url(#clip132)\" cx=\"1920.88\" cy=\"239.651\" r=\"14\" fill=\"#009af9\" fill-rule=\"evenodd\" fill-opacity=\"1\" stroke=\"#000000\" stroke-opacity=\"1\" stroke-width=\"3.2\"/>\n",
       "<circle clip-path=\"url(#clip132)\" cx=\"1995.99\" cy=\"757.592\" r=\"14\" fill=\"#009af9\" fill-rule=\"evenodd\" fill-opacity=\"1\" stroke=\"#000000\" stroke-opacity=\"1\" stroke-width=\"3.2\"/>\n",
       "<circle clip-path=\"url(#clip132)\" cx=\"2089.88\" cy=\"156.525\" r=\"14\" fill=\"#009af9\" fill-rule=\"evenodd\" fill-opacity=\"1\" stroke=\"#000000\" stroke-opacity=\"1\" stroke-width=\"3.2\"/>\n",
       "<circle clip-path=\"url(#clip132)\" cx=\"2099.27\" cy=\"111.764\" r=\"14\" fill=\"#009af9\" fill-rule=\"evenodd\" fill-opacity=\"1\" stroke=\"#000000\" stroke-opacity=\"1\" stroke-width=\"3.2\"/>\n",
       "<circle clip-path=\"url(#clip132)\" cx=\"2136.82\" cy=\"380.327\" r=\"14\" fill=\"#009af9\" fill-rule=\"evenodd\" fill-opacity=\"1\" stroke=\"#000000\" stroke-opacity=\"1\" stroke-width=\"3.2\"/>\n",
       "<circle clip-path=\"url(#clip132)\" cx=\"2146.21\" cy=\"182.103\" r=\"14\" fill=\"#009af9\" fill-rule=\"evenodd\" fill-opacity=\"1\" stroke=\"#000000\" stroke-opacity=\"1\" stroke-width=\"3.2\"/>\n",
       "<circle clip-path=\"url(#clip132)\" cx=\"2155.6\" cy=\"1077.31\" r=\"14\" fill=\"#009af9\" fill-rule=\"evenodd\" fill-opacity=\"1\" stroke=\"#000000\" stroke-opacity=\"1\" stroke-width=\"3.2\"/>\n",
       "<circle clip-path=\"url(#clip132)\" cx=\"2164.99\" cy=\"687.255\" r=\"14\" fill=\"#009af9\" fill-rule=\"evenodd\" fill-opacity=\"1\" stroke=\"#000000\" stroke-opacity=\"1\" stroke-width=\"3.2\"/>\n",
       "<circle clip-path=\"url(#clip132)\" cx=\"418.716\" cy=\"1134.86\" r=\"14\" fill=\"#e26f46\" fill-rule=\"evenodd\" fill-opacity=\"1\" stroke=\"#000000\" stroke-opacity=\"1\" stroke-width=\"3.2\"/>\n",
       "<circle clip-path=\"url(#clip132)\" cx=\"465.658\" cy=\"1013.37\" r=\"14\" fill=\"#e26f46\" fill-rule=\"evenodd\" fill-opacity=\"1\" stroke=\"#000000\" stroke-opacity=\"1\" stroke-width=\"3.2\"/>\n",
       "<circle clip-path=\"url(#clip132)\" cx=\"484.435\" cy=\"1249.96\" r=\"14\" fill=\"#e26f46\" fill-rule=\"evenodd\" fill-opacity=\"1\" stroke=\"#000000\" stroke-opacity=\"1\" stroke-width=\"3.2\"/>\n",
       "<circle clip-path=\"url(#clip132)\" cx=\"531.378\" cy=\"994.183\" r=\"14\" fill=\"#e26f46\" fill-rule=\"evenodd\" fill-opacity=\"1\" stroke=\"#000000\" stroke-opacity=\"1\" stroke-width=\"3.2\"/>\n",
       "<circle clip-path=\"url(#clip132)\" cx=\"540.767\" cy=\"1288.32\" r=\"14\" fill=\"#e26f46\" fill-rule=\"evenodd\" fill-opacity=\"1\" stroke=\"#000000\" stroke-opacity=\"1\" stroke-width=\"3.2\"/>\n",
       "<circle clip-path=\"url(#clip132)\" cx=\"615.875\" cy=\"1256.35\" r=\"14\" fill=\"#e26f46\" fill-rule=\"evenodd\" fill-opacity=\"1\" stroke=\"#000000\" stroke-opacity=\"1\" stroke-width=\"3.2\"/>\n",
       "<circle clip-path=\"url(#clip132)\" cx=\"653.429\" cy=\"1339.48\" r=\"14\" fill=\"#e26f46\" fill-rule=\"evenodd\" fill-opacity=\"1\" stroke=\"#000000\" stroke-opacity=\"1\" stroke-width=\"3.2\"/>\n",
       "<circle clip-path=\"url(#clip132)\" cx=\"1611.06\" cy=\"1307.51\" r=\"14\" fill=\"#e26f46\" fill-rule=\"evenodd\" fill-opacity=\"1\" stroke=\"#000000\" stroke-opacity=\"1\" stroke-width=\"3.2\"/>\n",
       "<circle clip-path=\"url(#clip132)\" cx=\"1742.5\" cy=\"719.228\" r=\"14\" fill=\"#e26f46\" fill-rule=\"evenodd\" fill-opacity=\"1\" stroke=\"#000000\" stroke-opacity=\"1\" stroke-width=\"3.2\"/>\n",
       "<circle clip-path=\"url(#clip132)\" cx=\"1498.4\" cy=\"1154.04\" r=\"14\" fill=\"#e26f46\" fill-rule=\"evenodd\" fill-opacity=\"1\" stroke=\"#000000\" stroke-opacity=\"1\" stroke-width=\"3.2\"/>\n",
       "<circle clip-path=\"url(#clip132)\" cx=\"766.092\" cy=\"1205.2\" r=\"14\" fill=\"#e26f46\" fill-rule=\"evenodd\" fill-opacity=\"1\" stroke=\"#000000\" stroke-opacity=\"1\" stroke-width=\"3.2\"/>\n",
       "<circle clip-path=\"url(#clip132)\" cx=\"794.257\" cy=\"1377.84\" r=\"14\" fill=\"#e26f46\" fill-rule=\"evenodd\" fill-opacity=\"1\" stroke=\"#000000\" stroke-opacity=\"1\" stroke-width=\"3.2\"/>\n",
       "<circle clip-path=\"url(#clip132)\" cx=\"831.812\" cy=\"1301.11\" r=\"14\" fill=\"#e26f46\" fill-rule=\"evenodd\" fill-opacity=\"1\" stroke=\"#000000\" stroke-opacity=\"1\" stroke-width=\"3.2\"/>\n",
       "<circle clip-path=\"url(#clip132)\" cx=\"850.589\" cy=\"1320.29\" r=\"14\" fill=\"#e26f46\" fill-rule=\"evenodd\" fill-opacity=\"1\" stroke=\"#000000\" stroke-opacity=\"1\" stroke-width=\"3.2\"/>\n",
       "<circle clip-path=\"url(#clip132)\" cx=\"2296.42\" cy=\"879.085\" r=\"14\" fill=\"#e26f46\" fill-rule=\"evenodd\" fill-opacity=\"1\" stroke=\"#000000\" stroke-opacity=\"1\" stroke-width=\"3.2\"/>\n",
       "<circle clip-path=\"url(#clip132)\" cx=\"1047.75\" cy=\"1230.77\" r=\"14\" fill=\"#e26f46\" fill-rule=\"evenodd\" fill-opacity=\"1\" stroke=\"#000000\" stroke-opacity=\"1\" stroke-width=\"3.2\"/>\n",
       "<circle clip-path=\"url(#clip132)\" cx=\"906.92\" cy=\"1333.08\" r=\"14\" fill=\"#e26f46\" fill-rule=\"evenodd\" fill-opacity=\"1\" stroke=\"#000000\" stroke-opacity=\"1\" stroke-width=\"3.2\"/>\n",
       "<circle clip-path=\"url(#clip132)\" cx=\"1639.23\" cy=\"1090.1\" r=\"14\" fill=\"#e26f46\" fill-rule=\"evenodd\" fill-opacity=\"1\" stroke=\"#000000\" stroke-opacity=\"1\" stroke-width=\"3.2\"/>\n",
       "<circle clip-path=\"url(#clip132)\" cx=\"1808.22\" cy=\"591.34\" r=\"14\" fill=\"#e26f46\" fill-rule=\"evenodd\" fill-opacity=\"1\" stroke=\"#000000\" stroke-opacity=\"1\" stroke-width=\"3.2\"/>\n",
       "<circle clip-path=\"url(#clip132)\" cx=\"1601.67\" cy=\"975\" r=\"14\" fill=\"#e26f46\" fill-rule=\"evenodd\" fill-opacity=\"1\" stroke=\"#000000\" stroke-opacity=\"1\" stroke-width=\"3.2\"/>\n",
       "<circle clip-path=\"url(#clip132)\" cx=\"1986.6\" cy=\"1352.27\" r=\"14\" fill=\"#e26f46\" fill-rule=\"evenodd\" fill-opacity=\"1\" stroke=\"#000000\" stroke-opacity=\"1\" stroke-width=\"3.2\"/>\n",
       "<circle clip-path=\"url(#clip132)\" cx=\"1122.86\" cy=\"1173.23\" r=\"14\" fill=\"#e26f46\" fill-rule=\"evenodd\" fill-opacity=\"1\" stroke=\"#000000\" stroke-opacity=\"1\" stroke-width=\"3.2\"/>\n",
       "<circle clip-path=\"url(#clip132)\" cx=\"2127.43\" cy=\"795.959\" r=\"14\" fill=\"#e26f46\" fill-rule=\"evenodd\" fill-opacity=\"1\" stroke=\"#000000\" stroke-opacity=\"1\" stroke-width=\"3.2\"/>\n",
       "<circle clip-path=\"url(#clip132)\" cx=\"1151.02\" cy=\"1026.16\" r=\"14\" fill=\"#e26f46\" fill-rule=\"evenodd\" fill-opacity=\"1\" stroke=\"#000000\" stroke-opacity=\"1\" stroke-width=\"3.2\"/>\n",
       "<circle clip-path=\"url(#clip132)\" cx=\"1263.68\" cy=\"1281.93\" r=\"14\" fill=\"#e26f46\" fill-rule=\"evenodd\" fill-opacity=\"1\" stroke=\"#000000\" stroke-opacity=\"1\" stroke-width=\"3.2\"/>\n",
       "<circle clip-path=\"url(#clip132)\" cx=\"1310.63\" cy=\"1313.9\" r=\"14\" fill=\"#e26f46\" fill-rule=\"evenodd\" fill-opacity=\"1\" stroke=\"#000000\" stroke-opacity=\"1\" stroke-width=\"3.2\"/>\n",
       "<circle clip-path=\"url(#clip132)\" cx=\"1442.07\" cy=\"776.776\" r=\"14\" fill=\"#e26f46\" fill-rule=\"evenodd\" fill-opacity=\"1\" stroke=\"#000000\" stroke-opacity=\"1\" stroke-width=\"3.2\"/>\n",
       "<circle clip-path=\"url(#clip132)\" cx=\"1526.56\" cy=\"1038.94\" r=\"14\" fill=\"#e26f46\" fill-rule=\"evenodd\" fill-opacity=\"1\" stroke=\"#000000\" stroke-opacity=\"1\" stroke-width=\"3.2\"/>\n",
       "<circle clip-path=\"url(#clip132)\" cx=\"1404.51\" cy=\"1345.87\" r=\"14\" fill=\"#e26f46\" fill-rule=\"evenodd\" fill-opacity=\"1\" stroke=\"#000000\" stroke-opacity=\"1\" stroke-width=\"3.2\"/>\n",
       "<circle clip-path=\"url(#clip132)\" cx=\"1376.35\" cy=\"1160.44\" r=\"14\" fill=\"#e26f46\" fill-rule=\"evenodd\" fill-opacity=\"1\" stroke=\"#000000\" stroke-opacity=\"1\" stroke-width=\"3.2\"/>\n",
       "<circle clip-path=\"url(#clip132)\" cx=\"1094.69\" cy=\"1198.8\" r=\"14\" fill=\"#e26f46\" fill-rule=\"evenodd\" fill-opacity=\"1\" stroke=\"#000000\" stroke-opacity=\"1\" stroke-width=\"3.2\"/>\n",
       "<circle clip-path=\"url(#clip132)\" cx=\"1451.46\" cy=\"1358.66\" r=\"14\" fill=\"#e26f46\" fill-rule=\"evenodd\" fill-opacity=\"1\" stroke=\"#000000\" stroke-opacity=\"1\" stroke-width=\"3.2\"/>\n",
       "<circle clip-path=\"url(#clip132)\" cx=\"1460.84\" cy=\"1224.38\" r=\"14\" fill=\"#e26f46\" fill-rule=\"evenodd\" fill-opacity=\"1\" stroke=\"#000000\" stroke-opacity=\"1\" stroke-width=\"3.2\"/>\n",
       "<circle clip-path=\"url(#clip132)\" cx=\"1179.19\" cy=\"1384.24\" r=\"14\" fill=\"#e26f46\" fill-rule=\"evenodd\" fill-opacity=\"1\" stroke=\"#000000\" stroke-opacity=\"1\" stroke-width=\"3.2\"/>\n",
       "<circle clip-path=\"url(#clip132)\" cx=\"1235.52\" cy=\"955.816\" r=\"14\" fill=\"#e26f46\" fill-rule=\"evenodd\" fill-opacity=\"1\" stroke=\"#000000\" stroke-opacity=\"1\" stroke-width=\"3.2\"/>\n",
       "<circle clip-path=\"url(#clip132)\" cx=\"1489.01\" cy=\"898.268\" r=\"14\" fill=\"#e26f46\" fill-rule=\"evenodd\" fill-opacity=\"1\" stroke=\"#000000\" stroke-opacity=\"1\" stroke-width=\"3.2\"/>\n",
       "<circle clip-path=\"url(#clip132)\" cx=\"1564.12\" cy=\"815.143\" r=\"14\" fill=\"#e26f46\" fill-rule=\"evenodd\" fill-opacity=\"1\" stroke=\"#000000\" stroke-opacity=\"1\" stroke-width=\"3.2\"/>\n",
       "<circle clip-path=\"url(#clip132)\" cx=\"1545.34\" cy=\"1186.01\" r=\"14\" fill=\"#e26f46\" fill-rule=\"evenodd\" fill-opacity=\"1\" stroke=\"#000000\" stroke-opacity=\"1\" stroke-width=\"3.2\"/>\n",
       "<circle clip-path=\"url(#clip132)\" cx=\"1507.79\" cy=\"1128.46\" r=\"14\" fill=\"#e26f46\" fill-rule=\"evenodd\" fill-opacity=\"1\" stroke=\"#000000\" stroke-opacity=\"1\" stroke-width=\"3.2\"/>\n",
       "<circle clip-path=\"url(#clip132)\" cx=\"1592.28\" cy=\"1371.45\" r=\"14\" fill=\"#e26f46\" fill-rule=\"evenodd\" fill-opacity=\"1\" stroke=\"#000000\" stroke-opacity=\"1\" stroke-width=\"3.2\"/>\n",
       "<circle clip-path=\"url(#clip132)\" cx=\"972.64\" cy=\"1211.59\" r=\"14\" fill=\"#e26f46\" fill-rule=\"evenodd\" fill-opacity=\"1\" stroke=\"#000000\" stroke-opacity=\"1\" stroke-width=\"3.2\"/>\n",
       "<circle clip-path=\"url(#clip132)\" cx=\"1676.78\" cy=\"1217.99\" r=\"14\" fill=\"#e26f46\" fill-rule=\"evenodd\" fill-opacity=\"1\" stroke=\"#000000\" stroke-opacity=\"1\" stroke-width=\"3.2\"/>\n",
       "<circle clip-path=\"url(#clip132)\" cx=\"1695.56\" cy=\"1019.76\" r=\"14\" fill=\"#e26f46\" fill-rule=\"evenodd\" fill-opacity=\"1\" stroke=\"#000000\" stroke-opacity=\"1\" stroke-width=\"3.2\"/>\n",
       "<circle clip-path=\"url(#clip132)\" cx=\"1751.89\" cy=\"1262.75\" r=\"14\" fill=\"#e26f46\" fill-rule=\"evenodd\" fill-opacity=\"1\" stroke=\"#000000\" stroke-opacity=\"1\" stroke-width=\"3.2\"/>\n",
       "<circle clip-path=\"url(#clip132)\" cx=\"1667.39\" cy=\"1102.89\" r=\"14\" fill=\"#e26f46\" fill-rule=\"evenodd\" fill-opacity=\"1\" stroke=\"#000000\" stroke-opacity=\"1\" stroke-width=\"3.2\"/>\n",
       "<circle clip-path=\"url(#clip132)\" cx=\"1827\" cy=\"1045.34\" r=\"14\" fill=\"#e26f46\" fill-rule=\"evenodd\" fill-opacity=\"1\" stroke=\"#000000\" stroke-opacity=\"1\" stroke-width=\"3.2\"/>\n",
       "<circle clip-path=\"url(#clip132)\" cx=\"1855.16\" cy=\"962.211\" r=\"14\" fill=\"#e26f46\" fill-rule=\"evenodd\" fill-opacity=\"1\" stroke=\"#000000\" stroke-opacity=\"1\" stroke-width=\"3.2\"/>\n",
       "<circle clip-path=\"url(#clip132)\" cx=\"1873.94\" cy=\"911.057\" r=\"14\" fill=\"#e26f46\" fill-rule=\"evenodd\" fill-opacity=\"1\" stroke=\"#000000\" stroke-opacity=\"1\" stroke-width=\"3.2\"/>\n",
       "<circle clip-path=\"url(#clip132)\" cx=\"1892.72\" cy=\"655.283\" r=\"14\" fill=\"#e26f46\" fill-rule=\"evenodd\" fill-opacity=\"1\" stroke=\"#000000\" stroke-opacity=\"1\" stroke-width=\"3.2\"/>\n",
       "<circle clip-path=\"url(#clip132)\" cx=\"1911.49\" cy=\"1237.17\" r=\"14\" fill=\"#e26f46\" fill-rule=\"evenodd\" fill-opacity=\"1\" stroke=\"#000000\" stroke-opacity=\"1\" stroke-width=\"3.2\"/>\n",
       "<circle clip-path=\"url(#clip132)\" cx=\"2061.71\" cy=\"1051.73\" r=\"14\" fill=\"#e26f46\" fill-rule=\"evenodd\" fill-opacity=\"1\" stroke=\"#000000\" stroke-opacity=\"1\" stroke-width=\"3.2\"/>\n",
       "<circle clip-path=\"url(#clip132)\" cx=\"1902.11\" cy=\"949.424\" r=\"14\" fill=\"#e26f46\" fill-rule=\"evenodd\" fill-opacity=\"1\" stroke=\"#000000\" stroke-opacity=\"1\" stroke-width=\"3.2\"/>\n",
       "<circle clip-path=\"url(#clip132)\" cx=\"1977.21\" cy=\"1141.25\" r=\"14\" fill=\"#e26f46\" fill-rule=\"evenodd\" fill-opacity=\"1\" stroke=\"#000000\" stroke-opacity=\"1\" stroke-width=\"3.2\"/>\n",
       "<circle clip-path=\"url(#clip132)\" cx=\"2071.1\" cy=\"1294.72\" r=\"14\" fill=\"#e26f46\" fill-rule=\"evenodd\" fill-opacity=\"1\" stroke=\"#000000\" stroke-opacity=\"1\" stroke-width=\"3.2\"/>\n",
       "<circle clip-path=\"url(#clip132)\" cx=\"2080.49\" cy=\"834.326\" r=\"14\" fill=\"#e26f46\" fill-rule=\"evenodd\" fill-opacity=\"1\" stroke=\"#000000\" stroke-opacity=\"1\" stroke-width=\"3.2\"/>\n",
       "<circle clip-path=\"url(#clip132)\" cx=\"2014.77\" cy=\"1000.58\" r=\"14\" fill=\"#e26f46\" fill-rule=\"evenodd\" fill-opacity=\"1\" stroke=\"#000000\" stroke-opacity=\"1\" stroke-width=\"3.2\"/>\n",
       "<circle clip-path=\"url(#clip132)\" cx=\"2042.93\" cy=\"623.313\" r=\"14\" fill=\"#e26f46\" fill-rule=\"evenodd\" fill-opacity=\"1\" stroke=\"#000000\" stroke-opacity=\"1\" stroke-width=\"3.2\"/>\n",
       "<circle clip-path=\"url(#clip132)\" cx=\"2108.65\" cy=\"1275.53\" r=\"14\" fill=\"#e26f46\" fill-rule=\"evenodd\" fill-opacity=\"1\" stroke=\"#000000\" stroke-opacity=\"1\" stroke-width=\"3.2\"/>\n",
       "<circle clip-path=\"url(#clip132)\" cx=\"1432.68\" cy=\"1365.06\" r=\"14\" fill=\"#e26f46\" fill-rule=\"evenodd\" fill-opacity=\"1\" stroke=\"#000000\" stroke-opacity=\"1\" stroke-width=\"3.2\"/>\n",
       "<circle clip-path=\"url(#clip132)\" cx=\"2052.32\" cy=\"476.242\" r=\"14\" fill=\"#e26f46\" fill-rule=\"evenodd\" fill-opacity=\"1\" stroke=\"#000000\" stroke-opacity=\"1\" stroke-width=\"3.2\"/>\n",
       "<circle clip-path=\"url(#clip132)\" cx=\"2118.04\" cy=\"1122.07\" r=\"14\" fill=\"#e26f46\" fill-rule=\"evenodd\" fill-opacity=\"1\" stroke=\"#000000\" stroke-opacity=\"1\" stroke-width=\"3.2\"/>\n",
       "<circle clip-path=\"url(#clip132)\" cx=\"1132.25\" cy=\"1326.69\" r=\"14\" fill=\"#e26f46\" fill-rule=\"evenodd\" fill-opacity=\"1\" stroke=\"#000000\" stroke-opacity=\"1\" stroke-width=\"3.2\"/>\n",
       "<circle clip-path=\"url(#clip132)\" cx=\"2174.37\" cy=\"821.537\" r=\"14\" fill=\"#e26f46\" fill-rule=\"evenodd\" fill-opacity=\"1\" stroke=\"#000000\" stroke-opacity=\"1\" stroke-width=\"3.2\"/>\n",
       "<circle clip-path=\"url(#clip132)\" cx=\"2183.76\" cy=\"1243.56\" r=\"14\" fill=\"#e26f46\" fill-rule=\"evenodd\" fill-opacity=\"1\" stroke=\"#000000\" stroke-opacity=\"1\" stroke-width=\"3.2\"/>\n",
       "<circle clip-path=\"url(#clip132)\" cx=\"2193.15\" cy=\"322.777\" r=\"14\" fill=\"#e26f46\" fill-rule=\"evenodd\" fill-opacity=\"1\" stroke=\"#000000\" stroke-opacity=\"1\" stroke-width=\"3.2\"/>\n",
       "<circle clip-path=\"url(#clip132)\" cx=\"2202.54\" cy=\"540.184\" r=\"14\" fill=\"#e26f46\" fill-rule=\"evenodd\" fill-opacity=\"1\" stroke=\"#000000\" stroke-opacity=\"1\" stroke-width=\"3.2\"/>\n",
       "<circle clip-path=\"url(#clip132)\" cx=\"2211.93\" cy=\"1064.52\" r=\"14\" fill=\"#e26f46\" fill-rule=\"evenodd\" fill-opacity=\"1\" stroke=\"#000000\" stroke-opacity=\"1\" stroke-width=\"3.2\"/>\n",
       "<circle clip-path=\"url(#clip132)\" cx=\"2221.32\" cy=\"917.452\" r=\"14\" fill=\"#e26f46\" fill-rule=\"evenodd\" fill-opacity=\"1\" stroke=\"#000000\" stroke-opacity=\"1\" stroke-width=\"3.2\"/>\n",
       "<circle clip-path=\"url(#clip132)\" cx=\"503.212\" cy=\"1269.14\" r=\"14\" fill=\"#e26f46\" fill-rule=\"evenodd\" fill-opacity=\"1\" stroke=\"#000000\" stroke-opacity=\"1\" stroke-width=\"3.2\"/>\n",
       "<circle clip-path=\"url(#clip132)\" cx=\"2240.09\" cy=\"802.354\" r=\"14\" fill=\"#e26f46\" fill-rule=\"evenodd\" fill-opacity=\"1\" stroke=\"#000000\" stroke-opacity=\"1\" stroke-width=\"3.2\"/>\n",
       "<circle clip-path=\"url(#clip132)\" cx=\"2249.48\" cy=\"706.439\" r=\"14\" fill=\"#e26f46\" fill-rule=\"evenodd\" fill-opacity=\"1\" stroke=\"#000000\" stroke-opacity=\"1\" stroke-width=\"3.2\"/>\n",
       "<circle clip-path=\"url(#clip132)\" cx=\"2258.87\" cy=\"1179.62\" r=\"14\" fill=\"#e26f46\" fill-rule=\"evenodd\" fill-opacity=\"1\" stroke=\"#000000\" stroke-opacity=\"1\" stroke-width=\"3.2\"/>\n",
       "<circle clip-path=\"url(#clip132)\" cx=\"2268.26\" cy=\"648.888\" r=\"14\" fill=\"#e26f46\" fill-rule=\"evenodd\" fill-opacity=\"1\" stroke=\"#000000\" stroke-opacity=\"1\" stroke-width=\"3.2\"/>\n",
       "<circle clip-path=\"url(#clip132)\" cx=\"2277.65\" cy=\"1192.41\" r=\"14\" fill=\"#e26f46\" fill-rule=\"evenodd\" fill-opacity=\"1\" stroke=\"#000000\" stroke-opacity=\"1\" stroke-width=\"3.2\"/>\n",
       "<circle clip-path=\"url(#clip132)\" cx=\"2287.04\" cy=\"565.762\" r=\"14\" fill=\"#e26f46\" fill-rule=\"evenodd\" fill-opacity=\"1\" stroke=\"#000000\" stroke-opacity=\"1\" stroke-width=\"3.2\"/>\n",
       "<path clip-path=\"url(#clip132)\" d=\"\n",
       "M2233.52 148.212 L509.784 148.212 L509.784 1322.21 L2233.52 1322.21 L2233.52 148.212  Z\n",
       "  \" fill=\"#3da44d\" fill-rule=\"evenodd\" fill-opacity=\"0.2\"/>\n",
       "<polyline clip-path=\"url(#clip132)\" style=\"stroke:#000000; stroke-width:4; stroke-opacity:0.2; fill:none\" points=\"\n",
       "  2233.52,148.212 509.784,148.212 509.784,1322.21 2233.52,1322.21 2233.52,148.212 \n",
       "  \"/>\n",
       "<path clip-path=\"url(#clip132)\" d=\"\n",
       "M2137.76 213.434 L605.548 213.434 L605.548 1256.99 L2137.76 1256.99 L2137.76 213.434  Z\n",
       "  \" fill=\"#c271d2\" fill-rule=\"evenodd\" fill-opacity=\"0.2\"/>\n",
       "<polyline clip-path=\"url(#clip132)\" style=\"stroke:#000000; stroke-width:4; stroke-opacity:0.2; fill:none\" points=\"\n",
       "  2137.76,213.434 605.548,213.434 605.548,1256.99 2137.76,1256.99 2137.76,213.434 \n",
       "  \"/>\n",
       "<path clip-path=\"url(#clip130)\" d=\"M 0 0 M519.846 7.03787 L544.672 7.03787 L544.672 11.9568 L525.691 11.9568 L525.691 24.6882 L542.82 24.6882 L542.82 29.6072 L525.691 29.6072 L525.691 50.2379 L519.846 50.2379 L519.846 7.03787 Z\" fill=\"#009af9\" fill-rule=\"evenodd\" fill-opacity=\"1\" /><path clip-path=\"url(#clip130)\" d=\"M 0 0 M562.988 33.9475 Q556.536 33.9475 554.047 35.4231 Q551.559 36.8988 551.559 40.4578 Q551.559 43.2935 553.411 44.9717 Q555.291 46.621 558.503 46.621 Q562.93 46.621 565.592 43.496 Q568.283 40.3421 568.283 35.1338 L568.283 33.9475 L562.988 33.9475 M573.607 31.7484 L573.607 50.2379 L568.283 50.2379 L568.283 45.3189 Q566.46 48.2703 563.74 49.6881 Q561.02 51.077 557.085 51.077 Q552.109 51.077 549.157 48.2992 Q546.235 45.4925 546.235 40.8051 Q546.235 35.3363 549.881 32.5586 Q553.555 29.7808 560.818 29.7808 L568.283 29.7808 L568.283 29.26 Q568.283 25.5852 565.853 23.5887 Q563.451 21.5633 559.082 21.5633 Q556.304 21.5633 553.671 22.2288 Q551.038 22.8943 548.607 24.2253 L548.607 19.3063 Q551.53 18.1779 554.279 17.6281 Q557.027 17.0494 559.632 17.0494 Q566.663 17.0494 570.135 20.6952 Q573.607 24.341 573.607 31.7484 Z\" fill=\"#009af9\" fill-rule=\"evenodd\" fill-opacity=\"1\" /><path clip-path=\"url(#clip130)\" d=\"M 0 0 M584.574 17.8306 L589.898 17.8306 L589.898 50.2379 L584.574 50.2379 L584.574 17.8306 M584.574 5.21497 L589.898 5.21497 L589.898 11.9568 L584.574 11.9568 L584.574 5.21497 Z\" fill=\"#009af9\" fill-rule=\"evenodd\" fill-opacity=\"1\" /><path clip-path=\"url(#clip130)\" d=\"M 0 0 M601.038 5.21497 L606.362 5.21497 L606.362 50.2379 L601.038 50.2379 L601.038 5.21497 Z\" fill=\"#009af9\" fill-rule=\"evenodd\" fill-opacity=\"1\" /><path clip-path=\"url(#clip130)\" d=\"M 0 0 M645.221 32.7032 L645.221 35.3074 L620.742 35.3074 Q621.09 40.8051 624.041 43.6986 Q627.021 46.5631 632.316 46.5631 Q635.384 46.5631 638.248 45.8108 Q641.142 45.0585 643.977 43.5539 L643.977 48.5886 Q641.113 49.8038 638.103 50.4404 Q635.094 51.077 631.998 51.077 Q624.244 51.077 619.701 46.5631 Q615.187 42.0493 615.187 34.3525 Q615.187 26.3954 619.469 21.7369 Q623.781 17.0494 631.072 17.0494 Q637.612 17.0494 641.402 21.2739 Q645.221 25.4695 645.221 32.7032 M639.897 31.1408 Q639.84 26.7716 637.438 24.1674 Q635.065 21.5633 631.13 21.5633 Q626.674 21.5633 623.983 24.0806 Q621.321 26.598 620.916 31.1697 L639.897 31.1408 Z\" fill=\"#009af9\" fill-rule=\"evenodd\" fill-opacity=\"1\" /><path clip-path=\"url(#clip130)\" d=\"M 0 0 M675.285 22.7496 L675.285 5.21497 L680.609 5.21497 L680.609 50.2379 L675.285 50.2379 L675.285 45.3768 Q673.607 48.2703 671.031 49.6881 Q668.485 51.077 664.897 51.077 Q659.023 51.077 655.32 46.3895 Q651.645 41.702 651.645 34.0632 Q651.645 26.4243 655.32 21.7369 Q659.023 17.0494 664.897 17.0494 Q668.485 17.0494 671.031 18.4672 Q673.607 19.8561 675.285 22.7496 M657.143 34.0632 Q657.143 39.937 659.544 43.2935 Q661.975 46.621 666.199 46.621 Q670.424 46.621 672.854 43.2935 Q675.285 39.937 675.285 34.0632 Q675.285 28.1894 672.854 24.8619 Q670.424 21.5054 666.199 21.5054 Q661.975 21.5054 659.544 24.8619 Q657.143 28.1894 657.143 34.0632 Z\" fill=\"#009af9\" fill-rule=\"evenodd\" fill-opacity=\"1\" /><path clip-path=\"url(#clip130)\" d=\"M 0 0 M431.718 1367.25 L431.718 1372.95 Q428.39 1371.36 425.439 1370.58 Q422.488 1369.8 419.739 1369.8 Q414.965 1369.8 412.36 1371.65 Q409.785 1373.5 409.785 1376.92 Q409.785 1379.78 411.492 1381.26 Q413.228 1382.7 418.032 1383.6 L421.562 1384.32 Q428.101 1385.57 431.197 1388.72 Q434.322 1391.85 434.322 1397.11 Q434.322 1403.39 430.098 1406.63 Q425.902 1409.87 417.771 1409.87 Q414.704 1409.87 411.232 1409.18 Q407.789 1408.49 404.085 1407.13 L404.085 1401.11 Q407.644 1403.1 411.058 1404.12 Q414.473 1405.13 417.771 1405.13 Q422.777 1405.13 425.497 1403.16 Q428.217 1401.19 428.217 1397.55 Q428.217 1394.37 426.249 1392.57 Q424.311 1390.78 419.855 1389.88 L416.296 1389.19 Q409.756 1387.88 406.834 1385.11 Q403.911 1382.33 403.911 1377.38 Q403.911 1371.65 407.933 1368.35 Q411.984 1365.05 419.073 1365.05 Q422.112 1365.05 425.265 1365.6 Q428.419 1366.15 431.718 1367.25 Z\" fill=\"#e26f46\" fill-rule=\"evenodd\" fill-opacity=\"1\" /><path clip-path=\"url(#clip130)\" d=\"M 0 0 M442.655 1396.25 L442.655 1376.63 L447.979 1376.63 L447.979 1396.04 Q447.979 1400.64 449.773 1402.96 Q451.567 1405.25 455.155 1405.25 Q459.467 1405.25 461.955 1402.5 Q464.472 1399.75 464.472 1395 L464.472 1376.63 L469.796 1376.63 L469.796 1409.04 L464.472 1409.04 L464.472 1404.06 Q462.534 1407.01 459.959 1408.46 Q457.412 1409.87 454.027 1409.87 Q448.442 1409.87 445.549 1406.4 Q442.655 1402.93 442.655 1396.25 M456.052 1375.85 L456.052 1375.85 Z\" fill=\"#e26f46\" fill-rule=\"evenodd\" fill-opacity=\"1\" /><path clip-path=\"url(#clip130)\" d=\"M 0 0 M504.084 1377.87 L504.084 1382.85 Q501.828 1381.61 499.542 1381 Q497.285 1380.36 494.97 1380.36 Q489.791 1380.36 486.926 1383.66 Q484.061 1386.93 484.061 1392.86 Q484.061 1398.79 486.926 1402.09 Q489.791 1405.36 494.97 1405.36 Q497.285 1405.36 499.542 1404.75 Q501.828 1404.12 504.084 1402.87 L504.084 1407.79 Q501.856 1408.83 499.455 1409.35 Q497.082 1409.87 494.391 1409.87 Q487.071 1409.87 482.759 1405.27 Q478.448 1400.67 478.448 1392.86 Q478.448 1384.93 482.788 1380.39 Q487.157 1375.85 494.738 1375.85 Q497.198 1375.85 499.542 1376.37 Q501.885 1376.86 504.084 1377.87 Z\" fill=\"#e26f46\" fill-rule=\"evenodd\" fill-opacity=\"1\" /><path clip-path=\"url(#clip130)\" d=\"M 0 0 M536.665 1377.87 L536.665 1382.85 Q534.408 1381.61 532.123 1381 Q529.866 1380.36 527.551 1380.36 Q522.371 1380.36 519.507 1383.66 Q516.642 1386.93 516.642 1392.86 Q516.642 1398.79 519.507 1402.09 Q522.371 1405.36 527.551 1405.36 Q529.866 1405.36 532.123 1404.75 Q534.408 1404.12 536.665 1402.87 L536.665 1407.79 Q534.437 1408.83 532.036 1409.35 Q529.663 1409.87 526.972 1409.87 Q519.652 1409.87 515.34 1405.27 Q511.029 1400.67 511.029 1392.86 Q511.029 1384.93 515.369 1380.39 Q519.738 1375.85 527.319 1375.85 Q529.779 1375.85 532.123 1376.37 Q534.466 1376.86 536.665 1377.87 Z\" fill=\"#e26f46\" fill-rule=\"evenodd\" fill-opacity=\"1\" /><path clip-path=\"url(#clip130)\" d=\"M 0 0 M573.644 1391.5 L573.644 1394.11 L549.165 1394.11 Q549.512 1399.6 552.464 1402.5 Q555.444 1405.36 560.739 1405.36 Q563.806 1405.36 566.671 1404.61 Q569.564 1403.86 572.4 1402.35 L572.4 1407.39 Q569.536 1408.6 566.526 1409.24 Q563.517 1409.87 560.421 1409.87 Q552.666 1409.87 548.124 1405.36 Q543.61 1400.85 543.61 1393.15 Q543.61 1385.19 547.892 1380.53 Q552.203 1375.85 559.495 1375.85 Q566.034 1375.85 569.825 1380.07 Q573.644 1384.27 573.644 1391.5 M568.32 1389.94 Q568.262 1385.57 565.861 1382.97 Q563.488 1380.36 559.553 1380.36 Q555.097 1380.36 552.406 1382.88 Q549.744 1385.4 549.339 1389.97 L568.32 1389.94 Z\" fill=\"#e26f46\" fill-rule=\"evenodd\" fill-opacity=\"1\" /><path clip-path=\"url(#clip130)\" d=\"M 0 0 M603.042 1377.58 L603.042 1382.62 Q600.785 1381.46 598.355 1380.88 Q595.924 1380.3 593.32 1380.3 Q589.356 1380.3 587.36 1381.52 Q585.392 1382.73 585.392 1385.16 Q585.392 1387.02 586.81 1388.09 Q588.228 1389.13 592.51 1390.08 L594.333 1390.49 Q600.004 1391.7 602.377 1393.93 Q604.778 1396.13 604.778 1400.09 Q604.778 1404.61 601.19 1407.24 Q597.631 1409.87 591.381 1409.87 Q588.777 1409.87 585.942 1409.35 Q583.135 1408.86 580.01 1407.85 L580.01 1402.35 Q582.961 1403.89 585.826 1404.67 Q588.691 1405.42 591.497 1405.42 Q595.259 1405.42 597.284 1404.15 Q599.31 1402.84 599.31 1400.5 Q599.31 1398.33 597.834 1397.17 Q596.387 1396.01 591.439 1394.94 L589.588 1394.51 Q584.64 1393.47 582.441 1391.33 Q580.241 1389.16 580.241 1385.4 Q580.241 1380.82 583.482 1378.34 Q586.723 1375.85 592.684 1375.85 Q595.635 1375.85 598.239 1376.28 Q600.843 1376.72 603.042 1377.58 Z\" fill=\"#e26f46\" fill-rule=\"evenodd\" fill-opacity=\"1\" /><path clip-path=\"url(#clip130)\" d=\"M 0 0 M633.916 1377.58 L633.916 1382.62 Q631.659 1381.46 629.228 1380.88 Q626.798 1380.3 624.194 1380.3 Q620.23 1380.3 618.233 1381.52 Q616.266 1382.73 616.266 1385.16 Q616.266 1387.02 617.683 1388.09 Q619.101 1389.13 623.384 1390.08 L625.207 1390.49 Q630.878 1391.7 633.25 1393.93 Q635.652 1396.13 635.652 1400.09 Q635.652 1404.61 632.064 1407.24 Q628.505 1409.87 622.255 1409.87 Q619.651 1409.87 616.815 1409.35 Q614.009 1408.86 610.884 1407.85 L610.884 1402.35 Q613.835 1403.89 616.7 1404.67 Q619.564 1405.42 622.371 1405.42 Q626.132 1405.42 628.158 1404.15 Q630.183 1402.84 630.183 1400.5 Q630.183 1398.33 628.708 1397.17 Q627.261 1396.01 622.313 1394.94 L620.461 1394.51 Q615.513 1393.47 613.314 1391.33 Q611.115 1389.16 611.115 1385.4 Q611.115 1380.82 614.356 1378.34 Q617.597 1375.85 623.557 1375.85 Q626.509 1375.85 629.113 1376.28 Q631.717 1376.72 633.916 1377.58 Z\" fill=\"#e26f46\" fill-rule=\"evenodd\" fill-opacity=\"1\" /><path clip-path=\"url(#clip130)\" d=\"M 0 0 M660.536 1364.01 L660.536 1368.44 L655.444 1368.44 Q652.579 1368.44 651.451 1369.6 Q650.351 1370.75 650.351 1373.76 L650.351 1376.63 L659.118 1376.63 L659.118 1380.77 L650.351 1380.77 L650.351 1409.04 L644.998 1409.04 L644.998 1380.77 L639.906 1380.77 L639.906 1376.63 L644.998 1376.63 L644.998 1374.37 Q644.998 1368.96 647.515 1366.5 Q650.033 1364.01 655.502 1364.01 L660.536 1364.01 Z\" fill=\"#e26f46\" fill-rule=\"evenodd\" fill-opacity=\"1\" /><path clip-path=\"url(#clip130)\" d=\"M 0 0 M664.442 1396.25 L664.442 1376.63 L669.766 1376.63 L669.766 1396.04 Q669.766 1400.64 671.56 1402.96 Q673.354 1405.25 676.942 1405.25 Q681.254 1405.25 683.742 1402.5 Q686.259 1399.75 686.259 1395 L686.259 1376.63 L691.583 1376.63 L691.583 1409.04 L686.259 1409.04 L686.259 1404.06 Q684.321 1407.01 681.746 1408.46 Q679.199 1409.87 675.814 1409.87 Q670.229 1409.87 667.336 1406.4 Q664.442 1402.93 664.442 1396.25 M677.839 1375.85 L677.839 1375.85 Z\" fill=\"#e26f46\" fill-rule=\"evenodd\" fill-opacity=\"1\" /><path clip-path=\"url(#clip130)\" d=\"M 0 0 M702.55 1364.01 L707.874 1364.01 L707.874 1409.04 L702.55 1409.04 L702.55 1364.01 Z\" fill=\"#e26f46\" fill-rule=\"evenodd\" fill-opacity=\"1\" /><path clip-path=\"url(#clip130)\" d=\"M 0 0 M1246.91 117.281 L1246.91 111.957 Q1249.11 112.998 1251.37 113.548 Q1253.63 114.098 1255.8 114.098 Q1261.58 114.098 1264.62 110.221 Q1267.69 106.314 1268.12 98.3862 Q1266.45 100.875 1263.87 102.206 Q1261.29 103.537 1258.17 103.537 Q1251.69 103.537 1247.9 99.6304 Q1244.14 95.6952 1244.14 88.8955 Q1244.14 82.2404 1248.07 78.2185 Q1252.01 74.1965 1258.55 74.1965 Q1266.04 74.1965 1269.98 79.9546 Q1273.94 85.6837 1273.94 96.6212 Q1273.94 106.835 1269.08 112.941 Q1264.25 119.017 1256.06 119.017 Q1253.86 119.017 1251.6 118.583 Q1249.34 118.149 1246.91 117.281 M1258.55 98.9649 Q1262.48 98.9649 1264.77 96.2739 Q1267.08 93.583 1267.08 88.8955 Q1267.08 84.237 1264.77 81.546 Q1262.48 78.8261 1258.55 78.8261 Q1254.61 78.8261 1252.3 81.546 Q1250.01 84.237 1250.01 88.8955 Q1250.01 93.583 1252.3 96.2739 Q1254.61 98.9649 1258.55 98.9649 Z\" fill=\"#3da44d\" fill-rule=\"evenodd\" fill-opacity=\"1\" /><path clip-path=\"url(#clip130)\" d=\"M 0 0 M1296.94 78.8261 Q1292.43 78.8261 1290.14 83.2821 Q1287.89 87.7092 1287.89 96.6212 Q1287.89 105.504 1290.14 109.96 Q1292.43 114.387 1296.94 114.387 Q1301.49 114.387 1303.74 109.96 Q1306.03 105.504 1306.03 96.6212 Q1306.03 87.7092 1303.74 83.2821 Q1301.49 78.8261 1296.94 78.8261 M1296.94 74.1965 Q1304.21 74.1965 1308.02 79.9546 Q1311.87 85.6837 1311.87 96.6212 Q1311.87 107.53 1308.02 113.288 Q1304.21 119.017 1296.94 119.017 Q1289.68 119.017 1285.83 113.288 Q1282.01 107.53 1282.01 96.6212 Q1282.01 85.6837 1285.83 79.9546 Q1289.68 74.1965 1296.94 74.1965 Z\" fill=\"#3da44d\" fill-rule=\"evenodd\" fill-opacity=\"1\" /><path clip-path=\"url(#clip130)\" d=\"M 0 0 M1358.89 99.1674 Q1356.38 99.1674 1354.93 101.309 Q1353.51 103.45 1353.51 107.269 Q1353.51 111.031 1354.93 113.201 Q1356.38 115.342 1358.89 115.342 Q1361.35 115.342 1362.77 113.201 Q1364.22 111.031 1364.22 107.269 Q1364.22 103.479 1362.77 101.338 Q1361.35 99.1674 1358.89 99.1674 M1358.89 95.4927 Q1363.46 95.4927 1366.16 98.6755 Q1368.85 101.858 1368.85 107.269 Q1368.85 112.68 1366.13 115.863 Q1363.44 119.017 1358.89 119.017 Q1354.26 119.017 1351.57 115.863 Q1348.88 112.68 1348.88 107.269 Q1348.88 101.829 1351.57 98.6755 Q1354.29 95.4927 1358.89 95.4927 M1329.03 77.8713 Q1326.54 77.8713 1325.1 80.0414 Q1323.68 82.1826 1323.68 85.9441 Q1323.68 89.7636 1325.1 91.9047 Q1326.51 94.0459 1329.03 94.0459 Q1331.55 94.0459 1332.97 91.9047 Q1334.41 89.7636 1334.41 85.9441 Q1334.41 82.2115 1332.97 80.0414 Q1331.52 77.8713 1329.03 77.8713 M1355.16 74.1965 L1359.79 74.1965 L1332.76 119.017 L1328.13 119.017 L1355.16 74.1965 M1329.03 74.1965 Q1333.6 74.1965 1336.32 77.3794 Q1339.04 80.5333 1339.04 85.9441 Q1339.04 91.4129 1336.32 94.5668 Q1333.63 97.7207 1329.03 97.7207 Q1324.43 97.7207 1321.74 94.5668 Q1319.08 91.3839 1319.08 85.9441 Q1319.08 80.5622 1321.77 77.3794 Q1324.46 74.1965 1329.03 74.1965 Z\" fill=\"#3da44d\" fill-rule=\"evenodd\" fill-opacity=\"1\" /><path clip-path=\"url(#clip130)\" d=\"M 0 0 M1402.61 97.5471 L1402.61 113.375 L1411.99 113.375 Q1416.7 113.375 1418.96 111.436 Q1421.25 109.468 1421.25 105.446 Q1421.25 101.395 1418.96 99.4857 Q1416.7 97.5471 1411.99 97.5471 L1402.61 97.5471 M1402.61 79.781 L1402.61 92.8017 L1411.26 92.8017 Q1415.55 92.8017 1417.63 91.2103 Q1419.74 89.5899 1419.74 86.2914 Q1419.74 83.0217 1417.63 81.4013 Q1415.55 79.781 1411.26 79.781 L1402.61 79.781 M1396.77 74.9778 L1411.7 74.9778 Q1418.38 74.9778 1422 77.7555 Q1425.62 80.5333 1425.62 85.6548 Q1425.62 89.6189 1423.76 91.9626 Q1421.91 94.3064 1418.33 94.8851 Q1422.64 95.811 1425.01 98.7624 Q1427.41 101.685 1427.41 106.083 Q1427.41 111.87 1423.48 115.024 Q1419.54 118.178 1412.28 118.178 L1396.77 118.178 L1396.77 74.9778 Z\" fill=\"#3da44d\" fill-rule=\"evenodd\" fill-opacity=\"1\" /><path clip-path=\"url(#clip130)\" d=\"M 0 0 M1449.75 89.5031 Q1445.47 89.5031 1442.98 92.8596 Q1440.49 96.1871 1440.49 102.003 Q1440.49 107.819 1442.95 111.175 Q1445.44 114.503 1449.75 114.503 Q1454 114.503 1456.49 111.147 Q1458.98 107.79 1458.98 102.003 Q1458.98 96.245 1456.49 92.8885 Q1454 89.5031 1449.75 89.5031 M1449.75 84.9893 Q1456.69 84.9893 1460.66 89.5031 Q1464.62 94.017 1464.62 102.003 Q1464.62 109.96 1460.66 114.503 Q1456.69 119.017 1449.75 119.017 Q1442.78 119.017 1438.81 114.503 Q1434.88 109.96 1434.88 102.003 Q1434.88 94.017 1438.81 89.5031 Q1442.78 84.9893 1449.75 84.9893 Z\" fill=\"#3da44d\" fill-rule=\"evenodd\" fill-opacity=\"1\" /><path clip-path=\"url(#clip130)\" d=\"M 0 0 M1498.56 85.7705 L1486.84 101.54 L1499.17 118.178 L1492.89 118.178 L1483.46 105.446 L1474.03 118.178 L1467.75 118.178 L1480.33 101.222 L1468.82 85.7705 L1475.1 85.7705 L1483.69 97.3156 L1492.28 85.7705 L1498.56 85.7705 Z\" fill=\"#3da44d\" fill-rule=\"evenodd\" fill-opacity=\"1\" /><path clip-path=\"url(#clip130)\" d=\"M 0 0 M1259.1 355.834 Q1254.93 355.834 1252.53 358.062 Q1250.15 360.29 1250.15 364.197 Q1250.15 368.103 1252.53 370.331 Q1254.93 372.559 1259.1 372.559 Q1263.26 372.559 1265.66 370.331 Q1268.07 368.074 1268.07 364.197 Q1268.07 360.29 1265.66 358.062 Q1263.29 355.834 1259.1 355.834 M1253.25 353.346 Q1249.49 352.42 1247.38 349.845 Q1245.29 347.27 1245.29 343.566 Q1245.29 338.387 1248.97 335.377 Q1252.67 332.368 1259.1 332.368 Q1265.55 332.368 1269.22 335.377 Q1272.9 338.387 1272.9 343.566 Q1272.9 347.27 1270.79 349.845 Q1268.7 352.42 1264.97 353.346 Q1269.19 354.33 1271.54 357.194 Q1273.91 360.059 1273.91 364.197 Q1273.91 370.475 1270.06 373.832 Q1266.24 377.188 1259.1 377.188 Q1251.95 377.188 1248.1 373.832 Q1244.28 370.475 1244.28 364.197 Q1244.28 360.059 1246.65 357.194 Q1249.03 354.33 1253.25 353.346 M1251.11 344.116 Q1251.11 347.472 1253.19 349.353 Q1255.31 351.234 1259.1 351.234 Q1262.86 351.234 1264.97 349.353 Q1267.11 347.472 1267.11 344.116 Q1267.11 340.759 1264.97 338.878 Q1262.86 336.998 1259.1 336.998 Q1255.31 336.998 1253.19 338.878 Q1251.11 340.759 1251.11 344.116 Z\" fill=\"#c271d2\" fill-rule=\"evenodd\" fill-opacity=\"1\" /><path clip-path=\"url(#clip130)\" d=\"M 0 0 M1296.8 336.998 Q1292.28 336.998 1290 341.454 Q1287.74 345.881 1287.74 354.793 Q1287.74 363.676 1290 368.132 Q1292.28 372.559 1296.8 372.559 Q1301.34 372.559 1303.6 368.132 Q1305.88 363.676 1305.88 354.793 Q1305.88 345.881 1303.6 341.454 Q1301.34 336.998 1296.8 336.998 M1296.8 332.368 Q1304.06 332.368 1307.88 338.126 Q1311.73 343.855 1311.73 354.793 Q1311.73 365.701 1307.88 371.459 Q1304.06 377.188 1296.8 377.188 Q1289.54 377.188 1285.69 371.459 Q1281.87 365.701 1281.87 354.793 Q1281.87 343.855 1285.69 338.126 Q1289.54 332.368 1296.8 332.368 Z\" fill=\"#c271d2\" fill-rule=\"evenodd\" fill-opacity=\"1\" /><path clip-path=\"url(#clip130)\" d=\"M 0 0 M1358.75 357.339 Q1356.23 357.339 1354.78 359.48 Q1353.37 361.621 1353.37 365.441 Q1353.37 369.202 1354.78 371.372 Q1356.23 373.514 1358.75 373.514 Q1361.21 373.514 1362.63 371.372 Q1364.07 369.202 1364.07 365.441 Q1364.07 361.65 1362.63 359.509 Q1361.21 357.339 1358.75 357.339 M1358.75 353.664 Q1363.32 353.664 1366.01 356.847 Q1368.7 360.03 1368.7 365.441 Q1368.7 370.852 1365.98 374.035 Q1363.29 377.188 1358.75 377.188 Q1354.12 377.188 1351.43 374.035 Q1348.74 370.852 1348.74 365.441 Q1348.74 360.001 1351.43 356.847 Q1354.15 353.664 1358.75 353.664 M1328.89 336.043 Q1326.4 336.043 1324.95 338.213 Q1323.53 340.354 1323.53 344.116 Q1323.53 347.935 1324.95 350.076 Q1326.37 352.217 1328.89 352.217 Q1331.4 352.217 1332.82 350.076 Q1334.27 347.935 1334.27 344.116 Q1334.27 340.383 1332.82 338.213 Q1331.38 336.043 1328.89 336.043 M1355.02 332.368 L1359.64 332.368 L1332.62 377.188 L1327.99 377.188 L1355.02 332.368 M1328.89 332.368 Q1333.46 332.368 1336.18 335.551 Q1338.9 338.705 1338.9 344.116 Q1338.9 349.584 1336.18 352.738 Q1333.49 355.892 1328.89 355.892 Q1324.29 355.892 1321.6 352.738 Q1318.93 349.555 1318.93 344.116 Q1318.93 338.734 1321.62 335.551 Q1324.32 332.368 1328.89 332.368 Z\" fill=\"#c271d2\" fill-rule=\"evenodd\" fill-opacity=\"1\" /><path clip-path=\"url(#clip130)\" d=\"M 0 0 M1402.47 355.719 L1402.47 371.546 L1411.84 371.546 Q1416.56 371.546 1418.82 369.607 Q1421.1 367.64 1421.1 363.618 Q1421.1 359.567 1418.82 357.657 Q1416.56 355.719 1411.84 355.719 L1402.47 355.719 M1402.47 337.953 L1402.47 350.973 L1411.12 350.973 Q1415.4 350.973 1417.49 349.382 Q1419.6 347.761 1419.6 344.463 Q1419.6 341.193 1417.49 339.573 Q1415.4 337.953 1411.12 337.953 L1402.47 337.953 M1396.62 333.149 L1411.55 333.149 Q1418.24 333.149 1421.86 335.927 Q1425.47 338.705 1425.47 343.826 Q1425.47 347.79 1423.62 350.134 Q1421.77 352.478 1418.18 353.057 Q1422.49 353.983 1424.86 356.934 Q1427.27 359.856 1427.27 364.254 Q1427.27 370.041 1423.33 373.195 Q1419.4 376.349 1412.13 376.349 L1396.62 376.349 L1396.62 333.149 Z\" fill=\"#c271d2\" fill-rule=\"evenodd\" fill-opacity=\"1\" /><path clip-path=\"url(#clip130)\" d=\"M 0 0 M1449.6 347.675 Q1445.32 347.675 1442.83 351.031 Q1440.34 354.359 1440.34 360.175 Q1440.34 365.991 1442.8 369.347 Q1445.29 372.675 1449.6 372.675 Q1453.86 372.675 1456.35 369.318 Q1458.83 365.962 1458.83 360.175 Q1458.83 354.417 1456.35 351.06 Q1453.86 347.675 1449.6 347.675 M1449.6 343.161 Q1456.55 343.161 1460.51 347.675 Q1464.48 352.189 1464.48 360.175 Q1464.48 368.132 1460.51 372.675 Q1456.55 377.188 1449.6 377.188 Q1442.63 377.188 1438.67 372.675 Q1434.73 368.132 1434.73 360.175 Q1434.73 352.189 1438.67 347.675 Q1442.63 343.161 1449.6 343.161 Z\" fill=\"#c271d2\" fill-rule=\"evenodd\" fill-opacity=\"1\" /><path clip-path=\"url(#clip130)\" d=\"M 0 0 M1498.42 343.942 L1486.7 359.712 L1499.02 376.349 L1492.75 376.349 L1483.31 363.618 L1473.88 376.349 L1467.6 376.349 L1480.19 359.393 L1468.67 343.942 L1474.95 343.942 L1483.54 355.487 L1492.14 343.942 L1498.42 343.942 Z\" fill=\"#c271d2\" fill-rule=\"evenodd\" fill-opacity=\"1\" /></svg>\n"
      ]
     },
     "execution_count": 77,
     "metadata": {},
     "output_type": "execute_result"
    }
   ],
   "source": [
    "scatter(A[1, failed], A[2, failed], \n",
    "        xlabel = \"BrFactor\", \n",
    "        ylabel = \"nChromoSi_AWSoM\"\n",
    "        )\n",
    "scatter!(A[1, successful], A[2, successful],  \n",
    "        )\n",
    "annotate!(0.75, 5.2e18, text(\"Failed\", cur_colors[1], :above, 10, :bold))\n",
    "annotate!(0.7, 0.2e18, text(\"Successful\", cur_colors[2], :below, 10, :bold))\n",
    "annotate!(1.62, 4.95e18, text(\"90% Box\", cur_colors[3], :above, 10, :bold))\n",
    "annotate!(1.62, 4.0e18, text(\"80% Box\", cur_colors[4], :below, 10, :bold))\n",
    "plot!(draw2DBoundingBox(0.9, lowerBounds[1:2], upperBounds[1:2]), opacity = 0.2)\n",
    "plot!(draw2DBoundingBox(0.8, lowerBounds[1:2], upperBounds[1:2]), opacity = 0.2)\n",
    "plot!(legend=:false)"
   ]
  },
  {
   "cell_type": "code",
   "execution_count": 101,
   "metadata": {},
   "outputs": [],
   "source": [
    "# Now run the above in a loop for different box scales and plot out the success ratio\n",
    "success_ratios = []\n",
    "numberOfSuccesses = []\n",
    "numberOfSamples = []\n",
    "box_scales = 0.99:-0.01:0.80\n",
    "for scale in box_scales\n",
    "#     boundedSamplesIdx =  findBoundedSamples(A, scale)\n",
    "    boundedSamplesIdx = findBoundedSamplesNC(A, scale)\n",
    "    success_rate = sum(successful[boundedSamplesIdx])\n",
    "    push!(numberOfSuccesses, success_rate)\n",
    "#     push!(success_ratios, 100 * success_rate / sum(successful))\n",
    "    push!(numberOfSamples, length(boundedSamplesIdx))\n",
    "    push!(success_ratios, 100 * success_rate / length(boundedSamplesIdx))\n",
    "end"
   ]
  },
  {
   "cell_type": "code",
   "execution_count": 102,
   "metadata": {},
   "outputs": [
    {
     "data": {
      "text/plain": [
       "70"
      ]
     },
     "execution_count": 102,
     "metadata": {},
     "output_type": "execute_result"
    }
   ],
   "source": [
    "boundedSamples = findBoundedSamples(A, 0.99)\n",
    "sum(successful[boundedSamples])\n",
    "# length(boundedSamples)"
   ]
  },
  {
   "cell_type": "code",
   "execution_count": 103,
   "metadata": {},
   "outputs": [
    {
     "data": {
      "text/plain": [
       "0.3723404255319149"
      ]
     },
     "execution_count": 103,
     "metadata": {},
     "output_type": "execute_result"
    }
   ],
   "source": [
    "70 / 188"
   ]
  },
  {
   "cell_type": "code",
   "execution_count": 104,
   "metadata": {},
   "outputs": [
    {
     "data": {
      "image/svg+xml": [
       "<?xml version=\"1.0\" encoding=\"utf-8\"?>\n",
       "<svg xmlns=\"http://www.w3.org/2000/svg\" xmlns:xlink=\"http://www.w3.org/1999/xlink\" width=\"600\" height=\"400\" viewBox=\"0 0 2400 1600\">\n",
       "<defs>\n",
       "  <clipPath id=\"clip370\">\n",
       "    <rect x=\"0\" y=\"0\" width=\"2400\" height=\"1600\"/>\n",
       "  </clipPath>\n",
       "</defs>\n",
       "<path clip-path=\"url(#clip370)\" d=\"\n",
       "M0 1600 L2400 1600 L2400 0 L0 0  Z\n",
       "  \" fill=\"#ffffff\" fill-rule=\"evenodd\" fill-opacity=\"1\"/>\n",
       "<defs>\n",
       "  <clipPath id=\"clip371\">\n",
       "    <rect x=\"480\" y=\"0\" width=\"1681\" height=\"1600\"/>\n",
       "  </clipPath>\n",
       "</defs>\n",
       "<path clip-path=\"url(#clip370)\" d=\"\n",
       "M204.126 1423.18 L2352.76 1423.18 L2352.76 47.2441 L204.126 47.2441  Z\n",
       "  \" fill=\"#ffffff\" fill-rule=\"evenodd\" fill-opacity=\"1\"/>\n",
       "<defs>\n",
       "  <clipPath id=\"clip372\">\n",
       "    <rect x=\"204\" y=\"47\" width=\"2150\" height=\"1377\"/>\n",
       "  </clipPath>\n",
       "</defs>\n",
       "<polyline clip-path=\"url(#clip372)\" style=\"stroke:#000000; stroke-width:2; stroke-opacity:0.1; fill:none\" points=\"\n",
       "  264.936,1423.18 264.936,47.2441 \n",
       "  \"/>\n",
       "<polyline clip-path=\"url(#clip372)\" style=\"stroke:#000000; stroke-width:2; stroke-opacity:0.1; fill:none\" points=\"\n",
       "  798.36,1423.18 798.36,47.2441 \n",
       "  \"/>\n",
       "<polyline clip-path=\"url(#clip372)\" style=\"stroke:#000000; stroke-width:2; stroke-opacity:0.1; fill:none\" points=\"\n",
       "  1331.78,1423.18 1331.78,47.2441 \n",
       "  \"/>\n",
       "<polyline clip-path=\"url(#clip372)\" style=\"stroke:#000000; stroke-width:2; stroke-opacity:0.1; fill:none\" points=\"\n",
       "  1865.21,1423.18 1865.21,47.2441 \n",
       "  \"/>\n",
       "<polyline clip-path=\"url(#clip370)\" style=\"stroke:#000000; stroke-width:4; stroke-opacity:1; fill:none\" points=\"\n",
       "  204.126,1423.18 2352.76,1423.18 \n",
       "  \"/>\n",
       "<polyline clip-path=\"url(#clip370)\" style=\"stroke:#000000; stroke-width:4; stroke-opacity:1; fill:none\" points=\"\n",
       "  264.936,1423.18 264.936,1406.67 \n",
       "  \"/>\n",
       "<polyline clip-path=\"url(#clip370)\" style=\"stroke:#000000; stroke-width:4; stroke-opacity:1; fill:none\" points=\"\n",
       "  798.36,1423.18 798.36,1406.67 \n",
       "  \"/>\n",
       "<polyline clip-path=\"url(#clip370)\" style=\"stroke:#000000; stroke-width:4; stroke-opacity:1; fill:none\" points=\"\n",
       "  1331.78,1423.18 1331.78,1406.67 \n",
       "  \"/>\n",
       "<polyline clip-path=\"url(#clip370)\" style=\"stroke:#000000; stroke-width:4; stroke-opacity:1; fill:none\" points=\"\n",
       "  1865.21,1423.18 1865.21,1406.67 \n",
       "  \"/>\n",
       "<path clip-path=\"url(#clip370)\" d=\"M 0 0 M249.809 1467.44 Q246.475 1467.44 244.554 1469.22 Q242.656 1471 242.656 1474.13 Q242.656 1477.25 244.554 1479.04 Q246.475 1480.82 249.809 1480.82 Q253.142 1480.82 255.063 1479.04 Q256.985 1477.23 256.985 1474.13 Q256.985 1471 255.063 1469.22 Q253.165 1467.44 249.809 1467.44 M245.133 1465.45 Q242.124 1464.71 240.434 1462.65 Q238.767 1460.59 238.767 1457.63 Q238.767 1453.48 241.707 1451.07 Q244.67 1448.67 249.809 1448.67 Q254.971 1448.67 257.91 1451.07 Q260.85 1453.48 260.85 1457.63 Q260.85 1460.59 259.16 1462.65 Q257.494 1464.71 254.508 1465.45 Q257.887 1466.24 259.762 1468.53 Q261.66 1470.82 261.66 1474.13 Q261.66 1479.15 258.582 1481.84 Q255.526 1484.52 249.809 1484.52 Q244.091 1484.52 241.012 1481.84 Q237.957 1479.15 237.957 1474.13 Q237.957 1470.82 239.855 1468.53 Q241.753 1466.24 245.133 1465.45 M243.42 1458.06 Q243.42 1460.75 245.086 1462.25 Q246.776 1463.76 249.809 1463.76 Q252.818 1463.76 254.508 1462.25 Q256.221 1460.75 256.221 1458.06 Q256.221 1455.38 254.508 1453.88 Q252.818 1452.37 249.809 1452.37 Q246.776 1452.37 245.086 1453.88 Q243.42 1455.38 243.42 1458.06 Z\" fill=\"#000000\" fill-rule=\"evenodd\" fill-opacity=\"1\" /><path clip-path=\"url(#clip370)\" d=\"M 0 0 M279.971 1452.37 Q276.359 1452.37 274.531 1455.94 Q272.725 1459.48 272.725 1466.61 Q272.725 1473.71 274.531 1477.28 Q276.359 1480.82 279.971 1480.82 Q283.605 1480.82 285.41 1477.28 Q287.239 1473.71 287.239 1466.61 Q287.239 1459.48 285.41 1455.94 Q283.605 1452.37 279.971 1452.37 M279.971 1448.67 Q285.781 1448.67 288.836 1453.27 Q291.915 1457.86 291.915 1466.61 Q291.915 1475.33 288.836 1479.94 Q285.781 1484.52 279.971 1484.52 Q274.16 1484.52 271.082 1479.94 Q268.026 1475.33 268.026 1466.61 Q268.026 1457.86 271.082 1453.27 Q274.16 1448.67 279.971 1448.67 Z\" fill=\"#000000\" fill-rule=\"evenodd\" fill-opacity=\"1\" /><path clip-path=\"url(#clip370)\" d=\"M 0 0 M783.73 1467.44 Q780.397 1467.44 778.475 1469.22 Q776.577 1471 776.577 1474.13 Q776.577 1477.25 778.475 1479.04 Q780.397 1480.82 783.73 1480.82 Q787.063 1480.82 788.985 1479.04 Q790.906 1477.23 790.906 1474.13 Q790.906 1471 788.985 1469.22 Q787.086 1467.44 783.73 1467.44 M779.054 1465.45 Q776.045 1464.71 774.355 1462.65 Q772.688 1460.59 772.688 1457.63 Q772.688 1453.48 775.628 1451.07 Q778.591 1448.67 783.73 1448.67 Q788.892 1448.67 791.832 1451.07 Q794.772 1453.48 794.772 1457.63 Q794.772 1460.59 793.082 1462.65 Q791.415 1464.71 788.429 1465.45 Q791.809 1466.24 793.684 1468.53 Q795.582 1470.82 795.582 1474.13 Q795.582 1479.15 792.503 1481.84 Q789.448 1484.52 783.73 1484.52 Q778.012 1484.52 774.934 1481.84 Q771.878 1479.15 771.878 1474.13 Q771.878 1470.82 773.776 1468.53 Q775.674 1466.24 779.054 1465.45 M777.341 1458.06 Q777.341 1460.75 779.008 1462.25 Q780.698 1463.76 783.73 1463.76 Q786.739 1463.76 788.429 1462.25 Q790.142 1460.75 790.142 1458.06 Q790.142 1455.38 788.429 1453.88 Q786.739 1452.37 783.73 1452.37 Q780.698 1452.37 779.008 1453.88 Q777.341 1455.38 777.341 1458.06 Z\" fill=\"#000000\" fill-rule=\"evenodd\" fill-opacity=\"1\" /><path clip-path=\"url(#clip370)\" d=\"M 0 0 M803.938 1449.29 L822.295 1449.29 L822.295 1453.23 L808.221 1453.23 L808.221 1461.7 Q809.239 1461.35 810.258 1461.19 Q811.276 1461 812.295 1461 Q818.082 1461 821.461 1464.18 Q824.841 1467.35 824.841 1472.76 Q824.841 1478.34 821.369 1481.44 Q817.896 1484.52 811.577 1484.52 Q809.401 1484.52 807.133 1484.15 Q804.887 1483.78 802.48 1483.04 L802.48 1478.34 Q804.563 1479.48 806.785 1480.03 Q809.008 1480.59 811.484 1480.59 Q815.489 1480.59 817.827 1478.48 Q820.165 1476.38 820.165 1472.76 Q820.165 1469.15 817.827 1467.05 Q815.489 1464.94 811.484 1464.94 Q809.609 1464.94 807.734 1465.36 Q805.883 1465.77 803.938 1466.65 L803.938 1449.29 Z\" fill=\"#000000\" fill-rule=\"evenodd\" fill-opacity=\"1\" /><path clip-path=\"url(#clip370)\" d=\"M 0 0 M1306.91 1483.13 L1306.91 1478.88 Q1308.67 1479.71 1310.48 1480.15 Q1312.28 1480.59 1314.02 1480.59 Q1318.65 1480.59 1321.08 1477.49 Q1323.53 1474.36 1323.88 1468.02 Q1322.54 1470.01 1320.48 1471.07 Q1318.42 1472.14 1315.92 1472.14 Q1310.73 1472.14 1307.7 1469.01 Q1304.69 1465.87 1304.69 1460.43 Q1304.69 1455.1 1307.84 1451.88 Q1310.98 1448.67 1316.22 1448.67 Q1322.21 1448.67 1325.36 1453.27 Q1328.53 1457.86 1328.53 1466.61 Q1328.53 1474.78 1324.64 1479.66 Q1320.78 1484.52 1314.23 1484.52 Q1312.47 1484.52 1310.66 1484.18 Q1308.86 1483.83 1306.91 1483.13 M1316.22 1468.48 Q1319.36 1468.48 1321.19 1466.33 Q1323.04 1464.18 1323.04 1460.43 Q1323.04 1456.7 1321.19 1454.55 Q1319.36 1452.37 1316.22 1452.37 Q1313.07 1452.37 1311.22 1454.55 Q1309.39 1456.7 1309.39 1460.43 Q1309.39 1464.18 1311.22 1466.33 Q1313.07 1468.48 1316.22 1468.48 Z\" fill=\"#000000\" fill-rule=\"evenodd\" fill-opacity=\"1\" /><path clip-path=\"url(#clip370)\" d=\"M 0 0 M1346.93 1452.37 Q1343.32 1452.37 1341.49 1455.94 Q1339.69 1459.48 1339.69 1466.61 Q1339.69 1473.71 1341.49 1477.28 Q1343.32 1480.82 1346.93 1480.82 Q1350.57 1480.82 1352.37 1477.28 Q1354.2 1473.71 1354.2 1466.61 Q1354.2 1459.48 1352.37 1455.94 Q1350.57 1452.37 1346.93 1452.37 M1346.93 1448.67 Q1352.74 1448.67 1355.8 1453.27 Q1358.88 1457.86 1358.88 1466.61 Q1358.88 1475.33 1355.8 1479.94 Q1352.74 1484.52 1346.93 1484.52 Q1341.12 1484.52 1338.04 1479.94 Q1334.99 1475.33 1334.99 1466.61 Q1334.99 1457.86 1338.04 1453.27 Q1341.12 1448.67 1346.93 1448.67 Z\" fill=\"#000000\" fill-rule=\"evenodd\" fill-opacity=\"1\" /><path clip-path=\"url(#clip370)\" d=\"M 0 0 M1840.83 1483.13 L1840.83 1478.88 Q1842.59 1479.71 1844.4 1480.15 Q1846.2 1480.59 1847.94 1480.59 Q1852.57 1480.59 1855 1477.49 Q1857.45 1474.36 1857.8 1468.02 Q1856.46 1470.01 1854.4 1471.07 Q1852.34 1472.14 1849.84 1472.14 Q1844.65 1472.14 1841.62 1469.01 Q1838.61 1465.87 1838.61 1460.43 Q1838.61 1455.1 1841.76 1451.88 Q1844.91 1448.67 1850.14 1448.67 Q1856.13 1448.67 1859.28 1453.27 Q1862.45 1457.86 1862.45 1466.61 Q1862.45 1474.78 1858.56 1479.66 Q1854.7 1484.52 1848.15 1484.52 Q1846.39 1484.52 1844.58 1484.18 Q1842.78 1483.83 1840.83 1483.13 M1850.14 1468.48 Q1853.29 1468.48 1855.11 1466.33 Q1856.97 1464.18 1856.97 1460.43 Q1856.97 1456.7 1855.11 1454.55 Q1853.29 1452.37 1850.14 1452.37 Q1846.99 1452.37 1845.14 1454.55 Q1843.31 1456.7 1843.31 1460.43 Q1843.31 1464.18 1845.14 1466.33 Q1846.99 1468.48 1850.14 1468.48 Z\" fill=\"#000000\" fill-rule=\"evenodd\" fill-opacity=\"1\" /><path clip-path=\"url(#clip370)\" d=\"M 0 0 M1870.9 1449.29 L1889.26 1449.29 L1889.26 1453.23 L1875.18 1453.23 L1875.18 1461.7 Q1876.2 1461.35 1877.22 1461.19 Q1878.24 1461 1879.26 1461 Q1885.04 1461 1888.42 1464.18 Q1891.8 1467.35 1891.8 1472.76 Q1891.8 1478.34 1888.33 1481.44 Q1884.86 1484.52 1878.54 1484.52 Q1876.36 1484.52 1874.1 1484.15 Q1871.85 1483.78 1869.44 1483.04 L1869.44 1478.34 Q1871.53 1479.48 1873.75 1480.03 Q1875.97 1480.59 1878.45 1480.59 Q1882.45 1480.59 1884.79 1478.48 Q1887.13 1476.38 1887.13 1472.76 Q1887.13 1469.15 1884.79 1467.05 Q1882.45 1464.94 1878.45 1464.94 Q1876.57 1464.94 1874.7 1465.36 Q1872.85 1465.77 1870.9 1466.65 L1870.9 1449.29 Z\" fill=\"#000000\" fill-rule=\"evenodd\" fill-opacity=\"1\" /><path clip-path=\"url(#clip370)\" d=\"M 0 0 M950.114 1522.08 L950.114 1528.35 Q946.453 1526.6 943.207 1525.74 Q939.96 1524.88 936.937 1524.88 Q931.685 1524.88 928.82 1526.92 Q925.987 1528.96 925.987 1532.71 Q925.987 1535.87 927.865 1537.49 Q929.775 1539.08 935.059 1540.07 L938.942 1540.86 Q946.135 1542.23 949.541 1545.7 Q952.978 1549.14 952.978 1554.93 Q952.978 1561.84 948.331 1565.4 Q943.716 1568.97 934.772 1568.97 Q931.398 1568.97 927.579 1568.2 Q923.791 1567.44 919.717 1565.94 L919.717 1559.32 Q923.632 1561.52 927.388 1562.63 Q931.144 1563.75 934.772 1563.75 Q940.279 1563.75 943.27 1561.58 Q946.262 1559.42 946.262 1555.41 Q946.262 1551.91 944.098 1549.93 Q941.965 1547.96 937.064 1546.97 L933.149 1546.21 Q925.956 1544.78 922.741 1541.72 Q919.526 1538.67 919.526 1533.22 Q919.526 1526.92 923.95 1523.29 Q928.406 1519.66 936.204 1519.66 Q939.546 1519.66 943.016 1520.27 Q946.485 1520.87 950.114 1522.08 Z\" fill=\"#000000\" fill-rule=\"evenodd\" fill-opacity=\"1\" /><path clip-path=\"url(#clip370)\" d=\"M 0 0 M988.403 1533.76 L988.403 1539.24 Q985.921 1537.87 983.406 1537.2 Q980.924 1536.5 978.377 1536.5 Q972.68 1536.5 969.529 1540.13 Q966.378 1543.73 966.378 1550.25 Q966.378 1556.78 969.529 1560.4 Q972.68 1564 978.377 1564 Q980.924 1564 983.406 1563.33 Q985.921 1562.63 988.403 1561.26 L988.403 1566.68 Q985.952 1567.82 983.311 1568.39 Q980.701 1568.97 977.741 1568.97 Q969.688 1568.97 964.946 1563.91 Q960.203 1558.85 960.203 1550.25 Q960.203 1541.53 964.977 1536.53 Q969.784 1531.54 978.123 1531.54 Q980.828 1531.54 983.406 1532.11 Q985.984 1532.65 988.403 1533.76 Z\" fill=\"#000000\" fill-rule=\"evenodd\" fill-opacity=\"1\" /><path clip-path=\"url(#clip370)\" d=\"M 0 0 M1014.79 1550.12 Q1007.69 1550.12 1004.95 1551.75 Q1002.22 1553.37 1002.22 1557.29 Q1002.22 1560.4 1004.25 1562.25 Q1006.32 1564.07 1009.86 1564.07 Q1014.73 1564.07 1017.65 1560.63 Q1020.61 1557.16 1020.61 1551.43 L1020.61 1550.12 L1014.79 1550.12 M1026.47 1547.71 L1026.47 1568.04 L1020.61 1568.04 L1020.61 1562.63 Q1018.61 1565.88 1015.62 1567.44 Q1012.62 1568.97 1008.3 1568.97 Q1002.82 1568.97 999.575 1565.91 Q996.36 1562.82 996.36 1557.67 Q996.36 1551.65 1000.37 1548.6 Q1004.41 1545.54 1012.4 1545.54 L1020.61 1545.54 L1020.61 1544.97 Q1020.61 1540.93 1017.94 1538.73 Q1015.3 1536.5 1010.49 1536.5 Q1007.44 1536.5 1004.54 1537.23 Q1001.64 1537.97 998.97 1539.43 L998.97 1534.02 Q1002.19 1532.78 1005.21 1532.17 Q1008.23 1531.54 1011.1 1531.54 Q1018.83 1531.54 1022.65 1535.55 Q1026.47 1539.56 1026.47 1547.71 Z\" fill=\"#000000\" fill-rule=\"evenodd\" fill-opacity=\"1\" /><path clip-path=\"url(#clip370)\" d=\"M 0 0 M1038.53 1518.52 L1044.39 1518.52 L1044.39 1568.04 L1038.53 1568.04 L1038.53 1518.52 Z\" fill=\"#000000\" fill-rule=\"evenodd\" fill-opacity=\"1\" /><path clip-path=\"url(#clip370)\" d=\"M 0 0 M1087.14 1548.76 L1087.14 1551.62 L1060.21 1551.62 Q1060.59 1557.67 1063.84 1560.85 Q1067.12 1564 1072.94 1564 Q1076.31 1564 1079.46 1563.17 Q1082.65 1562.35 1085.77 1560.69 L1085.77 1566.23 Q1082.62 1567.57 1079.31 1568.27 Q1076 1568.97 1072.59 1568.97 Q1064.06 1568.97 1059.06 1564 Q1054.1 1559.04 1054.1 1550.57 Q1054.1 1541.82 1058.81 1536.69 Q1063.55 1531.54 1071.57 1531.54 Q1078.76 1531.54 1082.93 1536.18 Q1087.14 1540.8 1087.14 1548.76 M1081.28 1547.04 Q1081.22 1542.23 1078.57 1539.37 Q1075.96 1536.5 1071.63 1536.5 Q1066.73 1536.5 1063.77 1539.27 Q1060.84 1542.04 1060.4 1547.07 L1081.28 1547.04 Z\" fill=\"#000000\" fill-rule=\"evenodd\" fill-opacity=\"1\" /><path clip-path=\"url(#clip370)\" d=\"M 0 0 M1131.28 1536.5 Q1126.57 1536.5 1123.83 1540.19 Q1121.1 1543.85 1121.1 1550.25 Q1121.1 1556.65 1123.8 1560.34 Q1126.54 1564 1131.28 1564 Q1135.96 1564 1138.7 1560.31 Q1141.43 1556.62 1141.43 1550.25 Q1141.43 1543.92 1138.7 1540.23 Q1135.96 1536.5 1131.28 1536.5 M1131.28 1531.54 Q1138.92 1531.54 1143.28 1536.5 Q1147.64 1541.47 1147.64 1550.25 Q1147.64 1559 1143.28 1564 Q1138.92 1568.97 1131.28 1568.97 Q1123.61 1568.97 1119.25 1564 Q1114.92 1559 1114.92 1550.25 Q1114.92 1541.47 1119.25 1536.5 Q1123.61 1531.54 1131.28 1531.54 Z\" fill=\"#000000\" fill-rule=\"evenodd\" fill-opacity=\"1\" /><path clip-path=\"url(#clip370)\" d=\"M 0 0 M1175.4 1518.52 L1175.4 1523.39 L1169.79 1523.39 Q1166.64 1523.39 1165.4 1524.66 Q1164.19 1525.93 1164.19 1529.24 L1164.19 1532.4 L1173.84 1532.4 L1173.84 1536.95 L1164.19 1536.95 L1164.19 1568.04 L1158.3 1568.04 L1158.3 1536.95 L1152.7 1536.95 L1152.7 1532.4 L1158.3 1532.4 L1158.3 1529.91 Q1158.3 1523.96 1161.07 1521.26 Q1163.84 1518.52 1169.86 1518.52 L1175.4 1518.52 Z\" fill=\"#000000\" fill-rule=\"evenodd\" fill-opacity=\"1\" /><path clip-path=\"url(#clip370)\" d=\"M 0 0 M1226.61 1550.25 Q1226.61 1543.79 1223.93 1540.13 Q1221.29 1536.44 1216.65 1536.44 Q1212 1536.44 1209.33 1540.13 Q1206.68 1543.79 1206.68 1550.25 Q1206.68 1556.71 1209.33 1560.4 Q1212 1564.07 1216.65 1564.07 Q1221.29 1564.07 1223.93 1560.4 Q1226.61 1556.71 1226.61 1550.25 M1206.68 1537.81 Q1208.53 1534.62 1211.33 1533.1 Q1214.16 1531.54 1218.08 1531.54 Q1224.57 1531.54 1228.61 1536.69 Q1232.69 1541.85 1232.69 1550.25 Q1232.69 1558.65 1228.61 1563.81 Q1224.57 1568.97 1218.08 1568.97 Q1214.16 1568.97 1211.33 1567.44 Q1208.53 1565.88 1206.68 1562.7 L1206.68 1568.04 L1200.8 1568.04 L1200.8 1518.52 L1206.68 1518.52 L1206.68 1537.81 Z\" fill=\"#000000\" fill-rule=\"evenodd\" fill-opacity=\"1\" /><path clip-path=\"url(#clip370)\" d=\"M 0 0 M1256.21 1536.5 Q1251.5 1536.5 1248.76 1540.19 Q1246.02 1543.85 1246.02 1550.25 Q1246.02 1556.65 1248.73 1560.34 Q1251.47 1564 1256.21 1564 Q1260.89 1564 1263.62 1560.31 Q1266.36 1556.62 1266.36 1550.25 Q1266.36 1543.92 1263.62 1540.23 Q1260.89 1536.5 1256.21 1536.5 M1256.21 1531.54 Q1263.85 1531.54 1268.21 1536.5 Q1272.57 1541.47 1272.57 1550.25 Q1272.57 1559 1268.21 1564 Q1263.85 1568.97 1256.21 1568.97 Q1248.54 1568.97 1244.18 1564 Q1239.85 1559 1239.85 1550.25 Q1239.85 1541.47 1244.18 1536.5 Q1248.54 1531.54 1256.21 1531.54 Z\" fill=\"#000000\" fill-rule=\"evenodd\" fill-opacity=\"1\" /><path clip-path=\"url(#clip370)\" d=\"M 0 0 M1281.67 1553.98 L1281.67 1532.4 L1287.53 1532.4 L1287.53 1553.75 Q1287.53 1558.81 1289.5 1561.36 Q1291.47 1563.87 1295.42 1563.87 Q1300.16 1563.87 1302.9 1560.85 Q1305.67 1557.83 1305.67 1552.61 L1305.67 1532.4 L1311.53 1532.4 L1311.53 1568.04 L1305.67 1568.04 L1305.67 1562.57 Q1303.54 1565.82 1300.7 1567.41 Q1297.9 1568.97 1294.18 1568.97 Q1288.04 1568.97 1284.85 1565.15 Q1281.67 1561.33 1281.67 1553.98 M1296.41 1531.54 L1296.41 1531.54 Z\" fill=\"#000000\" fill-rule=\"evenodd\" fill-opacity=\"1\" /><path clip-path=\"url(#clip370)\" d=\"M 0 0 M1353.22 1546.53 L1353.22 1568.04 L1347.37 1568.04 L1347.37 1546.72 Q1347.37 1541.66 1345.39 1539.14 Q1343.42 1536.63 1339.47 1536.63 Q1334.73 1536.63 1331.99 1539.65 Q1329.26 1542.68 1329.26 1547.9 L1329.26 1568.04 L1323.37 1568.04 L1323.37 1532.4 L1329.26 1532.4 L1329.26 1537.93 Q1331.36 1534.72 1334.19 1533.13 Q1337.05 1531.54 1340.78 1531.54 Q1346.92 1531.54 1350.07 1535.36 Q1353.22 1539.14 1353.22 1546.53 Z\" fill=\"#000000\" fill-rule=\"evenodd\" fill-opacity=\"1\" /><path clip-path=\"url(#clip370)\" d=\"M 0 0 M1388.36 1537.81 L1388.36 1518.52 L1394.22 1518.52 L1394.22 1568.04 L1388.36 1568.04 L1388.36 1562.7 Q1386.51 1565.88 1383.68 1567.44 Q1380.88 1568.97 1376.93 1568.97 Q1370.47 1568.97 1366.4 1563.81 Q1362.36 1558.65 1362.36 1550.25 Q1362.36 1541.85 1366.4 1536.69 Q1370.47 1531.54 1376.93 1531.54 Q1380.88 1531.54 1383.68 1533.1 Q1386.51 1534.62 1388.36 1537.81 M1368.4 1550.25 Q1368.4 1556.71 1371.05 1560.4 Q1373.72 1564.07 1378.37 1564.07 Q1383.01 1564.07 1385.69 1560.4 Q1388.36 1556.71 1388.36 1550.25 Q1388.36 1543.79 1385.69 1540.13 Q1383.01 1536.44 1378.37 1536.44 Q1373.72 1536.44 1371.05 1540.13 Q1368.4 1543.79 1368.4 1550.25 Z\" fill=\"#000000\" fill-rule=\"evenodd\" fill-opacity=\"1\" /><path clip-path=\"url(#clip370)\" d=\"M 0 0 M1406.28 1532.4 L1412.14 1532.4 L1412.14 1568.04 L1406.28 1568.04 L1406.28 1532.4 M1406.28 1518.52 L1412.14 1518.52 L1412.14 1525.93 L1406.28 1525.93 L1406.28 1518.52 Z\" fill=\"#000000\" fill-rule=\"evenodd\" fill-opacity=\"1\" /><path clip-path=\"url(#clip370)\" d=\"M 0 0 M1454.02 1546.53 L1454.02 1568.04 L1448.17 1568.04 L1448.17 1546.72 Q1448.17 1541.66 1446.19 1539.14 Q1444.22 1536.63 1440.27 1536.63 Q1435.53 1536.63 1432.79 1539.65 Q1430.06 1542.68 1430.06 1547.9 L1430.06 1568.04 L1424.17 1568.04 L1424.17 1532.4 L1430.06 1532.4 L1430.06 1537.93 Q1432.16 1534.72 1434.99 1533.13 Q1437.85 1531.54 1441.58 1531.54 Q1447.72 1531.54 1450.87 1535.36 Q1454.02 1539.14 1454.02 1546.53 Z\" fill=\"#000000\" fill-rule=\"evenodd\" fill-opacity=\"1\" /><path clip-path=\"url(#clip370)\" d=\"M 0 0 M1489.16 1549.81 Q1489.16 1543.44 1486.52 1539.94 Q1483.91 1536.44 1479.17 1536.44 Q1474.46 1536.44 1471.82 1539.94 Q1469.21 1543.44 1469.21 1549.81 Q1469.21 1556.14 1471.82 1559.64 Q1474.46 1563.14 1479.17 1563.14 Q1483.91 1563.14 1486.52 1559.64 Q1489.16 1556.14 1489.16 1549.81 M1495.02 1563.62 Q1495.02 1572.72 1490.98 1577.15 Q1486.93 1581.6 1478.59 1581.6 Q1475.51 1581.6 1472.77 1581.13 Q1470.03 1580.68 1467.45 1579.72 L1467.45 1574.03 Q1470.03 1575.43 1472.55 1576.1 Q1475.06 1576.76 1477.67 1576.76 Q1483.43 1576.76 1486.3 1573.74 Q1489.16 1570.75 1489.16 1564.67 L1489.16 1561.77 Q1487.35 1564.92 1484.51 1566.48 Q1481.68 1568.04 1477.74 1568.04 Q1471.18 1568.04 1467.17 1563.05 Q1463.16 1558.05 1463.16 1549.81 Q1463.16 1541.53 1467.17 1536.53 Q1471.18 1531.54 1477.74 1531.54 Q1481.68 1531.54 1484.51 1533.1 Q1487.35 1534.66 1489.16 1537.81 L1489.16 1532.4 L1495.02 1532.4 L1495.02 1563.62 Z\" fill=\"#000000\" fill-rule=\"evenodd\" fill-opacity=\"1\" /><path clip-path=\"url(#clip370)\" d=\"M 0 0 M1553.39 1550.25 Q1553.39 1543.79 1550.72 1540.13 Q1548.08 1536.44 1543.43 1536.44 Q1538.78 1536.44 1536.11 1540.13 Q1533.47 1543.79 1533.47 1550.25 Q1533.47 1556.71 1536.11 1560.4 Q1538.78 1564.07 1543.43 1564.07 Q1548.08 1564.07 1550.72 1560.4 Q1553.39 1556.71 1553.39 1550.25 M1533.47 1537.81 Q1535.31 1534.62 1538.11 1533.1 Q1540.95 1531.54 1544.86 1531.54 Q1551.35 1531.54 1555.4 1536.69 Q1559.47 1541.85 1559.47 1550.25 Q1559.47 1558.65 1555.4 1563.81 Q1551.35 1568.97 1544.86 1568.97 Q1540.95 1568.97 1538.11 1567.44 Q1535.31 1565.88 1533.47 1562.7 L1533.47 1568.04 L1527.58 1568.04 L1527.58 1518.52 L1533.47 1518.52 L1533.47 1537.81 Z\" fill=\"#000000\" fill-rule=\"evenodd\" fill-opacity=\"1\" /><path clip-path=\"url(#clip370)\" d=\"M 0 0 M1582.99 1536.5 Q1578.28 1536.5 1575.54 1540.19 Q1572.81 1543.85 1572.81 1550.25 Q1572.81 1556.65 1575.51 1560.34 Q1578.25 1564 1582.99 1564 Q1587.67 1564 1590.41 1560.31 Q1593.15 1556.62 1593.15 1550.25 Q1593.15 1543.92 1590.41 1540.23 Q1587.67 1536.5 1582.99 1536.5 M1582.99 1531.54 Q1590.63 1531.54 1594.99 1536.5 Q1599.35 1541.47 1599.35 1550.25 Q1599.35 1559 1594.99 1564 Q1590.63 1568.97 1582.99 1568.97 Q1575.32 1568.97 1570.96 1564 Q1566.63 1559 1566.63 1550.25 Q1566.63 1541.47 1570.96 1536.5 Q1575.32 1531.54 1582.99 1531.54 Z\" fill=\"#000000\" fill-rule=\"evenodd\" fill-opacity=\"1\" /><path clip-path=\"url(#clip370)\" d=\"M 0 0 M1636.69 1532.4 L1623.8 1549.74 L1637.36 1568.04 L1630.45 1568.04 L1620.07 1554.04 L1609.7 1568.04 L1602.79 1568.04 L1616.63 1549.39 L1603.97 1532.4 L1610.87 1532.4 L1620.33 1545.1 L1629.78 1532.4 L1636.69 1532.4 Z\" fill=\"#000000\" fill-rule=\"evenodd\" fill-opacity=\"1\" /><polyline clip-path=\"url(#clip372)\" style=\"stroke:#000000; stroke-width:2; stroke-opacity:0.1; fill:none\" points=\"\n",
       "  204.126,1299.05 2352.76,1299.05 \n",
       "  \"/>\n",
       "<polyline clip-path=\"url(#clip372)\" style=\"stroke:#000000; stroke-width:2; stroke-opacity:0.1; fill:none\" points=\"\n",
       "  204.126,929.92 2352.76,929.92 \n",
       "  \"/>\n",
       "<polyline clip-path=\"url(#clip372)\" style=\"stroke:#000000; stroke-width:2; stroke-opacity:0.1; fill:none\" points=\"\n",
       "  204.126,560.786 2352.76,560.786 \n",
       "  \"/>\n",
       "<polyline clip-path=\"url(#clip372)\" style=\"stroke:#000000; stroke-width:2; stroke-opacity:0.1; fill:none\" points=\"\n",
       "  204.126,191.652 2352.76,191.652 \n",
       "  \"/>\n",
       "<polyline clip-path=\"url(#clip370)\" style=\"stroke:#000000; stroke-width:4; stroke-opacity:1; fill:none\" points=\"\n",
       "  204.126,1423.18 204.126,47.2441 \n",
       "  \"/>\n",
       "<polyline clip-path=\"url(#clip370)\" style=\"stroke:#000000; stroke-width:4; stroke-opacity:1; fill:none\" points=\"\n",
       "  204.126,1299.05 229.909,1299.05 \n",
       "  \"/>\n",
       "<polyline clip-path=\"url(#clip370)\" style=\"stroke:#000000; stroke-width:4; stroke-opacity:1; fill:none\" points=\"\n",
       "  204.126,929.92 229.909,929.92 \n",
       "  \"/>\n",
       "<polyline clip-path=\"url(#clip370)\" style=\"stroke:#000000; stroke-width:4; stroke-opacity:1; fill:none\" points=\"\n",
       "  204.126,560.786 229.909,560.786 \n",
       "  \"/>\n",
       "<polyline clip-path=\"url(#clip370)\" style=\"stroke:#000000; stroke-width:4; stroke-opacity:1; fill:none\" points=\"\n",
       "  204.126,191.652 229.909,191.652 \n",
       "  \"/>\n",
       "<path clip-path=\"url(#clip370)\" d=\"M 0 0 M117.061 1281.77 L135.417 1281.77 L135.417 1285.71 L121.343 1285.71 L121.343 1294.18 Q122.362 1293.83 123.38 1293.67 Q124.399 1293.49 125.418 1293.49 Q131.205 1293.49 134.584 1296.66 Q137.964 1299.83 137.964 1305.25 Q137.964 1310.82 134.492 1313.93 Q131.019 1317 124.7 1317 Q122.524 1317 120.255 1316.63 Q118.01 1316.26 115.603 1315.52 L115.603 1310.82 Q117.686 1311.96 119.908 1312.51 Q122.13 1313.07 124.607 1313.07 Q128.612 1313.07 130.95 1310.96 Q133.288 1308.86 133.288 1305.25 Q133.288 1301.63 130.95 1299.53 Q128.612 1297.42 124.607 1297.42 Q122.732 1297.42 120.857 1297.84 Q119.006 1298.25 117.061 1299.13 L117.061 1281.77 Z\" fill=\"#000000\" fill-rule=\"evenodd\" fill-opacity=\"1\" /><path clip-path=\"url(#clip370)\" d=\"M 0 0 M147.223 1281.77 L165.579 1281.77 L165.579 1285.71 L151.505 1285.71 L151.505 1294.18 Q152.524 1293.83 153.542 1293.67 Q154.561 1293.49 155.579 1293.49 Q161.366 1293.49 164.746 1296.66 Q168.126 1299.83 168.126 1305.25 Q168.126 1310.82 164.653 1313.93 Q161.181 1317 154.862 1317 Q152.686 1317 150.417 1316.63 Q148.172 1316.26 145.765 1315.52 L145.765 1310.82 Q147.848 1311.96 150.07 1312.51 Q152.292 1313.07 154.769 1313.07 Q158.774 1313.07 161.112 1310.96 Q163.45 1308.86 163.45 1305.25 Q163.45 1301.63 161.112 1299.53 Q158.774 1297.42 154.769 1297.42 Q152.894 1297.42 151.019 1297.84 Q149.167 1298.25 147.223 1299.13 L147.223 1281.77 Z\" fill=\"#000000\" fill-rule=\"evenodd\" fill-opacity=\"1\" /><path clip-path=\"url(#clip370)\" d=\"M 0 0 M126.598 928.056 Q123.45 928.056 121.598 930.209 Q119.769 932.362 119.769 936.112 Q119.769 939.839 121.598 942.015 Q123.45 944.167 126.598 944.167 Q129.746 944.167 131.575 942.015 Q133.427 939.839 133.427 936.112 Q133.427 932.362 131.575 930.209 Q129.746 928.056 126.598 928.056 M135.88 913.404 L135.88 917.663 Q134.121 916.83 132.316 916.39 Q130.533 915.95 128.774 915.95 Q124.144 915.95 121.691 919.075 Q119.26 922.2 118.913 928.519 Q120.279 926.506 122.339 925.441 Q124.399 924.353 126.876 924.353 Q132.084 924.353 135.093 927.524 Q138.126 930.672 138.126 936.112 Q138.126 941.436 134.978 944.654 Q131.83 947.871 126.598 947.871 Q120.603 947.871 117.431 943.288 Q114.26 938.681 114.26 929.955 Q114.26 921.76 118.149 916.899 Q122.038 912.015 128.589 912.015 Q130.348 912.015 132.13 912.362 Q133.936 912.709 135.88 913.404 Z\" fill=\"#000000\" fill-rule=\"evenodd\" fill-opacity=\"1\" /><path clip-path=\"url(#clip370)\" d=\"M 0 0 M156.181 915.719 Q152.57 915.719 150.741 919.283 Q148.936 922.825 148.936 929.955 Q148.936 937.061 150.741 940.626 Q152.57 944.167 156.181 944.167 Q159.815 944.167 161.621 940.626 Q163.45 937.061 163.45 929.955 Q163.45 922.825 161.621 919.283 Q159.815 915.719 156.181 915.719 M156.181 912.015 Q161.991 912.015 165.047 916.621 Q168.126 921.205 168.126 929.955 Q168.126 938.681 165.047 943.288 Q161.991 947.871 156.181 947.871 Q150.371 947.871 147.292 943.288 Q144.237 938.681 144.237 929.955 Q144.237 921.205 147.292 916.621 Q150.371 912.015 156.181 912.015 Z\" fill=\"#000000\" fill-rule=\"evenodd\" fill-opacity=\"1\" /><path clip-path=\"url(#clip370)\" d=\"M 0 0 M127.593 558.923 Q124.445 558.923 122.593 561.076 Q120.765 563.228 120.765 566.978 Q120.765 570.705 122.593 572.881 Q124.445 575.034 127.593 575.034 Q130.742 575.034 132.57 572.881 Q134.422 570.705 134.422 566.978 Q134.422 563.228 132.57 561.076 Q130.742 558.923 127.593 558.923 M136.876 544.27 L136.876 548.529 Q135.117 547.696 133.311 547.256 Q131.529 546.816 129.769 546.816 Q125.14 546.816 122.686 549.941 Q120.255 553.066 119.908 559.386 Q121.274 557.372 123.334 556.307 Q125.394 555.219 127.871 555.219 Q133.08 555.219 136.089 558.39 Q139.121 561.538 139.121 566.978 Q139.121 572.302 135.973 575.52 Q132.825 578.737 127.593 578.737 Q121.598 578.737 118.427 574.154 Q115.256 569.548 115.256 560.821 Q115.256 552.626 119.144 547.765 Q123.033 542.881 129.584 542.881 Q131.343 542.881 133.126 543.228 Q134.931 543.576 136.876 544.27 Z\" fill=\"#000000\" fill-rule=\"evenodd\" fill-opacity=\"1\" /><path clip-path=\"url(#clip370)\" d=\"M 0 0 M147.223 543.506 L165.579 543.506 L165.579 547.441 L151.505 547.441 L151.505 555.913 Q152.524 555.566 153.542 555.404 Q154.561 555.219 155.579 555.219 Q161.366 555.219 164.746 558.39 Q168.126 561.562 168.126 566.978 Q168.126 572.557 164.653 575.659 Q161.181 578.737 154.862 578.737 Q152.686 578.737 150.417 578.367 Q148.172 577.997 145.765 577.256 L145.765 572.557 Q147.848 573.691 150.07 574.247 Q152.292 574.802 154.769 574.802 Q158.774 574.802 161.112 572.696 Q163.45 570.589 163.45 566.978 Q163.45 563.367 161.112 561.261 Q158.774 559.154 154.769 559.154 Q152.894 559.154 151.019 559.571 Q149.167 559.988 147.223 560.867 L147.223 543.506 Z\" fill=\"#000000\" fill-rule=\"evenodd\" fill-opacity=\"1\" /><path clip-path=\"url(#clip370)\" d=\"M 0 0 M114.839 174.372 L137.061 174.372 L137.061 176.363 L124.515 208.932 L119.63 208.932 L131.436 178.308 L114.839 178.308 L114.839 174.372 Z\" fill=\"#000000\" fill-rule=\"evenodd\" fill-opacity=\"1\" /><path clip-path=\"url(#clip370)\" d=\"M 0 0 M156.181 177.451 Q152.57 177.451 150.741 181.016 Q148.936 184.558 148.936 191.687 Q148.936 198.794 150.741 202.358 Q152.57 205.9 156.181 205.9 Q159.815 205.9 161.621 202.358 Q163.45 198.794 163.45 191.687 Q163.45 184.558 161.621 181.016 Q159.815 177.451 156.181 177.451 M156.181 173.747 Q161.991 173.747 165.047 178.354 Q168.126 182.937 168.126 191.687 Q168.126 200.414 165.047 205.02 Q161.991 209.604 156.181 209.604 Q150.371 209.604 147.292 205.02 Q144.237 200.414 144.237 191.687 Q144.237 182.937 147.292 178.354 Q150.371 173.747 156.181 173.747 Z\" fill=\"#000000\" fill-rule=\"evenodd\" fill-opacity=\"1\" /><path clip-path=\"url(#clip370)\" d=\"M 0 0 M43.0928 933.265 Q43.0928 936.034 45.4481 937.626 Q47.8034 939.185 52.0048 939.185 Q56.1425 939.185 58.5296 937.626 Q60.885 936.034 60.885 933.265 Q60.885 930.56 58.5296 929 Q56.1425 927.409 52.0048 927.409 Q47.8353 927.409 45.48 929 Q43.0928 930.56 43.0928 933.265 M39.0506 933.265 Q39.0506 928.236 42.5517 925.276 Q46.0529 922.316 52.0048 922.316 Q57.9567 922.316 61.4579 925.308 Q64.9272 928.268 64.9272 933.265 Q64.9272 938.358 61.4579 941.318 Q57.9567 944.278 52.0048 944.278 Q46.021 944.278 42.5517 941.318 Q39.0506 938.326 39.0506 933.265 M19.667 966.112 Q19.667 968.849 22.0542 970.441 Q24.4095 972 28.5472 972 Q32.7485 972 35.1038 970.441 Q37.4592 968.881 37.4592 966.112 Q37.4592 963.343 35.1038 961.783 Q32.7485 960.192 28.5472 960.192 Q24.4413 960.192 22.0542 961.783 Q19.667 963.375 19.667 966.112 M15.6248 937.371 L15.6248 932.278 L64.9272 962.006 L64.9272 967.099 L15.6248 937.371 M15.6248 966.112 Q15.6248 961.083 19.1259 958.091 Q22.5952 955.099 28.5472 955.099 Q34.5628 955.099 38.0321 958.091 Q41.5014 961.051 41.5014 966.112 Q41.5014 971.173 38.0321 974.133 Q34.5309 977.061 28.5472 977.061 Q22.6271 977.061 19.1259 974.101 Q15.6248 971.141 15.6248 966.112 Z\" fill=\"#000000\" fill-rule=\"evenodd\" fill-opacity=\"1\" /><path clip-path=\"url(#clip370)\" d=\"M 0 0 M29.4065 869.131 L34.9447 869.131 Q33.6716 871.613 33.035 874.287 Q32.3984 876.96 32.3984 879.825 Q32.3984 884.185 33.7352 886.382 Q35.072 888.546 37.7456 888.546 Q39.7826 888.546 40.9603 886.986 Q42.1061 885.427 43.1565 880.716 L43.6021 878.711 Q44.9389 872.473 47.3897 869.863 Q49.8086 867.221 54.1691 867.221 Q59.1344 867.221 62.0308 871.168 Q64.9272 875.082 64.9272 881.957 Q64.9272 884.822 64.3543 887.941 Q63.8132 891.029 62.6992 894.466 L56.6518 894.466 Q58.3387 891.22 59.198 888.068 Q60.0256 884.917 60.0256 881.83 Q60.0256 877.692 58.6251 875.464 Q57.1929 873.236 54.6147 873.236 Q52.2276 873.236 50.9545 874.86 Q49.6813 876.451 48.5037 881.894 L48.0262 883.931 Q46.8804 889.373 44.5251 891.792 Q42.138 894.211 38.0002 894.211 Q32.9713 894.211 30.2341 890.647 Q27.4968 887.082 27.4968 880.525 Q27.4968 877.279 27.9743 874.414 Q28.4517 871.549 29.4065 869.131 Z\" fill=\"#000000\" fill-rule=\"evenodd\" fill-opacity=\"1\" /><path clip-path=\"url(#clip370)\" d=\"M 0 0 M49.9359 858.5 L28.3562 858.5 L28.3562 852.643 L49.7131 852.643 Q54.7739 852.643 57.3202 850.67 Q59.8346 848.697 59.8346 844.75 Q59.8346 840.007 56.8109 837.27 Q53.7872 834.501 48.5673 834.501 L28.3562 834.501 L28.3562 828.645 L64.0042 828.645 L64.0042 834.501 L58.5296 834.501 Q61.7762 836.634 63.3676 839.466 Q64.9272 842.267 64.9272 845.991 Q64.9272 852.134 61.1078 855.317 Q57.2883 858.5 49.9359 858.5 M27.4968 843.763 L27.4968 843.763 Z\" fill=\"#000000\" fill-rule=\"evenodd\" fill-opacity=\"1\" /><path clip-path=\"url(#clip370)\" d=\"M 0 0 M29.7248 790.928 L35.1993 790.928 Q33.8307 793.41 33.1623 795.925 Q32.4621 798.408 32.4621 800.954 Q32.4621 806.651 36.0905 809.802 Q39.6872 812.953 46.212 812.953 Q52.7369 812.953 56.3653 809.802 Q59.9619 806.651 59.9619 800.954 Q59.9619 798.408 59.2935 795.925 Q58.5933 793.41 57.2247 790.928 L62.6355 790.928 Q63.7814 793.379 64.3543 796.02 Q64.9272 798.63 64.9272 801.59 Q64.9272 809.643 59.8664 814.385 Q54.8057 819.128 46.212 819.128 Q37.491 819.128 32.4939 814.354 Q27.4968 809.548 27.4968 801.208 Q27.4968 798.503 28.0697 795.925 Q28.6108 793.347 29.7248 790.928 Z\" fill=\"#000000\" fill-rule=\"evenodd\" fill-opacity=\"1\" /><path clip-path=\"url(#clip370)\" d=\"M 0 0 M29.7248 755.089 L35.1993 755.089 Q33.8307 757.572 33.1623 760.086 Q32.4621 762.569 32.4621 765.115 Q32.4621 770.812 36.0905 773.963 Q39.6872 777.114 46.212 777.114 Q52.7369 777.114 56.3653 773.963 Q59.9619 770.812 59.9619 765.115 Q59.9619 762.569 59.2935 760.086 Q58.5933 757.572 57.2247 755.089 L62.6355 755.089 Q63.7814 757.54 64.3543 760.181 Q64.9272 762.791 64.9272 765.751 Q64.9272 773.804 59.8664 778.547 Q54.8057 783.289 46.212 783.289 Q37.491 783.289 32.4939 778.515 Q27.4968 773.709 27.4968 765.37 Q27.4968 762.664 28.0697 760.086 Q28.6108 757.508 29.7248 755.089 Z\" fill=\"#000000\" fill-rule=\"evenodd\" fill-opacity=\"1\" /><path clip-path=\"url(#clip370)\" d=\"M 0 0 M44.7161 714.412 L47.5806 714.412 L47.5806 741.339 Q53.6281 740.957 56.8109 737.711 Q59.9619 734.432 59.9619 728.608 Q59.9619 725.234 59.1344 722.083 Q58.3069 718.9 56.6518 715.781 L62.1899 715.781 Q63.5267 718.932 64.227 722.242 Q64.9272 725.552 64.9272 728.958 Q64.9272 737.488 59.9619 742.485 Q54.9967 747.45 46.5303 747.45 Q37.7774 747.45 32.6531 742.739 Q27.4968 737.997 27.4968 729.976 Q27.4968 722.783 32.1438 718.613 Q36.7589 714.412 44.7161 714.412 M42.9973 720.268 Q38.1912 720.332 35.3266 722.974 Q32.4621 725.584 32.4621 729.913 Q32.4621 734.814 35.2312 737.774 Q38.0002 740.702 43.0292 741.148 L42.9973 720.268 Z\" fill=\"#000000\" fill-rule=\"evenodd\" fill-opacity=\"1\" /><path clip-path=\"url(#clip370)\" d=\"M 0 0 M29.4065 682.074 L34.9447 682.074 Q33.6716 684.557 33.035 687.23 Q32.3984 689.904 32.3984 692.769 Q32.3984 697.129 33.7352 699.325 Q35.072 701.49 37.7456 701.49 Q39.7826 701.49 40.9603 699.93 Q42.1061 698.37 43.1565 693.66 L43.6021 691.655 Q44.9389 685.416 47.3897 682.806 Q49.8086 680.165 54.1691 680.165 Q59.1344 680.165 62.0308 684.111 Q64.9272 688.026 64.9272 694.901 Q64.9272 697.766 64.3543 700.885 Q63.8132 703.972 62.6992 707.41 L56.6518 707.41 Q58.3387 704.163 59.198 701.012 Q60.0256 697.861 60.0256 694.774 Q60.0256 690.636 58.6251 688.408 Q57.1929 686.18 54.6147 686.18 Q52.2276 686.18 50.9545 687.803 Q49.6813 689.395 48.5037 694.837 L48.0262 696.875 Q46.8804 702.317 44.5251 704.736 Q42.138 707.155 38.0002 707.155 Q32.9713 707.155 30.2341 703.59 Q27.4968 700.026 27.4968 693.469 Q27.4968 690.222 27.9743 687.358 Q28.4517 684.493 29.4065 682.074 Z\" fill=\"#000000\" fill-rule=\"evenodd\" fill-opacity=\"1\" /><path clip-path=\"url(#clip370)\" d=\"M 0 0 M29.4065 648.113 L34.9447 648.113 Q33.6716 650.596 33.035 653.269 Q32.3984 655.943 32.3984 658.808 Q32.3984 663.168 33.7352 665.364 Q35.072 667.529 37.7456 667.529 Q39.7826 667.529 40.9603 665.969 Q42.1061 664.409 43.1565 659.699 L43.6021 657.694 Q44.9389 651.455 47.3897 648.845 Q49.8086 646.203 54.1691 646.203 Q59.1344 646.203 62.0308 650.15 Q64.9272 654.065 64.9272 660.94 Q64.9272 663.805 64.3543 666.924 Q63.8132 670.011 62.6992 673.449 L56.6518 673.449 Q58.3387 670.202 59.198 667.051 Q60.0256 663.9 60.0256 660.813 Q60.0256 656.675 58.6251 654.447 Q57.1929 652.219 54.6147 652.219 Q52.2276 652.219 50.9545 653.842 Q49.6813 655.434 48.5037 660.876 L48.0262 662.913 Q46.8804 668.356 44.5251 670.775 Q42.138 673.194 38.0002 673.194 Q32.9713 673.194 30.2341 669.629 Q27.4968 666.064 27.4968 659.508 Q27.4968 656.261 27.9743 653.397 Q28.4517 650.532 29.4065 648.113 Z\" fill=\"#000000\" fill-rule=\"evenodd\" fill-opacity=\"1\" /><path clip-path=\"url(#clip370)\" d=\"M 0 0 M33.8307 595.501 Q33.2578 596.487 33.0032 597.665 Q32.7167 598.811 32.7167 600.211 Q32.7167 605.176 35.9632 607.85 Q39.1779 610.492 45.2253 610.492 L64.0042 610.492 L64.0042 616.38 L28.3562 616.38 L28.3562 610.492 L33.8944 610.492 Q30.6479 608.646 29.0883 605.686 Q27.4968 602.726 27.4968 598.493 Q27.4968 597.888 27.5923 597.156 Q27.656 596.424 27.8151 595.532 L33.8307 595.501 Z\" fill=\"#000000\" fill-rule=\"evenodd\" fill-opacity=\"1\" /><path clip-path=\"url(#clip370)\" d=\"M 0 0 M46.0847 573.157 Q46.0847 580.255 47.7079 582.992 Q49.3312 585.729 53.2461 585.729 Q56.3653 585.729 58.2114 583.692 Q60.0256 581.623 60.0256 578.09 Q60.0256 573.221 56.5881 570.292 Q53.1188 567.332 47.3897 567.332 L46.0847 567.332 L46.0847 573.157 M43.6657 561.476 L64.0042 561.476 L64.0042 567.332 L58.5933 567.332 Q61.8398 569.338 63.3994 572.329 Q64.9272 575.321 64.9272 579.65 Q64.9272 585.125 61.8716 588.371 Q58.7843 591.586 53.6281 591.586 Q47.6125 591.586 44.5569 587.575 Q41.5014 583.533 41.5014 575.544 L41.5014 567.332 L40.9285 567.332 Q36.8862 567.332 34.6901 570.006 Q32.4621 572.648 32.4621 577.454 Q32.4621 580.509 33.1941 583.406 Q33.9262 586.302 35.3903 588.976 L29.9795 588.976 Q28.7381 585.761 28.1334 582.737 Q27.4968 579.714 27.4968 576.849 Q27.4968 569.115 31.5072 565.295 Q35.5176 561.476 43.6657 561.476 Z\" fill=\"#000000\" fill-rule=\"evenodd\" fill-opacity=\"1\" /><path clip-path=\"url(#clip370)\" d=\"M 0 0 M18.2347 543.62 L28.3562 543.62 L28.3562 531.557 L32.9077 531.557 L32.9077 543.62 L52.2594 543.62 Q56.6199 543.62 57.8613 542.442 Q59.1026 541.233 59.1026 537.573 L59.1026 531.557 L64.0042 531.557 L64.0042 537.573 Q64.0042 544.352 61.4897 546.93 Q58.9434 549.508 52.2594 549.508 L32.9077 549.508 L32.9077 553.805 L28.3562 553.805 L28.3562 549.508 L18.2347 549.508 L18.2347 543.62 Z\" fill=\"#000000\" fill-rule=\"evenodd\" fill-opacity=\"1\" /><path clip-path=\"url(#clip370)\" d=\"M 0 0 M44.7161 493.363 L47.5806 493.363 L47.5806 520.29 Q53.6281 519.908 56.8109 516.661 Q59.9619 513.383 59.9619 507.558 Q59.9619 504.185 59.1344 501.034 Q58.3069 497.851 56.6518 494.731 L62.1899 494.731 Q63.5267 497.883 64.227 501.193 Q64.9272 504.503 64.9272 507.908 Q64.9272 516.439 59.9619 521.436 Q54.9967 526.401 46.5303 526.401 Q37.7774 526.401 32.6531 521.69 Q27.4968 516.948 27.4968 508.927 Q27.4968 501.734 32.1438 497.564 Q36.7589 493.363 44.7161 493.363 M42.9973 499.219 Q38.1912 499.283 35.3266 501.925 Q32.4621 504.535 32.4621 508.863 Q32.4621 513.765 35.2312 516.725 Q38.0002 519.653 43.0292 520.099 L42.9973 499.219 Z\" fill=\"#000000\" fill-rule=\"evenodd\" fill-opacity=\"1\" /><polyline clip-path=\"url(#clip372)\" style=\"stroke:#009af9; stroke-width:4; stroke-opacity:1; fill:none\" points=\"\n",
       "  2291.95,1332.61 2185.26,1332.61 2078.58,1332.61 1971.89,1140.85 1865.21,1140.85 1758.52,1140.85 1651.84,1085.34 1545.15,1085.34 1438.47,1258.04 1331.78,1206.77 \n",
       "  1225.1,1140.85 1118.41,1140.85 1011.73,1384.24 905.044,1052.96 798.36,661.459 691.675,661.459 584.99,437.742 478.305,437.742 371.621,86.1857 264.936,437.742 \n",
       "  \n",
       "  \"/>\n",
       "<circle clip-path=\"url(#clip372)\" cx=\"2291.95\" cy=\"1332.61\" r=\"14\" fill=\"#009af9\" fill-rule=\"evenodd\" fill-opacity=\"1\" stroke=\"#000000\" stroke-opacity=\"1\" stroke-width=\"3.2\"/>\n",
       "<circle clip-path=\"url(#clip372)\" cx=\"2185.26\" cy=\"1332.61\" r=\"14\" fill=\"#009af9\" fill-rule=\"evenodd\" fill-opacity=\"1\" stroke=\"#000000\" stroke-opacity=\"1\" stroke-width=\"3.2\"/>\n",
       "<circle clip-path=\"url(#clip372)\" cx=\"2078.58\" cy=\"1332.61\" r=\"14\" fill=\"#009af9\" fill-rule=\"evenodd\" fill-opacity=\"1\" stroke=\"#000000\" stroke-opacity=\"1\" stroke-width=\"3.2\"/>\n",
       "<circle clip-path=\"url(#clip372)\" cx=\"1971.89\" cy=\"1140.85\" r=\"14\" fill=\"#009af9\" fill-rule=\"evenodd\" fill-opacity=\"1\" stroke=\"#000000\" stroke-opacity=\"1\" stroke-width=\"3.2\"/>\n",
       "<circle clip-path=\"url(#clip372)\" cx=\"1865.21\" cy=\"1140.85\" r=\"14\" fill=\"#009af9\" fill-rule=\"evenodd\" fill-opacity=\"1\" stroke=\"#000000\" stroke-opacity=\"1\" stroke-width=\"3.2\"/>\n",
       "<circle clip-path=\"url(#clip372)\" cx=\"1758.52\" cy=\"1140.85\" r=\"14\" fill=\"#009af9\" fill-rule=\"evenodd\" fill-opacity=\"1\" stroke=\"#000000\" stroke-opacity=\"1\" stroke-width=\"3.2\"/>\n",
       "<circle clip-path=\"url(#clip372)\" cx=\"1651.84\" cy=\"1085.34\" r=\"14\" fill=\"#009af9\" fill-rule=\"evenodd\" fill-opacity=\"1\" stroke=\"#000000\" stroke-opacity=\"1\" stroke-width=\"3.2\"/>\n",
       "<circle clip-path=\"url(#clip372)\" cx=\"1545.15\" cy=\"1085.34\" r=\"14\" fill=\"#009af9\" fill-rule=\"evenodd\" fill-opacity=\"1\" stroke=\"#000000\" stroke-opacity=\"1\" stroke-width=\"3.2\"/>\n",
       "<circle clip-path=\"url(#clip372)\" cx=\"1438.47\" cy=\"1258.04\" r=\"14\" fill=\"#009af9\" fill-rule=\"evenodd\" fill-opacity=\"1\" stroke=\"#000000\" stroke-opacity=\"1\" stroke-width=\"3.2\"/>\n",
       "<circle clip-path=\"url(#clip372)\" cx=\"1331.78\" cy=\"1206.77\" r=\"14\" fill=\"#009af9\" fill-rule=\"evenodd\" fill-opacity=\"1\" stroke=\"#000000\" stroke-opacity=\"1\" stroke-width=\"3.2\"/>\n",
       "<circle clip-path=\"url(#clip372)\" cx=\"1225.1\" cy=\"1140.85\" r=\"14\" fill=\"#009af9\" fill-rule=\"evenodd\" fill-opacity=\"1\" stroke=\"#000000\" stroke-opacity=\"1\" stroke-width=\"3.2\"/>\n",
       "<circle clip-path=\"url(#clip372)\" cx=\"1118.41\" cy=\"1140.85\" r=\"14\" fill=\"#009af9\" fill-rule=\"evenodd\" fill-opacity=\"1\" stroke=\"#000000\" stroke-opacity=\"1\" stroke-width=\"3.2\"/>\n",
       "<circle clip-path=\"url(#clip372)\" cx=\"1011.73\" cy=\"1384.24\" r=\"14\" fill=\"#009af9\" fill-rule=\"evenodd\" fill-opacity=\"1\" stroke=\"#000000\" stroke-opacity=\"1\" stroke-width=\"3.2\"/>\n",
       "<circle clip-path=\"url(#clip372)\" cx=\"905.044\" cy=\"1052.96\" r=\"14\" fill=\"#009af9\" fill-rule=\"evenodd\" fill-opacity=\"1\" stroke=\"#000000\" stroke-opacity=\"1\" stroke-width=\"3.2\"/>\n",
       "<circle clip-path=\"url(#clip372)\" cx=\"798.36\" cy=\"661.459\" r=\"14\" fill=\"#009af9\" fill-rule=\"evenodd\" fill-opacity=\"1\" stroke=\"#000000\" stroke-opacity=\"1\" stroke-width=\"3.2\"/>\n",
       "<circle clip-path=\"url(#clip372)\" cx=\"691.675\" cy=\"661.459\" r=\"14\" fill=\"#009af9\" fill-rule=\"evenodd\" fill-opacity=\"1\" stroke=\"#000000\" stroke-opacity=\"1\" stroke-width=\"3.2\"/>\n",
       "<circle clip-path=\"url(#clip372)\" cx=\"584.99\" cy=\"437.742\" r=\"14\" fill=\"#009af9\" fill-rule=\"evenodd\" fill-opacity=\"1\" stroke=\"#000000\" stroke-opacity=\"1\" stroke-width=\"3.2\"/>\n",
       "<circle clip-path=\"url(#clip372)\" cx=\"478.305\" cy=\"437.742\" r=\"14\" fill=\"#009af9\" fill-rule=\"evenodd\" fill-opacity=\"1\" stroke=\"#000000\" stroke-opacity=\"1\" stroke-width=\"3.2\"/>\n",
       "<circle clip-path=\"url(#clip372)\" cx=\"371.621\" cy=\"86.1857\" r=\"14\" fill=\"#009af9\" fill-rule=\"evenodd\" fill-opacity=\"1\" stroke=\"#000000\" stroke-opacity=\"1\" stroke-width=\"3.2\"/>\n",
       "<circle clip-path=\"url(#clip372)\" cx=\"264.936\" cy=\"437.742\" r=\"14\" fill=\"#009af9\" fill-rule=\"evenodd\" fill-opacity=\"1\" stroke=\"#000000\" stroke-opacity=\"1\" stroke-width=\"3.2\"/>\n",
       "<path clip-path=\"url(#clip370)\" d=\"\n",
       "M1989.97 214.069 L2281.13 214.069 L2281.13 93.1086 L1989.97 93.1086  Z\n",
       "  \" fill=\"#ffffff\" fill-rule=\"evenodd\" fill-opacity=\"1\"/>\n",
       "<polyline clip-path=\"url(#clip370)\" style=\"stroke:#000000; stroke-width:4; stroke-opacity:1; fill:none\" points=\"\n",
       "  1989.97,214.069 2281.13,214.069 2281.13,93.1086 1989.97,93.1086 1989.97,214.069 \n",
       "  \"/>\n",
       "<polyline clip-path=\"url(#clip370)\" style=\"stroke:#009af9; stroke-width:4; stroke-opacity:1; fill:none\" points=\"\n",
       "  2013.84,153.589 2157.08,153.589 \n",
       "  \"/>\n",
       "<circle clip-path=\"url(#clip370)\" cx=\"2085.46\" cy=\"153.589\" r=\"23\" fill=\"#009af9\" fill-rule=\"evenodd\" fill-opacity=\"1\" stroke=\"#000000\" stroke-opacity=\"1\" stroke-width=\"5.12\"/>\n",
       "<path clip-path=\"url(#clip370)\" d=\"M 0 0 M2194.8 173.276 Q2192.99 177.906 2191.28 179.318 Q2189.57 180.73 2186.7 180.73 L2183.3 180.73 L2183.3 177.165 L2185.8 177.165 Q2187.55 177.165 2188.53 176.332 Q2189.5 175.498 2190.68 172.396 L2191.44 170.452 L2180.96 144.943 L2185.47 144.943 L2193.57 165.221 L2201.67 144.943 L2206.19 144.943 L2194.8 173.276 Z\" fill=\"#000000\" fill-rule=\"evenodd\" fill-opacity=\"1\" /><path clip-path=\"url(#clip370)\" d=\"M 0 0 M2213.48 166.933 L2221.12 166.933 L2221.12 140.568 L2212.81 142.235 L2212.81 137.975 L2221.07 136.309 L2225.75 136.309 L2225.75 166.933 L2233.39 166.933 L2233.39 170.869 L2213.48 170.869 L2213.48 166.933 Z\" fill=\"#000000\" fill-rule=\"evenodd\" fill-opacity=\"1\" /></svg>\n"
      ]
     },
     "execution_count": 104,
     "metadata": {},
     "output_type": "execute_result"
    }
   ],
   "source": [
    "p2 = plot(100 * box_scales, success_ratios, marker=:circle)\n",
    "plot!(xlabel = \"Scale of bounding box\")\n",
    "plot!(ylabel = \"% success rate\")\n",
    "plot!(legend=:topright)"
   ]
  },
  {
   "cell_type": "code",
   "execution_count": 95,
   "metadata": {},
   "outputs": [
    {
     "data": {
      "text/html": [
       "<table class=\"data-frame\"><thead><tr><th></th><th>boxScales</th><th>nSamples</th><th>nSuccesses</th><th>fractionSuccessful</th></tr><tr><th></th><th>Float64</th><th>Any</th><th>Any</th><th>Any</th></tr></thead><tbody><p>20 rows × 4 columns</p><tr><th>1</th><td>0.99</td><td>22</td><td>12</td><td>54.5455</td></tr><tr><th>2</th><td>0.98</td><td>22</td><td>12</td><td>54.5455</td></tr><tr><th>3</th><td>0.97</td><td>22</td><td>12</td><td>54.5455</td></tr><tr><th>4</th><td>0.96</td><td>21</td><td>12</td><td>57.1429</td></tr><tr><th>5</th><td>0.95</td><td>21</td><td>12</td><td>57.1429</td></tr><tr><th>6</th><td>0.94</td><td>21</td><td>12</td><td>57.1429</td></tr><tr><th>7</th><td>0.93</td><td>19</td><td>11</td><td>57.8947</td></tr><tr><th>8</th><td>0.92</td><td>19</td><td>11</td><td>57.8947</td></tr><tr><th>9</th><td>0.91</td><td>18</td><td>10</td><td>55.5556</td></tr><tr><th>10</th><td>0.9</td><td>16</td><td>9</td><td>56.25</td></tr><tr><th>11</th><td>0.89</td><td>14</td><td>8</td><td>57.1429</td></tr><tr><th>12</th><td>0.88</td><td>14</td><td>8</td><td>57.1429</td></tr><tr><th>13</th><td>0.87</td><td>13</td><td>7</td><td>53.8462</td></tr><tr><th>14</th><td>0.86</td><td>12</td><td>7</td><td>58.3333</td></tr><tr><th>15</th><td>0.85</td><td>11</td><td>7</td><td>63.6364</td></tr><tr><th>16</th><td>0.84</td><td>11</td><td>7</td><td>63.6364</td></tr><tr><th>17</th><td>0.83</td><td>9</td><td>6</td><td>66.6667</td></tr><tr><th>18</th><td>0.82</td><td>9</td><td>6</td><td>66.6667</td></tr><tr><th>19</th><td>0.81</td><td>7</td><td>5</td><td>71.4286</td></tr><tr><th>20</th><td>0.8</td><td>6</td><td>4</td><td>66.6667</td></tr></tbody></table>"
      ],
      "text/latex": [
       "\\begin{tabular}{r|cccc}\n",
       "\t& boxScales & nSamples & nSuccesses & fractionSuccessful\\\\\n",
       "\t\\hline\n",
       "\t& Float64 & Any & Any & Any\\\\\n",
       "\t\\hline\n",
       "\t1 & 0.99 & 22 & 12 & 54.5455 \\\\\n",
       "\t2 & 0.98 & 22 & 12 & 54.5455 \\\\\n",
       "\t3 & 0.97 & 22 & 12 & 54.5455 \\\\\n",
       "\t4 & 0.96 & 21 & 12 & 57.1429 \\\\\n",
       "\t5 & 0.95 & 21 & 12 & 57.1429 \\\\\n",
       "\t6 & 0.94 & 21 & 12 & 57.1429 \\\\\n",
       "\t7 & 0.93 & 19 & 11 & 57.8947 \\\\\n",
       "\t8 & 0.92 & 19 & 11 & 57.8947 \\\\\n",
       "\t9 & 0.91 & 18 & 10 & 55.5556 \\\\\n",
       "\t10 & 0.9 & 16 & 9 & 56.25 \\\\\n",
       "\t11 & 0.89 & 14 & 8 & 57.1429 \\\\\n",
       "\t12 & 0.88 & 14 & 8 & 57.1429 \\\\\n",
       "\t13 & 0.87 & 13 & 7 & 53.8462 \\\\\n",
       "\t14 & 0.86 & 12 & 7 & 58.3333 \\\\\n",
       "\t15 & 0.85 & 11 & 7 & 63.6364 \\\\\n",
       "\t16 & 0.84 & 11 & 7 & 63.6364 \\\\\n",
       "\t17 & 0.83 & 9 & 6 & 66.6667 \\\\\n",
       "\t18 & 0.82 & 9 & 6 & 66.6667 \\\\\n",
       "\t19 & 0.81 & 7 & 5 & 71.4286 \\\\\n",
       "\t20 & 0.8 & 6 & 4 & 66.6667 \\\\\n",
       "\\end{tabular}\n"
      ],
      "text/plain": [
       "\u001b[1m20×4 DataFrame\u001b[0m\n",
       "\u001b[1m Row \u001b[0m│\u001b[1m boxScales \u001b[0m\u001b[1m nSamples \u001b[0m\u001b[1m nSuccesses \u001b[0m\u001b[1m fractionSuccessful \u001b[0m\n",
       "\u001b[1m     \u001b[0m│\u001b[90m Float64   \u001b[0m\u001b[90m Any      \u001b[0m\u001b[90m Any        \u001b[0m\u001b[90m Any                \u001b[0m\n",
       "─────┼─────────────────────────────────────────────────────\n",
       "   1 │      0.99  22        12          54.5455\n",
       "   2 │      0.98  22        12          54.5455\n",
       "   3 │      0.97  22        12          54.5455\n",
       "   4 │      0.96  21        12          57.1429\n",
       "   5 │      0.95  21        12          57.1429\n",
       "   6 │      0.94  21        12          57.1429\n",
       "   7 │      0.93  19        11          57.8947\n",
       "   8 │      0.92  19        11          57.8947\n",
       "   9 │      0.91  18        10          55.5556\n",
       "  10 │      0.9   16        9           56.25\n",
       "  11 │      0.89  14        8           57.1429\n",
       "  12 │      0.88  14        8           57.1429\n",
       "  13 │      0.87  13        7           53.8462\n",
       "  14 │      0.86  12        7           58.3333\n",
       "  15 │      0.85  11        7           63.6364\n",
       "  16 │      0.84  11        7           63.6364\n",
       "  17 │      0.83  9         6           66.6667\n",
       "  18 │      0.82  9         6           66.6667\n",
       "  19 │      0.81  7         5           71.4286\n",
       "  20 │      0.8   6         4           66.6667"
      ]
     },
     "execution_count": 95,
     "metadata": {},
     "output_type": "execute_result"
    }
   ],
   "source": [
    "tt = DataFrame(:boxScales => box_scales,\n",
    "               :nSamples => numberOfSamples, \n",
    "               :nSuccesses => numberOfSuccesses, \n",
    "               :fractionSuccessful => success_ratios)"
   ]
  },
  {
   "cell_type": "code",
   "execution_count": 96,
   "metadata": {},
   "outputs": [],
   "source": [
    "success_ratios = []\n",
    "numberOfSuccesses = []\n",
    "numberOfSamples = []\n",
    "box_scales = 0.99:-0.01:0.80\n",
    "for scale in box_scales\n",
    "    boundedSamplesIdx =  findBoundedSamples(A, scale)\n",
    "#     boundedSamplesIdx = findBoundedSamplesNC(A, scale)\n",
    "    success_rate = sum(successful[boundedSamplesIdx])\n",
    "    push!(numberOfSuccesses, success_rate)\n",
    "#     push!(success_ratios, 100 * success_rate / sum(successful))\n",
    "    push!(numberOfSamples, length(boundedSamplesIdx))\n",
    "    push!(success_ratios, 100 * success_rate / length(boundedSamplesIdx))\n",
    "end"
   ]
  },
  {
   "cell_type": "code",
   "execution_count": 98,
   "metadata": {},
   "outputs": [
    {
     "data": {
      "image/svg+xml": [
       "<?xml version=\"1.0\" encoding=\"utf-8\"?>\n",
       "<svg xmlns=\"http://www.w3.org/2000/svg\" xmlns:xlink=\"http://www.w3.org/1999/xlink\" width=\"600\" height=\"400\" viewBox=\"0 0 2400 1600\">\n",
       "<defs>\n",
       "  <clipPath id=\"clip290\">\n",
       "    <rect x=\"0\" y=\"0\" width=\"2400\" height=\"1600\"/>\n",
       "  </clipPath>\n",
       "</defs>\n",
       "<path clip-path=\"url(#clip290)\" d=\"\n",
       "M0 1600 L2400 1600 L2400 0 L0 0  Z\n",
       "  \" fill=\"#ffffff\" fill-rule=\"evenodd\" fill-opacity=\"1\"/>\n",
       "<defs>\n",
       "  <clipPath id=\"clip291\">\n",
       "    <rect x=\"480\" y=\"0\" width=\"1681\" height=\"1600\"/>\n",
       "  </clipPath>\n",
       "</defs>\n",
       "<path clip-path=\"url(#clip290)\" d=\"\n",
       "M204.311 1423.18 L2352.76 1423.18 L2352.76 123.472 L204.311 123.472  Z\n",
       "  \" fill=\"#ffffff\" fill-rule=\"evenodd\" fill-opacity=\"1\"/>\n",
       "<defs>\n",
       "  <clipPath id=\"clip292\">\n",
       "    <rect x=\"204\" y=\"123\" width=\"2149\" height=\"1301\"/>\n",
       "  </clipPath>\n",
       "</defs>\n",
       "<polyline clip-path=\"url(#clip292)\" style=\"stroke:#000000; stroke-width:2; stroke-opacity:0.1; fill:none\" points=\"\n",
       "  265.116,1423.18 265.116,123.472 \n",
       "  \"/>\n",
       "<polyline clip-path=\"url(#clip292)\" style=\"stroke:#000000; stroke-width:2; stroke-opacity:0.1; fill:none\" points=\"\n",
       "  798.493,1423.18 798.493,123.472 \n",
       "  \"/>\n",
       "<polyline clip-path=\"url(#clip292)\" style=\"stroke:#000000; stroke-width:2; stroke-opacity:0.1; fill:none\" points=\"\n",
       "  1331.87,1423.18 1331.87,123.472 \n",
       "  \"/>\n",
       "<polyline clip-path=\"url(#clip292)\" style=\"stroke:#000000; stroke-width:2; stroke-opacity:0.1; fill:none\" points=\"\n",
       "  1865.25,1423.18 1865.25,123.472 \n",
       "  \"/>\n",
       "<polyline clip-path=\"url(#clip290)\" style=\"stroke:#000000; stroke-width:4; stroke-opacity:1; fill:none\" points=\"\n",
       "  204.311,1423.18 2352.76,1423.18 \n",
       "  \"/>\n",
       "<polyline clip-path=\"url(#clip290)\" style=\"stroke:#000000; stroke-width:4; stroke-opacity:1; fill:none\" points=\"\n",
       "  265.116,1423.18 265.116,1407.58 \n",
       "  \"/>\n",
       "<polyline clip-path=\"url(#clip290)\" style=\"stroke:#000000; stroke-width:4; stroke-opacity:1; fill:none\" points=\"\n",
       "  798.493,1423.18 798.493,1407.58 \n",
       "  \"/>\n",
       "<polyline clip-path=\"url(#clip290)\" style=\"stroke:#000000; stroke-width:4; stroke-opacity:1; fill:none\" points=\"\n",
       "  1331.87,1423.18 1331.87,1407.58 \n",
       "  \"/>\n",
       "<polyline clip-path=\"url(#clip290)\" style=\"stroke:#000000; stroke-width:4; stroke-opacity:1; fill:none\" points=\"\n",
       "  1865.25,1423.18 1865.25,1407.58 \n",
       "  \"/>\n",
       "<path clip-path=\"url(#clip290)\" d=\"M 0 0 M249.989 1467.44 Q246.655 1467.44 244.734 1469.22 Q242.836 1471 242.836 1474.13 Q242.836 1477.25 244.734 1479.04 Q246.655 1480.82 249.989 1480.82 Q253.322 1480.82 255.243 1479.04 Q257.164 1477.23 257.164 1474.13 Q257.164 1471 255.243 1469.22 Q253.345 1467.44 249.989 1467.44 M245.313 1465.45 Q242.303 1464.71 240.614 1462.65 Q238.947 1460.59 238.947 1457.63 Q238.947 1453.48 241.887 1451.07 Q244.85 1448.67 249.989 1448.67 Q255.151 1448.67 258.09 1451.07 Q261.03 1453.48 261.03 1457.63 Q261.03 1460.59 259.34 1462.65 Q257.674 1464.71 254.688 1465.45 Q258.067 1466.24 259.942 1468.53 Q261.84 1470.82 261.84 1474.13 Q261.84 1479.15 258.762 1481.84 Q255.706 1484.52 249.989 1484.52 Q244.271 1484.52 241.192 1481.84 Q238.137 1479.15 238.137 1474.13 Q238.137 1470.82 240.035 1468.53 Q241.933 1466.24 245.313 1465.45 M243.6 1458.06 Q243.6 1460.75 245.266 1462.25 Q246.956 1463.76 249.989 1463.76 Q252.998 1463.76 254.688 1462.25 Q256.401 1460.75 256.401 1458.06 Q256.401 1455.38 254.688 1453.88 Q252.998 1452.37 249.989 1452.37 Q246.956 1452.37 245.266 1453.88 Q243.6 1455.38 243.6 1458.06 Z\" fill=\"#000000\" fill-rule=\"evenodd\" fill-opacity=\"1\" /><path clip-path=\"url(#clip290)\" d=\"M 0 0 M280.15 1452.37 Q276.539 1452.37 274.711 1455.94 Q272.905 1459.48 272.905 1466.61 Q272.905 1473.71 274.711 1477.28 Q276.539 1480.82 280.15 1480.82 Q283.785 1480.82 285.59 1477.28 Q287.419 1473.71 287.419 1466.61 Q287.419 1459.48 285.59 1455.94 Q283.785 1452.37 280.15 1452.37 M280.15 1448.67 Q285.961 1448.67 289.016 1453.27 Q292.095 1457.86 292.095 1466.61 Q292.095 1475.33 289.016 1479.94 Q285.961 1484.52 280.15 1484.52 Q274.34 1484.52 271.262 1479.94 Q268.206 1475.33 268.206 1466.61 Q268.206 1457.86 271.262 1453.27 Q274.34 1448.67 280.15 1448.67 Z\" fill=\"#000000\" fill-rule=\"evenodd\" fill-opacity=\"1\" /><path clip-path=\"url(#clip290)\" d=\"M 0 0 M783.864 1467.44 Q780.531 1467.44 778.609 1469.22 Q776.711 1471 776.711 1474.13 Q776.711 1477.25 778.609 1479.04 Q780.531 1480.82 783.864 1480.82 Q787.197 1480.82 789.119 1479.04 Q791.04 1477.23 791.04 1474.13 Q791.04 1471 789.119 1469.22 Q787.22 1467.44 783.864 1467.44 M779.188 1465.45 Q776.179 1464.71 774.489 1462.65 Q772.822 1460.59 772.822 1457.63 Q772.822 1453.48 775.762 1451.07 Q778.725 1448.67 783.864 1448.67 Q789.026 1448.67 791.966 1451.07 Q794.906 1453.48 794.906 1457.63 Q794.906 1460.59 793.216 1462.65 Q791.549 1464.71 788.563 1465.45 Q791.943 1466.24 793.818 1468.53 Q795.716 1470.82 795.716 1474.13 Q795.716 1479.15 792.637 1481.84 Q789.581 1484.52 783.864 1484.52 Q778.146 1484.52 775.068 1481.84 Q772.012 1479.15 772.012 1474.13 Q772.012 1470.82 773.91 1468.53 Q775.808 1466.24 779.188 1465.45 M777.475 1458.06 Q777.475 1460.75 779.142 1462.25 Q780.832 1463.76 783.864 1463.76 Q786.873 1463.76 788.563 1462.25 Q790.276 1460.75 790.276 1458.06 Q790.276 1455.38 788.563 1453.88 Q786.873 1452.37 783.864 1452.37 Q780.832 1452.37 779.142 1453.88 Q777.475 1455.38 777.475 1458.06 Z\" fill=\"#000000\" fill-rule=\"evenodd\" fill-opacity=\"1\" /><path clip-path=\"url(#clip290)\" d=\"M 0 0 M804.072 1449.29 L822.429 1449.29 L822.429 1453.23 L808.355 1453.23 L808.355 1461.7 Q809.373 1461.35 810.392 1461.19 Q811.41 1461 812.429 1461 Q818.216 1461 821.595 1464.18 Q824.975 1467.35 824.975 1472.76 Q824.975 1478.34 821.503 1481.44 Q818.03 1484.52 811.711 1484.52 Q809.535 1484.52 807.267 1484.15 Q805.021 1483.78 802.614 1483.04 L802.614 1478.34 Q804.697 1479.48 806.919 1480.03 Q809.142 1480.59 811.618 1480.59 Q815.623 1480.59 817.961 1478.48 Q820.299 1476.38 820.299 1472.76 Q820.299 1469.15 817.961 1467.05 Q815.623 1464.94 811.618 1464.94 Q809.743 1464.94 807.868 1465.36 Q806.017 1465.77 804.072 1466.65 L804.072 1449.29 Z\" fill=\"#000000\" fill-rule=\"evenodd\" fill-opacity=\"1\" /><path clip-path=\"url(#clip290)\" d=\"M 0 0 M1307 1483.13 L1307 1478.88 Q1308.76 1479.71 1310.56 1480.15 Q1312.37 1480.59 1314.11 1480.59 Q1318.73 1480.59 1321.17 1477.49 Q1323.62 1474.36 1323.97 1468.02 Q1322.62 1470.01 1320.56 1471.07 Q1318.5 1472.14 1316 1472.14 Q1310.82 1472.14 1307.79 1469.01 Q1304.78 1465.87 1304.78 1460.43 Q1304.78 1455.1 1307.92 1451.88 Q1311.07 1448.67 1316.3 1448.67 Q1322.3 1448.67 1325.45 1453.27 Q1328.62 1457.86 1328.62 1466.61 Q1328.62 1474.78 1324.73 1479.66 Q1320.86 1484.52 1314.31 1484.52 Q1312.55 1484.52 1310.75 1484.18 Q1308.94 1483.83 1307 1483.13 M1316.3 1468.48 Q1319.45 1468.48 1321.28 1466.33 Q1323.13 1464.18 1323.13 1460.43 Q1323.13 1456.7 1321.28 1454.55 Q1319.45 1452.37 1316.3 1452.37 Q1313.16 1452.37 1311.3 1454.55 Q1309.48 1456.7 1309.48 1460.43 Q1309.48 1464.18 1311.3 1466.33 Q1313.16 1468.48 1316.3 1468.48 Z\" fill=\"#000000\" fill-rule=\"evenodd\" fill-opacity=\"1\" /><path clip-path=\"url(#clip290)\" d=\"M 0 0 M1347.02 1452.37 Q1343.41 1452.37 1341.58 1455.94 Q1339.78 1459.48 1339.78 1466.61 Q1339.78 1473.71 1341.58 1477.28 Q1343.41 1480.82 1347.02 1480.82 Q1350.66 1480.82 1352.46 1477.28 Q1354.29 1473.71 1354.29 1466.61 Q1354.29 1459.48 1352.46 1455.94 Q1350.66 1452.37 1347.02 1452.37 M1347.02 1448.67 Q1352.83 1448.67 1355.89 1453.27 Q1358.97 1457.86 1358.97 1466.61 Q1358.97 1475.33 1355.89 1479.94 Q1352.83 1484.52 1347.02 1484.52 Q1341.21 1484.52 1338.13 1479.94 Q1335.08 1475.33 1335.08 1466.61 Q1335.08 1457.86 1338.13 1453.27 Q1341.21 1448.67 1347.02 1448.67 Z\" fill=\"#000000\" fill-rule=\"evenodd\" fill-opacity=\"1\" /><path clip-path=\"url(#clip290)\" d=\"M 0 0 M1840.87 1483.13 L1840.87 1478.88 Q1842.63 1479.71 1844.44 1480.15 Q1846.24 1480.59 1847.98 1480.59 Q1852.61 1480.59 1855.04 1477.49 Q1857.49 1474.36 1857.84 1468.02 Q1856.5 1470.01 1854.44 1471.07 Q1852.38 1472.14 1849.88 1472.14 Q1844.69 1472.14 1841.66 1469.01 Q1838.65 1465.87 1838.65 1460.43 Q1838.65 1455.1 1841.8 1451.88 Q1844.95 1448.67 1850.18 1448.67 Q1856.17 1448.67 1859.32 1453.27 Q1862.49 1457.86 1862.49 1466.61 Q1862.49 1474.78 1858.61 1479.66 Q1854.74 1484.52 1848.19 1484.52 Q1846.43 1484.52 1844.62 1484.18 Q1842.82 1483.83 1840.87 1483.13 M1850.18 1468.48 Q1853.33 1468.48 1855.16 1466.33 Q1857.01 1464.18 1857.01 1460.43 Q1857.01 1456.7 1855.16 1454.55 Q1853.33 1452.37 1850.18 1452.37 Q1847.03 1452.37 1845.18 1454.55 Q1843.35 1456.7 1843.35 1460.43 Q1843.35 1464.18 1845.18 1466.33 Q1847.03 1468.48 1850.18 1468.48 Z\" fill=\"#000000\" fill-rule=\"evenodd\" fill-opacity=\"1\" /><path clip-path=\"url(#clip290)\" d=\"M 0 0 M1870.94 1449.29 L1889.3 1449.29 L1889.3 1453.23 L1875.23 1453.23 L1875.23 1461.7 Q1876.24 1461.35 1877.26 1461.19 Q1878.28 1461 1879.3 1461 Q1885.09 1461 1888.47 1464.18 Q1891.85 1467.35 1891.85 1472.76 Q1891.85 1478.34 1888.37 1481.44 Q1884.9 1484.52 1878.58 1484.52 Q1876.41 1484.52 1874.14 1484.15 Q1871.89 1483.78 1869.48 1483.04 L1869.48 1478.34 Q1871.57 1479.48 1873.79 1480.03 Q1876.01 1480.59 1878.49 1480.59 Q1882.49 1480.59 1884.83 1478.48 Q1887.17 1476.38 1887.17 1472.76 Q1887.17 1469.15 1884.83 1467.05 Q1882.49 1464.94 1878.49 1464.94 Q1876.61 1464.94 1874.74 1465.36 Q1872.89 1465.77 1870.94 1466.65 L1870.94 1449.29 Z\" fill=\"#000000\" fill-rule=\"evenodd\" fill-opacity=\"1\" /><path clip-path=\"url(#clip290)\" d=\"M 0 0 M888.682 1547.13 Q885.912 1547.13 884.321 1549.49 Q882.761 1551.84 882.761 1556.04 Q882.761 1560.18 884.321 1562.57 Q885.912 1564.92 888.682 1564.92 Q891.387 1564.92 892.947 1562.57 Q894.538 1560.18 894.538 1556.04 Q894.538 1551.87 892.947 1549.52 Q891.387 1547.13 888.682 1547.13 M888.682 1543.09 Q893.71 1543.09 896.671 1546.59 Q899.631 1550.09 899.631 1556.04 Q899.631 1562 896.639 1565.5 Q893.679 1568.97 888.682 1568.97 Q883.589 1568.97 880.629 1565.5 Q877.669 1562 877.669 1556.04 Q877.669 1550.06 880.629 1546.59 Q883.621 1543.09 888.682 1543.09 M855.835 1523.71 Q853.097 1523.71 851.506 1526.09 Q849.946 1528.45 849.946 1532.59 Q849.946 1536.79 851.506 1539.14 Q853.065 1541.5 855.835 1541.5 Q858.604 1541.5 860.163 1539.14 Q861.755 1536.79 861.755 1532.59 Q861.755 1528.48 860.163 1526.09 Q858.572 1523.71 855.835 1523.71 M884.576 1519.66 L889.668 1519.66 L859.94 1568.97 L854.848 1568.97 L884.576 1519.66 M855.835 1519.66 Q860.863 1519.66 863.855 1523.17 Q866.847 1526.63 866.847 1532.59 Q866.847 1538.6 863.855 1542.07 Q860.895 1545.54 855.835 1545.54 Q850.774 1545.54 847.814 1542.07 Q844.885 1538.57 844.885 1532.59 Q844.885 1526.67 847.846 1523.17 Q850.806 1519.66 855.835 1519.66 Z\" fill=\"#000000\" fill-rule=\"evenodd\" fill-opacity=\"1\" /><path clip-path=\"url(#clip290)\" d=\"M 0 0 M925.889 1532.4 L932.096 1532.4 L943.236 1562.31 L954.376 1532.4 L960.582 1532.4 L947.214 1568.04 L939.257 1568.04 L925.889 1532.4 Z\" fill=\"#000000\" fill-rule=\"evenodd\" fill-opacity=\"1\" /><path clip-path=\"url(#clip290)\" d=\"M 0 0 M982.48 1536.5 Q977.77 1536.5 975.032 1540.19 Q972.295 1543.85 972.295 1550.25 Q972.295 1556.65 975.001 1560.34 Q977.738 1564 982.48 1564 Q987.159 1564 989.896 1560.31 Q992.634 1556.62 992.634 1550.25 Q992.634 1543.92 989.896 1540.23 Q987.159 1536.5 982.48 1536.5 M982.48 1531.54 Q990.119 1531.54 994.48 1536.5 Q998.84 1541.47 998.84 1550.25 Q998.84 1559 994.48 1564 Q990.119 1568.97 982.48 1568.97 Q974.81 1568.97 970.449 1564 Q966.12 1559 966.12 1550.25 Q966.12 1541.47 970.449 1536.5 Q974.81 1531.54 982.48 1531.54 Z\" fill=\"#000000\" fill-rule=\"evenodd\" fill-opacity=\"1\" /><path clip-path=\"url(#clip290)\" d=\"M 0 0 M1008.55 1518.52 L1014.4 1518.52 L1014.4 1568.04 L1008.55 1568.04 L1008.55 1518.52 Z\" fill=\"#000000\" fill-rule=\"evenodd\" fill-opacity=\"1\" /><path clip-path=\"url(#clip290)\" d=\"M 0 0 M1026.05 1553.98 L1026.05 1532.4 L1031.91 1532.4 L1031.91 1553.75 Q1031.91 1558.81 1033.88 1561.36 Q1035.86 1563.87 1039.8 1563.87 Q1044.55 1563.87 1047.28 1560.85 Q1050.05 1557.83 1050.05 1552.61 L1050.05 1532.4 L1055.91 1532.4 L1055.91 1568.04 L1050.05 1568.04 L1050.05 1562.57 Q1047.92 1565.82 1045.09 1567.41 Q1042.29 1568.97 1038.56 1568.97 Q1032.42 1568.97 1029.24 1565.15 Q1026.05 1561.33 1026.05 1553.98 M1040.79 1531.54 L1040.79 1531.54 Z\" fill=\"#000000\" fill-rule=\"evenodd\" fill-opacity=\"1\" /><path clip-path=\"url(#clip290)\" d=\"M 0 0 M1095.73 1539.24 Q1097.92 1535.29 1100.98 1533.41 Q1104.03 1531.54 1108.17 1531.54 Q1113.74 1531.54 1116.76 1535.45 Q1119.79 1539.33 1119.79 1546.53 L1119.79 1568.04 L1113.9 1568.04 L1113.9 1546.72 Q1113.9 1541.59 1112.09 1539.11 Q1110.27 1536.63 1106.55 1536.63 Q1102 1536.63 1099.35 1539.65 Q1096.71 1542.68 1096.71 1547.9 L1096.71 1568.04 L1090.82 1568.04 L1090.82 1546.72 Q1090.82 1541.56 1089.01 1539.11 Q1087.2 1536.63 1083.41 1536.63 Q1078.92 1536.63 1076.28 1539.68 Q1073.64 1542.71 1073.64 1547.9 L1073.64 1568.04 L1067.75 1568.04 L1067.75 1532.4 L1073.64 1532.4 L1073.64 1537.93 Q1075.64 1534.66 1078.44 1533.1 Q1081.24 1531.54 1085.1 1531.54 Q1088.98 1531.54 1091.68 1533.51 Q1094.42 1535.48 1095.73 1539.24 Z\" fill=\"#000000\" fill-rule=\"evenodd\" fill-opacity=\"1\" /><path clip-path=\"url(#clip290)\" d=\"M 0 0 M1161.96 1548.76 L1161.96 1551.62 L1135.03 1551.62 Q1135.42 1557.67 1138.66 1560.85 Q1141.94 1564 1147.77 1564 Q1151.14 1564 1154.29 1563.17 Q1157.47 1562.35 1160.59 1560.69 L1160.59 1566.23 Q1157.44 1567.57 1154.13 1568.27 Q1150.82 1568.97 1147.42 1568.97 Q1138.89 1568.97 1133.89 1564 Q1128.92 1559.04 1128.92 1550.57 Q1128.92 1541.82 1133.63 1536.69 Q1138.38 1531.54 1146.4 1531.54 Q1153.59 1531.54 1157.76 1536.18 Q1161.96 1540.8 1161.96 1548.76 M1156.1 1547.04 Q1156.04 1542.23 1153.4 1539.37 Q1150.79 1536.5 1146.46 1536.5 Q1141.56 1536.5 1138.6 1539.27 Q1135.67 1542.04 1135.23 1547.07 L1156.1 1547.04 Z\" fill=\"#000000\" fill-rule=\"evenodd\" fill-opacity=\"1\" /><path clip-path=\"url(#clip290)\" d=\"M 0 0 M1206.11 1536.5 Q1201.4 1536.5 1198.66 1540.19 Q1195.92 1543.85 1195.92 1550.25 Q1195.92 1556.65 1198.63 1560.34 Q1201.37 1564 1206.11 1564 Q1210.79 1564 1213.52 1560.31 Q1216.26 1556.62 1216.26 1550.25 Q1216.26 1543.92 1213.52 1540.23 Q1210.79 1536.5 1206.11 1536.5 M1206.11 1531.54 Q1213.75 1531.54 1218.11 1536.5 Q1222.47 1541.47 1222.47 1550.25 Q1222.47 1559 1218.11 1564 Q1213.75 1568.97 1206.11 1568.97 Q1198.44 1568.97 1194.08 1564 Q1189.75 1559 1189.75 1550.25 Q1189.75 1541.47 1194.08 1536.5 Q1198.44 1531.54 1206.11 1531.54 Z\" fill=\"#000000\" fill-rule=\"evenodd\" fill-opacity=\"1\" /><path clip-path=\"url(#clip290)\" d=\"M 0 0 M1250.22 1518.52 L1250.22 1523.39 L1244.62 1523.39 Q1241.47 1523.39 1240.23 1524.66 Q1239.02 1525.93 1239.02 1529.24 L1239.02 1532.4 L1248.66 1532.4 L1248.66 1536.95 L1239.02 1536.95 L1239.02 1568.04 L1233.13 1568.04 L1233.13 1536.95 L1227.53 1536.95 L1227.53 1532.4 L1233.13 1532.4 L1233.13 1529.91 Q1233.13 1523.96 1235.9 1521.26 Q1238.67 1518.52 1244.68 1518.52 L1250.22 1518.52 Z\" fill=\"#000000\" fill-rule=\"evenodd\" fill-opacity=\"1\" /><path clip-path=\"url(#clip290)\" d=\"M 0 0 M1301.43 1550.25 Q1301.43 1543.79 1298.76 1540.13 Q1296.12 1536.44 1291.47 1536.44 Q1286.82 1536.44 1284.15 1540.13 Q1281.51 1543.79 1281.51 1550.25 Q1281.51 1556.71 1284.15 1560.4 Q1286.82 1564.07 1291.47 1564.07 Q1296.12 1564.07 1298.76 1560.4 Q1301.43 1556.71 1301.43 1550.25 M1281.51 1537.81 Q1283.36 1534.62 1286.16 1533.1 Q1288.99 1531.54 1292.9 1531.54 Q1299.4 1531.54 1303.44 1536.69 Q1307.51 1541.85 1307.51 1550.25 Q1307.51 1558.65 1303.44 1563.81 Q1299.4 1568.97 1292.9 1568.97 Q1288.99 1568.97 1286.16 1567.44 Q1283.36 1565.88 1281.51 1562.7 L1281.51 1568.04 L1275.62 1568.04 L1275.62 1518.52 L1281.51 1518.52 L1281.51 1537.81 Z\" fill=\"#000000\" fill-rule=\"evenodd\" fill-opacity=\"1\" /><path clip-path=\"url(#clip290)\" d=\"M 0 0 M1331.03 1536.5 Q1326.32 1536.5 1323.59 1540.19 Q1320.85 1543.85 1320.85 1550.25 Q1320.85 1556.65 1323.55 1560.34 Q1326.29 1564 1331.03 1564 Q1335.71 1564 1338.45 1560.31 Q1341.19 1556.62 1341.19 1550.25 Q1341.19 1543.92 1338.45 1540.23 Q1335.71 1536.5 1331.03 1536.5 M1331.03 1531.54 Q1338.67 1531.54 1343.03 1536.5 Q1347.39 1541.47 1347.39 1550.25 Q1347.39 1559 1343.03 1564 Q1338.67 1568.97 1331.03 1568.97 Q1323.36 1568.97 1319 1564 Q1314.67 1559 1314.67 1550.25 Q1314.67 1541.47 1319 1536.5 Q1323.36 1531.54 1331.03 1531.54 Z\" fill=\"#000000\" fill-rule=\"evenodd\" fill-opacity=\"1\" /><path clip-path=\"url(#clip290)\" d=\"M 0 0 M1356.5 1553.98 L1356.5 1532.4 L1362.35 1532.4 L1362.35 1553.75 Q1362.35 1558.81 1364.33 1561.36 Q1366.3 1563.87 1370.25 1563.87 Q1374.99 1563.87 1377.73 1560.85 Q1380.5 1557.83 1380.5 1552.61 L1380.5 1532.4 L1386.35 1532.4 L1386.35 1568.04 L1380.5 1568.04 L1380.5 1562.57 Q1378.36 1565.82 1375.53 1567.41 Q1372.73 1568.97 1369.01 1568.97 Q1362.86 1568.97 1359.68 1565.15 Q1356.5 1561.33 1356.5 1553.98 M1371.23 1531.54 L1371.23 1531.54 Z\" fill=\"#000000\" fill-rule=\"evenodd\" fill-opacity=\"1\" /><path clip-path=\"url(#clip290)\" d=\"M 0 0 M1428.05 1546.53 L1428.05 1568.04 L1422.19 1568.04 L1422.19 1546.72 Q1422.19 1541.66 1420.22 1539.14 Q1418.24 1536.63 1414.3 1536.63 Q1409.56 1536.63 1406.82 1539.65 Q1404.08 1542.68 1404.08 1547.9 L1404.08 1568.04 L1398.19 1568.04 L1398.19 1532.4 L1404.08 1532.4 L1404.08 1537.93 Q1406.18 1534.72 1409.01 1533.13 Q1411.88 1531.54 1415.6 1531.54 Q1421.75 1531.54 1424.9 1535.36 Q1428.05 1539.14 1428.05 1546.53 Z\" fill=\"#000000\" fill-rule=\"evenodd\" fill-opacity=\"1\" /><path clip-path=\"url(#clip290)\" d=\"M 0 0 M1463.19 1537.81 L1463.19 1518.52 L1469.04 1518.52 L1469.04 1568.04 L1463.19 1568.04 L1463.19 1562.7 Q1461.34 1565.88 1458.51 1567.44 Q1455.71 1568.97 1451.76 1568.97 Q1445.3 1568.97 1441.22 1563.81 Q1437.18 1558.65 1437.18 1550.25 Q1437.18 1541.85 1441.22 1536.69 Q1445.3 1531.54 1451.76 1531.54 Q1455.71 1531.54 1458.51 1533.1 Q1461.34 1534.62 1463.19 1537.81 M1443.23 1550.25 Q1443.23 1556.71 1445.87 1560.4 Q1448.55 1564.07 1453.19 1564.07 Q1457.84 1564.07 1460.51 1560.4 Q1463.19 1556.71 1463.19 1550.25 Q1463.19 1543.79 1460.51 1540.13 Q1457.84 1536.44 1453.19 1536.44 Q1448.55 1536.44 1445.87 1540.13 Q1443.23 1543.79 1443.23 1550.25 Z\" fill=\"#000000\" fill-rule=\"evenodd\" fill-opacity=\"1\" /><path clip-path=\"url(#clip290)\" d=\"M 0 0 M1481.11 1532.4 L1486.96 1532.4 L1486.96 1568.04 L1481.11 1568.04 L1481.11 1532.4 M1481.11 1518.52 L1486.96 1518.52 L1486.96 1525.93 L1481.11 1525.93 L1481.11 1518.52 Z\" fill=\"#000000\" fill-rule=\"evenodd\" fill-opacity=\"1\" /><path clip-path=\"url(#clip290)\" d=\"M 0 0 M1528.85 1546.53 L1528.85 1568.04 L1522.99 1568.04 L1522.99 1546.72 Q1522.99 1541.66 1521.02 1539.14 Q1519.05 1536.63 1515.1 1536.63 Q1510.36 1536.63 1507.62 1539.65 Q1504.88 1542.68 1504.88 1547.9 L1504.88 1568.04 L1498.99 1568.04 L1498.99 1532.4 L1504.88 1532.4 L1504.88 1537.93 Q1506.98 1534.72 1509.82 1533.13 Q1512.68 1531.54 1516.4 1531.54 Q1522.55 1531.54 1525.7 1535.36 Q1528.85 1539.14 1528.85 1546.53 Z\" fill=\"#000000\" fill-rule=\"evenodd\" fill-opacity=\"1\" /><path clip-path=\"url(#clip290)\" d=\"M 0 0 M1563.99 1549.81 Q1563.99 1543.44 1561.35 1539.94 Q1558.74 1536.44 1553.99 1536.44 Q1549.28 1536.44 1546.64 1539.94 Q1544.03 1543.44 1544.03 1549.81 Q1544.03 1556.14 1546.64 1559.64 Q1549.28 1563.14 1553.99 1563.14 Q1558.74 1563.14 1561.35 1559.64 Q1563.99 1556.14 1563.99 1549.81 M1569.84 1563.62 Q1569.84 1572.72 1565.8 1577.15 Q1561.76 1581.6 1553.42 1581.6 Q1550.33 1581.6 1547.6 1581.13 Q1544.86 1580.68 1542.28 1579.72 L1542.28 1574.03 Q1544.86 1575.43 1547.37 1576.1 Q1549.89 1576.76 1552.5 1576.76 Q1558.26 1576.76 1561.12 1573.74 Q1563.99 1570.75 1563.99 1564.67 L1563.99 1561.77 Q1562.17 1564.92 1559.34 1566.48 Q1556.51 1568.04 1552.56 1568.04 Q1546 1568.04 1541.99 1563.05 Q1537.98 1558.05 1537.98 1549.81 Q1537.98 1541.53 1541.99 1536.53 Q1546 1531.54 1552.56 1531.54 Q1556.51 1531.54 1559.34 1533.1 Q1562.17 1534.66 1563.99 1537.81 L1563.99 1532.4 L1569.84 1532.4 L1569.84 1563.62 Z\" fill=\"#000000\" fill-rule=\"evenodd\" fill-opacity=\"1\" /><path clip-path=\"url(#clip290)\" d=\"M 0 0 M1628.22 1550.25 Q1628.22 1543.79 1625.54 1540.13 Q1622.9 1536.44 1618.26 1536.44 Q1613.61 1536.44 1610.93 1540.13 Q1608.29 1543.79 1608.29 1550.25 Q1608.29 1556.71 1610.93 1560.4 Q1613.61 1564.07 1618.26 1564.07 Q1622.9 1564.07 1625.54 1560.4 Q1628.22 1556.71 1628.22 1550.25 M1608.29 1537.81 Q1610.14 1534.62 1612.94 1533.1 Q1615.77 1531.54 1619.69 1531.54 Q1626.18 1531.54 1630.22 1536.69 Q1634.3 1541.85 1634.3 1550.25 Q1634.3 1558.65 1630.22 1563.81 Q1626.18 1568.97 1619.69 1568.97 Q1615.77 1568.97 1612.94 1567.44 Q1610.14 1565.88 1608.29 1562.7 L1608.29 1568.04 L1602.4 1568.04 L1602.4 1518.52 L1608.29 1518.52 L1608.29 1537.81 Z\" fill=\"#000000\" fill-rule=\"evenodd\" fill-opacity=\"1\" /><path clip-path=\"url(#clip290)\" d=\"M 0 0 M1657.82 1536.5 Q1653.11 1536.5 1650.37 1540.19 Q1647.63 1543.85 1647.63 1550.25 Q1647.63 1556.65 1650.34 1560.34 Q1653.08 1564 1657.82 1564 Q1662.5 1564 1665.23 1560.31 Q1667.97 1556.62 1667.97 1550.25 Q1667.97 1543.92 1665.23 1540.23 Q1662.5 1536.5 1657.82 1536.5 M1657.82 1531.54 Q1665.46 1531.54 1669.82 1536.5 Q1674.18 1541.47 1674.18 1550.25 Q1674.18 1559 1669.82 1564 Q1665.46 1568.97 1657.82 1568.97 Q1650.15 1568.97 1645.79 1564 Q1641.46 1559 1641.46 1550.25 Q1641.46 1541.47 1645.79 1536.5 Q1650.15 1531.54 1657.82 1531.54 Z\" fill=\"#000000\" fill-rule=\"evenodd\" fill-opacity=\"1\" /><path clip-path=\"url(#clip290)\" d=\"M 0 0 M1711.51 1532.4 L1698.62 1549.74 L1712.18 1568.04 L1705.27 1568.04 L1694.9 1554.04 L1684.52 1568.04 L1677.62 1568.04 L1691.46 1549.39 L1678.79 1532.4 L1685.7 1532.4 L1695.15 1545.1 L1704.61 1532.4 L1711.51 1532.4 Z\" fill=\"#000000\" fill-rule=\"evenodd\" fill-opacity=\"1\" /><polyline clip-path=\"url(#clip292)\" style=\"stroke:#000000; stroke-width:2; stroke-opacity:0.1; fill:none\" points=\"\n",
       "  204.311,1243.58 2352.76,1243.58 \n",
       "  \"/>\n",
       "<polyline clip-path=\"url(#clip292)\" style=\"stroke:#000000; stroke-width:2; stroke-opacity:0.1; fill:none\" points=\"\n",
       "  204.311,1002.84 2352.76,1002.84 \n",
       "  \"/>\n",
       "<polyline clip-path=\"url(#clip292)\" style=\"stroke:#000000; stroke-width:2; stroke-opacity:0.1; fill:none\" points=\"\n",
       "  204.311,762.105 2352.76,762.105 \n",
       "  \"/>\n",
       "<polyline clip-path=\"url(#clip292)\" style=\"stroke:#000000; stroke-width:2; stroke-opacity:0.1; fill:none\" points=\"\n",
       "  204.311,521.366 2352.76,521.366 \n",
       "  \"/>\n",
       "<polyline clip-path=\"url(#clip292)\" style=\"stroke:#000000; stroke-width:2; stroke-opacity:0.1; fill:none\" points=\"\n",
       "  204.311,280.626 2352.76,280.626 \n",
       "  \"/>\n",
       "<polyline clip-path=\"url(#clip290)\" style=\"stroke:#000000; stroke-width:4; stroke-opacity:1; fill:none\" points=\"\n",
       "  204.311,1423.18 204.311,123.472 \n",
       "  \"/>\n",
       "<polyline clip-path=\"url(#clip290)\" style=\"stroke:#000000; stroke-width:4; stroke-opacity:1; fill:none\" points=\"\n",
       "  204.311,1243.58 230.092,1243.58 \n",
       "  \"/>\n",
       "<polyline clip-path=\"url(#clip290)\" style=\"stroke:#000000; stroke-width:4; stroke-opacity:1; fill:none\" points=\"\n",
       "  204.311,1002.84 230.092,1002.84 \n",
       "  \"/>\n",
       "<polyline clip-path=\"url(#clip290)\" style=\"stroke:#000000; stroke-width:4; stroke-opacity:1; fill:none\" points=\"\n",
       "  204.311,762.105 230.092,762.105 \n",
       "  \"/>\n",
       "<polyline clip-path=\"url(#clip290)\" style=\"stroke:#000000; stroke-width:4; stroke-opacity:1; fill:none\" points=\"\n",
       "  204.311,521.366 230.092,521.366 \n",
       "  \"/>\n",
       "<polyline clip-path=\"url(#clip290)\" style=\"stroke:#000000; stroke-width:4; stroke-opacity:1; fill:none\" points=\"\n",
       "  204.311,280.626 230.092,280.626 \n",
       "  \"/>\n",
       "<path clip-path=\"url(#clip290)\" d=\"M 0 0 M130.371 1242.23 Q133.728 1242.95 135.603 1245.22 Q137.501 1247.48 137.501 1250.82 Q137.501 1255.93 133.982 1258.73 Q130.464 1261.54 123.982 1261.54 Q121.806 1261.54 119.492 1261.1 Q117.2 1260.68 114.746 1259.82 L114.746 1255.31 Q116.691 1256.44 119.006 1257.02 Q121.32 1257.6 123.843 1257.6 Q128.242 1257.6 130.533 1255.86 Q132.848 1254.13 132.848 1250.82 Q132.848 1247.76 130.695 1246.05 Q128.566 1244.31 124.746 1244.31 L120.718 1244.31 L120.718 1240.47 L124.931 1240.47 Q128.38 1240.47 130.209 1239.1 Q132.038 1237.72 132.038 1235.12 Q132.038 1232.46 130.14 1231.05 Q128.265 1229.61 124.746 1229.61 Q122.825 1229.61 120.626 1230.03 Q118.427 1230.45 115.788 1231.33 L115.788 1227.16 Q118.45 1226.42 120.765 1226.05 Q123.103 1225.68 125.163 1225.68 Q130.487 1225.68 133.589 1228.11 Q136.691 1230.52 136.691 1234.64 Q136.691 1237.51 135.047 1239.5 Q133.404 1241.47 130.371 1242.23 Z\" fill=\"#000000\" fill-rule=\"evenodd\" fill-opacity=\"1\" /><path clip-path=\"url(#clip290)\" d=\"M 0 0 M156.366 1229.38 Q152.755 1229.38 150.927 1232.95 Q149.121 1236.49 149.121 1243.62 Q149.121 1250.73 150.927 1254.29 Q152.755 1257.83 156.366 1257.83 Q160.001 1257.83 161.806 1254.29 Q163.635 1250.73 163.635 1243.62 Q163.635 1236.49 161.806 1232.95 Q160.001 1229.38 156.366 1229.38 M156.366 1225.68 Q162.177 1225.68 165.232 1230.29 Q168.311 1234.87 168.311 1243.62 Q168.311 1252.35 165.232 1256.95 Q162.177 1261.54 156.366 1261.54 Q150.556 1261.54 147.478 1256.95 Q144.422 1252.35 144.422 1243.62 Q144.422 1234.87 147.478 1230.29 Q150.556 1225.68 156.366 1225.68 Z\" fill=\"#000000\" fill-rule=\"evenodd\" fill-opacity=\"1\" /><path clip-path=\"url(#clip290)\" d=\"M 0 0 M131.968 1001.49 Q135.325 1002.21 137.2 1004.48 Q139.098 1006.75 139.098 1010.08 Q139.098 1015.19 135.579 1017.99 Q132.061 1020.8 125.58 1020.8 Q123.404 1020.8 121.089 1020.36 Q118.797 1019.94 116.343 1019.08 L116.343 1014.57 Q118.288 1015.7 120.603 1016.28 Q122.918 1016.86 125.441 1016.86 Q129.839 1016.86 132.13 1015.12 Q134.445 1013.39 134.445 1010.08 Q134.445 1007.02 132.292 1005.31 Q130.163 1003.57 126.343 1003.57 L122.316 1003.57 L122.316 999.731 L126.529 999.731 Q129.978 999.731 131.806 998.365 Q133.635 996.977 133.635 994.384 Q133.635 991.722 131.737 990.31 Q129.862 988.875 126.343 988.875 Q124.422 988.875 122.223 989.291 Q120.024 989.708 117.385 990.588 L117.385 986.421 Q120.047 985.68 122.362 985.31 Q124.7 984.94 126.76 984.94 Q132.084 984.94 135.186 987.37 Q138.288 989.778 138.288 993.898 Q138.288 996.768 136.644 998.759 Q135.001 1000.73 131.968 1001.49 Z\" fill=\"#000000\" fill-rule=\"evenodd\" fill-opacity=\"1\" /><path clip-path=\"url(#clip290)\" d=\"M 0 0 M151.991 1016.19 L168.311 1016.19 L168.311 1020.12 L146.366 1020.12 L146.366 1016.19 Q149.028 1013.43 153.612 1008.81 Q158.218 1004.15 159.399 1002.81 Q161.644 1000.29 162.524 998.551 Q163.427 996.791 163.427 995.102 Q163.427 992.347 161.482 990.611 Q159.561 988.875 156.459 988.875 Q154.26 988.875 151.806 989.639 Q149.376 990.403 146.598 991.953 L146.598 987.231 Q149.422 986.097 151.876 985.518 Q154.329 984.94 156.366 984.94 Q161.737 984.94 164.931 987.625 Q168.126 990.31 168.126 994.801 Q168.126 996.93 167.315 998.852 Q166.528 1000.75 164.422 1003.34 Q163.843 1004.01 160.741 1007.23 Q157.64 1010.43 151.991 1016.19 Z\" fill=\"#000000\" fill-rule=\"evenodd\" fill-opacity=\"1\" /><path clip-path=\"url(#clip290)\" d=\"M 0 0 M129.885 760.751 Q133.242 761.469 135.117 763.737 Q137.015 766.006 137.015 769.339 Q137.015 774.455 133.496 777.255 Q129.978 780.056 123.496 780.056 Q121.32 780.056 119.006 779.617 Q116.714 779.2 114.26 778.343 L114.26 773.83 Q116.205 774.964 118.519 775.543 Q120.834 776.121 123.357 776.121 Q127.755 776.121 130.047 774.385 Q132.362 772.649 132.362 769.339 Q132.362 766.283 130.209 764.57 Q128.08 762.834 124.26 762.834 L120.232 762.834 L120.232 758.992 L124.445 758.992 Q127.894 758.992 129.723 757.626 Q131.552 756.237 131.552 753.644 Q131.552 750.982 129.654 749.57 Q127.779 748.135 124.26 748.135 Q122.339 748.135 120.14 748.552 Q117.941 748.969 115.302 749.848 L115.302 745.682 Q117.964 744.941 120.279 744.57 Q122.617 744.2 124.677 744.2 Q130.001 744.2 133.103 746.631 Q136.204 749.038 136.204 753.158 Q136.204 756.029 134.561 758.019 Q132.917 759.987 129.885 760.751 Z\" fill=\"#000000\" fill-rule=\"evenodd\" fill-opacity=\"1\" /><path clip-path=\"url(#clip290)\" d=\"M 0 0 M158.728 748.899 L146.922 767.348 L158.728 767.348 L158.728 748.899 M157.501 744.825 L163.38 744.825 L163.38 767.348 L168.311 767.348 L168.311 771.237 L163.38 771.237 L163.38 779.385 L158.728 779.385 L158.728 771.237 L143.126 771.237 L143.126 766.723 L157.501 744.825 Z\" fill=\"#000000\" fill-rule=\"evenodd\" fill-opacity=\"1\" /><path clip-path=\"url(#clip290)\" d=\"M 0 0 M130.209 520.011 Q133.566 520.729 135.441 522.998 Q137.339 525.266 137.339 528.599 Q137.339 533.715 133.82 536.516 Q130.302 539.317 123.82 539.317 Q121.644 539.317 119.33 538.877 Q117.038 538.46 114.584 537.604 L114.584 533.09 Q116.529 534.224 118.843 534.803 Q121.158 535.382 123.681 535.382 Q128.08 535.382 130.371 533.646 Q132.686 531.909 132.686 528.599 Q132.686 525.544 130.533 523.831 Q128.404 522.095 124.584 522.095 L120.556 522.095 L120.556 518.252 L124.769 518.252 Q128.218 518.252 130.047 516.886 Q131.876 515.498 131.876 512.905 Q131.876 510.243 129.978 508.831 Q128.103 507.396 124.584 507.396 Q122.663 507.396 120.464 507.812 Q118.265 508.229 115.626 509.109 L115.626 504.942 Q118.288 504.201 120.603 503.831 Q122.941 503.461 125.001 503.461 Q130.325 503.461 133.427 505.891 Q136.529 508.299 136.529 512.419 Q136.529 515.289 134.885 517.28 Q133.242 519.248 130.209 520.011 Z\" fill=\"#000000\" fill-rule=\"evenodd\" fill-opacity=\"1\" /><path clip-path=\"url(#clip290)\" d=\"M 0 0 M156.783 519.502 Q153.635 519.502 151.783 521.655 Q149.954 523.808 149.954 527.558 Q149.954 531.284 151.783 533.46 Q153.635 535.613 156.783 535.613 Q159.931 535.613 161.76 533.46 Q163.612 531.284 163.612 527.558 Q163.612 523.808 161.76 521.655 Q159.931 519.502 156.783 519.502 M166.065 504.849 L166.065 509.109 Q164.306 508.275 162.501 507.836 Q160.718 507.396 158.959 507.396 Q154.329 507.396 151.876 510.521 Q149.445 513.646 149.098 519.965 Q150.464 517.951 152.524 516.886 Q154.584 515.798 157.061 515.798 Q162.269 515.798 165.278 518.97 Q168.311 522.118 168.311 527.558 Q168.311 532.882 165.163 536.099 Q162.015 539.317 156.783 539.317 Q150.788 539.317 147.616 534.734 Q144.445 530.127 144.445 521.4 Q144.445 513.206 148.334 508.345 Q152.223 503.461 158.774 503.461 Q160.533 503.461 162.315 503.808 Q164.121 504.155 166.065 504.849 Z\" fill=\"#000000\" fill-rule=\"evenodd\" fill-opacity=\"1\" /><path clip-path=\"url(#clip290)\" d=\"M 0 0 M130.464 279.272 Q133.82 279.989 135.695 282.258 Q137.593 284.527 137.593 287.86 Q137.593 292.976 134.075 295.776 Q130.556 298.577 124.075 298.577 Q121.899 298.577 119.584 298.138 Q117.293 297.721 114.839 296.864 L114.839 292.351 Q116.783 293.485 119.098 294.063 Q121.413 294.642 123.936 294.642 Q128.334 294.642 130.626 292.906 Q132.941 291.17 132.941 287.86 Q132.941 284.804 130.788 283.091 Q128.658 281.355 124.839 281.355 L120.811 281.355 L120.811 277.513 L125.024 277.513 Q128.473 277.513 130.302 276.147 Q132.13 274.758 132.13 272.165 Q132.13 269.503 130.232 268.091 Q128.357 266.656 124.839 266.656 Q122.918 266.656 120.718 267.073 Q118.519 267.49 115.881 268.369 L115.881 264.203 Q118.543 263.462 120.857 263.091 Q123.195 262.721 125.255 262.721 Q130.58 262.721 133.681 265.152 Q136.783 267.559 136.783 271.679 Q136.783 274.55 135.14 276.54 Q133.496 278.508 130.464 279.272 Z\" fill=\"#000000\" fill-rule=\"evenodd\" fill-opacity=\"1\" /><path clip-path=\"url(#clip290)\" d=\"M 0 0 M156.459 281.494 Q153.126 281.494 151.204 283.277 Q149.306 285.059 149.306 288.184 Q149.306 291.309 151.204 293.091 Q153.126 294.874 156.459 294.874 Q159.792 294.874 161.714 293.091 Q163.635 291.286 163.635 288.184 Q163.635 285.059 161.714 283.277 Q159.815 281.494 156.459 281.494 M151.783 279.503 Q148.774 278.763 147.084 276.702 Q145.417 274.642 145.417 271.679 Q145.417 267.536 148.357 265.128 Q151.32 262.721 156.459 262.721 Q161.621 262.721 164.561 265.128 Q167.501 267.536 167.501 271.679 Q167.501 274.642 165.811 276.702 Q164.144 278.763 161.158 279.503 Q164.538 280.29 166.413 282.582 Q168.311 284.874 168.311 288.184 Q168.311 293.207 165.232 295.892 Q162.177 298.577 156.459 298.577 Q150.741 298.577 147.663 295.892 Q144.607 293.207 144.607 288.184 Q144.607 284.874 146.505 282.582 Q148.403 280.29 151.783 279.503 M150.07 272.119 Q150.07 274.804 151.737 276.309 Q153.427 277.814 156.459 277.814 Q159.468 277.814 161.158 276.309 Q162.871 274.804 162.871 272.119 Q162.871 269.434 161.158 267.929 Q159.468 266.425 156.459 266.425 Q153.427 266.425 151.737 267.929 Q150.07 269.434 150.07 272.119 Z\" fill=\"#000000\" fill-rule=\"evenodd\" fill-opacity=\"1\" /><path clip-path=\"url(#clip290)\" d=\"M 0 0 M43.0928 971.379 Q43.0928 974.148 45.4481 975.74 Q47.8034 977.299 52.0048 977.299 Q56.1425 977.299 58.5296 975.74 Q60.885 974.148 60.885 971.379 Q60.885 968.674 58.5296 967.114 Q56.1425 965.523 52.0048 965.523 Q47.8353 965.523 45.48 967.114 Q43.0928 968.674 43.0928 971.379 M39.0506 971.379 Q39.0506 966.35 42.5517 963.39 Q46.0529 960.43 52.0048 960.43 Q57.9567 960.43 61.4579 963.422 Q64.9272 966.382 64.9272 971.379 Q64.9272 976.472 61.4579 979.432 Q57.9567 982.392 52.0048 982.392 Q46.021 982.392 42.5517 979.432 Q39.0506 976.44 39.0506 971.379 M19.667 1004.23 Q19.667 1006.96 22.0542 1008.55 Q24.4095 1010.11 28.5472 1010.11 Q32.7485 1010.11 35.1038 1008.55 Q37.4592 1007 37.4592 1004.23 Q37.4592 1001.46 35.1038 999.897 Q32.7485 998.306 28.5472 998.306 Q24.4413 998.306 22.0542 999.897 Q19.667 1001.49 19.667 1004.23 M15.6248 975.485 L15.6248 970.392 L64.9272 1000.12 L64.9272 1005.21 L15.6248 975.485 M15.6248 1004.23 Q15.6248 999.197 19.1259 996.205 Q22.5952 993.213 28.5472 993.213 Q34.5628 993.213 38.0321 996.205 Q41.5014 999.165 41.5014 1004.23 Q41.5014 1009.29 38.0321 1012.25 Q34.5309 1015.18 28.5472 1015.18 Q22.6271 1015.18 19.1259 1012.22 Q15.6248 1009.25 15.6248 1004.23 Z\" fill=\"#000000\" fill-rule=\"evenodd\" fill-opacity=\"1\" /><path clip-path=\"url(#clip290)\" d=\"M 0 0 M29.4065 907.245 L34.9447 907.245 Q33.6716 909.727 33.035 912.401 Q32.3984 915.074 32.3984 917.939 Q32.3984 922.299 33.7352 924.496 Q35.072 926.66 37.7456 926.66 Q39.7826 926.66 40.9603 925.1 Q42.1061 923.541 43.1565 918.83 L43.6021 916.825 Q44.9389 910.587 47.3897 907.977 Q49.8086 905.335 54.1691 905.335 Q59.1344 905.335 62.0308 909.282 Q64.9272 913.196 64.9272 920.071 Q64.9272 922.936 64.3543 926.055 Q63.8132 929.143 62.6992 932.58 L56.6518 932.58 Q58.3387 929.334 59.198 926.183 Q60.0256 923.031 60.0256 919.944 Q60.0256 915.806 58.6251 913.578 Q57.1929 911.35 54.6147 911.35 Q52.2276 911.35 50.9545 912.974 Q49.6813 914.565 48.5037 920.008 L48.0262 922.045 Q46.8804 927.487 44.5251 929.906 Q42.138 932.325 38.0002 932.325 Q32.9713 932.325 30.2341 928.761 Q27.4968 925.196 27.4968 918.639 Q27.4968 915.393 27.9743 912.528 Q28.4517 909.664 29.4065 907.245 Z\" fill=\"#000000\" fill-rule=\"evenodd\" fill-opacity=\"1\" /><path clip-path=\"url(#clip290)\" d=\"M 0 0 M49.9359 896.614 L28.3562 896.614 L28.3562 890.757 L49.7131 890.757 Q54.7739 890.757 57.3202 888.784 Q59.8346 886.811 59.8346 882.864 Q59.8346 878.121 56.8109 875.384 Q53.7872 872.615 48.5673 872.615 L28.3562 872.615 L28.3562 866.759 L64.0042 866.759 L64.0042 872.615 L58.5296 872.615 Q61.7762 874.748 63.3676 877.58 Q64.9272 880.381 64.9272 884.105 Q64.9272 890.248 61.1078 893.431 Q57.2883 896.614 49.9359 896.614 M27.4968 881.877 L27.4968 881.877 Z\" fill=\"#000000\" fill-rule=\"evenodd\" fill-opacity=\"1\" /><path clip-path=\"url(#clip290)\" d=\"M 0 0 M29.7248 829.042 L35.1993 829.042 Q33.8307 831.524 33.1623 834.039 Q32.4621 836.522 32.4621 839.068 Q32.4621 844.765 36.0905 847.916 Q39.6872 851.067 46.212 851.067 Q52.7369 851.067 56.3653 847.916 Q59.9619 844.765 59.9619 839.068 Q59.9619 836.522 59.2935 834.039 Q58.5933 831.524 57.2247 829.042 L62.6355 829.042 Q63.7814 831.493 64.3543 834.134 Q64.9272 836.744 64.9272 839.704 Q64.9272 847.757 59.8664 852.499 Q54.8057 857.242 46.212 857.242 Q37.491 857.242 32.4939 852.468 Q27.4968 847.662 27.4968 839.322 Q27.4968 836.617 28.0697 834.039 Q28.6108 831.461 29.7248 829.042 Z\" fill=\"#000000\" fill-rule=\"evenodd\" fill-opacity=\"1\" /><path clip-path=\"url(#clip290)\" d=\"M 0 0 M29.7248 793.203 L35.1993 793.203 Q33.8307 795.686 33.1623 798.2 Q32.4621 800.683 32.4621 803.229 Q32.4621 808.926 36.0905 812.077 Q39.6872 815.228 46.212 815.228 Q52.7369 815.228 56.3653 812.077 Q59.9619 808.926 59.9619 803.229 Q59.9619 800.683 59.2935 798.2 Q58.5933 795.686 57.2247 793.203 L62.6355 793.203 Q63.7814 795.654 64.3543 798.295 Q64.9272 800.905 64.9272 803.865 Q64.9272 811.918 59.8664 816.661 Q54.8057 821.403 46.212 821.403 Q37.491 821.403 32.4939 816.629 Q27.4968 811.823 27.4968 803.484 Q27.4968 800.778 28.0697 798.2 Q28.6108 795.622 29.7248 793.203 Z\" fill=\"#000000\" fill-rule=\"evenodd\" fill-opacity=\"1\" /><path clip-path=\"url(#clip290)\" d=\"M 0 0 M44.7161 752.526 L47.5806 752.526 L47.5806 779.453 Q53.6281 779.071 56.8109 775.825 Q59.9619 772.546 59.9619 766.722 Q59.9619 763.348 59.1344 760.197 Q58.3069 757.014 56.6518 753.895 L62.1899 753.895 Q63.5267 757.046 64.227 760.356 Q64.9272 763.666 64.9272 767.072 Q64.9272 775.602 59.9619 780.599 Q54.9967 785.564 46.5303 785.564 Q37.7774 785.564 32.6531 780.853 Q27.4968 776.111 27.4968 768.09 Q27.4968 760.897 32.1438 756.727 Q36.7589 752.526 44.7161 752.526 M42.9973 758.382 Q38.1912 758.446 35.3266 761.088 Q32.4621 763.698 32.4621 768.027 Q32.4621 772.928 35.2312 775.888 Q38.0002 778.816 43.0292 779.262 L42.9973 758.382 Z\" fill=\"#000000\" fill-rule=\"evenodd\" fill-opacity=\"1\" /><path clip-path=\"url(#clip290)\" d=\"M 0 0 M29.4065 720.188 L34.9447 720.188 Q33.6716 722.671 33.035 725.344 Q32.3984 728.018 32.3984 730.883 Q32.3984 735.243 33.7352 737.439 Q35.072 739.604 37.7456 739.604 Q39.7826 739.604 40.9603 738.044 Q42.1061 736.484 43.1565 731.774 L43.6021 729.769 Q44.9389 723.53 47.3897 720.92 Q49.8086 718.279 54.1691 718.279 Q59.1344 718.279 62.0308 722.225 Q64.9272 726.14 64.9272 733.015 Q64.9272 735.88 64.3543 738.999 Q63.8132 742.086 62.6992 745.524 L56.6518 745.524 Q58.3387 742.277 59.198 739.126 Q60.0256 735.975 60.0256 732.888 Q60.0256 728.75 58.6251 726.522 Q57.1929 724.294 54.6147 724.294 Q52.2276 724.294 50.9545 725.917 Q49.6813 727.509 48.5037 732.951 L48.0262 734.989 Q46.8804 740.431 44.5251 742.85 Q42.138 745.269 38.0002 745.269 Q32.9713 745.269 30.2341 741.704 Q27.4968 738.14 27.4968 731.583 Q27.4968 728.336 27.9743 725.472 Q28.4517 722.607 29.4065 720.188 Z\" fill=\"#000000\" fill-rule=\"evenodd\" fill-opacity=\"1\" /><path clip-path=\"url(#clip290)\" d=\"M 0 0 M29.4065 686.227 L34.9447 686.227 Q33.6716 688.71 33.035 691.383 Q32.3984 694.057 32.3984 696.922 Q32.3984 701.282 33.7352 703.478 Q35.072 705.643 37.7456 705.643 Q39.7826 705.643 40.9603 704.083 Q42.1061 702.523 43.1565 697.813 L43.6021 695.808 Q44.9389 689.569 47.3897 686.959 Q49.8086 684.317 54.1691 684.317 Q59.1344 684.317 62.0308 688.264 Q64.9272 692.179 64.9272 699.054 Q64.9272 701.919 64.3543 705.038 Q63.8132 708.125 62.6992 711.563 L56.6518 711.563 Q58.3387 708.316 59.198 705.165 Q60.0256 702.014 60.0256 698.927 Q60.0256 694.789 58.6251 692.561 Q57.1929 690.333 54.6147 690.333 Q52.2276 690.333 50.9545 691.956 Q49.6813 693.548 48.5037 698.99 L48.0262 701.027 Q46.8804 706.47 44.5251 708.889 Q42.138 711.308 38.0002 711.308 Q32.9713 711.308 30.2341 707.743 Q27.4968 704.178 27.4968 697.622 Q27.4968 694.375 27.9743 691.511 Q28.4517 688.646 29.4065 686.227 Z\" fill=\"#000000\" fill-rule=\"evenodd\" fill-opacity=\"1\" /><path clip-path=\"url(#clip290)\" d=\"M 0 0 M33.8307 633.615 Q33.2578 634.601 33.0032 635.779 Q32.7167 636.925 32.7167 638.325 Q32.7167 643.291 35.9632 645.964 Q39.1779 648.606 45.2253 648.606 L64.0042 648.606 L64.0042 654.494 L28.3562 654.494 L28.3562 648.606 L33.8944 648.606 Q30.6479 646.76 29.0883 643.8 Q27.4968 640.84 27.4968 636.607 Q27.4968 636.002 27.5923 635.27 Q27.656 634.538 27.8151 633.646 L33.8307 633.615 Z\" fill=\"#000000\" fill-rule=\"evenodd\" fill-opacity=\"1\" /><path clip-path=\"url(#clip290)\" d=\"M 0 0 M46.0847 611.271 Q46.0847 618.369 47.7079 621.106 Q49.3312 623.843 53.2461 623.843 Q56.3653 623.843 58.2114 621.806 Q60.0256 619.737 60.0256 616.204 Q60.0256 611.335 56.5881 608.406 Q53.1188 605.446 47.3897 605.446 L46.0847 605.446 L46.0847 611.271 M43.6657 599.59 L64.0042 599.59 L64.0042 605.446 L58.5933 605.446 Q61.8398 607.452 63.3994 610.443 Q64.9272 613.435 64.9272 617.764 Q64.9272 623.239 61.8716 626.485 Q58.7843 629.7 53.6281 629.7 Q47.6125 629.7 44.5569 625.689 Q41.5014 621.647 41.5014 613.658 L41.5014 605.446 L40.9285 605.446 Q36.8862 605.446 34.6901 608.12 Q32.4621 610.762 32.4621 615.568 Q32.4621 618.623 33.1941 621.52 Q33.9262 624.416 35.3903 627.09 L29.9795 627.09 Q28.7381 623.875 28.1334 620.851 Q27.4968 617.828 27.4968 614.963 Q27.4968 607.229 31.5072 603.409 Q35.5176 599.59 43.6657 599.59 Z\" fill=\"#000000\" fill-rule=\"evenodd\" fill-opacity=\"1\" /><path clip-path=\"url(#clip290)\" d=\"M 0 0 M18.2347 581.734 L28.3562 581.734 L28.3562 569.671 L32.9077 569.671 L32.9077 581.734 L52.2594 581.734 Q56.6199 581.734 57.8613 580.556 Q59.1026 579.347 59.1026 575.687 L59.1026 569.671 L64.0042 569.671 L64.0042 575.687 Q64.0042 582.466 61.4897 585.044 Q58.9434 587.622 52.2594 587.622 L32.9077 587.622 L32.9077 591.919 L28.3562 591.919 L28.3562 587.622 L18.2347 587.622 L18.2347 581.734 Z\" fill=\"#000000\" fill-rule=\"evenodd\" fill-opacity=\"1\" /><path clip-path=\"url(#clip290)\" d=\"M 0 0 M44.7161 531.477 L47.5806 531.477 L47.5806 558.404 Q53.6281 558.022 56.8109 554.775 Q59.9619 551.497 59.9619 545.672 Q59.9619 542.299 59.1344 539.148 Q58.3069 535.965 56.6518 532.846 L62.1899 532.846 Q63.5267 535.997 64.227 539.307 Q64.9272 542.617 64.9272 546.023 Q64.9272 554.553 59.9619 559.55 Q54.9967 564.515 46.5303 564.515 Q37.7774 564.515 32.6531 559.804 Q27.4968 555.062 27.4968 547.041 Q27.4968 539.848 32.1438 535.678 Q36.7589 531.477 44.7161 531.477 M42.9973 537.333 Q38.1912 537.397 35.3266 540.039 Q32.4621 542.649 32.4621 546.977 Q32.4621 551.879 35.2312 554.839 Q38.0002 557.767 43.0292 558.213 L42.9973 537.333 Z\" fill=\"#000000\" fill-rule=\"evenodd\" fill-opacity=\"1\" /><path clip-path=\"url(#clip290)\" d=\"M 0 0 M450.245 44.2197 Q452.878 45.1109 455.349 48.0275 Q457.861 50.9442 460.372 56.0483 L468.677 72.576 L459.886 72.576 L452.149 57.061 Q449.151 50.9847 446.316 48.9997 Q443.52 47.0148 438.659 47.0148 L429.747 47.0148 L429.747 72.576 L421.565 72.576 L421.565 12.096 L440.037 12.096 Q450.407 12.096 455.511 16.4305 Q460.615 20.7649 460.615 29.5149 Q460.615 35.2267 457.942 38.994 Q455.309 42.7613 450.245 44.2197 M429.747 18.8205 L429.747 40.2903 L440.037 40.2903 Q445.951 40.2903 448.949 37.5762 Q451.987 34.8216 451.987 29.5149 Q451.987 24.2082 448.949 21.5346 Q445.951 18.8205 440.037 18.8205 L429.747 18.8205 Z\" fill=\"#000000\" fill-rule=\"evenodd\" fill-opacity=\"1\" /><path clip-path=\"url(#clip290)\" d=\"M 0 0 M513.966 48.0275 L513.966 51.6733 L479.695 51.6733 Q480.181 59.3701 484.313 63.421 Q488.485 67.4314 495.899 67.4314 Q500.193 67.4314 504.203 66.3781 Q508.254 65.3249 512.224 63.2184 L512.224 70.267 Q508.213 71.9684 504 72.8596 Q499.788 73.7508 495.453 73.7508 Q484.597 73.7508 478.237 67.4314 Q471.917 61.1119 471.917 50.3365 Q471.917 39.1965 477.913 32.6746 Q483.948 26.1121 494.157 26.1121 Q503.312 26.1121 508.618 32.0264 Q513.966 37.9003 513.966 48.0275 M506.512 45.84 Q506.431 39.7232 503.069 36.0774 Q499.747 32.4315 494.238 32.4315 Q487.999 32.4315 484.232 35.9558 Q480.505 39.4801 479.938 45.8805 L506.512 45.84 Z\" fill=\"#000000\" fill-rule=\"evenodd\" fill-opacity=\"1\" /><path clip-path=\"url(#clip290)\" d=\"M 0 0 M555.123 28.5427 L555.123 35.5912 Q551.963 33.9709 548.56 33.1607 Q545.158 32.3505 541.512 32.3505 Q535.962 32.3505 533.167 34.0519 Q530.412 35.7533 530.412 39.156 Q530.412 41.7486 532.397 43.2475 Q534.382 44.7058 540.378 46.0426 L542.93 46.6097 Q550.869 48.3111 554.191 51.4303 Q557.553 54.509 557.553 60.0587 Q557.553 66.3781 552.53 70.0644 Q547.548 73.7508 538.798 73.7508 Q535.152 73.7508 531.182 73.0216 Q527.253 72.3329 522.878 70.9151 L522.878 63.2184 Q527.01 65.3654 531.02 66.4591 Q535.03 67.5124 538.96 67.5124 Q544.226 67.5124 547.062 65.73 Q549.897 63.9071 549.897 60.6258 Q549.897 57.5877 547.831 55.9673 Q545.806 54.3469 538.879 52.8481 L536.286 52.2405 Q529.359 50.7821 526.28 47.7845 Q523.202 44.7463 523.202 39.4801 Q523.202 33.0797 527.739 29.5959 Q532.276 26.1121 540.621 26.1121 Q544.753 26.1121 548.398 26.7198 Q552.044 27.3274 555.123 28.5427 Z\" fill=\"#000000\" fill-rule=\"evenodd\" fill-opacity=\"1\" /><path clip-path=\"url(#clip290)\" d=\"M 0 0 M568.653 54.671 L568.653 27.2059 L576.107 27.2059 L576.107 54.3874 Q576.107 60.8284 578.618 64.0691 Q581.13 67.2693 586.153 67.2693 Q592.189 67.2693 595.672 63.421 Q599.197 59.5726 599.197 52.9291 L599.197 27.2059 L606.65 27.2059 L606.65 72.576 L599.197 72.576 L599.197 65.6084 Q596.483 69.7404 592.877 71.7658 Q589.313 73.7508 584.573 73.7508 Q576.755 73.7508 572.704 68.8897 Q568.653 64.0286 568.653 54.671 M587.409 26.1121 L587.409 26.1121 Z\" fill=\"#000000\" fill-rule=\"evenodd\" fill-opacity=\"1\" /><path clip-path=\"url(#clip290)\" d=\"M 0 0 M622.003 9.54393 L629.457 9.54393 L629.457 72.576 L622.003 72.576 L622.003 9.54393 Z\" fill=\"#000000\" fill-rule=\"evenodd\" fill-opacity=\"1\" /><path clip-path=\"url(#clip290)\" d=\"M 0 0 M652.426 14.324 L652.426 27.2059 L667.779 27.2059 L667.779 32.9987 L652.426 32.9987 L652.426 57.6282 Q652.426 63.1779 653.924 64.7578 Q655.464 66.3376 660.122 66.3376 L667.779 66.3376 L667.779 72.576 L660.122 72.576 Q651.494 72.576 648.213 69.3758 Q644.931 66.1351 644.931 57.6282 L644.931 32.9987 L639.463 32.9987 L639.463 27.2059 L644.931 27.2059 L644.931 14.324 L652.426 14.324 Z\" fill=\"#000000\" fill-rule=\"evenodd\" fill-opacity=\"1\" /><path clip-path=\"url(#clip290)\" d=\"M 0 0 M706.505 28.5427 L706.505 35.5912 Q703.345 33.9709 699.943 33.1607 Q696.54 32.3505 692.894 32.3505 Q687.344 32.3505 684.549 34.0519 Q681.795 35.7533 681.795 39.156 Q681.795 41.7486 683.78 43.2475 Q685.765 44.7058 691.76 46.0426 L694.312 46.6097 Q702.252 48.3111 705.573 51.4303 Q708.936 54.509 708.936 60.0587 Q708.936 66.3781 703.913 70.0644 Q698.93 73.7508 690.18 73.7508 Q686.534 73.7508 682.564 73.0216 Q678.635 72.3329 674.26 70.9151 L674.26 63.2184 Q678.392 65.3654 682.402 66.4591 Q686.413 67.5124 690.342 67.5124 Q695.608 67.5124 698.444 65.73 Q701.279 63.9071 701.279 60.6258 Q701.279 57.5877 699.214 55.9673 Q697.188 54.3469 690.261 52.8481 L687.668 52.2405 Q680.741 50.7821 677.663 47.7845 Q674.584 44.7463 674.584 39.4801 Q674.584 33.0797 679.121 29.5959 Q683.658 26.1121 692.003 26.1121 Q696.135 26.1121 699.781 26.7198 Q703.426 27.3274 706.505 28.5427 Z\" fill=\"#000000\" fill-rule=\"evenodd\" fill-opacity=\"1\" /><path clip-path=\"url(#clip290)\" d=\"M 0 0 M770.145 9.54393 L770.145 15.7418 L763.015 15.7418 Q759.005 15.7418 757.425 17.3622 Q755.886 18.9825 755.886 23.1955 L755.886 27.2059 L768.16 27.2059 L768.16 32.9987 L755.886 32.9987 L755.886 72.576 L748.392 72.576 L748.392 32.9987 L741.262 32.9987 L741.262 27.2059 L748.392 27.2059 L748.392 24.0462 Q748.392 16.471 751.916 13.0277 Q755.44 9.54393 763.096 9.54393 L770.145 9.54393 Z\" fill=\"#000000\" fill-rule=\"evenodd\" fill-opacity=\"1\" /><path clip-path=\"url(#clip290)\" d=\"M 0 0 M793.964 32.4315 Q787.969 32.4315 784.485 37.1306 Q781.001 41.7891 781.001 49.9314 Q781.001 58.0738 784.445 62.7728 Q787.928 67.4314 793.964 67.4314 Q799.919 67.4314 803.403 62.7323 Q806.887 58.0333 806.887 49.9314 Q806.887 41.8701 803.403 37.1711 Q799.919 32.4315 793.964 32.4315 M793.964 26.1121 Q803.686 26.1121 809.236 32.4315 Q814.786 38.7509 814.786 49.9314 Q814.786 61.0714 809.236 67.4314 Q803.686 73.7508 793.964 73.7508 Q784.202 73.7508 778.652 67.4314 Q773.143 61.0714 773.143 49.9314 Q773.143 38.7509 778.652 32.4315 Q784.202 26.1121 793.964 26.1121 Z\" fill=\"#000000\" fill-rule=\"evenodd\" fill-opacity=\"1\" /><path clip-path=\"url(#clip290)\" d=\"M 0 0 M853.431 34.1734 Q852.176 33.4443 850.677 33.1202 Q849.219 32.7556 847.436 32.7556 Q841.117 32.7556 837.714 36.8875 Q834.352 40.9789 834.352 48.6757 L834.352 72.576 L826.858 72.576 L826.858 27.2059 L834.352 27.2059 L834.352 34.2544 Q836.701 30.1225 840.469 28.1376 Q844.236 26.1121 849.624 26.1121 Q850.393 26.1121 851.325 26.2337 Q852.257 26.3147 853.391 26.5172 L853.431 34.1734 Z\" fill=\"#000000\" fill-rule=\"evenodd\" fill-opacity=\"1\" /><path clip-path=\"url(#clip290)\" d=\"M 0 0 M920.19 49.9314 Q920.19 41.7081 916.788 37.0496 Q913.425 32.3505 907.511 32.3505 Q901.597 32.3505 898.194 37.0496 Q894.832 41.7081 894.832 49.9314 Q894.832 58.1548 898.194 62.8538 Q901.597 67.5124 907.511 67.5124 Q913.425 67.5124 916.788 62.8538 Q920.19 58.1548 920.19 49.9314 M894.832 34.0924 Q897.181 30.0415 900.746 28.0971 Q904.351 26.1121 909.334 26.1121 Q917.598 26.1121 922.742 32.6746 Q927.928 39.2371 927.928 49.9314 Q927.928 60.6258 922.742 67.1883 Q917.598 73.7508 909.334 73.7508 Q904.351 73.7508 900.746 71.8063 Q897.181 69.8214 894.832 65.7705 L894.832 72.576 L887.338 72.576 L887.338 9.54393 L894.832 9.54393 L894.832 34.0924 Z\" fill=\"#000000\" fill-rule=\"evenodd\" fill-opacity=\"1\" /><path clip-path=\"url(#clip290)\" d=\"M 0 0 M957.864 32.4315 Q951.868 32.4315 948.385 37.1306 Q944.901 41.7891 944.901 49.9314 Q944.901 58.0738 948.344 62.7728 Q951.828 67.4314 957.864 67.4314 Q963.819 67.4314 967.302 62.7323 Q970.786 58.0333 970.786 49.9314 Q970.786 41.8701 967.302 37.1711 Q963.819 32.4315 957.864 32.4315 M957.864 26.1121 Q967.586 26.1121 973.136 32.4315 Q978.685 38.7509 978.685 49.9314 Q978.685 61.0714 973.136 67.4314 Q967.586 73.7508 957.864 73.7508 Q948.101 73.7508 942.551 67.4314 Q937.042 61.0714 937.042 49.9314 Q937.042 38.7509 942.551 32.4315 Q948.101 26.1121 957.864 26.1121 Z\" fill=\"#000000\" fill-rule=\"evenodd\" fill-opacity=\"1\" /><path clip-path=\"url(#clip290)\" d=\"M 0 0 M1026.2 27.2059 L1009.8 49.2833 L1027.05 72.576 L1018.26 72.576 L1005.06 54.752 L991.851 72.576 L983.06 72.576 L1000.68 48.8377 L984.559 27.2059 L993.35 27.2059 L1005.38 43.369 L1017.41 27.2059 L1026.2 27.2059 Z\" fill=\"#000000\" fill-rule=\"evenodd\" fill-opacity=\"1\" /><path clip-path=\"url(#clip290)\" d=\"M 0 0 M1096.61 28.9478 L1096.61 35.9153 Q1093.45 34.1734 1090.25 33.3227 Q1087.09 32.4315 1083.85 32.4315 Q1076.6 32.4315 1072.59 37.0496 Q1068.57 41.6271 1068.57 49.9314 Q1068.57 58.2358 1072.59 62.8538 Q1076.6 67.4314 1083.85 67.4314 Q1087.09 67.4314 1090.25 66.5807 Q1093.45 65.6895 1096.61 63.9476 L1096.61 70.8341 Q1093.49 72.2924 1090.13 73.0216 Q1086.8 73.7508 1083.04 73.7508 Q1072.79 73.7508 1066.75 67.3098 Q1060.72 60.8689 1060.72 49.9314 Q1060.72 38.832 1066.79 32.472 Q1072.91 26.1121 1083.52 26.1121 Q1086.97 26.1121 1090.25 26.8413 Q1093.53 27.5299 1096.61 28.9478 Z\" fill=\"#000000\" fill-rule=\"evenodd\" fill-opacity=\"1\" /><path clip-path=\"url(#clip290)\" d=\"M 0 0 M1148.38 48.0275 L1148.38 51.6733 L1114.11 51.6733 Q1114.59 59.3701 1118.73 63.421 Q1122.9 67.4314 1130.31 67.4314 Q1134.6 67.4314 1138.62 66.3781 Q1142.67 65.3249 1146.64 63.2184 L1146.64 70.267 Q1142.63 71.9684 1138.41 72.8596 Q1134.2 73.7508 1129.87 73.7508 Q1119.01 73.7508 1112.65 67.4314 Q1106.33 61.1119 1106.33 50.3365 Q1106.33 39.1965 1112.32 32.6746 Q1118.36 26.1121 1128.57 26.1121 Q1137.72 26.1121 1143.03 32.0264 Q1148.38 37.9003 1148.38 48.0275 M1140.92 45.84 Q1140.84 39.7232 1137.48 36.0774 Q1134.16 32.4315 1128.65 32.4315 Q1122.41 32.4315 1118.64 35.9558 Q1114.92 39.4801 1114.35 45.8805 L1140.92 45.84 Z\" fill=\"#000000\" fill-rule=\"evenodd\" fill-opacity=\"1\" /><path clip-path=\"url(#clip290)\" d=\"M 0 0 M1198.33 45.1919 L1198.33 72.576 L1190.87 72.576 L1190.87 45.4349 Q1190.87 38.994 1188.36 35.7938 Q1185.85 32.5936 1180.83 32.5936 Q1174.79 32.5936 1171.31 36.4419 Q1167.82 40.2903 1167.82 46.9338 L1167.82 72.576 L1160.33 72.576 L1160.33 27.2059 L1167.82 27.2059 L1167.82 34.2544 Q1170.5 30.163 1174.1 28.1376 Q1177.75 26.1121 1182.49 26.1121 Q1190.3 26.1121 1194.32 30.9732 Q1198.33 35.7938 1198.33 45.1919 Z\" fill=\"#000000\" fill-rule=\"evenodd\" fill-opacity=\"1\" /><path clip-path=\"url(#clip290)\" d=\"M 0 0 M1220.56 14.324 L1220.56 27.2059 L1235.92 27.2059 L1235.92 32.9987 L1220.56 32.9987 L1220.56 57.6282 Q1220.56 63.1779 1222.06 64.7578 Q1223.6 66.3376 1228.26 66.3376 L1235.92 66.3376 L1235.92 72.576 L1228.26 72.576 Q1219.63 72.576 1216.35 69.3758 Q1213.07 66.1351 1213.07 57.6282 L1213.07 32.9987 L1207.6 32.9987 L1207.6 27.2059 L1213.07 27.2059 L1213.07 14.324 L1220.56 14.324 Z\" fill=\"#000000\" fill-rule=\"evenodd\" fill-opacity=\"1\" /><path clip-path=\"url(#clip290)\" d=\"M 0 0 M1284.53 48.0275 L1284.53 51.6733 L1250.26 51.6733 Q1250.74 59.3701 1254.88 63.421 Q1259.05 67.4314 1266.46 67.4314 Q1270.76 67.4314 1274.77 66.3781 Q1278.82 65.3249 1282.79 63.2184 L1282.79 70.267 Q1278.78 71.9684 1274.56 72.8596 Q1270.35 73.7508 1266.02 73.7508 Q1255.16 73.7508 1248.8 67.4314 Q1242.48 61.1119 1242.48 50.3365 Q1242.48 39.1965 1248.48 32.6746 Q1254.51 26.1121 1264.72 26.1121 Q1273.87 26.1121 1279.18 32.0264 Q1284.53 37.9003 1284.53 48.0275 M1277.08 45.84 Q1276.99 39.7232 1273.63 36.0774 Q1270.31 32.4315 1264.8 32.4315 Q1258.56 32.4315 1254.8 35.9558 Q1251.07 39.4801 1250.5 45.8805 L1277.08 45.84 Z\" fill=\"#000000\" fill-rule=\"evenodd\" fill-opacity=\"1\" /><path clip-path=\"url(#clip290)\" d=\"M 0 0 M1323.05 34.1734 Q1321.8 33.4443 1320.3 33.1202 Q1318.84 32.7556 1317.06 32.7556 Q1310.74 32.7556 1307.34 36.8875 Q1303.97 40.9789 1303.97 48.6757 L1303.97 72.576 L1296.48 72.576 L1296.48 27.2059 L1303.97 27.2059 L1303.97 34.2544 Q1306.32 30.1225 1310.09 28.1376 Q1313.86 26.1121 1319.24 26.1121 Q1320.01 26.1121 1320.95 26.2337 Q1321.88 26.3147 1323.01 26.5172 L1323.05 34.1734 Z\" fill=\"#000000\" fill-rule=\"evenodd\" fill-opacity=\"1\" /><path clip-path=\"url(#clip290)\" d=\"M 0 0 M1367.86 48.0275 L1367.86 51.6733 L1333.59 51.6733 Q1334.07 59.3701 1338.2 63.421 Q1342.38 67.4314 1349.79 67.4314 Q1354.08 67.4314 1358.09 66.3781 Q1362.14 65.3249 1366.11 63.2184 L1366.11 70.267 Q1362.1 71.9684 1357.89 72.8596 Q1353.68 73.7508 1349.34 73.7508 Q1338.49 73.7508 1332.13 67.4314 Q1325.81 61.1119 1325.81 50.3365 Q1325.81 39.1965 1331.8 32.6746 Q1337.84 26.1121 1348.05 26.1121 Q1357.2 26.1121 1362.51 32.0264 Q1367.86 37.9003 1367.86 48.0275 M1360.4 45.84 Q1360.32 39.7232 1356.96 36.0774 Q1353.64 32.4315 1348.13 32.4315 Q1341.89 32.4315 1338.12 35.9558 Q1334.4 39.4801 1333.83 45.8805 L1360.4 45.84 Z\" fill=\"#000000\" fill-rule=\"evenodd\" fill-opacity=\"1\" /><path clip-path=\"url(#clip290)\" d=\"M 0 0 M1409.94 34.0924 L1409.94 9.54393 L1417.4 9.54393 L1417.4 72.576 L1409.94 72.576 L1409.94 65.7705 Q1407.6 69.8214 1403.99 71.8063 Q1400.43 73.7508 1395.4 73.7508 Q1387.18 73.7508 1381.99 67.1883 Q1376.85 60.6258 1376.85 49.9314 Q1376.85 39.2371 1381.99 32.6746 Q1387.18 26.1121 1395.4 26.1121 Q1400.43 26.1121 1403.99 28.0971 Q1407.6 30.0415 1409.94 34.0924 M1384.55 49.9314 Q1384.55 58.1548 1387.91 62.8538 Q1391.31 67.5124 1397.22 67.5124 Q1403.14 67.5124 1406.54 62.8538 Q1409.94 58.1548 1409.94 49.9314 Q1409.94 41.7081 1406.54 37.0496 Q1403.14 32.3505 1397.22 32.3505 Q1391.31 32.3505 1387.91 37.0496 Q1384.55 41.7081 1384.55 49.9314 Z\" fill=\"#000000\" fill-rule=\"evenodd\" fill-opacity=\"1\" /><path clip-path=\"url(#clip290)\" d=\"M 0 0 M1479.74 49.7694 Q1470.71 49.7694 1467.22 51.8354 Q1463.74 53.9013 1463.74 58.8839 Q1463.74 62.8538 1466.33 65.2034 Q1468.97 67.5124 1473.46 67.5124 Q1479.66 67.5124 1483.39 63.1374 Q1487.15 58.7219 1487.15 51.4303 L1487.15 49.7694 L1479.74 49.7694 M1494.61 46.6907 L1494.61 72.576 L1487.15 72.576 L1487.15 65.6895 Q1484.6 69.8214 1480.79 71.8063 Q1476.99 73.7508 1471.48 73.7508 Q1464.51 73.7508 1460.38 69.8619 Q1456.29 65.9325 1456.29 59.3701 Q1456.29 51.7138 1461.39 47.825 Q1466.54 43.9361 1476.7 43.9361 L1487.15 43.9361 L1487.15 43.2069 Q1487.15 38.0623 1483.75 35.2672 Q1480.39 32.4315 1474.27 32.4315 Q1470.38 32.4315 1466.7 33.3632 Q1463.01 34.295 1459.61 36.1584 L1459.61 29.2718 Q1463.7 27.692 1467.55 26.9223 Q1471.4 26.1121 1475.04 26.1121 Q1484.89 26.1121 1489.75 31.2163 Q1494.61 36.3204 1494.61 46.6907 Z\" fill=\"#000000\" fill-rule=\"evenodd\" fill-opacity=\"1\" /><path clip-path=\"url(#clip290)\" d=\"M 0 0 M1536.25 34.1734 Q1535 33.4443 1533.5 33.1202 Q1532.04 32.7556 1530.26 32.7556 Q1523.94 32.7556 1520.53 36.8875 Q1517.17 40.9789 1517.17 48.6757 L1517.17 72.576 L1509.68 72.576 L1509.68 27.2059 L1517.17 27.2059 L1517.17 34.2544 Q1519.52 30.1225 1523.29 28.1376 Q1527.06 26.1121 1532.44 26.1121 Q1533.21 26.1121 1534.15 26.2337 Q1535.08 26.3147 1536.21 26.5172 L1536.25 34.1734 Z\" fill=\"#000000\" fill-rule=\"evenodd\" fill-opacity=\"1\" /><path clip-path=\"url(#clip290)\" d=\"M 0 0 M1559.83 32.4315 Q1553.83 32.4315 1550.35 37.1306 Q1546.87 41.7891 1546.87 49.9314 Q1546.87 58.0738 1550.31 62.7728 Q1553.79 67.4314 1559.83 67.4314 Q1565.78 67.4314 1569.27 62.7323 Q1572.75 58.0333 1572.75 49.9314 Q1572.75 41.8701 1569.27 37.1711 Q1565.78 32.4315 1559.83 32.4315 M1559.83 26.1121 Q1569.55 26.1121 1575.1 32.4315 Q1580.65 38.7509 1580.65 49.9314 Q1580.65 61.0714 1575.1 67.4314 Q1569.55 73.7508 1559.83 73.7508 Q1550.07 73.7508 1544.52 67.4314 Q1539.01 61.0714 1539.01 49.9314 Q1539.01 38.7509 1544.52 32.4315 Q1550.07 26.1121 1559.83 26.1121 Z\" fill=\"#000000\" fill-rule=\"evenodd\" fill-opacity=\"1\" /><path clip-path=\"url(#clip290)\" d=\"M 0 0 M1592.24 54.671 L1592.24 27.2059 L1599.69 27.2059 L1599.69 54.3874 Q1599.69 60.8284 1602.2 64.0691 Q1604.71 67.2693 1609.74 67.2693 Q1615.77 67.2693 1619.25 63.421 Q1622.78 59.5726 1622.78 52.9291 L1622.78 27.2059 L1630.23 27.2059 L1630.23 72.576 L1622.78 72.576 L1622.78 65.6084 Q1620.07 69.7404 1616.46 71.7658 Q1612.89 73.7508 1608.16 73.7508 Q1600.34 73.7508 1596.29 68.8897 Q1592.24 64.0286 1592.24 54.671 M1610.99 26.1121 L1610.99 26.1121 Z\" fill=\"#000000\" fill-rule=\"evenodd\" fill-opacity=\"1\" /><path clip-path=\"url(#clip290)\" d=\"M 0 0 M1683.3 45.1919 L1683.3 72.576 L1675.85 72.576 L1675.85 45.4349 Q1675.85 38.994 1673.33 35.7938 Q1670.82 32.5936 1665.8 32.5936 Q1659.76 32.5936 1656.28 36.4419 Q1652.8 40.2903 1652.8 46.9338 L1652.8 72.576 L1645.3 72.576 L1645.3 27.2059 L1652.8 27.2059 L1652.8 34.2544 Q1655.47 30.163 1659.08 28.1376 Q1662.72 26.1121 1667.46 26.1121 Q1675.28 26.1121 1679.29 30.9732 Q1683.3 35.7938 1683.3 45.1919 Z\" fill=\"#000000\" fill-rule=\"evenodd\" fill-opacity=\"1\" /><path clip-path=\"url(#clip290)\" d=\"M 0 0 M1728.02 34.0924 L1728.02 9.54393 L1735.48 9.54393 L1735.48 72.576 L1728.02 72.576 L1728.02 65.7705 Q1725.67 69.8214 1722.07 71.8063 Q1718.5 73.7508 1713.48 73.7508 Q1705.26 73.7508 1700.07 67.1883 Q1694.93 60.6258 1694.93 49.9314 Q1694.93 39.2371 1700.07 32.6746 Q1705.26 26.1121 1713.48 26.1121 Q1718.5 26.1121 1722.07 28.0971 Q1725.67 30.0415 1728.02 34.0924 M1702.62 49.9314 Q1702.62 58.1548 1705.98 62.8538 Q1709.39 67.5124 1715.3 67.5124 Q1721.22 67.5124 1724.62 62.8538 Q1728.02 58.1548 1728.02 49.9314 Q1728.02 41.7081 1724.62 37.0496 Q1721.22 32.3505 1715.3 32.3505 Q1709.39 32.3505 1705.98 37.0496 Q1702.62 41.7081 1702.62 49.9314 Z\" fill=\"#000000\" fill-rule=\"evenodd\" fill-opacity=\"1\" /><path clip-path=\"url(#clip290)\" d=\"M 0 0 M1812.52 35.9153 Q1815.32 30.8922 1819.21 28.5022 Q1823.1 26.1121 1828.36 26.1121 Q1835.45 26.1121 1839.3 31.0947 Q1843.15 36.0368 1843.15 45.1919 L1843.15 72.576 L1835.65 72.576 L1835.65 45.4349 Q1835.65 38.913 1833.35 35.7533 Q1831.04 32.5936 1826.3 32.5936 Q1820.5 32.5936 1817.14 36.4419 Q1813.78 40.2903 1813.78 46.9338 L1813.78 72.576 L1806.29 72.576 L1806.29 45.4349 Q1806.29 38.8725 1803.98 35.7533 Q1801.67 32.5936 1796.85 32.5936 Q1791.13 32.5936 1787.77 36.4824 Q1784.41 40.3308 1784.41 46.9338 L1784.41 72.576 L1776.92 72.576 L1776.92 27.2059 L1784.41 27.2059 L1784.41 34.2544 Q1786.96 30.082 1790.53 28.0971 Q1794.09 26.1121 1798.99 26.1121 Q1803.94 26.1121 1807.38 28.6237 Q1810.86 31.1352 1812.52 35.9153 Z\" fill=\"#000000\" fill-rule=\"evenodd\" fill-opacity=\"1\" /><path clip-path=\"url(#clip290)\" d=\"M 0 0 M1858.02 27.2059 L1865.47 27.2059 L1865.47 72.576 L1858.02 72.576 L1858.02 27.2059 M1858.02 9.54393 L1865.47 9.54393 L1865.47 18.9825 L1858.02 18.9825 L1858.02 9.54393 Z\" fill=\"#000000\" fill-rule=\"evenodd\" fill-opacity=\"1\" /><path clip-path=\"url(#clip290)\" d=\"M 0 0 M1910.92 34.0924 L1910.92 9.54393 L1918.37 9.54393 L1918.37 72.576 L1910.92 72.576 L1910.92 65.7705 Q1908.57 69.8214 1904.97 71.8063 Q1901.4 73.7508 1896.38 73.7508 Q1888.15 73.7508 1882.97 67.1883 Q1877.82 60.6258 1877.82 49.9314 Q1877.82 39.2371 1882.97 32.6746 Q1888.15 26.1121 1896.38 26.1121 Q1901.4 26.1121 1904.97 28.0971 Q1908.57 30.0415 1910.92 34.0924 M1885.52 49.9314 Q1885.52 58.1548 1888.88 62.8538 Q1892.29 67.5124 1898.2 67.5124 Q1904.11 67.5124 1907.52 62.8538 Q1910.92 58.1548 1910.92 49.9314 Q1910.92 41.7081 1907.52 37.0496 Q1904.11 32.3505 1898.2 32.3505 Q1892.29 32.3505 1888.88 37.0496 Q1885.52 41.7081 1885.52 49.9314 Z\" fill=\"#000000\" fill-rule=\"evenodd\" fill-opacity=\"1\" /><path clip-path=\"url(#clip290)\" d=\"M 0 0 M1940.94 65.7705 L1940.94 89.8329 L1933.44 89.8329 L1933.44 27.2059 L1940.94 27.2059 L1940.94 34.0924 Q1943.29 30.0415 1946.85 28.0971 Q1950.46 26.1121 1955.44 26.1121 Q1963.7 26.1121 1968.85 32.6746 Q1974.03 39.2371 1974.03 49.9314 Q1974.03 60.6258 1968.85 67.1883 Q1963.7 73.7508 1955.44 73.7508 Q1950.46 73.7508 1946.85 71.8063 Q1943.29 69.8214 1940.94 65.7705 M1966.3 49.9314 Q1966.3 41.7081 1962.89 37.0496 Q1959.53 32.3505 1953.62 32.3505 Q1947.7 32.3505 1944.3 37.0496 Q1940.94 41.7081 1940.94 49.9314 Q1940.94 58.1548 1944.3 62.8538 Q1947.7 67.5124 1953.62 67.5124 Q1959.53 67.5124 1962.89 62.8538 Q1966.3 58.1548 1966.3 49.9314 Z\" fill=\"#000000\" fill-rule=\"evenodd\" fill-opacity=\"1\" /><path clip-path=\"url(#clip290)\" d=\"M 0 0 M2003.97 32.4315 Q1997.97 32.4315 1994.49 37.1306 Q1991.01 41.7891 1991.01 49.9314 Q1991.01 58.0738 1994.45 62.7728 Q1997.93 67.4314 2003.97 67.4314 Q2009.92 67.4314 2013.41 62.7323 Q2016.89 58.0333 2016.89 49.9314 Q2016.89 41.8701 2013.41 37.1711 Q2009.92 32.4315 2003.97 32.4315 M2003.97 26.1121 Q2013.69 26.1121 2019.24 32.4315 Q2024.79 38.7509 2024.79 49.9314 Q2024.79 61.0714 2019.24 67.4314 Q2013.69 73.7508 2003.97 73.7508 Q1994.21 73.7508 1988.66 67.4314 Q1983.15 61.0714 1983.15 49.9314 Q1983.15 38.7509 1988.66 32.4315 Q1994.21 26.1121 2003.97 26.1121 Z\" fill=\"#000000\" fill-rule=\"evenodd\" fill-opacity=\"1\" /><path clip-path=\"url(#clip290)\" d=\"M 0 0 M2037.15 27.2059 L2044.6 27.2059 L2044.6 72.576 L2037.15 72.576 L2037.15 27.2059 M2037.15 9.54393 L2044.6 9.54393 L2044.6 18.9825 L2037.15 18.9825 L2037.15 9.54393 Z\" fill=\"#000000\" fill-rule=\"evenodd\" fill-opacity=\"1\" /><path clip-path=\"url(#clip290)\" d=\"M 0 0 M2097.91 45.1919 L2097.91 72.576 L2090.46 72.576 L2090.46 45.4349 Q2090.46 38.994 2087.94 35.7938 Q2085.43 32.5936 2080.41 32.5936 Q2074.37 32.5936 2070.89 36.4419 Q2067.41 40.2903 2067.41 46.9338 L2067.41 72.576 L2059.91 72.576 L2059.91 27.2059 L2067.41 27.2059 L2067.41 34.2544 Q2070.08 30.163 2073.69 28.1376 Q2077.33 26.1121 2082.07 26.1121 Q2089.89 26.1121 2093.9 30.9732 Q2097.91 35.7938 2097.91 45.1919 Z\" fill=\"#000000\" fill-rule=\"evenodd\" fill-opacity=\"1\" /><path clip-path=\"url(#clip290)\" d=\"M 0 0 M2120.15 14.324 L2120.15 27.2059 L2135.5 27.2059 L2135.5 32.9987 L2120.15 32.9987 L2120.15 57.6282 Q2120.15 63.1779 2121.65 64.7578 Q2123.19 66.3376 2127.85 66.3376 L2135.5 66.3376 L2135.5 72.576 L2127.85 72.576 Q2119.22 72.576 2115.94 69.3758 Q2112.66 66.1351 2112.66 57.6282 L2112.66 32.9987 L2107.19 32.9987 L2107.19 27.2059 L2112.66 27.2059 L2112.66 14.324 L2120.15 14.324 Z\" fill=\"#000000\" fill-rule=\"evenodd\" fill-opacity=\"1\" /><polyline clip-path=\"url(#clip292)\" style=\"stroke:#009af9; stroke-width:4; stroke-opacity:1; fill:none\" points=\"\n",
       "  2291.95,372.824 2185.28,230.302 2078.6,304.113 1971.92,310.918 1865.25,493.454 1758.57,434.85 1651.9,430.831 1545.22,354.873 1438.55,160.256 1331.87,708.607 \n",
       "  1225.2,990.956 1118.52,842.352 1011.84,965.808 905.169,1386.4 798.493,1288.17 691.818,1243.58 585.142,1343.89 478.467,1038.07 371.791,727.714 265.116,842.352 \n",
       "  \n",
       "  \"/>\n",
       "<circle clip-path=\"url(#clip292)\" cx=\"2291.95\" cy=\"372.824\" r=\"14\" fill=\"#009af9\" fill-rule=\"evenodd\" fill-opacity=\"1\" stroke=\"#000000\" stroke-opacity=\"1\" stroke-width=\"3.2\"/>\n",
       "<circle clip-path=\"url(#clip292)\" cx=\"2185.28\" cy=\"230.302\" r=\"14\" fill=\"#009af9\" fill-rule=\"evenodd\" fill-opacity=\"1\" stroke=\"#000000\" stroke-opacity=\"1\" stroke-width=\"3.2\"/>\n",
       "<circle clip-path=\"url(#clip292)\" cx=\"2078.6\" cy=\"304.113\" r=\"14\" fill=\"#009af9\" fill-rule=\"evenodd\" fill-opacity=\"1\" stroke=\"#000000\" stroke-opacity=\"1\" stroke-width=\"3.2\"/>\n",
       "<circle clip-path=\"url(#clip292)\" cx=\"1971.92\" cy=\"310.918\" r=\"14\" fill=\"#009af9\" fill-rule=\"evenodd\" fill-opacity=\"1\" stroke=\"#000000\" stroke-opacity=\"1\" stroke-width=\"3.2\"/>\n",
       "<circle clip-path=\"url(#clip292)\" cx=\"1865.25\" cy=\"493.454\" r=\"14\" fill=\"#009af9\" fill-rule=\"evenodd\" fill-opacity=\"1\" stroke=\"#000000\" stroke-opacity=\"1\" stroke-width=\"3.2\"/>\n",
       "<circle clip-path=\"url(#clip292)\" cx=\"1758.57\" cy=\"434.85\" r=\"14\" fill=\"#009af9\" fill-rule=\"evenodd\" fill-opacity=\"1\" stroke=\"#000000\" stroke-opacity=\"1\" stroke-width=\"3.2\"/>\n",
       "<circle clip-path=\"url(#clip292)\" cx=\"1651.9\" cy=\"430.831\" r=\"14\" fill=\"#009af9\" fill-rule=\"evenodd\" fill-opacity=\"1\" stroke=\"#000000\" stroke-opacity=\"1\" stroke-width=\"3.2\"/>\n",
       "<circle clip-path=\"url(#clip292)\" cx=\"1545.22\" cy=\"354.873\" r=\"14\" fill=\"#009af9\" fill-rule=\"evenodd\" fill-opacity=\"1\" stroke=\"#000000\" stroke-opacity=\"1\" stroke-width=\"3.2\"/>\n",
       "<circle clip-path=\"url(#clip292)\" cx=\"1438.55\" cy=\"160.256\" r=\"14\" fill=\"#009af9\" fill-rule=\"evenodd\" fill-opacity=\"1\" stroke=\"#000000\" stroke-opacity=\"1\" stroke-width=\"3.2\"/>\n",
       "<circle clip-path=\"url(#clip292)\" cx=\"1331.87\" cy=\"708.607\" r=\"14\" fill=\"#009af9\" fill-rule=\"evenodd\" fill-opacity=\"1\" stroke=\"#000000\" stroke-opacity=\"1\" stroke-width=\"3.2\"/>\n",
       "<circle clip-path=\"url(#clip292)\" cx=\"1225.2\" cy=\"990.956\" r=\"14\" fill=\"#009af9\" fill-rule=\"evenodd\" fill-opacity=\"1\" stroke=\"#000000\" stroke-opacity=\"1\" stroke-width=\"3.2\"/>\n",
       "<circle clip-path=\"url(#clip292)\" cx=\"1118.52\" cy=\"842.352\" r=\"14\" fill=\"#009af9\" fill-rule=\"evenodd\" fill-opacity=\"1\" stroke=\"#000000\" stroke-opacity=\"1\" stroke-width=\"3.2\"/>\n",
       "<circle clip-path=\"url(#clip292)\" cx=\"1011.84\" cy=\"965.808\" r=\"14\" fill=\"#009af9\" fill-rule=\"evenodd\" fill-opacity=\"1\" stroke=\"#000000\" stroke-opacity=\"1\" stroke-width=\"3.2\"/>\n",
       "<circle clip-path=\"url(#clip292)\" cx=\"905.169\" cy=\"1386.4\" r=\"14\" fill=\"#009af9\" fill-rule=\"evenodd\" fill-opacity=\"1\" stroke=\"#000000\" stroke-opacity=\"1\" stroke-width=\"3.2\"/>\n",
       "<circle clip-path=\"url(#clip292)\" cx=\"798.493\" cy=\"1288.17\" r=\"14\" fill=\"#009af9\" fill-rule=\"evenodd\" fill-opacity=\"1\" stroke=\"#000000\" stroke-opacity=\"1\" stroke-width=\"3.2\"/>\n",
       "<circle clip-path=\"url(#clip292)\" cx=\"691.818\" cy=\"1243.58\" r=\"14\" fill=\"#009af9\" fill-rule=\"evenodd\" fill-opacity=\"1\" stroke=\"#000000\" stroke-opacity=\"1\" stroke-width=\"3.2\"/>\n",
       "<circle clip-path=\"url(#clip292)\" cx=\"585.142\" cy=\"1343.89\" r=\"14\" fill=\"#009af9\" fill-rule=\"evenodd\" fill-opacity=\"1\" stroke=\"#000000\" stroke-opacity=\"1\" stroke-width=\"3.2\"/>\n",
       "<circle clip-path=\"url(#clip292)\" cx=\"478.467\" cy=\"1038.07\" r=\"14\" fill=\"#009af9\" fill-rule=\"evenodd\" fill-opacity=\"1\" stroke=\"#000000\" stroke-opacity=\"1\" stroke-width=\"3.2\"/>\n",
       "<circle clip-path=\"url(#clip292)\" cx=\"371.791\" cy=\"727.714\" r=\"14\" fill=\"#009af9\" fill-rule=\"evenodd\" fill-opacity=\"1\" stroke=\"#000000\" stroke-opacity=\"1\" stroke-width=\"3.2\"/>\n",
       "<circle clip-path=\"url(#clip292)\" cx=\"265.116\" cy=\"842.352\" r=\"14\" fill=\"#009af9\" fill-rule=\"evenodd\" fill-opacity=\"1\" stroke=\"#000000\" stroke-opacity=\"1\" stroke-width=\"3.2\"/>\n",
       "<path clip-path=\"url(#clip290)\" d=\"\n",
       "M275.926 287.756 L567.072 287.756 L567.072 166.796 L275.926 166.796  Z\n",
       "  \" fill=\"#ffffff\" fill-rule=\"evenodd\" fill-opacity=\"1\"/>\n",
       "<polyline clip-path=\"url(#clip290)\" style=\"stroke:#000000; stroke-width:4; stroke-opacity:1; fill:none\" points=\"\n",
       "  275.926,287.756 567.072,287.756 567.072,166.796 275.926,166.796 275.926,287.756 \n",
       "  \"/>\n",
       "<polyline clip-path=\"url(#clip290)\" style=\"stroke:#009af9; stroke-width:4; stroke-opacity:1; fill:none\" points=\"\n",
       "  299.797,227.276 443.027,227.276 \n",
       "  \"/>\n",
       "<circle clip-path=\"url(#clip290)\" cx=\"371.412\" cy=\"227.276\" r=\"23\" fill=\"#009af9\" fill-rule=\"evenodd\" fill-opacity=\"1\" stroke=\"#000000\" stroke-opacity=\"1\" stroke-width=\"5.12\"/>\n",
       "<path clip-path=\"url(#clip290)\" d=\"M 0 0 M480.741 246.963 Q478.936 251.593 477.223 253.005 Q475.51 254.417 472.639 254.417 L469.236 254.417 L469.236 250.852 L471.736 250.852 Q473.496 250.852 474.468 250.019 Q475.44 249.185 476.621 246.083 L477.385 244.139 L466.899 218.63 L471.412 218.63 L479.514 238.908 L487.616 218.63 L492.13 218.63 L480.741 246.963 Z\" fill=\"#000000\" fill-rule=\"evenodd\" fill-opacity=\"1\" /><path clip-path=\"url(#clip290)\" d=\"M 0 0 M499.422 240.621 L507.06 240.621 L507.06 214.255 L498.75 215.922 L498.75 211.662 L507.014 209.996 L511.69 209.996 L511.69 240.621 L519.329 240.621 L519.329 244.556 L499.422 244.556 L499.422 240.621 Z\" fill=\"#000000\" fill-rule=\"evenodd\" fill-opacity=\"1\" /></svg>\n"
      ]
     },
     "execution_count": 98,
     "metadata": {},
     "output_type": "execute_result"
    }
   ],
   "source": [
    "p3 = plot(100 * box_scales, success_ratios, marker=:circle)\n",
    "plot!(xlabel = \"% volume of bounding box\")\n",
    "plot!(ylabel = \"% success rate\")\n",
    "plot!(legend=:topleft)\n",
    "plot!(title=\"Results for box centered around midpoint\")"
   ]
  },
  {
   "cell_type": "code",
   "execution_count": 99,
   "metadata": {},
   "outputs": [
    {
     "data": {
      "text/html": [
       "<table class=\"data-frame\"><thead><tr><th></th><th>boxScales</th><th>nSamples</th><th>nSuccesses</th><th>fractionSuccessful</th></tr><tr><th></th><th>Float64</th><th>Any</th><th>Any</th><th>Any</th></tr></thead><tbody><p>20 rows × 4 columns</p><tr><th>1</th><td>0.99</td><td>188</td><td>70</td><td>37.234</td></tr><tr><th>2</th><td>0.98</td><td>177</td><td>68</td><td>38.4181</td></tr><tr><th>3</th><td>0.97</td><td>164</td><td>62</td><td>37.8049</td></tr><tr><th>4</th><td>0.96</td><td>151</td><td>57</td><td>37.7483</td></tr><tr><th>5</th><td>0.95</td><td>138</td><td>50</td><td>36.2319</td></tr><tr><th>6</th><td>0.94</td><td>128</td><td>47</td><td>36.7188</td></tr><tr><th>7</th><td>0.93</td><td>117</td><td>43</td><td>36.7521</td></tr><tr><th>8</th><td>0.92</td><td>107</td><td>40</td><td>37.3832</td></tr><tr><th>9</th><td>0.91</td><td>100</td><td>39</td><td>39.0</td></tr><tr><th>10</th><td>0.9</td><td>90</td><td>31</td><td>34.4444</td></tr><tr><th>11</th><td>0.89</td><td>81</td><td>26</td><td>32.0988</td></tr><tr><th>12</th><td>0.88</td><td>72</td><td>24</td><td>33.3333</td></tr><tr><th>13</th><td>0.87</td><td>65</td><td>21</td><td>32.3077</td></tr><tr><th>14</th><td>0.86</td><td>59</td><td>17</td><td>28.8136</td></tr><tr><th>15</th><td>0.85</td><td>54</td><td>16</td><td>29.6296</td></tr><tr><th>16</th><td>0.84</td><td>50</td><td>15</td><td>30.0</td></tr><tr><th>17</th><td>0.83</td><td>48</td><td>14</td><td>29.1667</td></tr><tr><th>18</th><td>0.82</td><td>41</td><td>13</td><td>31.7073</td></tr><tr><th>19</th><td>0.81</td><td>35</td><td>12</td><td>34.2857</td></tr><tr><th>20</th><td>0.8</td><td>33</td><td>11</td><td>33.3333</td></tr></tbody></table>"
      ],
      "text/latex": [
       "\\begin{tabular}{r|cccc}\n",
       "\t& boxScales & nSamples & nSuccesses & fractionSuccessful\\\\\n",
       "\t\\hline\n",
       "\t& Float64 & Any & Any & Any\\\\\n",
       "\t\\hline\n",
       "\t1 & 0.99 & 188 & 70 & 37.234 \\\\\n",
       "\t2 & 0.98 & 177 & 68 & 38.4181 \\\\\n",
       "\t3 & 0.97 & 164 & 62 & 37.8049 \\\\\n",
       "\t4 & 0.96 & 151 & 57 & 37.7483 \\\\\n",
       "\t5 & 0.95 & 138 & 50 & 36.2319 \\\\\n",
       "\t6 & 0.94 & 128 & 47 & 36.7188 \\\\\n",
       "\t7 & 0.93 & 117 & 43 & 36.7521 \\\\\n",
       "\t8 & 0.92 & 107 & 40 & 37.3832 \\\\\n",
       "\t9 & 0.91 & 100 & 39 & 39.0 \\\\\n",
       "\t10 & 0.9 & 90 & 31 & 34.4444 \\\\\n",
       "\t11 & 0.89 & 81 & 26 & 32.0988 \\\\\n",
       "\t12 & 0.88 & 72 & 24 & 33.3333 \\\\\n",
       "\t13 & 0.87 & 65 & 21 & 32.3077 \\\\\n",
       "\t14 & 0.86 & 59 & 17 & 28.8136 \\\\\n",
       "\t15 & 0.85 & 54 & 16 & 29.6296 \\\\\n",
       "\t16 & 0.84 & 50 & 15 & 30.0 \\\\\n",
       "\t17 & 0.83 & 48 & 14 & 29.1667 \\\\\n",
       "\t18 & 0.82 & 41 & 13 & 31.7073 \\\\\n",
       "\t19 & 0.81 & 35 & 12 & 34.2857 \\\\\n",
       "\t20 & 0.8 & 33 & 11 & 33.3333 \\\\\n",
       "\\end{tabular}\n"
      ],
      "text/plain": [
       "\u001b[1m20×4 DataFrame\u001b[0m\n",
       "\u001b[1m Row \u001b[0m│\u001b[1m boxScales \u001b[0m\u001b[1m nSamples \u001b[0m\u001b[1m nSuccesses \u001b[0m\u001b[1m fractionSuccessful \u001b[0m\n",
       "\u001b[1m     \u001b[0m│\u001b[90m Float64   \u001b[0m\u001b[90m Any      \u001b[0m\u001b[90m Any        \u001b[0m\u001b[90m Any                \u001b[0m\n",
       "─────┼─────────────────────────────────────────────────────\n",
       "   1 │      0.99  188       70          37.234\n",
       "   2 │      0.98  177       68          38.4181\n",
       "   3 │      0.97  164       62          37.8049\n",
       "   4 │      0.96  151       57          37.7483\n",
       "   5 │      0.95  138       50          36.2319\n",
       "   6 │      0.94  128       47          36.7188\n",
       "   7 │      0.93  117       43          36.7521\n",
       "   8 │      0.92  107       40          37.3832\n",
       "   9 │      0.91  100       39          39.0\n",
       "  10 │      0.9   90        31          34.4444\n",
       "  11 │      0.89  81        26          32.0988\n",
       "  12 │      0.88  72        24          33.3333\n",
       "  13 │      0.87  65        21          32.3077\n",
       "  14 │      0.86  59        17          28.8136\n",
       "  15 │      0.85  54        16          29.6296\n",
       "  16 │      0.84  50        15          30.0\n",
       "  17 │      0.83  48        14          29.1667\n",
       "  18 │      0.82  41        13          31.7073\n",
       "  19 │      0.81  35        12          34.2857\n",
       "  20 │      0.8   33        11          33.3333"
      ]
     },
     "execution_count": 99,
     "metadata": {},
     "output_type": "execute_result"
    }
   ],
   "source": [
    "ttCentered = DataFrame(:boxScales => box_scales,\n",
    "               :nSamples => numberOfSamples, \n",
    "               :nSuccesses => numberOfSuccesses, \n",
    "               :fractionSuccessful => success_ratios)"
   ]
  },
  {
   "cell_type": "markdown",
   "metadata": {},
   "source": [
    "## Implement shifts in box based on regression model"
   ]
  },
  {
   "cell_type": "code",
   "execution_count": null,
   "metadata": {},
   "outputs": [],
   "source": []
  },
  {
   "cell_type": "code",
   "execution_count": null,
   "metadata": {},
   "outputs": [],
   "source": []
  }
 ],
 "metadata": {
  "kernelspec": {
   "display_name": "Julia 1.5.4",
   "language": "julia",
   "name": "julia-1.5"
  },
  "language_info": {
   "file_extension": ".jl",
   "mimetype": "application/julia",
   "name": "julia",
   "version": "1.5.4"
  }
 },
 "nbformat": 4,
 "nbformat_minor": 4
}
