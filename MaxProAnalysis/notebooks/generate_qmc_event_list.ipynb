{
 "cells": [
  {
   "cell_type": "code",
   "execution_count": 1,
   "metadata": {
    "scrolled": true
   },
   "outputs": [],
   "source": [
    "import qmcpy as qp"
   ]
  },
  {
   "cell_type": "code",
   "execution_count": 2,
   "metadata": {
    "scrolled": true
   },
   "outputs": [],
   "source": [
    "import numpy as np\n",
    "import pandas as pd\n",
    "import matplotlib.pyplot as plt\n",
    "from matplotlib import pyplot"
   ]
  },
  {
   "cell_type": "code",
   "execution_count": 3,
   "metadata": {
    "scrolled": true
   },
   "outputs": [],
   "source": [
    "# To generate samples for full event list, we will consider a 7-dimensional lattice, with the following variables\n",
    "# BrMin\n",
    "# BrFactor\n",
    "# nChromoSi_AWSoM \n",
    "# PoyntingFlux\n",
    "# Lperp\n",
    "# StochasticExponent\n",
    "# rMinWaveReflection"
   ]
  },
  {
   "cell_type": "code",
   "execution_count": 4,
   "metadata": {
    "scrolled": true
   },
   "outputs": [],
   "source": [
    "lb = np.array([5.0, 0.54, 2e17, 0.3e6, 0.3e5, 0.1, 1])\n",
    "ub = np.array([10.0, 2.7, 5e18, 1.1e6, 3e5, 0.34, 1.2])"
   ]
  },
  {
   "cell_type": "code",
   "execution_count": 5,
   "metadata": {
    "scrolled": true
   },
   "outputs": [],
   "source": [
    "sobol_lattice = qp.Sobol(dimension = 7, \n",
    "                         seed = 20210702,\n",
    "                        )"
   ]
  },
  {
   "cell_type": "code",
   "execution_count": 6,
   "metadata": {
    "scrolled": true
   },
   "outputs": [],
   "source": [
    "np.random.seed(20210702)\n",
    "import random\n",
    "random.seed(20210702)"
   ]
  },
  {
   "cell_type": "code",
   "execution_count": 7,
   "metadata": {
    "scrolled": true
   },
   "outputs": [],
   "source": [
    "uniform_transform = qp.Uniform(sobol_lattice, \n",
    "                               lower_bound=lb, \n",
    "                               upper_bound=ub)"
   ]
  },
  {
   "cell_type": "code",
   "execution_count": 8,
   "metadata": {
    "scrolled": true
   },
   "outputs": [],
   "source": [
    "nSamples_Cube = 4096 # starting point, we will reject samples later"
   ]
  },
  {
   "cell_type": "code",
   "execution_count": 9,
   "metadata": {
    "scrolled": true
   },
   "outputs": [],
   "source": [
    "sample_points = uniform_transform.gen_samples(nSamples_Cube)"
   ]
  },
  {
   "cell_type": "code",
   "execution_count": 10,
   "metadata": {
    "scrolled": true
   },
   "outputs": [],
   "source": [
    "# Augment with columns of discrete factors - PFSS, REALIZATIONS_ADAPT, USE_SURFACE_WAVE_REFL"
   ]
  },
  {
   "cell_type": "code",
   "execution_count": 11,
   "metadata": {
    "scrolled": true
   },
   "outputs": [
    {
     "data": {
      "text/plain": [
       "(4096, 7)"
      ]
     },
     "execution_count": 11,
     "metadata": {},
     "output_type": "execute_result"
    }
   ],
   "source": [
    "sample_points.shape"
   ]
  },
  {
   "cell_type": "code",
   "execution_count": 12,
   "metadata": {
    "scrolled": true
   },
   "outputs": [],
   "source": [
    "sample_points_2d = sample_points[:, [1, 3]]"
   ]
  },
  {
   "cell_type": "code",
   "execution_count": 13,
   "metadata": {
    "scrolled": true
   },
   "outputs": [
    {
     "data": {
      "text/plain": [
       "array([[2.077e+00, 8.216e+05],\n",
       "       [8.647e-01, 5.528e+05],\n",
       "       [1.484e+00, 4.554e+05],\n",
       "       ...,\n",
       "       [1.505e+00, 8.306e+05],\n",
       "       [1.046e+00, 9.268e+05],\n",
       "       [1.988e+00, 4.957e+05]])"
      ]
     },
     "execution_count": 13,
     "metadata": {},
     "output_type": "execute_result"
    }
   ],
   "source": [
    "sample_points_2d"
   ]
  },
  {
   "cell_type": "code",
   "execution_count": 14,
   "metadata": {
    "scrolled": true
   },
   "outputs": [
    {
     "data": {
      "text/plain": [
       "<matplotlib.collections.PathCollection at 0x7fe80edc73a0>"
      ]
     },
     "execution_count": 14,
     "metadata": {},
     "output_type": "execute_result"
    },
    {
     "data": {
      "image/png": "[encoded data removed]",
      "text/plain": [
       "<Figure size 432x288 with 1 Axes>"
      ]
     },
     "metadata": {
      "needs_background": "light"
     },
     "output_type": "display_data"
    }
   ],
   "source": [
    "plt.scatter(sample_points_2d[:, 0], sample_points_2d[:, 1])"
   ]
  },
  {
   "cell_type": "code",
   "execution_count": null,
   "metadata": {
    "scrolled": true
   },
   "outputs": [],
   "source": []
  },
  {
   "cell_type": "code",
   "execution_count": 15,
   "metadata": {
    "scrolled": true
   },
   "outputs": [],
   "source": [
    "b = np.multiply(sample_points_2d[:, 0], sample_points_2d[:, 1])"
   ]
  },
  {
   "cell_type": "code",
   "execution_count": null,
   "metadata": {},
   "outputs": [],
   "source": []
  },
  {
   "cell_type": "code",
   "execution_count": 305,
   "metadata": {
    "scrolled": true
   },
   "outputs": [],
   "source": [
    "solar_max_idx = np.where(b<=7 * 10**5)[0]"
   ]
  },
  {
   "cell_type": "code",
   "execution_count": 306,
   "metadata": {
    "scrolled": true
   },
   "outputs": [],
   "source": [
    "solar_min_idx = np.where(b<=1.25 * 10**6)[0]"
   ]
  },
  {
   "cell_type": "code",
   "execution_count": 307,
   "metadata": {
    "scrolled": true
   },
   "outputs": [
    {
     "data": {
      "text/plain": [
       "array([ 1,  2,  4, ..., 59, 64, 67])"
      ]
     },
     "execution_count": 307,
     "metadata": {},
     "output_type": "execute_result"
    }
   ],
   "source": [
    "solar_max_idx[:20]"
   ]
  },
  {
   "cell_type": "code",
   "execution_count": 308,
   "metadata": {
    "scrolled": true
   },
   "outputs": [],
   "source": [
    "remaining_solar_min_idx = np.where((b>7*10**5) & (b<=1.25*10**6))[0]"
   ]
  },
  {
   "cell_type": "code",
   "execution_count": 309,
   "metadata": {
    "scrolled": true
   },
   "outputs": [
    {
     "data": {
      "text/plain": [
       "(1453,)"
      ]
     },
     "execution_count": 309,
     "metadata": {},
     "output_type": "execute_result"
    }
   ],
   "source": [
    "remaining_solar_min_idx.shape"
   ]
  },
  {
   "cell_type": "code",
   "execution_count": 310,
   "metadata": {
    "scrolled": true
   },
   "outputs": [
    {
     "data": {
      "text/plain": [
       "(1130,)"
      ]
     },
     "execution_count": 310,
     "metadata": {},
     "output_type": "execute_result"
    }
   ],
   "source": [
    "solar_max_idx.shape"
   ]
  },
  {
   "cell_type": "code",
   "execution_count": 311,
   "metadata": {
    "scrolled": true
   },
   "outputs": [
    {
     "data": {
      "text/plain": [
       "(2583,)"
      ]
     },
     "execution_count": 311,
     "metadata": {},
     "output_type": "execute_result"
    }
   ],
   "source": [
    "solar_min_idx.shape"
   ]
  },
  {
   "cell_type": "code",
   "execution_count": 312,
   "metadata": {
    "scrolled": true
   },
   "outputs": [],
   "source": [
    "nSamples_solarMax = 1024\n",
    "nSamples_solarMin = 1024"
   ]
  },
  {
   "cell_type": "code",
   "execution_count": 313,
   "metadata": {
    "scrolled": true
   },
   "outputs": [],
   "source": [
    "areaRatio = 0.7"
   ]
  },
  {
   "cell_type": "code",
   "execution_count": 314,
   "metadata": {
    "scrolled": true
   },
   "outputs": [],
   "source": [
    "subsample_solarMin = int(np.floor(areaRatio * nSamples_solarMin))"
   ]
  },
  {
   "cell_type": "code",
   "execution_count": 315,
   "metadata": {
    "scrolled": true
   },
   "outputs": [],
   "source": [
    "remaining_solarMin = nSamples_solarMin - subsample_solarMin"
   ]
  },
  {
   "cell_type": "code",
   "execution_count": 316,
   "metadata": {
    "scrolled": true
   },
   "outputs": [
    {
     "data": {
      "text/plain": [
       "716"
      ]
     },
     "execution_count": 316,
     "metadata": {},
     "output_type": "execute_result"
    }
   ],
   "source": [
    "subsample_solarMin"
   ]
  },
  {
   "cell_type": "code",
   "execution_count": 317,
   "metadata": {
    "scrolled": true
   },
   "outputs": [],
   "source": [
    "solar_max_points = sample_points_2d[solar_max_idx[:nSamples_solarMax], :]"
   ]
  },
  {
   "cell_type": "code",
   "execution_count": null,
   "metadata": {
    "scrolled": true
   },
   "outputs": [],
   "source": []
  },
  {
   "cell_type": "code",
   "execution_count": 318,
   "metadata": {
    "scrolled": true
   },
   "outputs": [
    {
     "data": {
      "text/plain": [
       "(1024, 2)"
      ]
     },
     "execution_count": 318,
     "metadata": {},
     "output_type": "execute_result"
    }
   ],
   "source": [
    "solar_max_points.shape"
   ]
  },
  {
   "cell_type": "code",
   "execution_count": 319,
   "metadata": {
    "scrolled": true
   },
   "outputs": [
    {
     "data": {
      "text/plain": [
       "<matplotlib.collections.PathCollection at 0x7f8fb67eab80>"
      ]
     },
     "execution_count": 319,
     "metadata": {},
     "output_type": "execute_result"
    },
    {
     "data": {
      "image/png": "[encoded data removed]",
      "text/plain": [
       "<Figure size 432x288 with 1 Axes>"
      ]
     },
     "metadata": {
      "needs_background": "light"
     },
     "output_type": "display_data"
    }
   ],
   "source": [
    "plt.scatter(solar_max_points[:, 0], solar_max_points[:, 1])"
   ]
  },
  {
   "cell_type": "code",
   "execution_count": 320,
   "metadata": {
    "scrolled": true
   },
   "outputs": [],
   "source": [
    "subsample_solarMin_idx = random.sample(list(solar_max_idx), subsample_solarMin)"
   ]
  },
  {
   "cell_type": "code",
   "execution_count": 321,
   "metadata": {
    "scrolled": true
   },
   "outputs": [
    {
     "data": {
      "text/plain": [
       "[185,\n",
       " 830,\n",
       " 1301,\n",
       " 2648,\n",
       " 1550,\n",
       " 3859,\n",
       " 3980,\n",
       " 2981,\n",
       " 1497,\n",
       " 2096,\n",
       " 1763,\n",
       " 3159,\n",
       " 1684,\n",
       " 3478,\n",
       " 1549,\n",
       " 2192,\n",
       " 1015,\n",
       " 4060,\n",
       " 3830,\n",
       " 488,\n",
       " 2822,\n",
       " 3779,\n",
       " 3187,\n",
       " 1643,\n",
       " 3580,\n",
       " 251,\n",
       " 3601,\n",
       " 3170,\n",
       " 2669,\n",
       " 3271,\n",
       " 3014,\n",
       " 647,\n",
       " 3861,\n",
       " 333,\n",
       " 1451,\n",
       " 118,\n",
       " 1778,\n",
       " 494,\n",
       " 637,\n",
       " 2765,\n",
       " 923,\n",
       " 1911,\n",
       " 38,\n",
       " 1441,\n",
       " 1744,\n",
       " 2320,\n",
       " 3685,\n",
       " 2687,\n",
       " 1881,\n",
       " 3119,\n",
       " 1288,\n",
       " 1682,\n",
       " 3320,\n",
       " 4040,\n",
       " 1717,\n",
       " 3690,\n",
       " 710,\n",
       " 181,\n",
       " 2035,\n",
       " 2472,\n",
       " 2849,\n",
       " 672,\n",
       " 1921,\n",
       " 1222,\n",
       " 583,\n",
       " 1377,\n",
       " 2930,\n",
       " 1201,\n",
       " 1187,\n",
       " 597,\n",
       " 3403,\n",
       " 334,\n",
       " 3071,\n",
       " 3487,\n",
       " 2150,\n",
       " 2468,\n",
       " 1156,\n",
       " 2063,\n",
       " 1494,\n",
       " 2041,\n",
       " 3042,\n",
       " 1204,\n",
       " 2951,\n",
       " 2724,\n",
       " 3774,\n",
       " 2876,\n",
       " 959,\n",
       " 497,\n",
       " 1828,\n",
       " 3864,\n",
       " 3290,\n",
       " 2586,\n",
       " 3220,\n",
       " 3841,\n",
       " 3376,\n",
       " 3627,\n",
       " 223,\n",
       " 2280,\n",
       " 4001,\n",
       " 1279,\n",
       " 3667,\n",
       " 1459,\n",
       " 3026,\n",
       " 422,\n",
       " 3200,\n",
       " 1109,\n",
       " 1598,\n",
       " 1485,\n",
       " 370,\n",
       " 2125,\n",
       " 1199,\n",
       " 3704,\n",
       " 313,\n",
       " 2380,\n",
       " 1400,\n",
       " 2980,\n",
       " 1958,\n",
       " 1933,\n",
       " 3286,\n",
       " 3871,\n",
       " 3971,\n",
       " 654,\n",
       " 2275,\n",
       " 2486,\n",
       " 744,\n",
       " 3800,\n",
       " 1996,\n",
       " 2734,\n",
       " 1354,\n",
       " 1239,\n",
       " 67,\n",
       " 1311,\n",
       " 2760,\n",
       " 2711,\n",
       " 2027,\n",
       " 2826,\n",
       " 3943,\n",
       " 3142,\n",
       " 1864,\n",
       " 641,\n",
       " 3782,\n",
       " 883,\n",
       " 3133,\n",
       " 3491,\n",
       " 749,\n",
       " 3866,\n",
       " 3420,\n",
       " 794,\n",
       " 2285,\n",
       " 3275,\n",
       " 1835,\n",
       " 2202,\n",
       " 2232,\n",
       " 1480,\n",
       " 2621,\n",
       " 3373,\n",
       " 3922,\n",
       " 3454,\n",
       " 1708,\n",
       " 1144,\n",
       " 2759,\n",
       " 2350,\n",
       " 3381,\n",
       " 310,\n",
       " 1349,\n",
       " 1603,\n",
       " 285,\n",
       " 3054,\n",
       " 3749,\n",
       " 1756,\n",
       " 3689,\n",
       " 3427,\n",
       " 1461,\n",
       " 2136,\n",
       " 2131,\n",
       " 2038,\n",
       " 59,\n",
       " 1,\n",
       " 1658,\n",
       " 3709,\n",
       " 2675,\n",
       " 3364,\n",
       " 1681,\n",
       " 713,\n",
       " 3620,\n",
       " 3583,\n",
       " 140,\n",
       " 3793,\n",
       " 687,\n",
       " 2447,\n",
       " 2106,\n",
       " 2969,\n",
       " 1615,\n",
       " 837,\n",
       " 1718,\n",
       " 2604,\n",
       " 3333,\n",
       " 666,\n",
       " 2270,\n",
       " 4004,\n",
       " 3010,\n",
       " 3145,\n",
       " 309,\n",
       " 1047,\n",
       " 2374,\n",
       " 2534,\n",
       " 2740,\n",
       " 2475,\n",
       " 1733,\n",
       " 2552,\n",
       " 2397,\n",
       " 3540,\n",
       " 2332,\n",
       " 2300,\n",
       " 1375,\n",
       " 1947,\n",
       " 968,\n",
       " 81,\n",
       " 3594,\n",
       " 2386,\n",
       " 3560,\n",
       " 2664,\n",
       " 1766,\n",
       " 2644,\n",
       " 3659,\n",
       " 3134,\n",
       " 1762,\n",
       " 3961,\n",
       " 1703,\n",
       " 1609,\n",
       " 3544,\n",
       " 841,\n",
       " 4088,\n",
       " 3215,\n",
       " 3361,\n",
       " 1174,\n",
       " 1368,\n",
       " 856,\n",
       " 1159,\n",
       " 3442,\n",
       " 2564,\n",
       " 877,\n",
       " 42,\n",
       " 16,\n",
       " 3037,\n",
       " 1327,\n",
       " 2672,\n",
       " 3543,\n",
       " 2,\n",
       " 644,\n",
       " 1872,\n",
       " 2816,\n",
       " 2341,\n",
       " 3233,\n",
       " 3308,\n",
       " 1951,\n",
       " 1534,\n",
       " 3352,\n",
       " 3182,\n",
       " 2407,\n",
       " 2297,\n",
       " 220,\n",
       " 3396,\n",
       " 3799,\n",
       " 3571,\n",
       " 296,\n",
       " 4074,\n",
       " 656,\n",
       " 2088,\n",
       " 743,\n",
       " 1869,\n",
       " 2801,\n",
       " 2591,\n",
       " 3272,\n",
       " 3196,\n",
       " 248,\n",
       " 1261,\n",
       " 1624,\n",
       " 3703,\n",
       " 491,\n",
       " 2736,\n",
       " 321,\n",
       " 477,\n",
       " 1468,\n",
       " 1679,\n",
       " 1021,\n",
       " 2252,\n",
       " 3916,\n",
       " 2432,\n",
       " 211,\n",
       " 2153,\n",
       " 2255,\n",
       " 2154,\n",
       " 1390,\n",
       " 2168,\n",
       " 1522,\n",
       " 470,\n",
       " 244,\n",
       " 214,\n",
       " 1884,\n",
       " 1730,\n",
       " 1160,\n",
       " 3068,\n",
       " 3202,\n",
       " 3436,\n",
       " 358,\n",
       " 487,\n",
       " 1984,\n",
       " 1324,\n",
       " 1228,\n",
       " 2214,\n",
       " 1384,\n",
       " 1129,\n",
       " 2884,\n",
       " 1163,\n",
       " 3517,\n",
       " 3131,\n",
       " 164,\n",
       " 2651,\n",
       " 3692,\n",
       " 3877,\n",
       " 2426,\n",
       " 2994,\n",
       " 2780,\n",
       " 2527,\n",
       " 1555,\n",
       " 555,\n",
       " 3958,\n",
       " 812,\n",
       " 3338,\n",
       " 2190,\n",
       " 956,\n",
       " 1025,\n",
       " 2763,\n",
       " 750,\n",
       " 2442,\n",
       " 3028,\n",
       " 3314,\n",
       " 3124,\n",
       " 2187,\n",
       " 1127,\n",
       " 2023,\n",
       " 152,\n",
       " 2045,\n",
       " 2698,\n",
       " 3534,\n",
       " 1846,\n",
       " 385,\n",
       " 1600,\n",
       " 351,\n",
       " 234,\n",
       " 397,\n",
       " 3547,\n",
       " 1250,\n",
       " 1084,\n",
       " 2937,\n",
       " 1214,\n",
       " 109,\n",
       " 2231,\n",
       " 2987,\n",
       " 919,\n",
       " 447,\n",
       " 2991,\n",
       " 3399,\n",
       " 2647,\n",
       " 2906,\n",
       " 1931,\n",
       " 2014,\n",
       " 2391,\n",
       " 4039,\n",
       " 1742,\n",
       " 2066,\n",
       " 1149,\n",
       " 11,\n",
       " 3829,\n",
       " 1521,\n",
       " 3686,\n",
       " 426,\n",
       " 3246,\n",
       " 985,\n",
       " 2924,\n",
       " 3816,\n",
       " 1072,\n",
       " 3683,\n",
       " 3053,\n",
       " 1249,\n",
       " 684,\n",
       " 3417,\n",
       " 797,\n",
       " 1024,\n",
       " 217,\n",
       " 3614,\n",
       " 3596,\n",
       " 2336,\n",
       " 1417,\n",
       " 3824,\n",
       " 1662,\n",
       " 14,\n",
       " 1004,\n",
       " 1722,\n",
       " 817,\n",
       " 3896,\n",
       " 1450,\n",
       " 2966,\n",
       " 1022,\n",
       " 3076,\n",
       " 1404,\n",
       " 1838,\n",
       " 3664,\n",
       " 3472,\n",
       " 425,\n",
       " 3856,\n",
       " 3165,\n",
       " 995,\n",
       " 861,\n",
       " 3714,\n",
       " 2097,\n",
       " 276,\n",
       " 779,\n",
       " 1143,\n",
       " 675,\n",
       " 271,\n",
       " 2976,\n",
       " 895,\n",
       " 2186,\n",
       " 1491,\n",
       " 1219,\n",
       " 1809,\n",
       " 3761,\n",
       " 1810,\n",
       " 364,\n",
       " 1444,\n",
       " 502,\n",
       " 398,\n",
       " 2293,\n",
       " 3199,\n",
       " 466,\n",
       " 1573,\n",
       " 2228,\n",
       " 897,\n",
       " 3268,\n",
       " 1009,\n",
       " 2134,\n",
       " 2625,\n",
       " 2585,\n",
       " 2941,\n",
       " 1845,\n",
       " 1653,\n",
       " 3974,\n",
       " 3056,\n",
       " 3206,\n",
       " 3093,\n",
       " 572,\n",
       " 619,\n",
       " 3184,\n",
       " 3881,\n",
       " 521,\n",
       " 866,\n",
       " 98,\n",
       " 176,\n",
       " 944,\n",
       " 1051,\n",
       " 3638,\n",
       " 626,\n",
       " 2226,\n",
       " 709,\n",
       " 549,\n",
       " 2836,\n",
       " 2576,\n",
       " 3334,\n",
       " 3041,\n",
       " 3325,\n",
       " 2119,\n",
       " 341,\n",
       " 604,\n",
       " 3115,\n",
       " 3020,\n",
       " 982,\n",
       " 2581,\n",
       " 3405,\n",
       " 2094,\n",
       " 3698,\n",
       " 199,\n",
       " 201,\n",
       " 3005,\n",
       " 720,\n",
       " 2927,\n",
       " 1987,\n",
       " 2523,\n",
       " 4008,\n",
       " 851,\n",
       " 1297,\n",
       " 2654,\n",
       " 1912,\n",
       " 588,\n",
       " 3668,\n",
       " 560,\n",
       " 82,\n",
       " 4021,\n",
       " 2498,\n",
       " 26,\n",
       " 3934,\n",
       " 233,\n",
       " 295,\n",
       " 4045,\n",
       " 31,\n",
       " 1330,\n",
       " 1177,\n",
       " 1639,\n",
       " 1041,\n",
       " 35,\n",
       " 4057,\n",
       " 3968,\n",
       " 3414,\n",
       " 1976,\n",
       " 967,\n",
       " 913,\n",
       " 3017,\n",
       " 2915,\n",
       " 4084,\n",
       " 3919,\n",
       " 1165,\n",
       " 2048,\n",
       " 1564,\n",
       " 3477,\n",
       " 1780,\n",
       " 3059,\n",
       " 981,\n",
       " 1475,\n",
       " 2111,\n",
       " 2360,\n",
       " 790,\n",
       " 1612,\n",
       " 3785,\n",
       " 1508,\n",
       " 1244,\n",
       " 1584,\n",
       " 1070,\n",
       " 2832,\n",
       " 1048,\n",
       " 1606,\n",
       " 1583,\n",
       " 3302,\n",
       " 865,\n",
       " 314,\n",
       " 1474,\n",
       " 3771,\n",
       " 964,\n",
       " 448,\n",
       " 3411,\n",
       " 2204,\n",
       " 1500,\n",
       " 1784,\n",
       " 3641,\n",
       " 1114,\n",
       " 589,\n",
       " 1189,\n",
       " 1595,\n",
       " 1922,\n",
       " 506,\n",
       " 2993,\n",
       " 3587,\n",
       " 651,\n",
       " 3181,\n",
       " 2444,\n",
       " 3868,\n",
       " 2453,\n",
       " 3854,\n",
       " 2546,\n",
       " 770,\n",
       " 3899,\n",
       " 2459,\n",
       " 4026,\n",
       " 2257,\n",
       " 2731,\n",
       " 3610,\n",
       " 3205,\n",
       " 2556,\n",
       " 661,\n",
       " 2400,\n",
       " 1341,\n",
       " 433,\n",
       " 3649,\n",
       " 3239,\n",
       " 2335,\n",
       " 3394,\n",
       " 1466,\n",
       " 1862,\n",
       " 1962,\n",
       " 460,\n",
       " 2462,\n",
       " 3470,\n",
       " 1104,\n",
       " 1822,\n",
       " 3079,\n",
       " 2684,\n",
       " 2218,\n",
       " 1226,\n",
       " 2398,\n",
       " 1123,\n",
       " 3933,\n",
       " 2856,\n",
       " 2084,\n",
       " 3589,\n",
       " 1924,\n",
       " 1389,\n",
       " 3434,\n",
       " 3467,\n",
       " 896,\n",
       " 186,\n",
       " 3938,\n",
       " 2678,\n",
       " 375,\n",
       " 1038,\n",
       " 128,\n",
       " 620,\n",
       " 3006,\n",
       " 514,\n",
       " 971,\n",
       " 1815,\n",
       " 2867,\n",
       " 1194,\n",
       " 3080,\n",
       " 1918,\n",
       " 536,\n",
       " 638,\n",
       " 719,\n",
       " 2346,\n",
       " 1312,\n",
       " 3230,\n",
       " 2831,\n",
       " 1875,\n",
       " 2814,\n",
       " 1839,\n",
       " 2509,\n",
       " 2751,\n",
       " 2722,\n",
       " 2905,\n",
       " 3661,\n",
       " 1371,\n",
       " 4051,\n",
       " 2060,\n",
       " 3351,\n",
       " 1840,\n",
       " 3169,\n",
       " 3699,\n",
       " 55,\n",
       " 2217,\n",
       " 2353,\n",
       " 1087,\n",
       " 2489,\n",
       " 3955,\n",
       " 3833,\n",
       " 1173,\n",
       " 3505,\n",
       " 1078,\n",
       " 386,\n",
       " 2013,\n",
       " 3819,\n",
       " 3109,\n",
       " 1994,\n",
       " 2629,\n",
       " 2081,\n",
       " 79,\n",
       " 775,\n",
       " 2497,\n",
       " 1961,\n",
       " 998,\n",
       " 3525,\n",
       " 408,\n",
       " 4055,\n",
       " 4007,\n",
       " 372,\n",
       " 761,\n",
       " 3163,\n",
       " 3529,\n",
       " 273,\n",
       " 738,\n",
       " 2294,\n",
       " 1414,\n",
       " 443,\n",
       " 2537,\n",
       " 191,\n",
       " 2955,\n",
       " 1225,\n",
       " 64,\n",
       " 93,\n",
       " 1664,\n",
       " 2235,\n",
       " 3743,\n",
       " 379,\n",
       " 1058,\n",
       " 3456,\n",
       " 539,\n",
       " 1479,\n",
       " 1915,\n",
       " 3500,\n",
       " 758,\n",
       " 2963,\n",
       " 2422,\n",
       " 2140,\n",
       " 3834,\n",
       " 2610,\n",
       " 361,\n",
       " 2114,\n",
       " 1704,\n",
       " 3901,\n",
       " 1574,\n",
       " 260,\n",
       " 1519,\n",
       " 1893,\n",
       " 1456,\n",
       " 3728,\n",
       " 381,\n",
       " 1855,\n",
       " 471]"
      ]
     },
     "execution_count": 321,
     "metadata": {},
     "output_type": "execute_result"
    }
   ],
   "source": [
    "subsample_solarMin_idx"
   ]
  },
  {
   "cell_type": "code",
   "execution_count": 322,
   "metadata": {
    "scrolled": true
   },
   "outputs": [],
   "source": [
    "remainingIdx = random.sample(list(remaining_solar_min_idx), remaining_solarMin)"
   ]
  },
  {
   "cell_type": "code",
   "execution_count": 323,
   "metadata": {
    "scrolled": false
   },
   "outputs": [],
   "source": [
    "solar_min_allIdx = np.concatenate((subsample_solarMin_idx, np.array(remainingIdx)))"
   ]
  },
  {
   "cell_type": "code",
   "execution_count": 324,
   "metadata": {
    "scrolled": false
   },
   "outputs": [
    {
     "data": {
      "text/plain": [
       "(1024,)"
      ]
     },
     "execution_count": 324,
     "metadata": {},
     "output_type": "execute_result"
    }
   ],
   "source": [
    "solar_min_allIdx.shape"
   ]
  },
  {
   "cell_type": "code",
   "execution_count": 325,
   "metadata": {
    "scrolled": false
   },
   "outputs": [],
   "source": [
    "solar_min_points = sample_points_2d[solar_min_allIdx, :]"
   ]
  },
  {
   "cell_type": "code",
   "execution_count": 326,
   "metadata": {},
   "outputs": [
    {
     "data": {
      "text/plain": [
       "(1024, 2)"
      ]
     },
     "execution_count": 326,
     "metadata": {},
     "output_type": "execute_result"
    }
   ],
   "source": [
    "solar_min_points.shape"
   ]
  },
  {
   "cell_type": "code",
   "execution_count": 329,
   "metadata": {},
   "outputs": [],
   "source": [
    "solar_min_rs = sample_points_2d[solar_min_idx[:nSamples_solarMin], :]"
   ]
  },
  {
   "cell_type": "code",
   "execution_count": 332,
   "metadata": {},
   "outputs": [
    {
     "data": {
      "text/plain": [
       "451"
      ]
     },
     "execution_count": 332,
     "metadata": {},
     "output_type": "execute_result"
    }
   ],
   "source": [
    "len(np.intersect1d(solar_max_idx[:nSamples_solarMax], solar_min_idx[:nSamples_solarMin]))"
   ]
  },
  {
   "cell_type": "code",
   "execution_count": 333,
   "metadata": {
    "scrolled": false
   },
   "outputs": [
    {
     "data": {
      "text/plain": [
       "<matplotlib.collections.PathCollection at 0x7f8fb66d5f40>"
      ]
     },
     "execution_count": 333,
     "metadata": {},
     "output_type": "execute_result"
    },
    {
     "data": {
      "image/png": "[encoded data removed]",
      "text/plain": [
       "<Figure size 432x288 with 1 Axes>"
      ]
     },
     "metadata": {
      "needs_background": "light"
     },
     "output_type": "display_data"
    }
   ],
   "source": [
    "fig, ax = plt.subplots()\n",
    "ax.scatter(solar_max_points[:, 0], solar_max_points[:, 1], label=\"Solar Max\")\n",
    "ax.scatter(solar_min_points[:, 0], solar_min_points[:, 1], label=\"Solar Min\")"
   ]
  },
  {
   "cell_type": "code",
   "execution_count": 334,
   "metadata": {},
   "outputs": [
    {
     "data": {
      "text/plain": [
       "<matplotlib.collections.PathCollection at 0x7f8fb66e4100>"
      ]
     },
     "execution_count": 334,
     "metadata": {},
     "output_type": "execute_result"
    },
    {
     "data": {
      "image/png": "[encoded data removed]",
      "text/plain": [
       "<Figure size 432x288 with 1 Axes>"
      ]
     },
     "metadata": {
      "needs_background": "light"
     },
     "output_type": "display_data"
    }
   ],
   "source": [
    "fig, ax = plt.subplots()\n",
    "ax.scatter(solar_max_points[:, 0], solar_max_points[:, 1], label=\"Solar Max\")\n",
    "ax.scatter(solar_min_rs[:, 0], solar_min_rs[:, 1], label=\"Solar Min\")"
   ]
  },
  {
   "cell_type": "code",
   "execution_count": 335,
   "metadata": {
    "scrolled": true
   },
   "outputs": [
    {
     "data": {
      "text/plain": [
       "<matplotlib.collections.PathCollection at 0x7f8fd49b58b0>"
      ]
     },
     "execution_count": 335,
     "metadata": {},
     "output_type": "execute_result"
    },
    {
     "data": {
      "image/png": "[encoded data removed]",
      "text/plain": [
       "<Figure size 432x288 with 1 Axes>"
      ]
     },
     "metadata": {
      "needs_background": "light"
     },
     "output_type": "display_data"
    }
   ],
   "source": [
    "fig, ax = plt.subplots()\n",
    "ax.scatter(solar_max_points[:, 0], solar_max_points[:, 1], label=\"Solar Max\")\n",
    "ax.scatter(sample_points_2d[remainingIdx, 0], sample_points_2d[remainingIdx, 1], label=\"Solar Min\")"
   ]
  },
  {
   "cell_type": "code",
   "execution_count": null,
   "metadata": {
    "scrolled": false
   },
   "outputs": [],
   "source": []
  }
 ],
 "metadata": {
  "kernelspec": {
   "display_name": "Python 3",
   "language": "python",
   "name": "python3"
  },
  "language_info": {
   "codemirror_mode": {
    "name": "ipython",
    "version": 3
   },
   "file_extension": ".py",
   "mimetype": "text/x-python",
   "name": "python",
   "nbconvert_exporter": "python",
   "pygments_lexer": "ipython3",
   "version": "3.8.5"
  }
 },
 "nbformat": 4,
 "nbformat_minor": 4
}
