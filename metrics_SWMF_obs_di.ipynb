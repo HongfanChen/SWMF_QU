{
 "cells": [
  {
   "cell_type": "markdown",
   "metadata": {},
   "source": [
    "Read files and save as **_obs_data and **_sim_data\n",
    "** could be earth, sta and stb"
   ]
  },
  {
   "cell_type": "code",
   "execution_count": 1,
   "metadata": {},
   "outputs": [],
   "source": [
    "\n",
    "import os\n",
    "import numpy as np\n",
    "\n",
    "# change the following line to the directory of results\n",
    "# os.chdir('/Users/yangchen/Downloads/Results')\n",
    "os.chdir('/home/danieliong/Dropbox (University of Michigan)/Results')\n",
    "\n",
    "# this function reads in the data\n",
    "# the return (a dictionary) contains two arguments\n",
    "# the first one is numpy array with numbers\n",
    "# the second one is the (column) variable names\n",
    "\n",
    "def read_data(filename_temp, row_skip_num = 4):\n",
    "    temp = []\n",
    "    with open(filename_temp, 'r') as f:\n",
    "        for line in f.readlines()[row_skip_num:]:\n",
    "            temp.append(line.split())\n",
    "    temp = np.array([np.array(xi) for xi in temp])\n",
    "    temp = temp.astype(np.float) \n",
    "    outputvar = dict()\n",
    "    with open(filename_temp, 'r') as f:\n",
    "        varnames = f.readlines()[row_skip_num-1].split()\n",
    "    outputvar['colnames'] = varnames\n",
    "    outputvar['values'] = temp\n",
    "    return outputvar;\n",
    "\n",
    "\n",
    "# three observational trajectories\n",
    "earth_obs_data = read_data('obsdata/omni_2012_05_11T20_00_00.out', 4)\n",
    "sta_obs_data = read_data('obsdata/sta_2012_05_11T20_00_00.out', 4)\n",
    "stb_obs_data = read_data('obsdata/stb_2012_05_11T20_00_00.out', 4)\n",
    "\n",
    "# three corresponding simulated trajectories\n",
    "# need to change the run number and folder name to access different runs and different configurations/\n",
    "filename_sim = 'run01_AWSoMR_HARMONICS_adapt_201205162000_MapTime_PoyntingFluxPerBSi_0.3e6/run01/IH/trj_earth_n00005000.sat'\n",
    "earth_sim_data = read_data(filename_sim, 2)\n",
    "filename_sim = 'run01_AWSoMR_HARMONICS_adapt_201205162000_MapTime_PoyntingFluxPerBSi_0.3e6/run01/IH/trj_sta_n00005000.sat'\n",
    "sta_sim_data = read_data(filename_sim, 2)\n",
    "filename_sim = 'run01_AWSoMR_HARMONICS_adapt_201205162000_MapTime_PoyntingFluxPerBSi_0.3e6/run01/IH/trj_stb_n00005000.sat'\n",
    "stb_sim_data = read_data(filename_sim, 2)\n",
    "\n",
    "# transform of variables in simulated data\n",
    "\n",
    "# year, mo, dy, hr, mn and sc refer to year, month, day hour, minute, second\n",
    "\n",
    "# The variables needed to be compared are Rho, B_tot=(Bx^2+By^2+Bz^2) and Temperate=P * 1.67e-24 / Rho / 1.3807e-23 * 1.e-7\n",
    "\n",
    "# and V_tot = (Ux*X+Uy*Y+Uz*Z)/sqrt(X^2+Y^2+Z^2), which may also be sqrt(Ux^2+Uy^2+Uz^2)...."
   ]
  },
  {
   "cell_type": "code",
   "execution_count": 3,
   "metadata": {},
   "outputs": [
    {
     "output_type": "stream",
     "name": "stdout",
     "text": [
      "['count', 'year', 'mo', 'dy', 'hr', 'mn', 'sc', 'Rho', 'V_tot', 'Temperature', 'B_tot']\n(721, 11)\n['it', 'year', 'mo', 'dy', 'hr', 'mn', 'sc', 'msc', 'X', 'Y', 'Z', 'Rho', 'Ux', 'Uy', 'Uz', 'Bx', 'By', 'Bz', 'Ehot', 'I01', 'I02', 'Pe', 'P', 'jx', 'jy', 'jz']\n(1441, 26)\n"
     ]
    }
   ],
   "source": [
    "print(earth_obs_data['colnames'])\n",
    "print(earth_obs_data['values'].shape)\n",
    "print(earth_sim_data['colnames'])\n",
    "print(earth_sim_data['values'].shape)\n"
   ]
  },
  {
   "cell_type": "markdown",
   "metadata": {},
   "source": [
    "Visualize the observations versus the simulations"
   ]
  },
  {
   "cell_type": "code",
   "execution_count": null,
   "metadata": {},
   "outputs": [],
   "source": [
    "import matplotlib.pyplot as plt\n",
    "plt.plot(earth_obs_data['values'][:,8])\n",
    "plt.show()\n",
    "\n",
    "\n",
    "plt.plot(earth_sim_data['values'][:64])\n",
    "plt.show()"
   ]
  },
  {
   "cell_type": "markdown",
   "metadata": {},
   "source": [
    "# Task 1: Compare observed trajectory with simulated trajectory\n"
   ]
  },
  {
   "cell_type": "markdown",
   "metadata": {},
   "source": [
    " AWSoM metric paper -- a few criteria \n",
    " \n",
    " Pay attention to the weights of different parts of the trajectory \n",
    " \n",
    " Observational noise (To be understood)"
   ]
  },
  {
   "cell_type": "code",
   "execution_count": null,
   "metadata": {},
   "outputs": [],
   "source": []
  },
  {
   "cell_type": "code",
   "execution_count": null,
   "metadata": {},
   "outputs": [],
   "source": []
  }
 ],
 "metadata": {
  "kernelspec": {
   "display_name": "Python 3",
   "language": "python",
   "name": "python3"
  },
  "language_info": {
   "codemirror_mode": {
    "name": "ipython",
    "version": 3
   },
   "file_extension": ".py",
   "mimetype": "text/x-python",
   "name": "python",
   "nbconvert_exporter": "python",
   "pygments_lexer": "ipython3",
   "version": "3.8.3-final"
  }
 },
 "nbformat": 4,
 "nbformat_minor": 4
}